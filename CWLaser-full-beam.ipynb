{
 "cells": [
  {
   "cell_type": "code",
   "execution_count": 1,
   "id": "56e455f6",
   "metadata": {},
   "outputs": [],
   "source": [
    "import json\n",
    "import numpy as np\n",
    "import xobjects as xo\n",
    "import xtrack as xt\n",
    "import xpart as xp\n",
    "from tqdm import tqdm\n",
    "import matplotlib.pyplot as plt\n",
    "from scipy import constants \n",
    "####################\n",
    "# Choose a context #\n",
    "####################\n",
    "context = xo.ContextCpu()\n",
    "# context = xo.ContextCpu(omp_num_threads='auto')\n",
    "buf = context.new_buffer()\n",
    "\n",
    "# Ion properties:\n",
    "m_u = 931.49410242e6 # eV/c^2 -- atomic mass unit\n",
    "A = 207.98 # Lead-208\n",
    "Z = 82  # Number of protons in the ion (Lead)\n",
    "Ne = 3 # Number of remaining electrons (Lithium-like)\n",
    "m_e = 0.511e6 # eV/c^2 -- electron mass\n",
    "m_p = 938.272088e6 # eV/c^2 -- proton mass\n",
    "c = 299792458.0 # m/s\n",
    "\n",
    "m_ion = A*m_u + Ne*m_e # eV/c^2\n",
    "equiv_proton_momentum = 236e9 # eV/c = gamma_p*m_p*v\n",
    "gamma_p = np.sqrt( 1 + (equiv_proton_momentum/m_p)**2 ) # equvalent gamma for protons in the ring\n",
    "\n",
    "p0c = equiv_proton_momentum*(Z-Ne) # eV/c\n",
    "gamma = np.sqrt( 1 + (p0c/m_ion)**2 ) # ion relativistic factor\n",
    "beta = np.sqrt(1-1/(gamma*gamma)) # ion beta\n"
   ]
  },
  {
   "cell_type": "code",
   "execution_count": 2,
   "id": "38119600",
   "metadata": {},
   "outputs": [
    {
     "name": "stdout",
     "output_type": "stream",
     "text": [
      "Done loading line from dict.           \n",
      "Compiling ContextCpu kernels...\n",
      "Done compiling ContextCpu kernels.\n",
      "The argument tracker is deprecated. Please use line instead. <class 'DeprecationWarning'>\n",
      "*** Maximum RMS bunch length 0.23592919520901076m.\n",
      "... distance to target bunch length: -2.2500e-01\n",
      "... distance to target bunch length: 4.4112e-03\n",
      "... distance to target bunch length: 4.1449e-03\n",
      "... distance to target bunch length: -3.3479e-03\n",
      "... distance to target bunch length: 1.0467e-03\n",
      "... distance to target bunch length: 2.0728e-04\n",
      "... distance to target bunch length: -3.3833e-06\n",
      "... distance to target bunch length: 4.9353e-08\n",
      "... distance to target bunch length: -6.5924e-08\n",
      "--> Bunch length: 0.2250000493531224\n",
      "--> Emittance: 0.6606168164388687\n",
      "Warning! scale_with_transverse_norm_emitt is deprecated. Use nemitt_x and nemitt_y instead.\n"
     ]
    },
    {
     "data": {
      "text/plain": [
       "<xtrack.line.Line at 0x7f43938f80d0>"
      ]
     },
     "execution_count": 2,
     "metadata": {},
     "output_type": "execute_result"
    }
   ],
   "source": [
    "#%%\n",
    "##################\n",
    "# Build TrackJob #\n",
    "##################\n",
    "\n",
    "fname_sequence ='/home/pkruyt/cernbox/xsuite-env/xtrack/test_data/sps_w_spacecharge/line_no_spacecharge_and_particle.json'\n",
    "\n",
    "with open(fname_sequence, 'r') as fid:\n",
    "     input_data = json.load(fid)\n",
    "sequence = xt.Line.from_dict(input_data['line'])\n",
    "\n",
    "n_part = int(1e6)\n",
    "\n",
    "SPS_tracker = xt.Tracker(_context=context, _buffer=buf, line=sequence)\n",
    "\n",
    "# Build a reference particle\n",
    "particle_sample = xp.Particles(mass0=m_ion, q0=Z-Ne, p0c=p0c)\n",
    "\n",
    "sigma_z = 22.5e-2\n",
    "nemitt_x = 2e-6\n",
    "nemitt_y = 2.5e-6\n",
    "\n",
    "\n",
    "particles = xp.generate_matched_gaussian_bunch(\n",
    "         num_particles=n_part,\n",
    "         #total_intensity_particles=bunch_intensity,\n",
    "         nemitt_x=nemitt_x, nemitt_y=nemitt_y, sigma_z=sigma_z,\n",
    "         #R_matrix=r_matrix,\n",
    "         particle_ref=particle_sample,\n",
    "         tracker=SPS_tracker\n",
    "         #,steps_r_matrix=steps_r_matrix\n",
    "         )\n",
    "\n",
    "\n",
    "sequence.particle_ref = particle_sample\n",
    "twiss = sequence.twiss(symplectify=True)\n",
    "\n",
    "twiss_dict=dict(twiss)\n",
    "\n",
    "#%%\n",
    "###################\n",
    "# Linear Transfer #\n",
    "###################\n",
    "\n",
    "arc=xt.LinearTransferMatrix(Q_x=twiss['qx'], Q_y=twiss['qy'],\n",
    "beta_x_0=twiss['betx'][0], beta_x_1=twiss['betx'][-1],\n",
    "beta_y_0=twiss['bety'][0], beta_y_1=twiss['bety'][-1],\n",
    "alpha_x_0=twiss['alfx'][0], alpha_x_1=twiss['alfx'][-1],\n",
    "alpha_y_0=twiss['alfy'][0], alpha_y_1=twiss['alfy'][-1],\n",
    "disp_x_0=twiss['dx'][0], disp_x_1=twiss['dx'][-1],\n",
    "disp_y_0=twiss['dy'][0], disp_y_1=twiss['dy'][-1],\n",
    "beta_s=twiss['betz0'],\n",
    "Q_s=-twiss['qs'],\n",
    "chroma_x=twiss['dqx'], chroma_y=twiss['dqy'])\n",
    "\n",
    "SPS_lin = xt.Line()\n",
    "\n",
    "SPS_lin.append_element(arc,'SPS_LinearTransferMatrix') "
   ]
  },
  {
   "cell_type": "code",
   "execution_count": 3,
   "id": "87f4adde",
   "metadata": {},
   "outputs": [
    {
     "name": "stdout",
     "output_type": "stream",
     "text": [
      "Laser pulse duration sigma_t = 2.74 ps\n",
      "Laser wavelength = 1034.07 nm\n"
     ]
    },
    {
     "name": "stderr",
     "output_type": "stream",
     "text": [
      "  0%|          | 0/1 [00:00<?, ?it/s]"
     ]
    },
    {
     "name": "stdout",
     "output_type": "stream",
     "text": [
      "Compiling ContextCpu kernels...\n",
      "Done compiling ContextCpu kernels.\n",
      "Compiling ContextCpu kernels...\n"
     ]
    },
    {
     "name": "stderr",
     "output_type": "stream",
     "text": [
      "d37898fc3c204860b33ca8e3cd9bc8a6.c: In function ‘CWLaser_track_local_particle’:\n",
      "d37898fc3c204860b33ca8e3cd9bc8a6.c:3428:16: warning: unused variable ‘r2’ [-Wunused-variable]\n",
      "         double r2 = (\\\n",
      "                ^~\n",
      "d37898fc3c204860b33ca8e3cd9bc8a6.c:3368:12: warning: unused variable ‘beta0’ [-Wunused-variable]\n",
      "     double beta0  = sqrt(1.0 - 1.0/(gamma0*gamma0));\n",
      "            ^~~~~\n",
      "d37898fc3c204860b33ca8e3cd9bc8a6.c:3338:12: warning: unused variable ‘w0’ [-Wunused-variable]\n",
      "     double w0 = CWLaserData_get_laser_waist_radius(el);\n",
      "            ^~\n",
      "100%|██████████| 1/1 [00:05<00:00,  5.59s/it]"
     ]
    },
    {
     "name": "stdout",
     "output_type": "stream",
     "text": [
      "Done compiling ContextCpu kernels.\n"
     ]
    },
    {
     "name": "stderr",
     "output_type": "stream",
     "text": [
      "\n"
     ]
    }
   ],
   "source": [
    "##################\n",
    "# Laser Cooler #\n",
    "##################\n",
    "\n",
    "sigma_dp = 2e-4 # relative ion momentum spread\n",
    "#sigma_dp = std_delta # relative ion momentum spread\n",
    "\n",
    "\n",
    "#laser-ion beam collision angle\n",
    "theta_l = 2.6*np.pi/180 # rad\n",
    "theta_l = 0\n",
    "nx = 0; ny = -np.sin(theta_l); nz = -np.cos(theta_l)\n",
    "\n",
    "# Ion excitation energy:\n",
    "hw0 = 230.823 # eV\n",
    "hc=constants.hbar*c/constants.e # eV*m (ħc)\n",
    "lambda_0 = 2*np.pi*hc/hw0 # m -- ion excitation wavelength\n",
    "\n",
    "lambda_l = lambda_0*gamma*(1 + beta*np.cos(theta_l)) # m -- laser wavelength\n",
    "\n",
    "# Shift laser wavelength for fast longitudinal cooling:\n",
    "lambda_l = lambda_l*(1+1*sigma_dp) # m\n",
    "\n",
    "laser_frequency = c/lambda_l # Hz\n",
    "sigma_w = 2*np.pi*laser_frequency*sigma_dp\n",
    "#sigma_w = 2*np.pi*laser_frequency*sigma_dp/2 # for fast longitudinal cooling\n",
    "\n",
    "\n",
    "sigma_t = 1/sigma_w # sec -- Fourier-limited laser pulse\n",
    "print('Laser pulse duration sigma_t = %.2f ps' % (sigma_t/1e-12))\n",
    "\n",
    "print('Laser wavelength = %.2f nm' % (lambda_l/1e-9))\n",
    "\n",
    "laser_waist_radius = 1.3e-3\n",
    "#laser_waist_radius = 1.3e-7\n",
    "\n",
    "laser_x=0.0020000\n",
    "laser_x=0.000000\n",
    "\n",
    "gamma0=96\n",
    "\n",
    "I=1646735312734115584.000000\n",
    "\n",
    "laser_power=I/4/gamma0/gamma0\n",
    "\n",
    "GF_IP = xt.CWLaser(_buffer=buf,\n",
    "                      laser_x=laser_x,\n",
    "                      laser_y=0,\n",
    "                      laser_z=10e-3,\n",
    "                      \n",
    "                      laser_direction_nx = 0,\n",
    "                      laser_direction_ny = 0,\n",
    "                      laser_direction_nz = -1,\n",
    "                      laser_energy         = 5e-3, # J\n",
    "                      laser_duration_sigma = sigma_t, # sec\n",
    "                      laser_wavelength = lambda_l, # m\n",
    "                      laser_waist_radius = laser_waist_radius, # m\n",
    "                      laser_power=laser_power,\n",
    "                      ion_excitation_energy = hw0, # eV\n",
    "                      ion_excited_lifetime  = 76.6e-12, # sec\n",
    "                          \n",
    "   )\n",
    "                          \n",
    "   \n",
    "SPS_lin.append_element(GF_IP, 'GammaFactory_IP')\n",
    "\n",
    "##################\n",
    "# Tracking #\n",
    "##################\n",
    "x, px, delta, action_x = [], [], [], []\n",
    "num_turns = int(1e0)\n",
    "# loop over turns\n",
    "for i in tqdm(range(num_turns)):\n",
    "    \n",
    "    x.append(particles.x)\n",
    "    px.append(particles.px)\n",
    "    delta.append(particles.delta)\n",
    "    \n",
    "    # track particle\n",
    "    arc.track(particles)\n",
    "    GF_IP.track(particles)\n",
    "\n",
    "excited=particles.state==2\n",
    "\n",
    "fraction_excitation = sum(excited)/len(excited)"
   ]
  },
  {
   "cell_type": "code",
   "execution_count": 4,
   "id": "aa5f0f2a",
   "metadata": {},
   "outputs": [
    {
     "data": {
      "image/png": "[encoded data removed]",
      "text/plain": [
       "<Figure size 640x480 with 1 Axes>"
      ]
     },
     "metadata": {},
     "output_type": "display_data"
    }
   ],
   "source": [
    "\n",
    "\n",
    "plt.figure()\n",
    "plt.title(f'Fraction of excited particles: {fraction_excitation*100}%')\n",
    "\n",
    "#plt.axvline(laser_x,color='red')\n",
    "# plt.axvline(laser_x+laser_waist_radius,color='red')\n",
    "# plt.axvline(laser_x-laser_waist_radius,color='red')\n",
    "\n",
    "plt.scatter(particles.x,particles.px)\n",
    "plt.scatter(particles.x[excited],particles.px[excited])\n",
    "plt.xlabel('x [m]')\n",
    "plt.ylabel('px ')\n",
    "plt.show()"
   ]
  }
 ],
 "metadata": {
  "kernelspec": {
   "display_name": "base",
   "language": "python",
   "name": "python3"
  },
  "language_info": {
   "codemirror_mode": {
    "name": "ipython",
    "version": 3
   },
   "file_extension": ".py",
   "mimetype": "text/x-python",
   "name": "python",
   "nbconvert_exporter": "python",
   "pygments_lexer": "ipython3",
   "version": "3.11.3"
  },
  "vscode": {
   "interpreter": {
    "hash": "b3c9a0a5475e728b39e61ac58d244ad936924f9cf82746515a9faeb1f1a0b703"
   }
  }
 },
 "nbformat": 4,
 "nbformat_minor": 5
}
