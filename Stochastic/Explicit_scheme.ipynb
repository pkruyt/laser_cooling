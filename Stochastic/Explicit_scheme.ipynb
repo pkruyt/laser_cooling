{
 "cells": [
  {
   "cell_type": "code",
   "execution_count": null,
   "metadata": {},
   "outputs": [],
   "source": [
    "import numpy as np\n",
    "import matplotlib.pyplot as plt\n",
    "from mpl_toolkits.mplot3d import Axes3D\n",
    "\n",
    "# Parameters\n",
    "a = 0.01  # Thermal diffusivity\n",
    "u = 0.1  # Velocity\n",
    "h = 0.1  # Spatial grid spacing\n",
    "c = 1.0  # Specific heat\n",
    "rho = 1.0  # Density\n",
    "Q_i_f_minus_1 = 1.0\n",
    "\n",
    "# Grid\n",
    "L = 10.0  # Length of the spatial domain\n",
    "T = 1.0  # Total simulation time\n",
    "Nx = 100  # Number of spatial grid points\n",
    "Nt = 150  # Number of time steps\n",
    "\n",
    "dx = L / (Nx - 1)\n",
    "dt = T / Nt\n",
    "\n",
    "# Initial condition\n",
    "def initial_condition(x):\n",
    "    return np.sin(np.pi * x / L)\n",
    "\n",
    "# Initialize temperature array\n",
    "T = np.zeros((Nx, Nt + 1))\n",
    "\n",
    "# Apply initial condition\n",
    "T[:, 0] = initial_condition(np.linspace(0, L, Nx))\n",
    "\n",
    "# Time-stepping loop without advection term\n",
    "for n in range(0, Nt):\n",
    "    for i in range(1, Nx - 1):\n",
    "        T[i, n + 1] = (\n",
    "            T[i, n]\n",
    "            + a * (T[i - 1, n] - 2 * T[i, n] + T[i + 1, n]) / (h ** 2)\n",
    "            + Q_i_f_minus_1 / (c * rho) * dt\n",
    "        )\n",
    "\n",
    "\n",
    "# Corrected creation of X and T_values\n",
    "x_values = np.linspace(0, L, Nx)\n",
    "t_values = np.linspace(0, T, Nt + 1)\n",
    "#X, T_values = np.meshgrid(x_values, t_values)\n",
    "\n",
    "T.shape # x,t\n"
   ]
  },
  {
   "cell_type": "code",
   "execution_count": null,
   "metadata": {},
   "outputs": [],
   "source": [
    "t_values.shape"
   ]
  },
  {
   "cell_type": "code",
   "execution_count": null,
   "metadata": {},
   "outputs": [],
   "source": [
    "for time in range(Nt):\n",
    "    if time % 10==0:\n",
    "\n",
    "        plt.figure()\n",
    "        plt.plot(T[:,0])\n",
    "        plt.show()"
   ]
  }
 ],
 "metadata": {
  "kernelspec": {
   "display_name": "Python 3",
   "language": "python",
   "name": "python3"
  },
  "language_info": {
   "codemirror_mode": {
    "name": "ipython",
    "version": 3
   },
   "file_extension": ".py",
   "mimetype": "text/x-python",
   "name": "python",
   "nbconvert_exporter": "python",
   "pygments_lexer": "ipython3",
   "version": "3.11.3"
  },
  "papermill": {
   "default_parameters": {},
   "duration": 16.724867,
   "end_time": "2021-10-29T15:23:06.132284",
   "environment_variables": {},
   "exception": null,
   "input_path": "__notebook__.ipynb",
   "output_path": "__notebook__.ipynb",
   "parameters": {},
   "start_time": "2021-10-29T15:22:49.407417",
   "version": "2.3.3"
  }
 },
 "nbformat": 4,
 "nbformat_minor": 5
}
