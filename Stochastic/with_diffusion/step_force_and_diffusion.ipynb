{
 "cells": [
  {
   "cell_type": "code",
   "execution_count": 32,
   "metadata": {},
   "outputs": [
    {
     "name": "stderr",
     "output_type": "stream",
     "text": [
      "100%|██████████| 1500/1500 [00:00<00:00, 4998.53it/s]\n"
     ]
    },
    {
     "data": {
      "application/vnd.jupyter.widget-view+json": {
       "model_id": "3e5fb6b729ca4dc2b49a696a1e5b12b9",
       "version_major": 2,
       "version_minor": 0
      },
      "text/plain": [
       "interactive(children=(IntSlider(value=0, description='turn', max=1499), Output()), _dom_classes=('widget-inter…"
      ]
     },
     "metadata": {},
     "output_type": "display_data"
    },
    {
     "data": {
      "text/plain": [
       "<function __main__.update_plot(turn)>"
      ]
     },
     "execution_count": 32,
     "metadata": {},
     "output_type": "execute_result"
    }
   ],
   "source": [
    "import numpy as np\n",
    "import matplotlib.pyplot as plt\n",
    "from tqdm import tqdm\n",
    "from ipywidgets import interact, IntSlider\n",
    "\n",
    "# Parameters\n",
    "num_particles = 1000  # Number of particles\n",
    "num_turns = 1500\n",
    "kick_strength = 0.005  # Positive kick to create a hole\n",
    "diffusion_rate = 0.001  # Reduced rate of diffusion\n",
    "kick_start = 0.4  # Start of the interval for the kick\n",
    "kick_end = 0.6    # End of the interval for the kick\n",
    "\n",
    "# Initial uniform distribution\n",
    "particles_init = np.linspace(0, 1, num_particles)\n",
    "particles = particles_init.copy()\n",
    "\n",
    "particle_distributions = np.zeros((num_turns, num_particles))\n",
    "\n",
    "bins = 50\n",
    "bin_edges = np.linspace(0, 1, bins + 1)\n",
    "\n",
    "# Simulation loop\n",
    "for turn in tqdm(range(num_turns)):\n",
    "    \n",
    "    # Apply the kicking mechanism to particles in the specified region\n",
    "    for particle_index in range(num_particles):\n",
    "        if kick_start <= particles[particle_index] <= kick_end:\n",
    "            particles[particle_index] -= kick_strength\n",
    "\n",
    "    # Diffusion step (random walk)\n",
    "    diffusion_steps = np.random.normal(0, diffusion_rate, num_particles)\n",
    "    particles += diffusion_steps\n",
    "    \n",
    "    # Ensure particles stay within the boundaries [0, 1]\n",
    "    particles = np.clip(particles, 0, 1)\n",
    "    \n",
    "    particle_distributions[turn] = particles.copy()\n",
    "\n",
    "# Function to update the plot based on the slider value\n",
    "def update_plot(turn):\n",
    "    plt.figure(figsize=(15, 5))\n",
    "    plt.hist(particle_distributions[turn], bins=bins, edgecolor='black')\n",
    "    plt.axvline(x=kick_start, color='r', linestyle='--', label='Kick Start')\n",
    "    plt.axvline(x=kick_end, color='g', linestyle='--', label='Kick End')\n",
    "    plt.title(f'After {turn} turns')\n",
    "    plt.xlabel('Particle Position')\n",
    "    plt.ylabel('Number of Particles')\n",
    "    plt.legend()\n",
    "    plt.show()\n",
    "\n",
    "# Create an interactive slider using ipywidgets\n",
    "interact(update_plot, turn=IntSlider(min=0, max=num_turns-1, step=1, value=0))\n"
   ]
  }
 ],
 "metadata": {
  "kernelspec": {
   "display_name": "Python 3",
   "language": "python",
   "name": "python3"
  },
  "language_info": {
   "codemirror_mode": {
    "name": "ipython",
    "version": 3
   },
   "file_extension": ".py",
   "mimetype": "text/x-python",
   "name": "python",
   "nbconvert_exporter": "python",
   "pygments_lexer": "ipython3",
   "version": "3.12.3"
  },
  "papermill": {
   "default_parameters": {},
   "duration": 16.724867,
   "end_time": "2021-10-29T15:23:06.132284",
   "environment_variables": {},
   "exception": null,
   "input_path": "__notebook__.ipynb",
   "output_path": "__notebook__.ipynb",
   "parameters": {},
   "start_time": "2021-10-29T15:22:49.407417",
   "version": "2.3.3"
  }
 },
 "nbformat": 4,
 "nbformat_minor": 5
}
