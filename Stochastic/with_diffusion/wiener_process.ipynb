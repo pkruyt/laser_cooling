{
 "cells": [
  {
   "cell_type": "code",
   "execution_count": 13,
   "id": "154a7a7a",
   "metadata": {},
   "outputs": [
    {
     "name": "stderr",
     "output_type": "stream",
     "text": [
      "Simulations: 100%|██████████| 999/999 [00:00<00:00, 3353.70it/s]\n"
     ]
    },
    {
     "data": {
      "application/vnd.jupyter.widget-view+json": {
       "model_id": "5d14307a7af14888a36f5efd3b2ccd2d",
       "version_major": 2,
       "version_minor": 0
      },
      "text/plain": [
       "interactive(children=(IntSlider(value=999, description='Time Step', max=999), Output()), _dom_classes=('widget…"
      ]
     },
     "metadata": {},
     "output_type": "display_data"
    },
    {
     "data": {
      "text/plain": [
       "<function __main__.plot_histogram(selected_time_step)>"
      ]
     },
     "execution_count": 13,
     "metadata": {},
     "output_type": "execute_result"
    }
   ],
   "source": [
    "import numpy as np\n",
    "import matplotlib.pyplot as plt\n",
    "from tqdm import tqdm\n",
    "from ipywidgets import interact, IntSlider\n",
    "from scipy import constants\n",
    "\n",
    "# Parameters\n",
    "num_particles = int(1E4)  # Number of particles\n",
    "num_time_steps = int(1e3)  # Number of time steps (turns)\n",
    "velocity = 0.1  # Velocity constant\n",
    "sigma = 0.1  # Standard deviation of the Wiener process\n",
    "time_step_size = 0.01  # Time step size\n",
    "\n",
    "# Initialization\n",
    "positions = np.zeros((num_particles, num_time_steps))  # Matrix to store paths\n",
    "random_numbers = np.random.randn(num_particles, num_time_steps)  # Random normal numbers for Wiener process increments\n",
    "\n",
    "for time_step in tqdm(range(1, num_time_steps), desc=\"Simulations\"):\n",
    "    previous_positions = positions[:, time_step - 1]\n",
    "    velocity_component = -1 * (previous_positions < 0) * (np.abs(previous_positions) < 0.25) * velocity\n",
    "    positions[:, time_step] = previous_positions + velocity_component * time_step_size + np.sqrt(time_step_size) * sigma * random_numbers[:, time_step]\n",
    "\n",
    "# Function to plot histogram with a given time step\n",
    "def plot_histogram(selected_time_step):\n",
    "    plt.figure(figsize=(10, 6))\n",
    "    plt.hist(positions[:, selected_time_step], bins=50, alpha=0.7, color='blue')\n",
    "    plt.xlabel('Positions')\n",
    "    plt.ylabel('Frequency')\n",
    "    plt.title(f'Histogram of Positions at time step {selected_time_step}')\n",
    "    plt.grid(True)\n",
    "    plt.show()\n",
    "\n",
    "# Slider to select time step\n",
    "time_slider = IntSlider(min=0, max=num_time_steps-1, step=1, value=num_time_steps-1, description='Time Step')\n",
    "\n",
    "# Interactive plot\n",
    "interact(plot_histogram, selected_time_step=time_slider)\n"
   ]
  },
  {
   "cell_type": "markdown",
   "id": "ffc78770",
   "metadata": {},
   "source": [
    "scan over noise sigma"
   ]
  },
  {
   "cell_type": "code",
   "execution_count": 14,
   "id": "ebc55326",
   "metadata": {},
   "outputs": [
    {
     "name": "stderr",
     "output_type": "stream",
     "text": [
      " 10%|█         | 1/10 [00:00<00:05,  1.75it/s]"
     ]
    },
    {
     "name": "stdout",
     "output_type": "stream",
     "text": [
      "Maximum bin height at the last time step for sigma=0.05: 1638\n"
     ]
    },
    {
     "name": "stderr",
     "output_type": "stream",
     "text": [
      " 20%|██        | 2/10 [00:01<00:04,  1.72it/s]"
     ]
    },
    {
     "name": "stdout",
     "output_type": "stream",
     "text": [
      "Maximum bin height at the last time step for sigma=0.10: 1373\n"
     ]
    },
    {
     "name": "stderr",
     "output_type": "stream",
     "text": [
      " 30%|███       | 3/10 [00:01<00:04,  1.73it/s]"
     ]
    },
    {
     "name": "stdout",
     "output_type": "stream",
     "text": [
      "Maximum bin height at the last time step for sigma=0.15: 925\n"
     ]
    },
    {
     "name": "stderr",
     "output_type": "stream",
     "text": [
      " 40%|████      | 4/10 [00:02<00:03,  1.74it/s]"
     ]
    },
    {
     "name": "stdout",
     "output_type": "stream",
     "text": [
      "Maximum bin height at the last time step for sigma=0.20: 1006\n"
     ]
    },
    {
     "name": "stderr",
     "output_type": "stream",
     "text": [
      " 50%|█████     | 5/10 [00:02<00:02,  1.76it/s]"
     ]
    },
    {
     "name": "stdout",
     "output_type": "stream",
     "text": [
      "Maximum bin height at the last time step for sigma=0.25: 711\n"
     ]
    },
    {
     "name": "stderr",
     "output_type": "stream",
     "text": [
      " 60%|██████    | 6/10 [00:03<00:02,  1.78it/s]"
     ]
    },
    {
     "name": "stdout",
     "output_type": "stream",
     "text": [
      "Maximum bin height at the last time step for sigma=0.30: 738\n"
     ]
    },
    {
     "name": "stderr",
     "output_type": "stream",
     "text": [
      " 70%|███████   | 7/10 [00:03<00:01,  1.78it/s]"
     ]
    },
    {
     "name": "stdout",
     "output_type": "stream",
     "text": [
      "Maximum bin height at the last time step for sigma=0.35: 662\n"
     ]
    },
    {
     "name": "stderr",
     "output_type": "stream",
     "text": [
      " 80%|████████  | 8/10 [00:04<00:01,  1.79it/s]"
     ]
    },
    {
     "name": "stdout",
     "output_type": "stream",
     "text": [
      "Maximum bin height at the last time step for sigma=0.40: 714\n"
     ]
    },
    {
     "name": "stderr",
     "output_type": "stream",
     "text": [
      " 90%|█████████ | 9/10 [00:05<00:00,  1.79it/s]"
     ]
    },
    {
     "name": "stdout",
     "output_type": "stream",
     "text": [
      "Maximum bin height at the last time step for sigma=0.45: 680\n"
     ]
    },
    {
     "name": "stderr",
     "output_type": "stream",
     "text": [
      "100%|██████████| 10/10 [00:05<00:00,  1.77it/s]"
     ]
    },
    {
     "name": "stdout",
     "output_type": "stream",
     "text": [
      "Maximum bin height at the last time step for sigma=0.50: 630\n"
     ]
    },
    {
     "name": "stderr",
     "output_type": "stream",
     "text": [
      "\n"
     ]
    },
    {
     "data": {
      "image/png": "[encoded data removed]",
      "text/plain": [
       "<Figure size 1000x600 with 1 Axes>"
      ]
     },
     "metadata": {},
     "output_type": "display_data"
    }
   ],
   "source": [
    "sigma_values = np.linspace(0.05, 0.5, 10)  # Adjust the range and number of values as needed\n",
    "max_bin_heights = []\n",
    "\n",
    "for sigma in tqdm(sigma_values):\n",
    "    # Initialization\n",
    "    positions = np.zeros((num_particles, num_time_steps))  # Matrix to store paths\n",
    "    random_numbers = np.random.randn(num_particles, num_time_steps)  # Random normal numbers for Wiener process increments\n",
    "\n",
    "    # Vectorized Simulation Loop\n",
    "    for time_step in range(1, num_time_steps):\n",
    "        previous_positions = positions[:, time_step - 1]\n",
    "        velocity_component = -1 * (previous_positions < 0) * (np.abs(previous_positions) < 0.25) * velocity\n",
    "        positions[:, time_step] = previous_positions + velocity_component * time_step_size + np.sqrt(time_step_size) * sigma * random_numbers[:, time_step]\n",
    "\n",
    "    # Compute the highest bin height for the last time step\n",
    "    last_time_step = num_time_steps - 1\n",
    "    hist, bins = np.histogram(positions[:, last_time_step], bins=50)\n",
    "    max_bin_height_last_time_step = np.max(hist)\n",
    "    max_bin_heights.append(max_bin_height_last_time_step)\n",
    "\n",
    "    # Print the maximum bin height at the last time step for the current sigma\n",
    "    print(f\"Maximum bin height at the last time step for sigma={sigma:.2f}: {max_bin_height_last_time_step}\")\n",
    "\n",
    "# Plot the maximum bin heights for different sigma values\n",
    "plt.figure(figsize=(10, 6))\n",
    "plt.plot(sigma_values, max_bin_heights, marker='o', alpha=0.7, color='blue')\n",
    "plt.xlabel('Sigma')\n",
    "plt.ylabel('Maximum Bin Height at Last Time Step')\n",
    "plt.title('Maximum Bin Height at Last Time Step for Different Sigma Values')\n",
    "plt.grid(True)\n",
    "plt.show()"
   ]
  },
  {
   "cell_type": "code",
   "execution_count": 33,
   "id": "0bc904f1",
   "metadata": {},
   "outputs": [],
   "source": [
    "# import numpy as np\n",
    "# import matplotlib.pyplot as plt\n",
    "# from tqdm import tqdm\n",
    "# from ipywidgets import interact, IntSlider\n",
    "\n",
    "# # Parameters\n",
    "# num_particles = int(1E4)  # Number of particles\n",
    "# num_time_steps = int(1E3)  # Number of time steps (turns)\n",
    "# time_step_size = 0.01  # Time step size\n",
    "# drift_area = 0.25  # Fixed drift area\n",
    "\n",
    "# # Range of sigma and velocity values to scan\n",
    "# sigma_values = np.linspace(0.05, 0.5, 10)  \n",
    "# velocity_values = np.linspace(0.05, 0.5, 10)  \n",
    "\n",
    "# # sigma_values = [0.1]\n",
    "# # velocity_values = [0.1]\n",
    "\n",
    "# #positions0 = np.random.uniform(-0.5, 0.5, (num_particles, num_time_steps))  # Initial positions uniformly distributed in [-0.5, 0.5]\n",
    "\n",
    "# positions0 = np.zeros((num_particles, num_time_steps))  # Matrix to store paths\n",
    "# positions0[:, 0] = np.random.uniform(-1, 1, num_particles)  # Initial positions uniformly distributed in [-0.5, 0.5]\n",
    "\n",
    "# # Initialize a matrix to store the maximum bin heights for each combination of sigma and velocity\n",
    "# max_bin_heights = np.zeros((len(sigma_values), len(velocity_values)))\n",
    "\n",
    "# # Perform the scan\n",
    "# for sigma_index, sigma in enumerate(tqdm(sigma_values, desc=\"Sigma values\")):\n",
    "#     for velocity_index, velocity in enumerate(tqdm(velocity_values, desc=f\"Velocity values for sigma={sigma:.2f}\", leave=False)):\n",
    "#         # Initialization\n",
    "#         #positions = np.zeros((num_particles, num_time_steps))  # Matrix to store paths\n",
    "#         positions = positions0.copy()\n",
    "#         random_numbers = np.random.randn(num_particles, num_time_steps)  # Random normal numbers for Wiener process increments\n",
    "\n",
    "#         # Vectorized Simulation Loop\n",
    "#         for time_step in range(1, num_time_steps):\n",
    "#             previous_positions = positions[:, time_step - 1]\n",
    "#             velocity_component = -1 * (previous_positions < 0) * (np.abs(previous_positions) < drift_area) * velocity\n",
    "#             positions[:, time_step] = previous_positions + velocity_component * time_step_size + np.sqrt(time_step_size) * sigma * random_numbers[:, time_step]\n",
    "\n",
    "#         # Compute the highest bin height for the last time step\n",
    "#         last_time_step = num_time_steps - 1\n",
    "#         hist, bins = np.histogram(positions[:, last_time_step], bins=50)\n",
    "#         max_bin_height_last_time_step = np.max(hist)\n",
    "#         max_bin_heights[sigma_index, velocity_index] = max_bin_height_last_time_step\n",
    "\n",
    "# # Plot the maximum bin heights as a heatmap\n",
    "# plt.figure(figsize=(12, 8))\n",
    "# plt.imshow(max_bin_heights, extent=[velocity_values[0], velocity_values[-1], sigma_values[0], sigma_values[-1]], origin='lower', aspect='auto', cmap='viridis')\n",
    "# plt.colorbar(label='Maximum Bin Height at Last Time Step')\n",
    "# plt.xlabel('Velocity')\n",
    "# plt.ylabel('Sigma')\n",
    "# plt.title('Maximum Bin Height at Last Time Step for Different Sigma and Velocity Values')\n",
    "# plt.show()\n",
    "\n",
    "# # Function to plot histogram with a given time step\n",
    "# def plot_histogram(selected_time_step):\n",
    "#     plt.figure(figsize=(10, 6))\n",
    "#     plt.hist(positions[:, selected_time_step], bins=50, alpha=0.7, color='blue')\n",
    "#     plt.xlabel('Positions')\n",
    "#     plt.ylabel('Frequency')\n",
    "#     plt.title(f'Histogram of Positions at time step {selected_time_step}')\n",
    "#     plt.grid(True)\n",
    "#     plt.show()\n",
    "\n",
    "# # Slider to select time step\n",
    "# time_slider = IntSlider(min=0, max=num_time_steps-1, step=1, value=num_time_steps-1, description='Time Step')\n",
    "\n",
    "# # Interactive plot\n",
    "# interact(plot_histogram, selected_time_step=time_slider)\n"
   ]
  },
  {
   "cell_type": "code",
   "execution_count": 16,
   "id": "7e955e58",
   "metadata": {},
   "outputs": [
    {
     "name": "stderr",
     "output_type": "stream",
     "text": [
      "Sigma values: 100%|██████████| 10/10 [00:51<00:00,  5.12s/it]\n"
     ]
    },
    {
     "data": {
      "image/png": "[encoded data removed]",
      "text/plain": [
       "<Figure size 1200x800 with 2 Axes>"
      ]
     },
     "metadata": {},
     "output_type": "display_data"
    }
   ],
   "source": [
    "import numpy as np\n",
    "import matplotlib.pyplot as plt\n",
    "from tqdm import tqdm\n",
    "\n",
    "def simulate_wiener_process(num_particles, num_time_steps, time_step_size, sigma, velocity, initial_range=(-0.5, 0.5)):\n",
    "    positions = np.zeros((num_particles, num_time_steps))\n",
    "    \n",
    "    # Seed for initial positions\n",
    "    np.random.seed(43)\n",
    "    positions[:, 0] = np.random.uniform(initial_range[0], initial_range[1], num_particles)\n",
    "    \n",
    "    # Seed for Wiener process increments\n",
    "    np.random.seed(42)\n",
    "    random_numbers = np.random.randn(num_particles, num_time_steps)\n",
    "\n",
    "    for time_step in range(1, num_time_steps):\n",
    "        previous_positions = positions[:, time_step - 1]\n",
    "        velocity_component = -1 * (previous_positions > 0) * (np.abs(previous_positions) < drift_area) * velocity\n",
    "        positions[:, time_step] = (previous_positions + velocity_component * time_step_size +\n",
    "                                   np.sqrt(time_step_size) * sigma * random_numbers[:, time_step])\n",
    "    return positions\n",
    "\n",
    "def calculate_bin_diff(positions, time_step_index):\n",
    "    hist, bins = np.histogram(positions[:, time_step_index], bins=50)\n",
    "    return np.max(hist) - np.min(hist)\n",
    "\n",
    "# Parameters\n",
    "num_particles = int(1E4)  # Number of particles\n",
    "num_time_steps = int(1E3)  # Number of time steps (turns)\n",
    "time_step_size = 0.01  # Time step size\n",
    "drift_area = 0.25  # Fixed drift area\n",
    "\n",
    "# Range of sigma and velocity values to scan\n",
    "sigma_values = np.linspace(0.05, 0.5, 10)  # Adjust the range and number of values as needed\n",
    "velocity_values = np.linspace(0.05, 0.5, 10)  # Adjust the range and number of values as needed\n",
    "\n",
    "# Index of the last time step\n",
    "last_time_step_index = num_time_steps - 1\n",
    "\n",
    "# Initialize a matrix to store the bin height differences for each combination of sigma and velocity\n",
    "bin_diff = np.zeros((len(sigma_values), len(velocity_values)))\n",
    "\n",
    "# Perform the scan\n",
    "for sigma_index, sigma in enumerate(tqdm(sigma_values, desc=\"Sigma values\")):\n",
    "    for velocity_index, velocity in enumerate(velocity_values):\n",
    "        # Simulate Wiener process\n",
    "        positions = simulate_wiener_process(num_particles, num_time_steps, time_step_size, sigma, velocity)\n",
    "        \n",
    "        # Calculate the difference between the tallest and shortest bin at the last time step\n",
    "        bin_diff[sigma_index, velocity_index] = calculate_bin_diff(positions, last_time_step_index)\n",
    "\n",
    "# Plot the bin height differences as a heatmap\n",
    "plt.figure(figsize=(12, 8))\n",
    "plt.imshow(bin_diff, extent=[velocity_values[0], velocity_values[-1], sigma_values[0], sigma_values[-1]], origin='lower', aspect='auto', cmap='viridis')\n",
    "plt.colorbar(label='Difference between Tallest and Shortest Bin')\n",
    "plt.xlabel('Velocity')\n",
    "plt.ylabel('Sigma')\n",
    "plt.title('Difference between Tallest and Shortest Bin at Last Time Step')\n",
    "plt.show()\n"
   ]
  },
  {
   "cell_type": "code",
   "execution_count": 17,
   "id": "7b7d4ca8",
   "metadata": {},
   "outputs": [
    {
     "data": {
      "text/plain": [
       "array([False, False, False, ..., False, False, False])"
      ]
     },
     "execution_count": 17,
     "metadata": {},
     "output_type": "execute_result"
    }
   ],
   "source": [
    "(np.abs(previous_positions) < drift_area)"
   ]
  },
  {
   "cell_type": "code",
   "execution_count": 18,
   "id": "692f9b60",
   "metadata": {},
   "outputs": [
    {
     "data": {
      "application/vnd.jupyter.widget-view+json": {
       "model_id": "0fb9be2e54bf45d291006058504a3132",
       "version_major": 2,
       "version_minor": 0
      },
      "text/plain": [
       "interactive(children=(FloatSlider(value=0.1, description='Sigma', max=1.0, min=0.01, step=0.01), FloatSlider(v…"
      ]
     },
     "metadata": {},
     "output_type": "display_data"
    },
    {
     "data": {
      "text/plain": [
       "<function __main__.plot_distribution(sigma, velocity, drift_area)>"
      ]
     },
     "execution_count": 18,
     "metadata": {},
     "output_type": "execute_result"
    }
   ],
   "source": [
    "import numpy as np\n",
    "import matplotlib.pyplot as plt\n",
    "from ipywidgets import interact, FloatSlider\n",
    "import ipywidgets as widgets\n",
    "\n",
    "def simulate_wiener_process(num_particles, num_time_steps, time_step_size, sigma, velocity, drift_area=drift_area, initial_range=(-0.5, 0.5)):\n",
    "    positions = np.zeros((num_particles, num_time_steps))\n",
    "    \n",
    "    # Seed for initial positions\n",
    "    np.random.seed(43)\n",
    "    positions[:, 0] = np.random.uniform(initial_range[0], initial_range[1], num_particles)\n",
    "    \n",
    "    # Seed for Wiener process increments\n",
    "    np.random.seed(42)\n",
    "    random_numbers = np.random.randn(num_particles, num_time_steps)\n",
    "\n",
    "    for time_step in range(1, num_time_steps):\n",
    "        previous_positions = positions[:, time_step - 1]\n",
    "        velocity_component = -1 * (previous_positions > 0) * (np.abs(previous_positions) < drift_area) * velocity\n",
    "        positions[:, time_step] = (previous_positions + velocity_component * time_step_size +\n",
    "                                   np.sqrt(time_step_size) * sigma * random_numbers[:, time_step])\n",
    "    return positions\n",
    "\n",
    "def plot_distribution(sigma, velocity,drift_area):\n",
    "    positions = simulate_wiener_process(num_particles, num_time_steps, time_step_size, sigma, velocity,drift_area=drift_area)\n",
    "    time_step_index = last_time_step_index\n",
    "    \n",
    "    plt.figure(figsize=(10, 6))\n",
    "    plt.hist(positions[:, time_step_index], bins=50, alpha=0.7, color='blue')\n",
    "    plt.xlabel('Position')\n",
    "    plt.ylabel('Frequency')\n",
    "    plt.title(f'Distribution at last time step (sigma={sigma:.2f}, velocity={velocity:.2f}, area={drift_area:.2f})')\n",
    "    plt.grid(True)\n",
    "    plt.show()\n",
    "\n",
    "# Parameters\n",
    "num_particles = int(1E4)  # Number of particles\n",
    "num_time_steps = int(1E3)  # Number of time steps (turns)\n",
    "time_step_size = 0.01  # Time step size\n",
    "drift_area = 0.25  # Fixed drift area\n",
    "last_time_step_index = num_time_steps - 1  # Index of the last time step\n",
    "\n",
    "# Range of sigma and velocity values\n",
    "sigma_range = (0.01, 1)\n",
    "velocity_range = (0.01, 0.5)\n",
    "area_range = (0.01, 0.5)\n",
    "\n",
    "# Create interactive sliders\n",
    "sigma_slider = FloatSlider(min=sigma_range[0], max=sigma_range[1], step=0.01, value=0.1, description='Sigma')\n",
    "velocity_slider = FloatSlider(min=velocity_range[0], max=velocity_range[1], step=0.01, value=0.1, description='Velocity')\n",
    "area_slider = FloatSlider(min=area_range[0], max=area_range[1], step=0.01, value=0.1, description='Area')\n",
    "\n",
    "# Create interactive plot\n",
    "interact(plot_distribution, sigma=sigma_slider, velocity=velocity_slider,drift_area=area_slider)\n"
   ]
  },
  {
   "cell_type": "markdown",
   "id": "08a94d43",
   "metadata": {},
   "source": [
    "Input Lanzhou parameters from https://www.sciencedirect.com/science/article/pii/S0168900222011445"
   ]
  },
  {
   "cell_type": "code",
   "execution_count": 19,
   "id": "fcfea917",
   "metadata": {},
   "outputs": [],
   "source": [
    "laser_area = 5.7 * 1e-6"
   ]
  },
  {
   "cell_type": "code",
   "execution_count": 20,
   "id": "9a9c2c31",
   "metadata": {},
   "outputs": [
    {
     "name": "stdout",
     "output_type": "stream",
     "text": [
      "sigma_v_perp: 6.26e-04\n",
      "sigma_v_long: 6.26e-05\n"
     ]
    }
   ],
   "source": [
    "# Constants\n",
    "m_e_kg = constants.electron_mass  # Electron mass in kilograms\n",
    "c = constants.c                   # Speed of light in m/s\n",
    "joule_to_eV = constants.e / 1.60218e-19  # Conversion factor from J to eV\n",
    "\n",
    "# Calculate the energy equivalent in joules\n",
    "E_joules = m_e_kg * c**2\n",
    "\n",
    "# Convert energy from joules to electron volts\n",
    "m_e_eV = E_joules / constants.e\n",
    "\n",
    "temp_perp = 100e-3 # <E> [eV] = kb*T\n",
    "temp_long =  1e-3 # <E> [eV]\n",
    "\n",
    "sigma_v_perp = np.sqrt(2*temp_perp/m_e_eV) \n",
    "sigma_v_long = np.sqrt(2*temp_long/m_e_eV) \n",
    "\n",
    "print(f'sigma_v_perp: {sigma_v_perp:.2e}')\n",
    "print(f'sigma_v_long: {sigma_v_long:.2e}')"
   ]
  },
  {
   "cell_type": "code",
   "execution_count": 21,
   "id": "e79f5f59",
   "metadata": {},
   "outputs": [],
   "source": [
    "mass0=14903905638.72 # eV/c^2\n",
    "p0c = 12400049491.415041 # eV/c\n",
    "\n",
    "# Variables\n",
    "gamma = 1.30  # Define the value of gamma\n",
    "Z = 5      # Define the value of Z (atomic number)\n",
    "e = constants.e      # Define the value of e (elementary charge)\n",
    "m = mass0      # Define the value of m (mass)\n",
    "\n",
    "L = 10      # Coulomb logarithm"
   ]
  },
  {
   "cell_type": "code",
   "execution_count": 22,
   "id": "e7892a37",
   "metadata": {},
   "outputs": [
    {
     "name": "stdout",
     "output_type": "stream",
     "text": [
      "mu_inverse: 33889503406.105686\n"
     ]
    }
   ],
   "source": [
    "momentum = p0c          # Define the value of p (pressure)\n",
    "epsilon_H = 10e-6  # maybe add pi?\n",
    "epsilon_V = 15e-6    # maybe add pi?\n",
    "circumference =  128.80 #m\n",
    "dp_p = 9.2e-5\n",
    "\n"
   ]
  },
  {
   "cell_type": "markdown",
   "id": "4363af31",
   "metadata": {},
   "source": [
    "Fedetov ibs diffusion article: https://www.osti.gov/servlets/purl/1061760"
   ]
  },
  {
   "cell_type": "code",
   "execution_count": 28,
   "id": "cacbf31a",
   "metadata": {},
   "outputs": [
    {
     "name": "stdout",
     "output_type": "stream",
     "text": [
      "Diffusion Coefficient Dzz: 1.025e-05 m^2/s\n",
      "sigma_wiener: 4.528e-03\n"
     ]
    }
   ],
   "source": [
    "# Constants\n",
    "c = 2.99792458e8  # Speed of light (m/s)\n",
    "ri = 2.8179403227e-15 * 5  # Classical radius of the ion (m), scaled for Z=5\n",
    "\n",
    "# Parameters from the experiment\n",
    "Ni = 1e8  # Number of particles in the beam\n",
    "Lambda = 15  # Coulomb logarithm, approximate value\n",
    "beta = 0.64  # Relativistic beta\n",
    "gamma = 1.30  # Lorentz factor\n",
    "epsilon_perp_x = 10e-6  # Transverse emittance in horizontal plane (m)\n",
    "epsilon_perp_y = 15e-6  # Transverse emittance in vertical plane (m)\n",
    "beta_perp = 30  # Average transverse betatron function (m)\n",
    "C = 128.80  # Circumference of the storage ring (m)\n",
    "\n",
    "# Calculate transverse emittance (assuming a geometric average for simplicity)\n",
    "epsilon_perp = (epsilon_perp_x * epsilon_perp_y)**0.5\n",
    "\n",
    "# Calculate the diffusion coefficient Dzz\n",
    "Dzz = (2 * ri**2 * c * Ni * Lambda) / (beta**3 * gamma**3 * epsilon_perp**(3/2) * beta_perp**(1/2) * C)\n",
    "\n",
    "\n",
    "\n",
    "print(f\"Diffusion Coefficient Dzz: {Dzz:.3e} m^2/s\")\n",
    "\n"
   ]
  },
  {
   "cell_type": "markdown",
   "id": "42e8c45f",
   "metadata": {},
   "source": [
    "Now implement "
   ]
  },
  {
   "cell_type": "code",
   "execution_count": 30,
   "id": "c98926b7",
   "metadata": {},
   "outputs": [
    {
     "name": "stdout",
     "output_type": "stream",
     "text": [
      "sigma_wiener: 4.528e-03\n"
     ]
    },
    {
     "name": "stderr",
     "output_type": "stream",
     "text": [
      "Simulations: 100%|██████████| 999/999 [00:00<00:00, 2955.33it/s]\n"
     ]
    },
    {
     "data": {
      "application/vnd.jupyter.widget-view+json": {
       "model_id": "221dbb6eb3fc431ba8dcbc05e68db07f",
       "version_major": 2,
       "version_minor": 0
      },
      "text/plain": [
       "interactive(children=(IntSlider(value=999, description='Time Step', max=999), Output()), _dom_classes=('widget…"
      ]
     },
     "metadata": {},
     "output_type": "display_data"
    },
    {
     "data": {
      "text/plain": [
       "<function __main__.plot_histogram(selected_time_step)>"
      ]
     },
     "execution_count": 30,
     "metadata": {},
     "output_type": "execute_result"
    }
   ],
   "source": [
    "import numpy as np\n",
    "import matplotlib.pyplot as plt\n",
    "from tqdm import tqdm\n",
    "from ipywidgets import interact, IntSlider\n",
    "from scipy import constants\n",
    "\n",
    "\n",
    "sigma_wiener = np.sqrt(2 * Dzz)\n",
    "print(f\"sigma_wiener: {sigma_wiener:.3e}\")\n",
    "\n",
    "# Parameters\n",
    "num_particles = int(1E4)  # Number of particles\n",
    "num_time_steps = int(1e3)  # Number of time steps (turns)\n",
    "velocity = 0.1  # Velocity constant\n",
    "\n",
    "time_step_size = 0.01  # Time step size\n",
    "sigma = np.sqrt(2 * Dzz*time_step_size)\n",
    "\n",
    "# Initialization\n",
    "positions = np.zeros((num_particles, num_time_steps))  # Matrix to store paths\n",
    "random_numbers = np.random.randn(num_particles, num_time_steps)  # Random normal numbers for Wiener process increments\n",
    "\n",
    "for time_step in tqdm(range(1, num_time_steps), desc=\"Simulations\"):\n",
    "    previous_positions = positions[:, time_step - 1]\n",
    "    velocity_component = -1 * (previous_positions < 0) * (np.abs(previous_positions) < laser_area) * velocity\n",
    "    positions[:, time_step] = previous_positions + velocity_component * time_step_size + np.sqrt(time_step_size) * sigma * random_numbers[:, time_step]\n",
    "\n",
    "# Function to plot histogram with a given time step\n",
    "def plot_histogram(selected_time_step):\n",
    "    plt.figure(figsize=(10, 6))\n",
    "    plt.hist(positions[:, selected_time_step], bins=50, alpha=0.7, color='blue')\n",
    "    plt.xlabel('Positions')\n",
    "    plt.ylabel('Frequency')\n",
    "    plt.title(f'Histogram of Positions at time step {selected_time_step}')\n",
    "    plt.grid(True)\n",
    "    plt.show()\n",
    "\n",
    "# Slider to select time step\n",
    "time_slider = IntSlider(min=0, max=num_time_steps-1, step=1, value=num_time_steps-1, description='Time Step')\n",
    "\n",
    "# Interactive plot\n",
    "interact(plot_histogram, selected_time_step=time_slider)\n"
   ]
  },
  {
   "cell_type": "code",
   "execution_count": 32,
   "id": "0a0d7800",
   "metadata": {},
   "outputs": [
    {
     "data": {
      "text/plain": [
       "4.528249165543946"
      ]
     },
     "execution_count": 32,
     "metadata": {},
     "output_type": "execute_result"
    }
   ],
   "source": [
    "sigma*1e4"
   ]
  }
 ],
 "metadata": {
  "kernelspec": {
   "display_name": "Python 3",
   "language": "python",
   "name": "python3"
  },
  "language_info": {
   "codemirror_mode": {
    "name": "ipython",
    "version": 3
   },
   "file_extension": ".py",
   "mimetype": "text/x-python",
   "name": "python",
   "nbconvert_exporter": "python",
   "pygments_lexer": "ipython3",
   "version": "3.12.3"
  },
  "papermill": {
   "default_parameters": {},
   "duration": 16.724867,
   "end_time": "2021-10-29T15:23:06.132284",
   "environment_variables": {},
   "exception": null,
   "input_path": "__notebook__.ipynb",
   "output_path": "__notebook__.ipynb",
   "parameters": {},
   "start_time": "2021-10-29T15:22:49.407417",
   "version": "2.3.3"
  }
 },
 "nbformat": 4,
 "nbformat_minor": 5
}
