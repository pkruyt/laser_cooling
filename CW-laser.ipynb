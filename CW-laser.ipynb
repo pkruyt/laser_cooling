{
 "cells": [
  {
   "cell_type": "code",
   "execution_count": 1,
   "id": "56e455f6",
   "metadata": {},
   "outputs": [],
   "source": [
    "import json\n",
    "import numpy as np\n",
    "\n",
    "import time\n",
    "import xobjects as xo\n",
    "import xtrack as xt\n",
    "import xpart as xp\n",
    "\n",
    "from tqdm import tqdm\n",
    "import matplotlib.pyplot as plt\n",
    "from tqdm import tqdm\n",
    "import pickle\n",
    "from scipy import constants \n",
    "####################\n",
    "# Choose a context #\n",
    "####################\n",
    "\n",
    "context = xo.ContextCpu()\n",
    "#context = xo.ContextCpu(omp_num_threads=5)\n",
    "#context = xo.ContextCupy()\n",
    "#context = xo.ContextPyopencl('0.0')\n",
    "\n",
    "buf = context.new_buffer()\n",
    "\n",
    "\n",
    "# Ion properties:\n",
    "m_u = 931.49410242e6 # eV/c^2 -- atomic mass unit\n",
    "A = 207.98 # Lead-208\n",
    "Z = 82  # Number of protons in the ion (Lead)\n",
    "Ne = 3 # Number of remaining electrons (Lithium-like)\n",
    "m_e = 0.511e6 # eV/c^2 -- electron mass\n",
    "m_p = 938.272088e6 # eV/c^2 -- proton mass\n",
    "c = 299792458.0 # m/s\n",
    "\n",
    "m_ion = A*m_u + Ne*m_e # eV/c^2\n",
    "\n",
    "equiv_proton_momentum = 236e9 # eV/c = gamma_p*m_p*v\n",
    "\n",
    "gamma_p = np.sqrt( 1 + (equiv_proton_momentum/m_p)**2 ) # equvalent gamma for protons in the ring\n",
    "\n",
    "\n",
    "p0c = equiv_proton_momentum*(Z-Ne) # eV/c\n",
    "gamma = np.sqrt( 1 + (p0c/m_ion)**2 ) # ion relativistic factor\n",
    "beta = np.sqrt(1-1/(gamma*gamma)) # ion beta\n",
    "\n",
    "\n"
   ]
  },
  {
   "cell_type": "code",
   "execution_count": 2,
   "id": "38119600",
   "metadata": {},
   "outputs": [
    {
     "name": "stdout",
     "output_type": "stream",
     "text": [
      "Done loading line from dict.           \n",
      "Compiling ContextCpu kernels...\n",
      "Done compiling ContextCpu kernels.\n",
      "The argument tracker is deprecated. Please use line instead. <class 'DeprecationWarning'>\n",
      "*** Maximum RMS bunch length 0.23592919520901076m.\n",
      "... distance to target bunch length: -2.2500e-01\n",
      "... distance to target bunch length: 4.4112e-03\n",
      "... distance to target bunch length: 4.1449e-03\n",
      "... distance to target bunch length: -3.3479e-03\n",
      "... distance to target bunch length: 1.0467e-03\n",
      "... distance to target bunch length: 2.0728e-04\n",
      "... distance to target bunch length: -3.3833e-06\n",
      "... distance to target bunch length: 4.9353e-08\n",
      "... distance to target bunch length: -6.5924e-08\n",
      "--> Bunch length: 0.2250000493531224\n",
      "--> Emittance: 0.6606168164388687\n",
      "Warning! scale_with_transverse_norm_emitt is deprecated. Use nemitt_x and nemitt_y instead.\n"
     ]
    },
    {
     "data": {
      "text/plain": [
       "<xtrack.line.Line at 0x7f40b08f29d0>"
      ]
     },
     "execution_count": 2,
     "metadata": {},
     "output_type": "execute_result"
    }
   ],
   "source": [
    "#%%\n",
    "##################\n",
    "# Build TrackJob #\n",
    "##################\n",
    "\n",
    "fname_sequence ='/home/pkruyt/cernbox/xsuite-laser/xtrack/test_data/sps_w_spacecharge/line_no_spacecharge_and_particle.json'\n",
    "\n",
    "\n",
    "\n",
    "with open(fname_sequence, 'r') as fid:\n",
    "     input_data = json.load(fid)\n",
    "sequence = xt.Line.from_dict(input_data['line'])\n",
    "\n",
    "\n",
    "n_part = int(1e6)\n",
    "\n",
    "SPS_tracker = xt.Tracker(_context=context, _buffer=buf, line=sequence)\n",
    "\n",
    "# Build a reference particle\n",
    "particle_sample = xp.Particles(mass0=m_ion, q0=Z-Ne, p0c=p0c)\n",
    "\n",
    "sigma_z = 22.5e-2\n",
    "nemitt_x = 2e-6\n",
    "nemitt_y = 2.5e-6\n",
    "\n",
    "\n",
    "particles = xp.generate_matched_gaussian_bunch(\n",
    "         num_particles=n_part,\n",
    "         #total_intensity_particles=bunch_intensity,\n",
    "         nemitt_x=nemitt_x, nemitt_y=nemitt_y, sigma_z=sigma_z,\n",
    "         #R_matrix=r_matrix,\n",
    "         particle_ref=particle_sample,\n",
    "         tracker=SPS_tracker\n",
    "         #,steps_r_matrix=steps_r_matrix\n",
    "         )\n",
    "\n",
    "\n",
    "sequence.particle_ref = particle_sample\n",
    "twiss = sequence.twiss(symplectify=True)\n",
    "\n",
    "twiss_dict=dict(twiss)\n",
    "\n",
    "\n",
    "\n",
    "#%%\n",
    "###################\n",
    "# Linear Transfer #\n",
    "###################\n",
    "\n",
    "arc=xt.LinearTransferMatrix(Q_x=twiss['qx'], Q_y=twiss['qy'],\n",
    "beta_x_0=twiss['betx'][0], beta_x_1=twiss['betx'][-1],\n",
    "beta_y_0=twiss['bety'][0], beta_y_1=twiss['bety'][-1],\n",
    "alpha_x_0=twiss['alfx'][0], alpha_x_1=twiss['alfx'][-1],\n",
    "alpha_y_0=twiss['alfy'][0], alpha_y_1=twiss['alfy'][-1],\n",
    "disp_x_0=twiss['dx'][0], disp_x_1=twiss['dx'][-1],\n",
    "disp_y_0=twiss['dy'][0], disp_y_1=twiss['dy'][-1],\n",
    "beta_s=twiss['betz0'],\n",
    "Q_s=-twiss['qs'],\n",
    "chroma_x=twiss['dqx'], chroma_y=twiss['dqy'])\n",
    "\n",
    "SPS_lin = xt.Line()\n",
    "\n",
    "SPS_lin.append_element(arc,'SPS_LinearTransferMatrix') "
   ]
  },
  {
   "cell_type": "code",
   "execution_count": 3,
   "id": "87f4adde",
   "metadata": {},
   "outputs": [
    {
     "name": "stdout",
     "output_type": "stream",
     "text": [
      "Laser pulse duration sigma_t = 2.74 ps\n",
      "Laser wavelength = 1033.86 nm\n"
     ]
    },
    {
     "data": {
      "text/plain": [
       "<xtrack.line.Line at 0x7f40b08f29d0>"
      ]
     },
     "execution_count": 3,
     "metadata": {},
     "output_type": "execute_result"
    }
   ],
   "source": [
    "##################\n",
    "# Laser Cooler #\n",
    "##################\n",
    "\n",
    "sigma_dp = 2e-4 # relative ion momentum spread\n",
    "#sigma_dp = std_delta # relative ion momentum spread\n",
    "\n",
    "\n",
    "#laser-ion beam collision angle\n",
    "theta_l = 2.6*np.pi/180 # rad\n",
    "theta_l = 0\n",
    "nx = 0; ny = -np.sin(theta_l); nz = -np.cos(theta_l)\n",
    "\n",
    "# Ion excitation energy:\n",
    "hw0 = 230.823 # eV\n",
    "hc=constants.hbar*c/constants.e # eV*m (ħc)\n",
    "lambda_0 = 2*np.pi*hc/hw0 # m -- ion excitation wavelength\n",
    "\n",
    "lambda_l = lambda_0*gamma*(1 + beta*np.cos(theta_l)) # m -- laser wavelength\n",
    "\n",
    "# Shift laser wavelength for fast longitudinal cooling:\n",
    "#lambda_l = lambda_l*(1+1*sigma_dp) # m\n",
    "\n",
    "laser_frequency = c/lambda_l # Hz\n",
    "sigma_w = 2*np.pi*laser_frequency*sigma_dp\n",
    "#sigma_w = 2*np.pi*laser_frequency*sigma_dp/2 # for fast longitudinal cooling\n",
    "\n",
    "\n",
    "sigma_t = 1/sigma_w # sec -- Fourier-limited laser pulse\n",
    "print('Laser pulse duration sigma_t = %.2f ps' % (sigma_t/1e-12))\n",
    "\n",
    "print('Laser wavelength = %.2f nm' % (lambda_l/1e-9))\n",
    "\n",
    "laser_waist_radius = 1.3e-3\n",
    "#laser_waist_radius = 1.3e-7\n",
    "\n",
    "laser_x=0.0020000\n",
    "laser_x=0.000000\n",
    "\n",
    "CWlaser = xt.CWLaser(_buffer=buf,\n",
    "                      laser_x=laser_x,\n",
    "                      \n",
    "                      laser_direction_nx = 0,\n",
    "                      laser_direction_ny = 0,\n",
    "                      laser_direction_nz = -1,\n",
    "                      laser_power        = 5e-3, # J\n",
    "                      laser_wavelength = lambda_l, # m\n",
    "                      laser_waist_radius = laser_waist_radius, # m\n",
    "                      ion_excitation_energy = hw0, # eV\n",
    "                      ion_excited_lifetime  = 76.6e-12, # sec\n",
    "                          \n",
    "   )\n",
    "                          \n",
    "   \n",
    "SPS_lin.append_element(CWlaser, 'GammaFactory_IP')\n",
    "\n"
   ]
  },
  {
   "cell_type": "code",
   "execution_count": 4,
   "id": "9840c649",
   "metadata": {},
   "outputs": [
    {
     "name": "stderr",
     "output_type": "stream",
     "text": [
      "  0%|          | 0/1 [00:00<?, ?it/s]"
     ]
    },
    {
     "name": "stdout",
     "output_type": "stream",
     "text": [
      "Compiling ContextCpu kernels...\n",
      "Done compiling ContextCpu kernels.\n",
      "Compiling ContextCpu kernels...\n"
     ]
    },
    {
     "name": "stderr",
     "output_type": "stream",
     "text": [
      "bc2d613e81424e1681d5c24059166c57.c: In function ‘CWLaser_track_local_particle’:\n",
      "bc2d613e81424e1681d5c24059166c57.c:3153:27: warning: implicit declaration of function ‘CWLaserData_get_laser_energy’; did you mean ‘CWLaserData_get_laser_power’? [-Wimplicit-function-declaration]\n",
      "     double laser_energy = CWLaserData_get_laser_energy(el);\n",
      "                           ^~~~~~~~~~~~~~~~~~~~~~~~~~~~\n",
      "                           CWLaserData_get_laser_power\n",
      "bc2d613e81424e1681d5c24059166c57.c:3167:37: warning: implicit declaration of function ‘CWLaserData_get_N_OmegaRabiTau_values’; did you mean ‘CWLaserData_get_laser_waist_radius’? [-Wimplicit-function-declaration]\n",
      "     int64_t N_OmegaRabiTau_values = CWLaserData_get_N_OmegaRabiTau_values(el);\n",
      "                                     ^~~~~~~~~~~~~~~~~~~~~~~~~~~~~~~~~~~~~\n",
      "                                     CWLaserData_get_laser_waist_radius\n",
      "bc2d613e81424e1681d5c24059166c57.c:3168:41: warning: implicit declaration of function ‘CWLaserData_get_N_DeltaDetuningTau_values’; did you mean ‘CWLaserData_getp_laser_waist_radius’? [-Wimplicit-function-declaration]\n",
      "     int64_t N_DeltaDetuningTau_values = CWLaserData_get_N_DeltaDetuningTau_values(el);\n",
      "                                         ^~~~~~~~~~~~~~~~~~~~~~~~~~~~~~~~~~~~~~~~~\n",
      "                                         CWLaserData_getp_laser_waist_radius\n",
      "bc2d613e81424e1681d5c24059166c57.c:3169:32: warning: implicit declaration of function ‘CWLaserData_get_OmegaRabiTau_max’; did you mean ‘CWLaserData_get_laser_x’? [-Wimplicit-function-declaration]\n",
      "     double  OmegaRabiTau_max = CWLaserData_get_OmegaRabiTau_max(el);\n",
      "                                ^~~~~~~~~~~~~~~~~~~~~~~~~~~~~~~~\n",
      "                                CWLaserData_get_laser_x\n",
      "bc2d613e81424e1681d5c24059166c57.c:3170:36: warning: implicit declaration of function ‘CWLaserData_get_DeltaDetuningTau_max’; did you mean ‘CWLaserData_get_laser_x’? [-Wimplicit-function-declaration]\n",
      "     double  DeltaDetuningTau_max = CWLaserData_get_DeltaDetuningTau_max(el);\n",
      "                                    ^~~~~~~~~~~~~~~~~~~~~~~~~~~~~~~~~~~~\n",
      "                                    CWLaserData_get_laser_x\n",
      "bc2d613e81424e1681d5c24059166c57.c:3311:42: warning: implicit declaration of function ‘CWLaserData_get_Map_of_Excitation’; did you mean ‘CWLaserData_getp_ion_excitation_g2’? [-Wimplicit-function-declaration]\n",
      "                 excitation_probability = CWLaserData_get_Map_of_Excitation(el, idx);\n",
      "                                          ^~~~~~~~~~~~~~~~~~~~~~~~~~~~~~~~~\n",
      "                                          CWLaserData_getp_ion_excitation_g2\n",
      "bc2d613e81424e1681d5c24059166c57.c:3184:12: warning: unused variable ‘beta0’ [-Wunused-variable]\n",
      "     double beta0  = sqrt(1.0 - 1.0/(gamma0*gamma0));\n",
      "            ^~~~~\n",
      "  0%|          | 0/1 [00:06<?, ?it/s]"
     ]
    },
    {
     "name": "stdout",
     "output_type": "stream",
     "text": [
      "Done compiling ContextCpu kernels.\n"
     ]
    },
    {
     "name": "stderr",
     "output_type": "stream",
     "text": [
      "\n"
     ]
    },
    {
     "ename": "ImportError",
     "evalue": "/home/pkruyt/cernbox/laser_cooling/bc2d613e81424e1681d5c24059166c57.cpython-311-x86_64-linux-gnu.so: undefined symbol: CWLaserData_get_OmegaRabiTau_max",
     "output_type": "error",
     "traceback": [
      "\u001b[0;31m---------------------------------------------------------------------------\u001b[0m",
      "\u001b[0;31mImportError\u001b[0m                               Traceback (most recent call last)",
      "Cell \u001b[0;32mIn[4], line 15\u001b[0m\n\u001b[1;32m     13\u001b[0m \u001b[39m# track particle\u001b[39;00m\n\u001b[1;32m     14\u001b[0m arc\u001b[39m.\u001b[39mtrack(particles)\n\u001b[0;32m---> 15\u001b[0m CWlaser\u001b[39m.\u001b[39;49mtrack(particles)\n",
      "File \u001b[0;32m~/cernbox/xsuite-laser/xtrack/xtrack/base_element.py:264\u001b[0m, in \u001b[0;36mBeamElement.track\u001b[0;34m(self, particles, increment_at_element)\u001b[0m\n\u001b[1;32m    258\u001b[0m desired_classes \u001b[39m=\u001b[39m (\n\u001b[1;32m    259\u001b[0m     \u001b[39mself\u001b[39m\u001b[39m.\u001b[39m_XoStruct,  \u001b[39m# el\u001b[39;00m\n\u001b[1;32m    260\u001b[0m     particles\u001b[39m.\u001b[39m_XoStruct,  \u001b[39m# particles\u001b[39;00m\n\u001b[1;32m    261\u001b[0m )\n\u001b[1;32m    263\u001b[0m \u001b[39mif\u001b[39;00m (\u001b[39mself\u001b[39m\u001b[39m.\u001b[39m_track_kernel_name, desired_classes) \u001b[39mnot\u001b[39;00m \u001b[39min\u001b[39;00m context\u001b[39m.\u001b[39mkernels:\n\u001b[0;32m--> 264\u001b[0m     \u001b[39mself\u001b[39;49m\u001b[39m.\u001b[39;49mcompile_kernels(particles_class\u001b[39m=\u001b[39;49mparticles\u001b[39m.\u001b[39;49m\u001b[39m__class__\u001b[39;49m)\n\u001b[1;32m    266\u001b[0m _track_kernel \u001b[39m=\u001b[39m context\u001b[39m.\u001b[39mkernels[(\u001b[39mself\u001b[39m\u001b[39m.\u001b[39m_track_kernel_name,\n\u001b[1;32m    267\u001b[0m                                  desired_classes)]\n\u001b[1;32m    269\u001b[0m \u001b[39mif\u001b[39;00m \u001b[39mhasattr\u001b[39m(\u001b[39mself\u001b[39m, \u001b[39m'\u001b[39m\u001b[39mio_buffer\u001b[39m\u001b[39m'\u001b[39m) \u001b[39mand\u001b[39;00m \u001b[39mself\u001b[39m\u001b[39m.\u001b[39mio_buffer \u001b[39mis\u001b[39;00m \u001b[39mnot\u001b[39;00m \u001b[39mNone\u001b[39;00m:\n",
      "File \u001b[0;32m~/cernbox/xsuite-laser/xtrack/xtrack/base_element.py:251\u001b[0m, in \u001b[0;36mBeamElement.compile_kernels\u001b[0;34m(self, particles_class, *args, **kwargs)\u001b[0m\n\u001b[1;32m    247\u001b[0m     kwargs[\u001b[39m'\u001b[39m\u001b[39mapply_to_source\u001b[39m\u001b[39m'\u001b[39m] \u001b[39m=\u001b[39m []\n\u001b[1;32m    248\u001b[0m kwargs[\u001b[39m'\u001b[39m\u001b[39mapply_to_source\u001b[39m\u001b[39m'\u001b[39m]\u001b[39m.\u001b[39mappend(\n\u001b[1;32m    249\u001b[0m     partial(_handle_per_particle_blocks,\n\u001b[1;32m    250\u001b[0m             local_particle_src\u001b[39m=\u001b[39mparticles_class\u001b[39m.\u001b[39mgen_local_particle_api()))\n\u001b[0;32m--> 251\u001b[0m xo\u001b[39m.\u001b[39;49mHybridClass\u001b[39m.\u001b[39;49mcompile_kernels(\u001b[39mself\u001b[39;49m,\n\u001b[1;32m    252\u001b[0m                                extra_classes\u001b[39m=\u001b[39;49m[particles_class\u001b[39m.\u001b[39;49m_XoStruct],\n\u001b[1;32m    253\u001b[0m                                \u001b[39m*\u001b[39;49margs, \u001b[39m*\u001b[39;49m\u001b[39m*\u001b[39;49mkwargs)\n",
      "File \u001b[0;32m~/cernbox/xsuite-laser/xobjects/xobjects/hybrid_class.py:352\u001b[0m, in \u001b[0;36mHybridClass.compile_kernels\u001b[0;34m(self, *args, **kwargs)\u001b[0m\n\u001b[1;32m    351\u001b[0m \u001b[39mdef\u001b[39;00m \u001b[39mcompile_kernels\u001b[39m(\u001b[39mself\u001b[39m, \u001b[39m*\u001b[39margs, \u001b[39m*\u001b[39m\u001b[39m*\u001b[39mkwargs):\n\u001b[0;32m--> 352\u001b[0m     \u001b[39mreturn\u001b[39;00m \u001b[39mself\u001b[39;49m\u001b[39m.\u001b[39;49m_xobject\u001b[39m.\u001b[39;49mcompile_kernels(\u001b[39m*\u001b[39;49margs, \u001b[39m*\u001b[39;49m\u001b[39m*\u001b[39;49mkwargs)\n",
      "File \u001b[0;32m~/cernbox/xsuite-laser/xobjects/xobjects/struct.py:495\u001b[0m, in \u001b[0;36mStruct.compile_kernels\u001b[0;34m(self, only_if_needed, apply_to_source, save_source_as, extra_classes)\u001b[0m\n\u001b[1;32m    488\u001b[0m \u001b[39mdef\u001b[39;00m \u001b[39mcompile_kernels\u001b[39m(\n\u001b[1;32m    489\u001b[0m     \u001b[39mself\u001b[39m,\n\u001b[1;32m    490\u001b[0m     only_if_needed\u001b[39m=\u001b[39m\u001b[39mFalse\u001b[39;00m,\n\u001b[0;32m   (...)\u001b[0m\n\u001b[1;32m    493\u001b[0m     extra_classes\u001b[39m=\u001b[39m(),\n\u001b[1;32m    494\u001b[0m ):\n\u001b[0;32m--> 495\u001b[0m     \u001b[39mself\u001b[39;49m\u001b[39m.\u001b[39;49mcompile_class_kernels(\n\u001b[1;32m    496\u001b[0m         context\u001b[39m=\u001b[39;49m\u001b[39mself\u001b[39;49m\u001b[39m.\u001b[39;49m_context,\n\u001b[1;32m    497\u001b[0m         only_if_needed\u001b[39m=\u001b[39;49monly_if_needed,\n\u001b[1;32m    498\u001b[0m         apply_to_source\u001b[39m=\u001b[39;49mapply_to_source,\n\u001b[1;32m    499\u001b[0m         save_source_as\u001b[39m=\u001b[39;49msave_source_as,\n\u001b[1;32m    500\u001b[0m         extra_classes\u001b[39m=\u001b[39;49mextra_classes,\n\u001b[1;32m    501\u001b[0m     )\n",
      "File \u001b[0;32m~/cernbox/xsuite-laser/xobjects/xobjects/struct.py:480\u001b[0m, in \u001b[0;36mStruct.compile_class_kernels\u001b[0;34m(cls, context, only_if_needed, apply_to_source, save_source_as, extra_classes)\u001b[0m\n\u001b[1;32m    477\u001b[0m     \u001b[39mif\u001b[39;00m all_found:\n\u001b[1;32m    478\u001b[0m         \u001b[39mreturn\u001b[39;00m\n\u001b[0;32m--> 480\u001b[0m context\u001b[39m.\u001b[39;49madd_kernels(\n\u001b[1;32m    481\u001b[0m     sources\u001b[39m=\u001b[39;49m[],\n\u001b[1;32m    482\u001b[0m     kernels\u001b[39m=\u001b[39;49m\u001b[39mcls\u001b[39;49m\u001b[39m.\u001b[39;49m_kernels,\n\u001b[1;32m    483\u001b[0m     extra_classes\u001b[39m=\u001b[39;49m[\u001b[39mcls\u001b[39;49m] \u001b[39m+\u001b[39;49m \u001b[39mlist\u001b[39;49m(extra_classes),\n\u001b[1;32m    484\u001b[0m     apply_to_source\u001b[39m=\u001b[39;49mapply_to_source,\n\u001b[1;32m    485\u001b[0m     save_source_as\u001b[39m=\u001b[39;49msave_source_as,\n\u001b[1;32m    486\u001b[0m )\n",
      "File \u001b[0;32m~/cernbox/xsuite-laser/xobjects/xobjects/context_cpu.py:232\u001b[0m, in \u001b[0;36mContextCpu.add_kernels\u001b[0;34m(self, sources, kernels, specialize, apply_to_source, save_source_as, extra_compile_args, extra_link_args, extra_cdef, extra_classes, extra_headers, compile)\u001b[0m\n\u001b[1;32m    229\u001b[0m kernels \u001b[39m=\u001b[39m kernels \u001b[39mor\u001b[39;00m {}\n\u001b[1;32m    230\u001b[0m sources \u001b[39m=\u001b[39m sources \u001b[39mor\u001b[39;00m []\n\u001b[0;32m--> 232\u001b[0m generated_kernels \u001b[39m=\u001b[39m \u001b[39mself\u001b[39;49m\u001b[39m.\u001b[39;49mbuild_kernels(\n\u001b[1;32m    233\u001b[0m     kernel_descriptions\u001b[39m=\u001b[39;49mkernels,\n\u001b[1;32m    234\u001b[0m     sources\u001b[39m=\u001b[39;49msources,\n\u001b[1;32m    235\u001b[0m     specialize\u001b[39m=\u001b[39;49mspecialize,\n\u001b[1;32m    236\u001b[0m     apply_to_source\u001b[39m=\u001b[39;49mapply_to_source,\n\u001b[1;32m    237\u001b[0m     save_source_as\u001b[39m=\u001b[39;49msave_source_as,\n\u001b[1;32m    238\u001b[0m     extra_compile_args\u001b[39m=\u001b[39;49mextra_compile_args,\n\u001b[1;32m    239\u001b[0m     extra_link_args\u001b[39m=\u001b[39;49mextra_link_args,\n\u001b[1;32m    240\u001b[0m     extra_cdef\u001b[39m=\u001b[39;49mextra_cdef,\n\u001b[1;32m    241\u001b[0m     extra_classes\u001b[39m=\u001b[39;49mextra_classes,\n\u001b[1;32m    242\u001b[0m     extra_headers\u001b[39m=\u001b[39;49mextra_headers,\n\u001b[1;32m    243\u001b[0m     \u001b[39mcompile\u001b[39;49m\u001b[39m=\u001b[39;49m\u001b[39mcompile\u001b[39;49m,\n\u001b[1;32m    244\u001b[0m )\n\u001b[1;32m    245\u001b[0m \u001b[39mself\u001b[39m\u001b[39m.\u001b[39mkernels\u001b[39m.\u001b[39mupdate(generated_kernels)\n",
      "File \u001b[0;32m~/cernbox/xsuite-laser/xobjects/xobjects/context_cpu.py:307\u001b[0m, in \u001b[0;36mContextCpu.build_kernels\u001b[0;34m(self, kernel_descriptions, module_name, containing_dir, sources, specialize, apply_to_source, save_source_as, extra_compile_args, extra_link_args, extra_cdef, extra_classes, extra_headers, compile)\u001b[0m\n\u001b[1;32m    295\u001b[0m so_file \u001b[39m=\u001b[39m \u001b[39mself\u001b[39m\u001b[39m.\u001b[39mcompile_kernel(\n\u001b[1;32m    296\u001b[0m     module_name,\n\u001b[1;32m    297\u001b[0m     kernel_descriptions,\n\u001b[0;32m   (...)\u001b[0m\n\u001b[1;32m    302\u001b[0m     containing_dir\u001b[39m=\u001b[39mcontaining_dir,\n\u001b[1;32m    303\u001b[0m )\n\u001b[1;32m    305\u001b[0m \u001b[39mtry\u001b[39;00m:\n\u001b[1;32m    306\u001b[0m     \u001b[39m# Import the compiled module\u001b[39;00m\n\u001b[0;32m--> 307\u001b[0m     out_kernels \u001b[39m=\u001b[39m \u001b[39mself\u001b[39;49m\u001b[39m.\u001b[39;49mkernels_from_file(\n\u001b[1;32m    308\u001b[0m         module_name,\n\u001b[1;32m    309\u001b[0m         kernel_descriptions,\n\u001b[1;32m    310\u001b[0m         containing_dir\u001b[39m=\u001b[39;49mcontaining_dir,\n\u001b[1;32m    311\u001b[0m     )\n\u001b[1;32m    312\u001b[0m \u001b[39mfinally\u001b[39;00m:\n\u001b[1;32m    313\u001b[0m     \u001b[39m# Whether loaded successfully or not, delete the so\u001b[39;00m\n\u001b[1;32m    314\u001b[0m     \u001b[39mif\u001b[39;00m (\n\u001b[1;32m    315\u001b[0m         os\u001b[39m.\u001b[39mname \u001b[39m!=\u001b[39m \u001b[39m\"\u001b[39m\u001b[39mnt\u001b[39m\u001b[39m\"\u001b[39m \u001b[39mor\u001b[39;00m so_file\u001b[39m.\u001b[39msuffix \u001b[39m!=\u001b[39m \u001b[39m\"\u001b[39m\u001b[39m.pyd\u001b[39m\u001b[39m\"\u001b[39m\n\u001b[1;32m    316\u001b[0m     ) \u001b[39mand\u001b[39;00m clean_up_so:\n",
      "File \u001b[0;32m~/cernbox/xsuite-laser/xobjects/xobjects/context_cpu.py:350\u001b[0m, in \u001b[0;36mContextCpu.kernels_from_file\u001b[0;34m(self, module_name, kernel_descriptions, containing_dir)\u001b[0m\n\u001b[1;32m    338\u001b[0m \u001b[39mdef\u001b[39;00m \u001b[39mkernels_from_file\u001b[39m(\n\u001b[1;32m    339\u001b[0m     \u001b[39mself\u001b[39m,\n\u001b[1;32m    340\u001b[0m     module_name: \u001b[39mstr\u001b[39m,\n\u001b[1;32m    341\u001b[0m     kernel_descriptions: Dict[\u001b[39mstr\u001b[39m, Kernel],\n\u001b[1;32m    342\u001b[0m     containing_dir\u001b[39m=\u001b[39m\u001b[39m\"\u001b[39m\u001b[39m.\u001b[39m\u001b[39m\"\u001b[39m,\n\u001b[1;32m    343\u001b[0m ) \u001b[39m-\u001b[39m\u001b[39m>\u001b[39m Dict[Tuple[\u001b[39mstr\u001b[39m, \u001b[39mtuple\u001b[39m], \u001b[39m\"\u001b[39m\u001b[39mKernelCpu\u001b[39m\u001b[39m\"\u001b[39m]:\n\u001b[1;32m    344\u001b[0m \u001b[39m    \u001b[39m\u001b[39m\"\"\"\u001b[39;00m\n\u001b[1;32m    345\u001b[0m \u001b[39m    Import a compiled module `module_name` located in `containing_dir`\u001b[39;00m\n\u001b[1;32m    346\u001b[0m \u001b[39m    (by default it is the current working directory), and add the kernels\u001b[39;00m\n\u001b[1;32m    347\u001b[0m \u001b[39m    from the module, as defined in `kernel_descriptions`, to the context.\u001b[39;00m\n\u001b[1;32m    348\u001b[0m \u001b[39m    Returns the path to the loaded so file.\u001b[39;00m\n\u001b[1;32m    349\u001b[0m \u001b[39m    \"\"\"\u001b[39;00m\n\u001b[0;32m--> 350\u001b[0m     module \u001b[39m=\u001b[39m \u001b[39mself\u001b[39;49m\u001b[39m.\u001b[39;49m_load_kernel_module(\n\u001b[1;32m    351\u001b[0m         name\u001b[39m=\u001b[39;49mmodule_name,\n\u001b[1;32m    352\u001b[0m         containing_dir\u001b[39m=\u001b[39;49mcontaining_dir,\n\u001b[1;32m    353\u001b[0m     )\n\u001b[1;32m    354\u001b[0m     out_kernels \u001b[39m=\u001b[39m {}\n\u001b[1;32m    355\u001b[0m     \u001b[39mfor\u001b[39;00m pyname, kernel_desc \u001b[39min\u001b[39;00m kernel_descriptions\u001b[39m.\u001b[39mitems():\n",
      "File \u001b[0;32m~/cernbox/xsuite-laser/xobjects/xobjects/context_cpu.py:481\u001b[0m, in \u001b[0;36mContextCpu._load_kernel_module\u001b[0;34m(self, name, containing_dir)\u001b[0m\n\u001b[1;32m    479\u001b[0m \u001b[39m# Import the compiled module\u001b[39;00m\n\u001b[1;32m    480\u001b[0m spec \u001b[39m=\u001b[39m importlib\u001b[39m.\u001b[39mutil\u001b[39m.\u001b[39mspec_from_file_location(name, so_path)\n\u001b[0;32m--> 481\u001b[0m module \u001b[39m=\u001b[39m importlib\u001b[39m.\u001b[39;49mutil\u001b[39m.\u001b[39;49mmodule_from_spec(spec)\n\u001b[1;32m    482\u001b[0m spec\u001b[39m.\u001b[39mloader\u001b[39m.\u001b[39mexec_module(module)\n\u001b[1;32m    484\u001b[0m \u001b[39mif\u001b[39;00m \u001b[39mself\u001b[39m\u001b[39m.\u001b[39momp_num_threads \u001b[39m>\u001b[39m \u001b[39m0\u001b[39m:\n",
      "File \u001b[0;32m<frozen importlib._bootstrap>:573\u001b[0m, in \u001b[0;36mmodule_from_spec\u001b[0;34m(spec)\u001b[0m\n",
      "File \u001b[0;32m<frozen importlib._bootstrap_external>:1233\u001b[0m, in \u001b[0;36mcreate_module\u001b[0;34m(self, spec)\u001b[0m\n",
      "File \u001b[0;32m<frozen importlib._bootstrap>:241\u001b[0m, in \u001b[0;36m_call_with_frames_removed\u001b[0;34m(f, *args, **kwds)\u001b[0m\n",
      "\u001b[0;31mImportError\u001b[0m: /home/pkruyt/cernbox/laser_cooling/bc2d613e81424e1681d5c24059166c57.cpython-311-x86_64-linux-gnu.so: undefined symbol: CWLaserData_get_OmegaRabiTau_max"
     ]
    }
   ],
   "source": [
    "##################\n",
    "# Tracking #\n",
    "##################\n",
    "x, px, delta, action_x = [], [], [], []\n",
    "num_turns = int(1e0)\n",
    "# loop over turns\n",
    "for i in tqdm(range(num_turns)):\n",
    "    \n",
    "    x.append(particles.x)\n",
    "    px.append(particles.px)\n",
    "    delta.append(particles.delta)\n",
    "    \n",
    "    # track particle\n",
    "    arc.track(particles)\n",
    "    CWlaser.track(particles)"
   ]
  },
  {
   "cell_type": "code",
   "execution_count": null,
   "id": "aa5f0f2a",
   "metadata": {},
   "outputs": [],
   "source": [
    "excited=particles.state==2\n",
    "\n",
    "fraction_excitation = sum(excited)/len(excited)\n",
    "\n",
    "plt.figure()\n",
    "plt.title(f'Fraction of excited particles: {fraction_excitation*100}%')\n",
    "\n",
    "plt.scatter(particles.x,particles.px)\n",
    "plt.scatter(particles.x[excited],particles.px[excited])\n",
    "plt.xlabel('x [m]')\n",
    "plt.ylabel('px ')\n",
    "plt.show()"
   ]
  },
  {
   "cell_type": "code",
   "execution_count": null,
   "id": "11967332",
   "metadata": {},
   "outputs": [],
   "source": [
    "(particles.state==2)"
   ]
  }
 ],
 "metadata": {
  "kernelspec": {
   "display_name": "base",
   "language": "python",
   "name": "python3"
  },
  "language_info": {
   "codemirror_mode": {
    "name": "ipython",
    "version": 3
   },
   "file_extension": ".py",
   "mimetype": "text/x-python",
   "name": "python",
   "nbconvert_exporter": "python",
   "pygments_lexer": "ipython3",
   "version": "3.11.3"
  },
  "vscode": {
   "interpreter": {
    "hash": "b3c9a0a5475e728b39e61ac58d244ad936924f9cf82746515a9faeb1f1a0b703"
   }
  }
 },
 "nbformat": 4,
 "nbformat_minor": 5
}
