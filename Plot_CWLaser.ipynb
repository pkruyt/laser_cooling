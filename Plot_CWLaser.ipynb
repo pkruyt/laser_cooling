{
 "cells": [
  {
   "cell_type": "code",
   "execution_count": 1,
   "id": "b68995a4",
   "metadata": {},
   "outputs": [],
   "source": [
    "import numpy as np\n",
    "import matplotlib.pyplot as plt\n",
    "\n",
    "\n",
    "loaded_data = np.load('results/delta_data.npz')\n",
    "#dp_p_list = loaded_data['dp_p_list']\n",
    "delta    = loaded_data['delta']\n",
    "excited = loaded_data['excited']\n",
    "x = loaded_data['x']*1e3\n",
    "time = loaded_data['time']\n",
    "\n",
    "delta_std = np.std(delta, axis=1)\n",
    "\n",
    "fraction_excited=[]\n",
    "for i in range(len(excited)):\n",
    "    fraction_excited.append(100*sum(excited[i])/len(excited[i]))\n",
    "\n",
    "revolution_frequency = 200*1e6\n",
    "s_per_turn = 1/revolution_frequency\n",
    "num_turns=time/s_per_turn\n",
    "\n",
    "cmap = plt.get_cmap(\"tab10\")\n",
    "plt.figure(figsize=(12, 8))\n",
    "plt.rcParams.update({'font.size': 25})\n",
    "plt.plot(num_turns,delta_std, label=f'xsuite',color=cmap(0), linewidth=5.0)\n",
    "# plt.xlabel(r'Time [$\\mu$ s]')\n",
    "plt.xlabel(r'Turns')\n",
    "plt.ylabel(r'Relative momentum spread')\n",
    "#plt.legend()\n",
    "# plt.savefig('ELENA:emittance_default_parameters.png', dpi=300)\n",
    "# plt.savefig('ELENA:emittance_default_parameters.eps', dpi=300)\n",
    "plt.show()\n",
    "\n",
    "\n",
    "\n"
   ]
  },
  {
   "cell_type": "code",
   "execution_count": 2,
   "id": "fe63033e",
   "metadata": {},
   "outputs": [
    {
     "ename": "NameError",
     "evalue": "name 'fraction_excited' is not defined",
     "output_type": "error",
     "traceback": [
      "\u001b[0;31m---------------------------------------------------------------------------\u001b[0m",
      "\u001b[0;31mNameError\u001b[0m                                 Traceback (most recent call last)",
      "\u001b[1;32m/home/pkruyt/cernbox/laser_cooling/Plot_CWLaser.ipynb Cell 2\u001b[0m line \u001b[0;36m4\n\u001b[1;32m      <a href='vscode-notebook-cell:/home/pkruyt/cernbox/laser_cooling/Plot_CWLaser.ipynb#W1sZmlsZQ%3D%3D?line=1'>2</a>\u001b[0m plt\u001b[39m.\u001b[39mfigure(figsize\u001b[39m=\u001b[39m(\u001b[39m12\u001b[39m, \u001b[39m8\u001b[39m))\n\u001b[1;32m      <a href='vscode-notebook-cell:/home/pkruyt/cernbox/laser_cooling/Plot_CWLaser.ipynb#W1sZmlsZQ%3D%3D?line=2'>3</a>\u001b[0m plt\u001b[39m.\u001b[39mrcParams\u001b[39m.\u001b[39mupdate({\u001b[39m'\u001b[39m\u001b[39mfont.size\u001b[39m\u001b[39m'\u001b[39m: \u001b[39m25\u001b[39m})\n\u001b[0;32m----> <a href='vscode-notebook-cell:/home/pkruyt/cernbox/laser_cooling/Plot_CWLaser.ipynb#W1sZmlsZQ%3D%3D?line=3'>4</a>\u001b[0m plt\u001b[39m.\u001b[39mplot(fraction_excited[\u001b[39m1\u001b[39m::], label\u001b[39m=\u001b[39m\u001b[39mf\u001b[39m\u001b[39m'\u001b[39m\u001b[39mxsuite\u001b[39m\u001b[39m'\u001b[39m,color\u001b[39m=\u001b[39mcmap(\u001b[39m0\u001b[39m), linewidth\u001b[39m=\u001b[39m\u001b[39m5.0\u001b[39m)\n\u001b[1;32m      <a href='vscode-notebook-cell:/home/pkruyt/cernbox/laser_cooling/Plot_CWLaser.ipynb#W1sZmlsZQ%3D%3D?line=4'>5</a>\u001b[0m plt\u001b[39m.\u001b[39mxlabel(\u001b[39mr\u001b[39m\u001b[39m'\u001b[39m\u001b[39mTime [$\u001b[39m\u001b[39m\\\u001b[39m\u001b[39mmu$ s]\u001b[39m\u001b[39m'\u001b[39m)\n\u001b[1;32m      <a href='vscode-notebook-cell:/home/pkruyt/cernbox/laser_cooling/Plot_CWLaser.ipynb#W1sZmlsZQ%3D%3D?line=5'>6</a>\u001b[0m plt\u001b[39m.\u001b[39mxlabel(\u001b[39mr\u001b[39m\u001b[39m'\u001b[39m\u001b[39mTurns\u001b[39m\u001b[39m'\u001b[39m)\n",
      "\u001b[0;31mNameError\u001b[0m: name 'fraction_excited' is not defined"
     ]
    },
    {
     "data": {
      "text/plain": [
       "<Figure size 1200x800 with 0 Axes>"
      ]
     },
     "metadata": {},
     "output_type": "display_data"
    }
   ],
   "source": [
    "cmap = plt.get_cmap(\"tab10\")\n",
    "plt.figure(figsize=(12, 8))\n",
    "plt.rcParams.update({'font.size': 25})\n",
    "plt.plot(fraction_excited[1::], label=f'xsuite',color=cmap(0), linewidth=5.0)\n",
    "plt.xlabel(r'Time [$\\mu$ s]')\n",
    "plt.xlabel(r'Turns')\n",
    "plt.ylabel(r'Fraction excited [%]')\n",
    "#plt.legend()\n",
    "# plt.savefig('ELENA:emittance_default_parameters.png', dpi=300)\n",
    "# plt.savefig('ELENA:emittance_default_parameters.eps', dpi=300)\n",
    "plt.show()"
   ]
  },
  {
   "cell_type": "code",
   "execution_count": null,
   "id": "1cff7ac7",
   "metadata": {},
   "outputs": [],
   "source": [
    "import numpy as np\n",
    "import matplotlib.pyplot as plt\n",
    "\n",
    "revolution_frequency = 200 * 1e6\n",
    "s_per_turn = 1 / revolution_frequency\n",
    "num_turns = time / s_per_turn\n",
    "\n",
    "cmap = plt.get_cmap(\"tab10\")\n",
    "\n",
    "# Create the figure and the first axis\n",
    "fig, ax1 = plt.subplots(figsize=(12, 8))\n",
    "plt.rcParams.update({'font.size': 25})\n",
    "\n",
    "# Plot the first dataset on the first axis\n",
    "ax1.plot(num_turns, delta_std/delta_std[0], label='RMS dp/p', color=cmap(0), linewidth=5.0)\n",
    "ax1.set_xlabel('Turns')\n",
    "ax1.set_ylabel('RMS dp/p wrt init [-]')\n",
    "\n",
    "# Create a second axis sharing the same x-axis\n",
    "ax2 = ax1.twinx()\n",
    "\n",
    "# Plot the second dataset on the second axis\n",
    "ax2.plot(num_turns[1:], fraction_excited[1:], label='Fraction excited', color=cmap(1), linewidth=5.0)\n",
    "ax2.set_ylabel('Fraction excited [%]')\n",
    "\n",
    "# Add legends for both datasets\n",
    "lines1, labels1 = ax1.get_legend_handles_labels()\n",
    "lines2, labels2 = ax2.get_legend_handles_labels()\n",
    "lines = lines1 + lines2\n",
    "labels = labels1 + labels2\n",
    "ax1.legend(lines, labels, loc='upper right')\n",
    "\n",
    "# Set the common x-axis label\n",
    "ax1.set_xlabel('Turns')\n",
    "plt.tight_layout()\n",
    "plt.savefig('Fraction_excitation.eps', format='eps', dpi=300)\n",
    "plt.show()\n"
   ]
  },
  {
   "cell_type": "code",
   "execution_count": null,
   "id": "d9a649bf",
   "metadata": {},
   "outputs": [],
   "source": [
    "turn=1\n",
    "excited0=excited[turn,:]\n",
    "fraction_excitation0 = sum(excited0)/len(excited0)*100\n",
    "\n",
    "\n",
    "plt.figure(figsize=(12, 8))\n",
    "plt.rcParams.update({'font.size': 25})\n",
    "plt.title(f'Fraction excited: {round(fraction_excitation0, 1)}%')\n",
    "\n",
    "#plt.axvline(laser_x,color='red')\n",
    "# plt.axvline(laser_x+laser_waist_radius,color='red')\n",
    "# plt.axvline(laser_x-laser_waist_radius,color='red')\n",
    "\n",
    "plt.scatter(x[turn],delta[turn])\n",
    "plt.scatter(x[turn][excited0],delta[turn][excited0])\n",
    "plt.xlabel('x [mm]')\n",
    "plt.ylabel('dp/p ')\n",
    "plt.tight_layout()\n",
    "plt.ticklabel_format(style='sci', axis='y', scilimits=(0,0))\n",
    "plt.savefig('First_turn.eps', format='eps', dpi=300)\n",
    "plt.show()"
   ]
  },
  {
   "cell_type": "code",
   "execution_count": null,
   "id": "8a0e413b",
   "metadata": {},
   "outputs": [],
   "source": [
    "turn=-1\n",
    "excited0=excited[turn,:]\n",
    "fraction_excitation0 = sum(excited0)/len(excited0)*100\n",
    "\n",
    "\n",
    "plt.figure(figsize=(12, 8))\n",
    "plt.rcParams.update({'font.size': 25})\n",
    "plt.title(f'Fraction excited: {round(fraction_excitation0, 1)}%')\n",
    "\n",
    "#plt.axvline(laser_x,color='red')\n",
    "# plt.axvline(laser_x+laser_waist_radius,color='red')\n",
    "# plt.axvline(laser_x-laser_waist_radius,color='red')\n",
    "\n",
    "plt.scatter(x[turn],delta[turn])\n",
    "plt.scatter(x[turn][excited0],delta[turn][excited0])\n",
    "plt.xlabel('x [mm]')\n",
    "plt.ylabel('dp/p ')\n",
    "plt.tight_layout()\n",
    "plt.ticklabel_format(style='sci', axis='y', scilimits=(0,0))\n",
    "plt.savefig('Last_turn.eps', format='eps', dpi=300)\n",
    "plt.show()"
   ]
  },
  {
   "cell_type": "code",
   "execution_count": null,
   "id": "218e01b4",
   "metadata": {},
   "outputs": [],
   "source": [
    "import numpy as np\n",
    "import matplotlib.pyplot as plt\n",
    "\n",
    "# Extract delta at the first turn (assuming the first turn is at index 0)\n",
    "delta_first_turn = delta[0, :]\n",
    "\n",
    "# Extract delta at the final turn\n",
    "delta_final_turn = delta[-1, :]\n",
    "\n",
    "plt.figure(figsize=(12, 8))\n",
    "plt.rcParams.update({'font.size': 25})\n",
    "\n",
    "# Plot histograms for delta at the first and final turns\n",
    "bins=np.linspace(-8e-4, 8e-4,60)\n",
    "# plt.hist(delta_first_turn, bins=bins, color='blue', alpha=0.7, label='First Turn')\n",
    "# plt.hist(delta_final_turn, bins=bins, color='darkorange', alpha=0.0, label='Final Turn')\n",
    "plt.hist(delta_first_turn, bins=bins, color='blue', alpha=0.7, label='First Turn',  linewidth=5)\n",
    "plt.hist(delta_final_turn, bins=bins, color='red', alpha=1, label='Final Turn', histtype='step', linewidth=5)\n",
    "\n",
    "plt.xlabel(r'$\\Delta p/p$')\n",
    "\n",
    "\n",
    "plt.xlabel(r'$\\Delta p/p$')\n",
    "plt.ylabel('Count')\n",
    "plt.legend()\n",
    "plt.tight_layout()\n",
    "plt.ticklabel_format(style='sci', axis='x', scilimits=(0,0))\n",
    "plt.savefig('Histogram_comparison.eps', format='eps', dpi=300)\n",
    "plt.show()\n"
   ]
  },
  {
   "cell_type": "code",
   "execution_count": null,
   "id": "1d81f853",
   "metadata": {},
   "outputs": [],
   "source": [
    "bins"
   ]
  },
  {
   "cell_type": "code",
   "execution_count": null,
   "id": "a7c9eeb6",
   "metadata": {},
   "outputs": [],
   "source": []
  }
 ],
 "metadata": {
  "kernelspec": {
   "display_name": "base",
   "language": "python",
   "name": "python3"
  },
  "language_info": {
   "codemirror_mode": {
    "name": "ipython",
    "version": 3
   },
   "file_extension": ".py",
   "mimetype": "text/x-python",
   "name": "python",
   "nbconvert_exporter": "python",
   "pygments_lexer": "ipython3",
   "version": "3.11.3"
  },
  "vscode": {
   "interpreter": {
    "hash": "b3c9a0a5475e728b39e61ac58d244ad936924f9cf82746515a9faeb1f1a0b703"
   }
  }
 },
 "nbformat": 4,
 "nbformat_minor": 5
}
