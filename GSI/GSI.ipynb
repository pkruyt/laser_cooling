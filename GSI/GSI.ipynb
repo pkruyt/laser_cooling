{
 "cells": [
  {
   "cell_type": "code",
   "execution_count": 136,
   "id": "56e455f6",
   "metadata": {},
   "outputs": [],
   "source": [
    "import json\n",
    "import numpy as np\n",
    "import xobjects as xo\n",
    "import xtrack as xt\n",
    "import xpart as xp\n",
    "from tqdm import tqdm\n",
    "import matplotlib.pyplot as plt\n",
    "from scipy import constants \n",
    "\n",
    "#references: https://link.springer.com/content/pdf/10.1007/s10751-005-9217-x.pdf?pdf=button\n",
    "#coasting beam: https://accelconf.web.cern.ch/cool2013/papers/tham1ha04.pdf\n",
    "\n",
    "# Ion properties:\n",
    "m_u = 931.49410242e6 # eV/c^2 -- atomic mass unit\n",
    "A = 12.011 # Weight of C\n",
    "Z = 6  # Number of protons in the ion (C)\n",
    "Ne = 3 # Number of remaining electrons (Lithium-like)\n",
    "m_e = 0.511e6 # eV/c^2 -- electron mass\n",
    "m_p = 938.272088e6 # eV/c^2 -- proton mass\n",
    "clight = 299792458.0 # m/s\n",
    "\n",
    "q0=Z-Ne\n",
    "\n",
    "mass0 = A*m_u + Ne*m_e # eV/c^2\n",
    "\n",
    "beta_rel = 0.47\n",
    "gamma_rel = 1.13\n",
    "\n",
    "p0c = mass0*beta_rel*gamma_rel #eV/c\n",
    "\n",
    "# p0c = equiv_proton_momentum*(Z-Ne) # eV/c\n",
    "gamma = np.sqrt( 1 + (p0c/mass0)**2 ) # ion relativistic factor\n",
    "beta = np.sqrt(1-1/(gamma*gamma)) # ion beta\n",
    "\n",
    "particle_ref = xp.Particles(p0c=p0c, mass0=mass0, q0=q0, gamma=gamma)\n"
   ]
  },
  {
   "cell_type": "code",
   "execution_count": 137,
   "id": "3becda93",
   "metadata": {},
   "outputs": [
    {
     "data": {
      "text/plain": [
       "5942854271.53889"
      ]
     },
     "execution_count": 137,
     "metadata": {},
     "output_type": "execute_result"
    }
   ],
   "source": [
    "p0c"
   ]
  },
  {
   "cell_type": "code",
   "execution_count": 138,
   "id": "38119600",
   "metadata": {},
   "outputs": [],
   "source": [
    "#https://www.sciencedirect.com/science/article/pii/0168583X87905830\n",
    "\n",
    "#twiss parameters measurments:\n",
    "# https://accelconf.web.cern.ch/ipac2023/pdf/TUPM095.pdf\n",
    "\n",
    "circumference =  108.36#m\n",
    "T = circumference/(clight*beta_rel)\n",
    "s_per_turn = T\n",
    "turn_per_sec=1/T\n",
    "\n",
    "beta_x = 5\n",
    "beta_y = 5\n",
    "\n",
    "disp_x = 0\n",
    "qx = 2.21\n",
    "qy = 2.41\n",
    "dQx = 0\n",
    "dQy = 0\n",
    "\n",
    "voltage_rf = 5 *1e3 # eV\n",
    "lag_rf = 0\n",
    "frequency = 5*1e6 # Hz\n",
    "momentum_compaction_factor = 0.02\n",
    "\n",
    "# arc = xt.LineSegmentMap(\n",
    "#         qx=Q_x, qy=Q_y,\n",
    "#         length=circumference,\n",
    "#         betx=beta_x,\n",
    "#         bety=beta_y\n",
    "#         )\n",
    "\n",
    "alpha_x=0\n",
    "alpha_y=0\n",
    "Dx=0\n",
    "Dpx=0\n",
    "Dy=0\n",
    "Dpy=0\n",
    "\n",
    "arc = xt.LineSegmentMap(\n",
    "        qx=qx, qy=qy,\n",
    "        dqx=0, dqy=0,\n",
    "        length=circumference,\n",
    "        alfx=alpha_x,\n",
    "        alfy=alpha_y,\n",
    "        betx=beta_x,\n",
    "        bety=beta_y,\n",
    "        \n",
    "        dx=Dx,\n",
    "        dpx=Dpx,\n",
    "        dy=Dy,\n",
    "        dpy=Dpy,\n",
    "        voltage_rf=voltage_rf,\n",
    "        lag_rf=lag_rf,\n",
    "        frequency_rf=frequency,\n",
    "        momentum_compaction_factor=momentum_compaction_factor,\n",
    "        longitudinal_mode = 'nonlinear'\n",
    "        )\n"
   ]
  },
  {
   "cell_type": "code",
   "execution_count": 139,
   "id": "1426192f",
   "metadata": {},
   "outputs": [],
   "source": [
    "# emittance=10*1e-6 #inital emittance\n",
    "# num_particles = int(1e3)\n",
    "\n",
    "# sigma_x = np.sqrt(beta_x*emittance)\n",
    "# sigma_px = np.sqrt(emittance*1/beta_x)\n",
    "# sigma_y = np.sqrt(beta_y*emittance)\n",
    "# sigma_py = np.sqrt(emittance*1/beta_y)\n",
    "# sigma_p = 2e-5 # relative ion momentum spread\n",
    "# sigma_p = 2e-4 # relative ion momentum spread\n",
    "\n",
    "# delta = np.random.uniform(low=2.6e-4, high=3e-4, size=num_particles)\n",
    "\n",
    "# #delta = np.random.normal(loc=0.0, scale=sigma_p, size=num_particles)\n",
    "# x = np.random.normal(loc=0.0, scale=sigma_x, size=num_particles) + disp_x * delta\n",
    "# px = np.random.normal(loc=0.0, scale=sigma_px, size=num_particles)\n",
    "# y = np.random.normal(loc=0.0, scale=sigma_y, size=num_particles)\n",
    "# py = np.random.normal(loc=0.0, scale=sigma_py, size=num_particles)\n",
    "\n",
    "# particles = xp.Particles(\n",
    "#     mass0=mass0,\n",
    "#     p0c=p0c,\n",
    "#     q0=q0,\n",
    "#     x=0,\n",
    "#     px=0,\n",
    "#     y=0,\n",
    "#     py=0,\n",
    "#     delta=delta,\n",
    "#     zeta=0\n",
    "# )"
   ]
  },
  {
   "cell_type": "code",
   "execution_count": 140,
   "id": "60e2ba65",
   "metadata": {},
   "outputs": [
    {
     "name": "stdout",
     "output_type": "stream",
     "text": [
      "Compiling ContextCpu kernels...\n",
      "Done compiling ContextCpu kernels.\n"
     ]
    },
    {
     "data": {
      "text/plain": [
       "<xtrack.tracker.Tracker at 0x7fdf4d5e3350>"
      ]
     },
     "execution_count": 140,
     "metadata": {},
     "output_type": "execute_result"
    }
   ],
   "source": [
    "num_particles = int(1e4)\n",
    "bunch_intensity = int(1e6)\n",
    "\n",
    "g_emitt = 5*1e-6\n",
    "\n",
    "nemitt = beta * gamma * g_emitt\n",
    "\n",
    "sigma_delta = 1e-5  # Relative energy spread\n",
    "\n",
    "line_arc=xt.Line(\n",
    "        elements=[arc])\n",
    "line_arc.build_tracker()\n",
    "\n"
   ]
  },
  {
   "cell_type": "code",
   "execution_count": 141,
   "id": "0986e90a",
   "metadata": {},
   "outputs": [
    {
     "data": {
      "text/plain": [
       "0.1"
      ]
     },
     "execution_count": 141,
     "metadata": {},
     "output_type": "execute_result"
    }
   ],
   "source": [
    "sigma_z"
   ]
  },
  {
   "cell_type": "code",
   "execution_count": 142,
   "id": "e0aef5b1",
   "metadata": {},
   "outputs": [
    {
     "data": {
      "text/plain": [
       "LinkedArrayCpu(1.19881517e-05)"
      ]
     },
     "execution_count": 142,
     "metadata": {},
     "output_type": "execute_result"
    }
   ],
   "source": [
    "sigma_z=1e-1\n",
    "\n",
    "particles = xp.generate_matched_gaussian_bunch(\n",
    "        num_particles=num_particles,\n",
    "        #total_intensity_particles=bunch_intensity,\n",
    "        nemitt_x=nemitt, nemitt_y=nemitt, sigma_z=sigma_z,\n",
    "        particle_ref=particle_ref,\n",
    "        line=line_arc\n",
    "        )\n",
    "\n",
    "np.std(particles.delta)"
   ]
  },
  {
   "cell_type": "code",
   "execution_count": 143,
   "id": "87f4adde",
   "metadata": {},
   "outputs": [
    {
     "name": "stdout",
     "output_type": "stream",
     "text": [
      "Laser wavelength = 257.53 nm\n",
      "Compiling ContextCpu kernels...\n"
     ]
    },
    {
     "name": "stderr",
     "output_type": "stream",
     "text": [
      "28da822033f94b04984345220465a73d.c: In function 'CWLaser_track_local_particle':\n",
      "28da822033f94b04984345220465a73d.c:4214:16: warning: unused variable 'DeltaDetuningTau' [-Wunused-variable]\n",
      " 4214 |         double DeltaDetuningTau = DeltaDetuning/(2.0*gamma);\n",
      "      |                ^~~~~~~~~~~~~~~~\n"
     ]
    },
    {
     "name": "stdout",
     "output_type": "stream",
     "text": [
      "Done compiling ContextCpu kernels.\n"
     ]
    },
    {
     "data": {
      "application/vnd.jupyter.widget-view+json": {
       "model_id": "98107b83d6d6446aa543252b6d8f5aea",
       "version_major": 2,
       "version_minor": 0
      },
      "text/plain": [
       "Tracking:   0%|          | 0/129800 [00:00<?, ?it/s]"
      ]
     },
     "metadata": {},
     "output_type": "display_data"
    }
   ],
   "source": [
    "##################\n",
    "# Laser Cooler #\n",
    "##################\n",
    "\n",
    "#laser-ion beam collision angle\n",
    "theta_l = 2.6*np.pi/180 # rad\n",
    "theta_l = 0\n",
    "nx = 0; ny = -np.sin(theta_l); nz = -np.cos(theta_l)\n",
    "\n",
    "# Ion excitation energy:\n",
    "# hw0 = 230.823 # eV\n",
    "hc=constants.hbar*clight/constants.e # eV*m (ħc)\n",
    "lambda_0 = 154.82 *1e-9 # m -- ion excitation wavelength\n",
    "hw0 = 2*np.pi*hc/lambda_0 # m -- ion excitation wavelength\n",
    "ion_excited_lifetime=3.8e-9 #souce: Combined Laser and Electron Cooling of Bunched C3+ Ion Beams at the Storage Ring ESR\n",
    "\n",
    "lambda_l = lambda_0*gamma_rel*(1 + beta_rel*np.cos(theta_l)) # m -- laser wavelength\n",
    "#lambda_l = lambda_l*(1+sigma_delta)\n",
    "lambda_l = 257.5255*1e-9\n",
    "#2.57557259253e-07\n",
    "# lambda_l =  2.57557259253e-07 #m #257\n",
    "\n",
    "# Shift laser wavelength for fast longitudinal cooling:\n",
    "#lambda_l = lambda_l*(1+1*sigma_p) # m\n",
    "\n",
    "laser_frequency = clight/lambda_l # Hz\n",
    "\n",
    "\n",
    "print('Laser wavelength = %.2f nm' % (lambda_l/1e-9))\n",
    "\n",
    "laser_waist_radius = 2000\n",
    "laser_intensity=50000 #k=8.6\n",
    "\n",
    "cooling_section_length=25\n",
    "GF_IP = xt.CWLaser(_buffer=buf,\n",
    "                      laser_x=0,\n",
    "                      laser_y=0,\n",
    "                      laser_z=0,\n",
    "                      \n",
    "                      laser_direction_nx = 0,\n",
    "                      laser_direction_ny = 0,\n",
    "                      laser_direction_nz = -1,\n",
    "                      laser_wavelength = lambda_l, # m\n",
    "                      laser_waist_radius = laser_waist_radius, # m\n",
    "                      laser_intensity=laser_intensity,\n",
    "                      ion_excitation_energy = hw0, # eV\n",
    "                      ion_excited_lifetime  = ion_excited_lifetime, # sec,\n",
    "                      cooling_section_length=cooling_section_length,                          \n",
    "   )\n",
    "\n",
    "# simulation parameters: simulate 10 s of cooling, and take data once every 100 ms\n",
    "max_time_s = 0.1\n",
    "int_time_s = 0.001\n",
    "T_per_turn = circumference/(clight*beta)\n",
    "num_turns = int(max_time_s/T_per_turn)\n",
    "save_interval = int(int_time_s/T_per_turn)\n",
    "\n",
    "\n",
    "# create a monitor object, to reduce holded data\n",
    "monitor = xt.ParticlesMonitor(start_at_turn=0, stop_at_turn=1,\n",
    "                        n_repetitions=int(num_turns/save_interval),\n",
    "                        repetition_period=save_interval,\n",
    "                        num_particles=num_particles)\n",
    "                        \n",
    "line = xt.Line(\n",
    "        elements=[monitor,GF_IP,arc])\n",
    "\n",
    "# line = xt.Line(\n",
    "#         elements=[monitor,arc])\n",
    "\n",
    "context = xo.ContextCpu(omp_num_threads=4)\n",
    "line.build_tracker(_context=context)\n",
    "\n",
    "line.track(particles, num_turns=num_turns,\n",
    "        turn_by_turn_monitor=False,with_progress=True)\n",
    "\n",
    "# extract relevant values\n",
    "x = monitor.x[:,:,0]\n",
    "px = monitor.px[:,:,0]\n",
    "y = monitor.y[:,:,0]\n",
    "py = monitor.py[:,:,0]\n",
    "delta = monitor.delta[:,:,0]\n",
    "zeta = monitor.zeta[:,:,0]\n",
    "state = monitor.state[:,:,0]\n",
    "time = monitor.at_turn[:, 0, 0] * T_per_turn\n",
    "\n",
    "gamma_x=(1+alpha_x**2)/beta_x\n",
    "gamma_y=(1+alpha_y**2)/beta_y\n",
    "\n",
    "action_x = (gamma_x*(x-Dx*delta)**2 + 2*alpha_x*(x-Dx*delta)*(px-Dpx*delta)+ beta_x*(px-Dpx*delta)**2)\n",
    "action_y = (gamma_y*(y-Dy*delta)**2 + 2*alpha_y*(y-Dy*delta)*(py-Dpy*delta)+ beta_y*(py-Dpy*delta)**2)\n",
    "\n",
    "emittance_x_twiss=np.mean(action_x,axis=1)*gamma/2\n",
    "rms_dp_p=np.std(delta,axis=1)\n",
    "\n",
    "\n",
    "np.savez(f'results/GSI.npz', x=x, px=px, y=y, py=py, zeta=zeta, delta=delta,\n",
    "        action_x=action_x,action_y=action_y,emittance_x=emittance_x_twiss,state=state, time=time,s_per_turn=T_per_turn)"
   ]
  },
  {
   "cell_type": "code",
   "execution_count": 144,
   "id": "d508887d",
   "metadata": {},
   "outputs": [
    {
     "data": {
      "text/plain": [
       "LinkedArrayCpu([-2.47045025e-06, -1.75726408e-05,  2.04168074e-05, ...,\n",
       "                -7.06168995e-06, -2.36043628e-06, -1.25596505e-05])"
      ]
     },
     "execution_count": 144,
     "metadata": {},
     "output_type": "execute_result"
    }
   ],
   "source": [
    "delta[0]"
   ]
  }
 ],
 "metadata": {
  "kernelspec": {
   "display_name": "base",
   "language": "python",
   "name": "python3"
  },
  "language_info": {
   "codemirror_mode": {
    "name": "ipython",
    "version": 3
   },
   "file_extension": ".py",
   "mimetype": "text/x-python",
   "name": "python",
   "nbconvert_exporter": "python",
   "pygments_lexer": "ipython3",
   "version": "3.12.3"
  },
  "vscode": {
   "interpreter": {
    "hash": "b3c9a0a5475e728b39e61ac58d244ad936924f9cf82746515a9faeb1f1a0b703"
   }
  }
 },
 "nbformat": 4,
 "nbformat_minor": 5
}
