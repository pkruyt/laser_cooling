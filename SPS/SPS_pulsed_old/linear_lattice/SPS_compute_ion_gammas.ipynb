{
 "cells": [
  {
   "cell_type": "code",
   "execution_count": 2,
   "id": "565de642",
   "metadata": {},
   "outputs": [],
   "source": [
    "import numpy as np\n",
    "import xtrack as xt\n",
    "import xobjects as xo\n",
    "import xpart as xp\n",
    "import matplotlib.pyplot as plt\n",
    "from tqdm import tqdm\n",
    "from scipy import constants \n",
    "\n",
    "\n",
    "# line = xt.Line.from_json('sps.json')\n",
    "# particle_ref=line.particle_ref\n",
    "\n",
    "# line.build_tracker()\n",
    "# #line.freeze_longitudinal()\n",
    "# # line.optimize_for_tracking()\n",
    "\n",
    "# twiss=line.twiss()\n",
    "\n",
    "# clight=constants.speed_of_light\n",
    "# circumference = line.get_length()\n",
    "\n",
    "\n",
    "# #%%\n",
    "# ###################\n",
    "# # Linear Transfer #\n",
    "# ###################\n",
    "\n",
    "# qx=twiss['qx']\n",
    "# qy=twiss['qy']\n",
    "# dqx=twiss['dqx']\n",
    "# dqy=twiss['dqy']\n",
    "# circumference=twiss['s'][-1]\n",
    "# # beta_x=twiss['betx'][-1]\n",
    "# # beta_y=twiss['bety'][-1]\n",
    "\n",
    "# qs=twiss['qs']\n",
    "# bets=twiss['betz0']\n",
    "\n",
    "\n",
    "# #at interaction points: #from https://anaconda.org/petrenko/li_like_ca_in_sps/notebook\n",
    "# beta_x  =  54.614389 # m\n",
    "# beta_y  =  44.332517 # m\n",
    "# alpha_x = -1.535235\n",
    "# alpha_y =  1.314101\n",
    "\n",
    "# Dx  =  0*2.444732 # m\n",
    "# Dpx =  0*0.097522\n",
    "\n",
    "\n",
    "# Dy  =  0.0 # m\n",
    "# Dpy =  0.0\n",
    "\n",
    "# #index of gamma factory along SPS line: 16675\n",
    "\n",
    "# arc = xt.LineSegmentMap(\n",
    "#         qx=qx, qy=qy,\n",
    "#         dqx=0, dqy=0,\n",
    "#         length=circumference,\n",
    "#         alfx=alpha_x,\n",
    "#         alfy=alpha_y,\n",
    "#         betx=beta_x,\n",
    "#         bety=beta_y,\n",
    "        \n",
    "#         dx=Dx,\n",
    "#         dpx=Dpx,\n",
    "#         dy=Dy,\n",
    "#         dpy=Dpy,\n",
    "#         qs=qs,\n",
    "#         bets=bets,\n",
    "#         )\n"
   ]
  },
  {
   "cell_type": "code",
   "execution_count": 3,
   "id": "56e455f6",
   "metadata": {},
   "outputs": [
    {
     "name": "stdout",
     "output_type": "stream",
     "text": [
      "96.08823512129919\n",
      "205.08913416882473\n"
     ]
    }
   ],
   "source": [
    "from ion_properties import lead,calcium,xenon,xenon2nd\n",
    "\n",
    "print(lead.gamma_rel)\n",
    "print(calcium.gamma_rel)\n"
   ]
  },
  {
   "cell_type": "code",
   "execution_count": 4,
   "id": "9a55bc94",
   "metadata": {},
   "outputs": [
    {
     "name": "stdout",
     "output_type": "stream",
     "text": [
      "Xe$^{51+}$:gamma = 152.500998975125\n",
      "omega_laser 1.6143775837656282\n"
     ]
    }
   ],
   "source": [
    "clight=constants.speed_of_light\n",
    "\n",
    "for ion in [xenon]:# Ion properties:\n",
    "\n",
    "\n",
    "        ##################\n",
    "        # Laser Cooler #\n",
    "        ##################\n",
    "\n",
    "        #laser-ion beam collision angle\n",
    "        theta_l = 2.6*np.pi/180 # rad\n",
    "        nx = 0; ny = -np.sin(theta_l); nz = -np.cos(theta_l)\n",
    "\n",
    "        # Ion excitation energy:\n",
    "        ion_excited_lifetime=ion.excited_lifetime\n",
    "        hw0 = ion.hw0 # eV\n",
    "        hc=constants.hbar*clight/constants.e # eV*m (ħc)\n",
    "        lambda_0 = 2*np.pi*hc/hw0 # m -- ion excitation wavelength\n",
    "        lambda_l = ion.lambda_l\n",
    "\n",
    "        #lambda_l = 1031.8*1e-9\n",
    "        # lambda_l = 768*1e-9\n",
    "        lambda_l=768*1e-9\n",
    "        beta=0.9999458417225602\n",
    "        constant=(1 + beta*np.cos(theta_l)* (1+4e-4)) # shift longitudinal \n",
    "\n",
    "        gamma = lambda_l/(lambda_0*constant)\n",
    "\n",
    "        \n",
    "        print(f\"{ion.name}:gamma = {gamma}\")\n",
    "        \n",
    "        p0c=gamma*ion.mass0\n",
    "        \n",
    "        omega_laser = 2 * np.pi * hc / lambda_l\n",
    "        print('omega_laser',omega_laser)\n",
    "        #print(p0c)"
   ]
  },
  {
   "cell_type": "code",
   "execution_count": 5,
   "id": "b848fcae",
   "metadata": {},
   "outputs": [
    {
     "data": {
      "text/plain": [
       "339.35502876807965"
      ]
     },
     "execution_count": 5,
     "metadata": {},
     "output_type": "execute_result"
    }
   ],
   "source": [
    "p0c*1e-9/ion.Z"
   ]
  },
  {
   "cell_type": "markdown",
   "id": "6ec05e05",
   "metadata": {},
   "source": [
    "Witek mail"
   ]
  },
  {
   "cell_type": "code",
   "execution_count": 6,
   "id": "c434ee67",
   "metadata": {},
   "outputs": [],
   "source": [
    "# A = 40.078 # Atomic mass\n",
    "# mc = A*0.931e9 # eV/c\n",
    "# mc2 = mc # eV\n",
    "# Z = 20  # Number of protons in the ion (Lead)\n",
    "# Ne = 3 # Number of remaining electrons (Lithium-like)\n",
    "# Qe = 1.60217662e-19 # elementary charge in Coulombs\n",
    "\n",
    "# gamma_p = 236/0.938 # equvalent gamma for the protons in the SPS\n",
    "# gamma = gamma_p*(Z-Ne)*0.938e9/mc # Lorentz factor of the ion\n",
    "\n",
    "# # gamma = 229 # Lorentz factor of the ion"
   ]
  },
  {
   "cell_type": "code",
   "execution_count": 8,
   "id": "9fd08575",
   "metadata": {},
   "outputs": [
    {
     "name": "stdout",
     "output_type": "stream",
     "text": [
      "251.52817414994044\n",
      "Xe$^{51+}$: 105.29086359764949\n",
      "Ca$^{17+}$: 125.76408707497022\n",
      "Pb$^{79+}$: 99.1601455783419\n"
     ]
    }
   ],
   "source": [
    "m_p = 938.272088e6 # eV/c^2 -- proton mass\n",
    "equiv_proton_momentum = 236e9 # eV/c = gamma_p*m_p*v\n",
    "\n",
    "81 *1e9 #Gev per nucleon\n",
    "\n",
    "gamma_p = np.sqrt( 1 + (equiv_proton_momentum/m_p)**2 ) # equvalent gamma for protons in the ring\n",
    "\n",
    "print(gamma_p)\n",
    "\n",
    "ions=[xenon,calcium,lead]\n",
    "\n",
    "gamma_p2=96*208/82\n",
    "for ion in ions:# Ion properties:\n",
    "\n",
    "\n",
    "    gamma_l = (ion.Z/ion.A)*gamma_p\n",
    "    print(f'{ion.name}:',gamma_l)"
   ]
  },
  {
   "cell_type": "code",
   "execution_count": null,
   "id": "47c24f84",
   "metadata": {},
   "outputs": [
    {
     "data": {
      "text/plain": [
       "129"
      ]
     },
     "execution_count": 8,
     "metadata": {},
     "output_type": "execute_result"
    }
   ],
   "source": [
    "xenon.A"
   ]
  },
  {
   "cell_type": "code",
   "execution_count": null,
   "id": "114fac70",
   "metadata": {},
   "outputs": [],
   "source": []
  }
 ],
 "metadata": {
  "kernelspec": {
   "display_name": "base",
   "language": "python",
   "name": "python3"
  },
  "language_info": {
   "codemirror_mode": {
    "name": "ipython",
    "version": 3
   },
   "file_extension": ".py",
   "mimetype": "text/x-python",
   "name": "python",
   "nbconvert_exporter": "python",
   "pygments_lexer": "ipython3",
   "version": "3.12.3"
  },
  "vscode": {
   "interpreter": {
    "hash": "b3c9a0a5475e728b39e61ac58d244ad936924f9cf82746515a9faeb1f1a0b703"
   }
  }
 },
 "nbformat": 4,
 "nbformat_minor": 5
}
