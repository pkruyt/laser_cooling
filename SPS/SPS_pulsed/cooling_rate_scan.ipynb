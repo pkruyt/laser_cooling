{
 "cells": [
  {
   "cell_type": "code",
   "execution_count": 1,
   "metadata": {},
   "outputs": [],
   "source": [
    "import numpy as np\n",
    "import xtrack as xt\n",
    "import xobjects as xo\n",
    "import xpart as xp\n",
    "import numpy as np\n",
    "import matplotlib.pyplot as plt\n",
    "from tqdm import tqdm\n",
    "from scipy import constants \n",
    "from scipy.optimize import curve_fit\n",
    "\n"
   ]
  },
  {
   "cell_type": "code",
   "execution_count": 2,
   "metadata": {},
   "outputs": [],
   "source": [
    "# import sys\n",
    "# sys.path.append('/home/pkruyt/cernbox/CERN-coolers/LEIR/ions')\n",
    "\n",
    "# from ion_properties import ions, IonProperties"
   ]
  },
  {
   "cell_type": "code",
   "execution_count": 3,
   "metadata": {},
   "outputs": [
    {
     "data": {
      "application/vnd.jupyter.widget-view+json": {
       "model_id": "6442febf82a0458fbecf2fdc1654cf88",
       "version_major": 2,
       "version_minor": 0
      },
      "text/plain": [
       "Loading line from dict:   0%|          | 0/38786 [00:00<?, ?it/s]"
      ]
     },
     "metadata": {},
     "output_type": "display_data"
    },
    {
     "name": "stdout",
     "output_type": "stream",
     "text": [
      "Done loading line from dict.           \n",
      "Compiling ContextCpu kernels...\n",
      "Done compiling ContextCpu kernels.\n"
     ]
    }
   ],
   "source": [
    "# context = xo.ContextCpu(omp_num_threads=4)\n",
    "context = xo.ContextCpu()\n",
    "\n",
    "line = xt.Line.from_json('sps.json')\n",
    "particle_ref0=line.particle_ref\n",
    "line.build_tracker()\n",
    "\n",
    "clight=constants.speed_of_light\n",
    "circumference = line.get_length()\n",
    "twiss=line.twiss()\n",
    "#%%\n",
    "###################\n",
    "# Linear Transfer #\n",
    "###################\n",
    "\n",
    "qx=twiss['qx']\n",
    "qy=twiss['qy']\n",
    "dqx=twiss['dqx']\n",
    "dqy=twiss['dqy']\n",
    "circumference=twiss['s'][-1]\n",
    "# beta_x=twiss['betx'][-1]\n",
    "# beta_y=twiss['bety'][-1]\n",
    "\n",
    "qs=twiss['qs']\n",
    "bets=twiss['bets0']\n",
    "voltage_rf=7*1e6\n",
    "frequency=201.8251348335775*1e6\n",
    "lag_rf=180\n",
    "momentum_compaction_factor=twiss['momentum_compaction_factor']\n",
    "slip_factor=['slip_factor']\n",
    "\n",
    "# qs=0.0131\n",
    "# bets=0.063/2e-4\n",
    "\n",
    "#at interaction points: #from https://anaconda.org/petrenko/li_like_ca_in_sps/notebook\n",
    "beta_x  =  54.614389 # m\n",
    "beta_y  =  44.332517 # m\n",
    "alpha_x = -1.535235\n",
    "alpha_y =  1.314101\n",
    "\n",
    "Dx  =  2.444732 # m\n",
    "Dpx =  0.097522\n",
    "\n",
    "\n",
    "Dy  =  0.0 # m\n",
    "Dpy =  0.0\n",
    "\n",
    "#index of gamma factory along SPS line: 16675\n",
    "\n",
    "arc = xt.LineSegmentMap(\n",
    "        qx=qx, qy=qy,\n",
    "        dqx=0, dqy=0,\n",
    "        length=circumference,\n",
    "        alfx=alpha_x,\n",
    "        alfy=alpha_y,\n",
    "        betx=beta_x,\n",
    "        bety=beta_y,\n",
    "        \n",
    "        dx=Dx,\n",
    "        dpx=Dpx,\n",
    "        dy=Dy,\n",
    "        dpy=Dpy,\n",
    "        # qs=qs,\n",
    "        # bets=bets,\n",
    "        voltage_rf=voltage_rf,\n",
    "        lag_rf=lag_rf,\n",
    "        frequency_rf=frequency,\n",
    "        momentum_compaction_factor=momentum_compaction_factor,\n",
    "        longitudinal_mode = 'nonlinear',\n",
    "\n",
    "        )"
   ]
  },
  {
   "cell_type": "code",
   "execution_count": 4,
   "metadata": {},
   "outputs": [],
   "source": [
    "from ion_properties import lead,calcium,xenon,xenon2nd\n"
   ]
  },
  {
   "cell_type": "code",
   "execution_count": 5,
   "metadata": {},
   "outputs": [],
   "source": [
    "# injection_nemitt = 1.5*1e-6 # m*rad (normalized emittance)\n",
    "# injection_dp_p = 2e-4\n",
    "# sigma_z = 0.063 #https://cds.cern.ch/record/2690736/files/SPSC-I-253.pdf\n"
   ]
  },
  {
   "cell_type": "markdown",
   "metadata": {},
   "source": [
    "Loop over both sig_delta and emittance"
   ]
  },
  {
   "cell_type": "code",
   "execution_count": 6,
   "metadata": {},
   "outputs": [
    {
     "name": "stdout",
     "output_type": "stream",
     "text": [
      "Compiling ContextCpu kernels...\n",
      "Done compiling ContextCpu kernels.\n"
     ]
    },
    {
     "name": "stderr",
     "output_type": "stream",
     "text": [
      "0it [00:00, ?it/s]"
     ]
    },
    {
     "name": "stdout",
     "output_type": "stream",
     "text": [
      "1/50\n",
      "*** Maximum RMS bunch length 0.23410655471212105m.\n",
      "... distance to target bunch length: -6.3000e-02\n",
      "... distance to target bunch length: 1.6464e-01\n",
      "... distance to target bunch length: 7.8245e-02\n",
      "... distance to target bunch length: -3.7042e-03\n",
      "... distance to target bunch length: -7.4446e-05\n",
      "... distance to target bunch length: -1.7696e-08\n",
      "... distance to target bunch length: 3.0957e-07\n",
      "--> Bunch length: 0.06299998230379811\n",
      "--> Emittance: 0.12255478343691063\n",
      "0.0001940011367294864\n",
      "Laser pulse duration sigma_t = 2.74 ps\n",
      "Laser wavelength = 1031.80 nm\n",
      "Compiling ContextCpu kernels...\n",
      "Done compiling ContextCpu kernels.\n"
     ]
    },
    {
     "name": "stderr",
     "output_type": "stream",
     "text": [
      "1it [00:54, 54.39s/it]"
     ]
    },
    {
     "name": "stdout",
     "output_type": "stream",
     "text": [
      "2/50\n",
      "*** Maximum RMS bunch length 0.23410655471212105m.\n",
      "... distance to target bunch length: -6.3000e-02\n",
      "... distance to target bunch length: 1.6464e-01\n",
      "... distance to target bunch length: 7.8245e-02\n",
      "... distance to target bunch length: -3.7042e-03\n",
      "... distance to target bunch length: -7.4446e-05\n",
      "... distance to target bunch length: -1.7696e-08\n",
      "... distance to target bunch length: 3.0957e-07\n",
      "--> Bunch length: 0.06299998230379811\n",
      "--> Emittance: 0.12255478343691063\n",
      "0.00019365813770892505\n",
      "Laser pulse duration sigma_t = 2.74 ps\n",
      "Laser wavelength = 1031.80 nm\n",
      "Compiling ContextCpu kernels...\n",
      "Done compiling ContextCpu kernels.\n"
     ]
    },
    {
     "name": "stderr",
     "output_type": "stream",
     "text": [
      "2it [01:49, 54.60s/it]"
     ]
    },
    {
     "name": "stdout",
     "output_type": "stream",
     "text": [
      "3/50\n",
      "*** Maximum RMS bunch length 0.23410655471212105m.\n",
      "... distance to target bunch length: -6.3000e-02\n",
      "... distance to target bunch length: 1.6464e-01\n",
      "... distance to target bunch length: 7.8245e-02\n",
      "... distance to target bunch length: -3.7042e-03\n",
      "... distance to target bunch length: -7.4446e-05\n",
      "... distance to target bunch length: -1.7696e-08\n",
      "... distance to target bunch length: 3.0957e-07\n",
      "--> Bunch length: 0.06299998230379811\n",
      "--> Emittance: 0.12255478343691063\n",
      "0.00019739385735941447\n",
      "Laser pulse duration sigma_t = 2.74 ps\n",
      "Laser wavelength = 1031.80 nm\n",
      "Compiling ContextCpu kernels...\n",
      "Done compiling ContextCpu kernels.\n"
     ]
    },
    {
     "name": "stderr",
     "output_type": "stream",
     "text": [
      "3it [02:36, 51.17s/it]"
     ]
    },
    {
     "name": "stdout",
     "output_type": "stream",
     "text": [
      "4/50\n",
      "*** Maximum RMS bunch length 0.23410655471212105m.\n",
      "... distance to target bunch length: -6.3000e-02\n",
      "... distance to target bunch length: 1.6464e-01\n",
      "... distance to target bunch length: 7.8245e-02\n",
      "... distance to target bunch length: -3.7042e-03\n",
      "... distance to target bunch length: -7.4446e-05\n",
      "... distance to target bunch length: -1.7696e-08\n",
      "... distance to target bunch length: 3.0957e-07\n",
      "--> Bunch length: 0.06299998230379811\n",
      "--> Emittance: 0.12255478343691063\n",
      "0.0001991044976466681\n",
      "Laser pulse duration sigma_t = 2.74 ps\n",
      "Laser wavelength = 1031.80 nm\n",
      "Compiling ContextCpu kernels...\n",
      "Done compiling ContextCpu kernels.\n"
     ]
    },
    {
     "name": "stderr",
     "output_type": "stream",
     "text": [
      "4it [03:21, 48.81s/it]"
     ]
    },
    {
     "name": "stdout",
     "output_type": "stream",
     "text": [
      "5/50\n",
      "*** Maximum RMS bunch length 0.23410655471212105m.\n",
      "... distance to target bunch length: -6.3000e-02\n",
      "... distance to target bunch length: 1.6464e-01\n",
      "... distance to target bunch length: 7.8245e-02\n",
      "... distance to target bunch length: -3.7042e-03\n",
      "... distance to target bunch length: -7.4446e-05\n",
      "... distance to target bunch length: -1.7696e-08\n",
      "... distance to target bunch length: 3.0957e-07\n",
      "--> Bunch length: 0.06299998230379811\n",
      "--> Emittance: 0.12255478343691063\n",
      "0.0001959500668818367\n",
      "Laser pulse duration sigma_t = 2.74 ps\n",
      "Laser wavelength = 1031.80 nm\n",
      "Compiling ContextCpu kernels...\n",
      "Done compiling ContextCpu kernels.\n"
     ]
    },
    {
     "name": "stderr",
     "output_type": "stream",
     "text": [
      "5it [04:05, 47.10s/it]"
     ]
    },
    {
     "name": "stdout",
     "output_type": "stream",
     "text": [
      "6/50\n",
      "*** Maximum RMS bunch length 0.23410655471212105m.\n",
      "... distance to target bunch length: -6.3000e-02\n",
      "... distance to target bunch length: 1.6464e-01\n",
      "... distance to target bunch length: 7.8245e-02\n",
      "... distance to target bunch length: -3.7042e-03\n",
      "... distance to target bunch length: -7.4446e-05\n",
      "... distance to target bunch length: -1.7696e-08\n",
      "... distance to target bunch length: 3.0957e-07\n",
      "--> Bunch length: 0.06299998230379811\n",
      "--> Emittance: 0.12255478343691063\n",
      "0.00019415262267259456\n",
      "Laser pulse duration sigma_t = 2.74 ps\n",
      "Laser wavelength = 1031.80 nm\n",
      "Compiling ContextCpu kernels...\n",
      "Done compiling ContextCpu kernels.\n"
     ]
    },
    {
     "name": "stderr",
     "output_type": "stream",
     "text": [
      "6it [04:48, 45.72s/it]"
     ]
    },
    {
     "name": "stdout",
     "output_type": "stream",
     "text": [
      "7/50\n",
      "*** Maximum RMS bunch length 0.23410655471212105m.\n",
      "... distance to target bunch length: -6.3000e-02\n",
      "... distance to target bunch length: 1.6464e-01\n",
      "... distance to target bunch length: 7.8245e-02\n",
      "... distance to target bunch length: -3.7042e-03\n",
      "... distance to target bunch length: -7.4446e-05\n",
      "... distance to target bunch length: -1.7696e-08\n",
      "... distance to target bunch length: 3.0957e-07\n",
      "--> Bunch length: 0.06299998230379811\n",
      "--> Emittance: 0.12255478343691063\n",
      "0.00019957078597578333\n",
      "Laser pulse duration sigma_t = 2.74 ps\n",
      "Laser wavelength = 1031.80 nm\n",
      "Compiling ContextCpu kernels...\n",
      "Done compiling ContextCpu kernels.\n"
     ]
    },
    {
     "name": "stderr",
     "output_type": "stream",
     "text": [
      "7it [05:34, 45.94s/it]"
     ]
    },
    {
     "name": "stdout",
     "output_type": "stream",
     "text": [
      "8/50\n",
      "*** Maximum RMS bunch length 0.23410655471212105m.\n",
      "... distance to target bunch length: -6.3000e-02\n",
      "... distance to target bunch length: 1.6464e-01\n",
      "... distance to target bunch length: 7.8245e-02\n",
      "... distance to target bunch length: -3.7042e-03\n",
      "... distance to target bunch length: -7.4446e-05\n",
      "... distance to target bunch length: -1.7696e-08\n",
      "... distance to target bunch length: 3.0957e-07\n",
      "--> Bunch length: 0.06299998230379811\n",
      "--> Emittance: 0.12255478343691063\n",
      "0.0001959541516201949\n",
      "Laser pulse duration sigma_t = 2.74 ps\n",
      "Laser wavelength = 1031.80 nm\n",
      "Compiling ContextCpu kernels...\n",
      "Done compiling ContextCpu kernels.\n"
     ]
    },
    {
     "name": "stderr",
     "output_type": "stream",
     "text": [
      "8it [06:22, 46.41s/it]"
     ]
    },
    {
     "name": "stdout",
     "output_type": "stream",
     "text": [
      "9/50\n",
      "*** Maximum RMS bunch length 0.23410655471212105m.\n",
      "... distance to target bunch length: -6.3000e-02\n",
      "... distance to target bunch length: 1.6464e-01\n",
      "... distance to target bunch length: 7.8245e-02\n",
      "... distance to target bunch length: -3.7042e-03\n",
      "... distance to target bunch length: -7.4446e-05\n",
      "... distance to target bunch length: -1.7696e-08\n",
      "... distance to target bunch length: 3.0957e-07\n",
      "--> Bunch length: 0.06299998230379811\n",
      "--> Emittance: 0.12255478343691063\n",
      "0.00020007984097203087\n",
      "Laser pulse duration sigma_t = 2.74 ps\n",
      "Laser wavelength = 1031.80 nm\n",
      "Compiling ContextCpu kernels...\n",
      "Done compiling ContextCpu kernels.\n"
     ]
    },
    {
     "name": "stderr",
     "output_type": "stream",
     "text": [
      "9it [07:10, 47.10s/it]"
     ]
    },
    {
     "name": "stdout",
     "output_type": "stream",
     "text": [
      "10/50\n",
      "*** Maximum RMS bunch length 0.23410655471212105m.\n",
      "... distance to target bunch length: -6.3000e-02\n",
      "... distance to target bunch length: 1.6464e-01\n",
      "... distance to target bunch length: 7.8245e-02\n",
      "... distance to target bunch length: -3.7042e-03\n",
      "... distance to target bunch length: -7.4446e-05\n",
      "... distance to target bunch length: -1.7696e-08\n",
      "... distance to target bunch length: 3.0957e-07\n",
      "--> Bunch length: 0.06299998230379811\n",
      "--> Emittance: 0.12255478343691063\n",
      "0.00019641293183182847\n",
      "Laser pulse duration sigma_t = 2.74 ps\n",
      "Laser wavelength = 1031.80 nm\n",
      "Compiling ContextCpu kernels...\n",
      "Done compiling ContextCpu kernels.\n"
     ]
    },
    {
     "name": "stderr",
     "output_type": "stream",
     "text": [
      "10it [07:58, 47.24s/it]"
     ]
    },
    {
     "name": "stdout",
     "output_type": "stream",
     "text": [
      "11/50\n",
      "*** Maximum RMS bunch length 0.23410655471212105m.\n",
      "... distance to target bunch length: -6.3000e-02\n",
      "... distance to target bunch length: 1.6464e-01\n",
      "... distance to target bunch length: 7.8245e-02\n",
      "... distance to target bunch length: -3.7042e-03\n",
      "... distance to target bunch length: -7.4446e-05\n",
      "... distance to target bunch length: -1.7696e-08\n",
      "... distance to target bunch length: 3.0957e-07\n",
      "--> Bunch length: 0.06299998230379811\n",
      "--> Emittance: 0.12255478343691063\n",
      "0.00019823350549850723\n",
      "Laser pulse duration sigma_t = 2.74 ps\n",
      "Laser wavelength = 1031.80 nm\n",
      "Compiling ContextCpu kernels...\n",
      "Done compiling ContextCpu kernels.\n"
     ]
    },
    {
     "name": "stderr",
     "output_type": "stream",
     "text": [
      "11it [08:45, 47.11s/it]"
     ]
    },
    {
     "name": "stdout",
     "output_type": "stream",
     "text": [
      "12/50\n",
      "*** Maximum RMS bunch length 0.23410655471212105m.\n",
      "... distance to target bunch length: -6.3000e-02\n",
      "... distance to target bunch length: 1.6464e-01\n",
      "... distance to target bunch length: 7.8245e-02\n",
      "... distance to target bunch length: -3.7042e-03\n",
      "... distance to target bunch length: -7.4446e-05\n",
      "... distance to target bunch length: -1.7696e-08\n",
      "... distance to target bunch length: 3.0957e-07\n",
      "--> Bunch length: 0.06299998230379811\n",
      "--> Emittance: 0.12255478343691063\n",
      "0.0001959144332449204\n",
      "Laser pulse duration sigma_t = 2.74 ps\n",
      "Laser wavelength = 1031.80 nm\n",
      "Compiling ContextCpu kernels...\n",
      "Done compiling ContextCpu kernels.\n"
     ]
    },
    {
     "name": "stderr",
     "output_type": "stream",
     "text": [
      "12it [09:37, 48.52s/it]"
     ]
    },
    {
     "name": "stdout",
     "output_type": "stream",
     "text": [
      "13/50\n",
      "*** Maximum RMS bunch length 0.23410655471212105m.\n",
      "... distance to target bunch length: -6.3000e-02\n",
      "... distance to target bunch length: 1.6464e-01\n",
      "... distance to target bunch length: 7.8245e-02\n",
      "... distance to target bunch length: -3.7042e-03\n",
      "... distance to target bunch length: -7.4446e-05\n",
      "... distance to target bunch length: -1.7696e-08\n",
      "... distance to target bunch length: 3.0957e-07\n",
      "--> Bunch length: 0.06299998230379811\n",
      "--> Emittance: 0.12255478343691063\n",
      "0.00019678588324355197\n",
      "Laser pulse duration sigma_t = 2.74 ps\n",
      "Laser wavelength = 1031.80 nm\n",
      "Compiling ContextCpu kernels...\n",
      "Done compiling ContextCpu kernels.\n"
     ]
    },
    {
     "name": "stderr",
     "output_type": "stream",
     "text": [
      "13it [10:28, 49.45s/it]"
     ]
    },
    {
     "name": "stdout",
     "output_type": "stream",
     "text": [
      "14/50\n",
      "*** Maximum RMS bunch length 0.23410655471212105m.\n",
      "... distance to target bunch length: -6.3000e-02\n",
      "... distance to target bunch length: 1.6464e-01\n",
      "... distance to target bunch length: 7.8245e-02\n",
      "... distance to target bunch length: -3.7042e-03\n",
      "... distance to target bunch length: -7.4446e-05\n",
      "... distance to target bunch length: -1.7696e-08\n",
      "... distance to target bunch length: 3.0957e-07\n",
      "--> Bunch length: 0.06299998230379811\n",
      "--> Emittance: 0.12255478343691063\n",
      "0.00019843272711930922\n",
      "Laser pulse duration sigma_t = 2.74 ps\n",
      "Laser wavelength = 1031.80 nm\n",
      "Compiling ContextCpu kernels...\n",
      "Done compiling ContextCpu kernels.\n"
     ]
    },
    {
     "name": "stderr",
     "output_type": "stream",
     "text": [
      "14it [11:21, 50.44s/it]"
     ]
    },
    {
     "name": "stdout",
     "output_type": "stream",
     "text": [
      "15/50\n",
      "*** Maximum RMS bunch length 0.23410655471212105m.\n",
      "... distance to target bunch length: -6.3000e-02\n",
      "... distance to target bunch length: 1.6464e-01\n",
      "... distance to target bunch length: 7.8245e-02\n",
      "... distance to target bunch length: -3.7042e-03\n",
      "... distance to target bunch length: -7.4446e-05\n",
      "... distance to target bunch length: -1.7696e-08\n",
      "... distance to target bunch length: 3.0957e-07\n",
      "--> Bunch length: 0.06299998230379811\n",
      "--> Emittance: 0.12255478343691063\n",
      "0.00019537417530310542\n",
      "Laser pulse duration sigma_t = 2.74 ps\n",
      "Laser wavelength = 1031.80 nm\n",
      "Compiling ContextCpu kernels...\n",
      "Done compiling ContextCpu kernels.\n"
     ]
    },
    {
     "name": "stderr",
     "output_type": "stream",
     "text": [
      "15it [12:14, 51.31s/it]"
     ]
    },
    {
     "name": "stdout",
     "output_type": "stream",
     "text": [
      "16/50\n",
      "*** Maximum RMS bunch length 0.23410655471212105m.\n",
      "... distance to target bunch length: -6.3000e-02\n",
      "... distance to target bunch length: 1.6464e-01\n",
      "... distance to target bunch length: 7.8245e-02\n",
      "... distance to target bunch length: -3.7042e-03\n",
      "... distance to target bunch length: -7.4446e-05\n",
      "... distance to target bunch length: -1.7696e-08\n",
      "... distance to target bunch length: 3.0957e-07\n",
      "--> Bunch length: 0.06299998230379811\n",
      "--> Emittance: 0.12255478343691063\n",
      "0.00019871211844670153\n",
      "Laser pulse duration sigma_t = 2.74 ps\n",
      "Laser wavelength = 1031.80 nm\n",
      "Compiling ContextCpu kernels...\n",
      "Done compiling ContextCpu kernels.\n"
     ]
    },
    {
     "name": "stderr",
     "output_type": "stream",
     "text": [
      "16it [13:10, 52.53s/it]"
     ]
    },
    {
     "name": "stdout",
     "output_type": "stream",
     "text": [
      "17/50\n",
      "*** Maximum RMS bunch length 0.23410655471212105m.\n",
      "... distance to target bunch length: -6.3000e-02\n",
      "... distance to target bunch length: 1.6464e-01\n",
      "... distance to target bunch length: 7.8245e-02\n",
      "... distance to target bunch length: -3.7042e-03\n",
      "... distance to target bunch length: -7.4446e-05\n",
      "... distance to target bunch length: -1.7696e-08\n",
      "... distance to target bunch length: 3.0957e-07\n",
      "--> Bunch length: 0.06299998230379811\n",
      "--> Emittance: 0.12255478343691063\n",
      "0.000199308687313054\n",
      "Laser pulse duration sigma_t = 2.74 ps\n",
      "Laser wavelength = 1031.80 nm\n",
      "Compiling ContextCpu kernels...\n",
      "Done compiling ContextCpu kernels.\n"
     ]
    },
    {
     "name": "stderr",
     "output_type": "stream",
     "text": [
      "17it [13:56, 50.78s/it]"
     ]
    },
    {
     "name": "stdout",
     "output_type": "stream",
     "text": [
      "18/50\n",
      "*** Maximum RMS bunch length 0.23410655471212105m.\n",
      "... distance to target bunch length: -6.3000e-02\n",
      "... distance to target bunch length: 1.6464e-01\n",
      "... distance to target bunch length: 7.8245e-02\n",
      "... distance to target bunch length: -3.7042e-03\n",
      "... distance to target bunch length: -7.4446e-05\n",
      "... distance to target bunch length: -1.7696e-08\n",
      "... distance to target bunch length: 3.0957e-07\n",
      "--> Bunch length: 0.06299998230379811\n",
      "--> Emittance: 0.12255478343691063\n",
      "0.00019656283954954366\n",
      "Laser pulse duration sigma_t = 2.74 ps\n",
      "Laser wavelength = 1031.80 nm\n",
      "Compiling ContextCpu kernels...\n",
      "Done compiling ContextCpu kernels.\n"
     ]
    },
    {
     "name": "stderr",
     "output_type": "stream",
     "text": [
      "18it [14:40, 48.54s/it]"
     ]
    },
    {
     "name": "stdout",
     "output_type": "stream",
     "text": [
      "19/50\n",
      "*** Maximum RMS bunch length 0.23410655471212105m.\n",
      "... distance to target bunch length: -6.3000e-02\n",
      "... distance to target bunch length: 1.6464e-01\n",
      "... distance to target bunch length: 7.8245e-02\n",
      "... distance to target bunch length: -3.7042e-03\n",
      "... distance to target bunch length: -7.4446e-05\n",
      "... distance to target bunch length: -1.7696e-08\n",
      "... distance to target bunch length: 3.0957e-07\n",
      "--> Bunch length: 0.06299998230379811\n",
      "--> Emittance: 0.12255478343691063\n",
      "0.00019800891994377695\n",
      "Laser pulse duration sigma_t = 2.74 ps\n",
      "Laser wavelength = 1031.80 nm\n",
      "Compiling ContextCpu kernels...\n",
      "Done compiling ContextCpu kernels.\n"
     ]
    },
    {
     "name": "stderr",
     "output_type": "stream",
     "text": [
      "19it [15:23, 46.85s/it]"
     ]
    },
    {
     "name": "stdout",
     "output_type": "stream",
     "text": [
      "20/50\n",
      "*** Maximum RMS bunch length 0.23410655471212105m.\n",
      "... distance to target bunch length: -6.3000e-02\n",
      "... distance to target bunch length: 1.6464e-01\n",
      "... distance to target bunch length: 7.8245e-02\n",
      "... distance to target bunch length: -3.7042e-03\n",
      "... distance to target bunch length: -7.4446e-05\n",
      "... distance to target bunch length: -1.7696e-08\n",
      "... distance to target bunch length: 3.0957e-07\n",
      "--> Bunch length: 0.06299998230379811\n",
      "--> Emittance: 0.12255478343691063\n",
      "0.0001958553930891669\n",
      "Laser pulse duration sigma_t = 2.74 ps\n",
      "Laser wavelength = 1031.80 nm\n",
      "Compiling ContextCpu kernels...\n",
      "Done compiling ContextCpu kernels.\n"
     ]
    },
    {
     "name": "stderr",
     "output_type": "stream",
     "text": [
      "20it [16:06, 45.79s/it]"
     ]
    },
    {
     "name": "stdout",
     "output_type": "stream",
     "text": [
      "21/50\n",
      "*** Maximum RMS bunch length 0.23410655471212105m.\n",
      "... distance to target bunch length: -6.3000e-02\n",
      "... distance to target bunch length: 1.6464e-01\n",
      "... distance to target bunch length: 7.8245e-02\n",
      "... distance to target bunch length: -3.7042e-03\n",
      "... distance to target bunch length: -7.4446e-05\n",
      "... distance to target bunch length: -1.7696e-08\n",
      "... distance to target bunch length: 3.0957e-07\n",
      "--> Bunch length: 0.06299998230379811\n",
      "--> Emittance: 0.12255478343691063\n",
      "0.00019917601277658957\n",
      "Laser pulse duration sigma_t = 2.74 ps\n",
      "Laser wavelength = 1031.80 nm\n",
      "Compiling ContextCpu kernels...\n",
      "Done compiling ContextCpu kernels.\n"
     ]
    },
    {
     "name": "stderr",
     "output_type": "stream",
     "text": [
      "21it [16:51, 45.65s/it]"
     ]
    },
    {
     "name": "stdout",
     "output_type": "stream",
     "text": [
      "22/50\n",
      "*** Maximum RMS bunch length 0.23410655471212105m.\n",
      "... distance to target bunch length: -6.3000e-02\n",
      "... distance to target bunch length: 1.6464e-01\n",
      "... distance to target bunch length: 7.8245e-02\n",
      "... distance to target bunch length: -3.7042e-03\n",
      "... distance to target bunch length: -7.4446e-05\n",
      "... distance to target bunch length: -1.7696e-08\n",
      "... distance to target bunch length: 3.0957e-07\n",
      "--> Bunch length: 0.06299998230379811\n",
      "--> Emittance: 0.12255478343691063\n",
      "0.00019990543307345967\n",
      "Laser pulse duration sigma_t = 2.74 ps\n",
      "Laser wavelength = 1031.80 nm\n",
      "Compiling ContextCpu kernels...\n",
      "Done compiling ContextCpu kernels.\n"
     ]
    },
    {
     "name": "stderr",
     "output_type": "stream",
     "text": [
      "22it [17:41, 47.04s/it]"
     ]
    },
    {
     "name": "stdout",
     "output_type": "stream",
     "text": [
      "23/50\n",
      "*** Maximum RMS bunch length 0.23410655471212105m.\n",
      "... distance to target bunch length: -6.3000e-02\n",
      "... distance to target bunch length: 1.6464e-01\n",
      "... distance to target bunch length: 7.8245e-02\n",
      "... distance to target bunch length: -3.7042e-03\n",
      "... distance to target bunch length: -7.4446e-05\n",
      "... distance to target bunch length: -1.7696e-08\n",
      "... distance to target bunch length: 3.0957e-07\n",
      "--> Bunch length: 0.06299998230379811\n",
      "--> Emittance: 0.12255478343691063\n",
      "0.00019598103120089567\n",
      "Laser pulse duration sigma_t = 2.74 ps\n",
      "Laser wavelength = 1031.80 nm\n",
      "Compiling ContextCpu kernels...\n",
      "Done compiling ContextCpu kernels.\n"
     ]
    },
    {
     "name": "stderr",
     "output_type": "stream",
     "text": [
      "23it [18:33, 48.32s/it]"
     ]
    },
    {
     "name": "stdout",
     "output_type": "stream",
     "text": [
      "24/50\n",
      "*** Maximum RMS bunch length 0.23410655471212105m.\n",
      "... distance to target bunch length: -6.3000e-02\n",
      "... distance to target bunch length: 1.6464e-01\n",
      "... distance to target bunch length: 7.8245e-02\n",
      "... distance to target bunch length: -3.7042e-03\n",
      "... distance to target bunch length: -7.4446e-05\n",
      "... distance to target bunch length: -1.7696e-08\n",
      "... distance to target bunch length: 3.0957e-07\n",
      "--> Bunch length: 0.06299998230379811\n",
      "--> Emittance: 0.12255478343691063\n",
      "0.00019548052305045767\n",
      "Laser pulse duration sigma_t = 2.74 ps\n",
      "Laser wavelength = 1031.80 nm\n",
      "Compiling ContextCpu kernels...\n",
      "Done compiling ContextCpu kernels.\n"
     ]
    },
    {
     "name": "stderr",
     "output_type": "stream",
     "text": [
      "24it [19:25, 49.59s/it]"
     ]
    },
    {
     "name": "stdout",
     "output_type": "stream",
     "text": [
      "25/50\n",
      "*** Maximum RMS bunch length 0.23410655471212105m.\n",
      "... distance to target bunch length: -6.3000e-02\n",
      "... distance to target bunch length: 1.6464e-01\n",
      "... distance to target bunch length: 7.8245e-02\n",
      "... distance to target bunch length: -3.7042e-03\n",
      "... distance to target bunch length: -7.4446e-05\n",
      "... distance to target bunch length: -1.7696e-08\n",
      "... distance to target bunch length: 3.0957e-07\n",
      "--> Bunch length: 0.06299998230379811\n",
      "--> Emittance: 0.12255478343691063\n",
      "0.00019857414313143813\n",
      "Laser pulse duration sigma_t = 2.74 ps\n",
      "Laser wavelength = 1031.80 nm\n",
      "Compiling ContextCpu kernels...\n",
      "Done compiling ContextCpu kernels.\n"
     ]
    },
    {
     "name": "stderr",
     "output_type": "stream",
     "text": [
      "25it [20:21, 51.42s/it]"
     ]
    },
    {
     "name": "stdout",
     "output_type": "stream",
     "text": [
      "26/50\n",
      "*** Maximum RMS bunch length 0.23410655471212105m.\n",
      "... distance to target bunch length: -6.3000e-02\n",
      "... distance to target bunch length: 1.6464e-01\n",
      "... distance to target bunch length: 7.8245e-02\n",
      "... distance to target bunch length: -3.7042e-03\n",
      "... distance to target bunch length: -7.4446e-05\n",
      "... distance to target bunch length: -1.7696e-08\n",
      "... distance to target bunch length: 3.0957e-07\n",
      "--> Bunch length: 0.06299998230379811\n",
      "--> Emittance: 0.12255478343691063\n",
      "0.00019931350874821885\n",
      "Laser pulse duration sigma_t = 2.74 ps\n",
      "Laser wavelength = 1031.80 nm\n",
      "Compiling ContextCpu kernels...\n",
      "Done compiling ContextCpu kernels.\n"
     ]
    },
    {
     "name": "stderr",
     "output_type": "stream",
     "text": [
      "26it [21:13, 51.56s/it]"
     ]
    },
    {
     "name": "stdout",
     "output_type": "stream",
     "text": [
      "27/50\n",
      "*** Maximum RMS bunch length 0.23410655471212105m.\n",
      "... distance to target bunch length: -6.3000e-02\n",
      "... distance to target bunch length: 1.6464e-01\n",
      "... distance to target bunch length: 7.8245e-02\n",
      "... distance to target bunch length: -3.7042e-03\n",
      "... distance to target bunch length: -7.4446e-05\n",
      "... distance to target bunch length: -1.7696e-08\n",
      "... distance to target bunch length: 3.0957e-07\n",
      "--> Bunch length: 0.06299998230379811\n",
      "--> Emittance: 0.12255478343691063\n",
      "0.00019758523221730895\n",
      "Laser pulse duration sigma_t = 2.74 ps\n",
      "Laser wavelength = 1031.80 nm\n",
      "Compiling ContextCpu kernels...\n",
      "Done compiling ContextCpu kernels.\n"
     ]
    },
    {
     "name": "stderr",
     "output_type": "stream",
     "text": [
      "27it [22:10, 53.20s/it]"
     ]
    },
    {
     "name": "stdout",
     "output_type": "stream",
     "text": [
      "28/50\n",
      "*** Maximum RMS bunch length 0.23410655471212105m.\n",
      "... distance to target bunch length: -6.3000e-02\n",
      "... distance to target bunch length: 1.6464e-01\n",
      "... distance to target bunch length: 7.8245e-02\n",
      "... distance to target bunch length: -3.7042e-03\n",
      "... distance to target bunch length: -7.4446e-05\n",
      "... distance to target bunch length: -1.7696e-08\n",
      "... distance to target bunch length: 3.0957e-07\n",
      "--> Bunch length: 0.06299998230379811\n",
      "--> Emittance: 0.12255478343691063\n",
      "0.0001938839093394559\n",
      "Laser pulse duration sigma_t = 2.74 ps\n",
      "Laser wavelength = 1031.80 nm\n",
      "Compiling ContextCpu kernels...\n",
      "Done compiling ContextCpu kernels.\n"
     ]
    },
    {
     "name": "stderr",
     "output_type": "stream",
     "text": [
      "28it [23:03, 53.23s/it]"
     ]
    },
    {
     "name": "stdout",
     "output_type": "stream",
     "text": [
      "29/50\n",
      "*** Maximum RMS bunch length 0.23410655471212105m.\n",
      "... distance to target bunch length: -6.3000e-02\n",
      "... distance to target bunch length: 1.6464e-01\n",
      "... distance to target bunch length: 7.8245e-02\n",
      "... distance to target bunch length: -3.7042e-03\n",
      "... distance to target bunch length: -7.4446e-05\n",
      "... distance to target bunch length: -1.7696e-08\n",
      "... distance to target bunch length: 3.0957e-07\n",
      "--> Bunch length: 0.06299998230379811\n",
      "--> Emittance: 0.12255478343691063\n",
      "0.0001967645812012308\n",
      "Laser pulse duration sigma_t = 2.74 ps\n",
      "Laser wavelength = 1031.80 nm\n",
      "Compiling ContextCpu kernels...\n",
      "Done compiling ContextCpu kernels.\n"
     ]
    },
    {
     "name": "stderr",
     "output_type": "stream",
     "text": [
      "29it [23:55, 52.78s/it]"
     ]
    },
    {
     "name": "stdout",
     "output_type": "stream",
     "text": [
      "30/50\n",
      "*** Maximum RMS bunch length 0.23410655471212105m.\n",
      "... distance to target bunch length: -6.3000e-02\n",
      "... distance to target bunch length: 1.6464e-01\n",
      "... distance to target bunch length: 7.8245e-02\n",
      "... distance to target bunch length: -3.7042e-03\n",
      "... distance to target bunch length: -7.4446e-05\n",
      "... distance to target bunch length: -1.7696e-08\n",
      "... distance to target bunch length: 3.0957e-07\n",
      "--> Bunch length: 0.06299998230379811\n",
      "--> Emittance: 0.12255478343691063\n",
      "0.00019699285155550623\n",
      "Laser pulse duration sigma_t = 2.74 ps\n",
      "Laser wavelength = 1031.80 nm\n",
      "Compiling ContextCpu kernels...\n",
      "Done compiling ContextCpu kernels.\n"
     ]
    },
    {
     "name": "stderr",
     "output_type": "stream",
     "text": [
      "30it [24:47, 52.69s/it]"
     ]
    },
    {
     "name": "stdout",
     "output_type": "stream",
     "text": [
      "31/50\n",
      "*** Maximum RMS bunch length 0.23410655471212105m.\n",
      "... distance to target bunch length: -6.3000e-02\n",
      "... distance to target bunch length: 1.6464e-01\n",
      "... distance to target bunch length: 7.8245e-02\n",
      "... distance to target bunch length: -3.7042e-03\n",
      "... distance to target bunch length: -7.4446e-05\n",
      "... distance to target bunch length: -1.7696e-08\n",
      "... distance to target bunch length: 3.0957e-07\n",
      "--> Bunch length: 0.06299998230379811\n",
      "--> Emittance: 0.12255478343691063\n",
      "0.00019948261378992477\n",
      "Laser pulse duration sigma_t = 2.74 ps\n",
      "Laser wavelength = 1031.80 nm\n",
      "Compiling ContextCpu kernels...\n",
      "Done compiling ContextCpu kernels.\n"
     ]
    },
    {
     "name": "stderr",
     "output_type": "stream",
     "text": [
      "31it [25:40, 52.66s/it]"
     ]
    },
    {
     "name": "stdout",
     "output_type": "stream",
     "text": [
      "32/50\n",
      "*** Maximum RMS bunch length 0.23410655471212105m.\n",
      "... distance to target bunch length: -6.3000e-02\n",
      "... distance to target bunch length: 1.6464e-01\n",
      "... distance to target bunch length: 7.8245e-02\n",
      "... distance to target bunch length: -3.7042e-03\n",
      "... distance to target bunch length: -7.4446e-05\n",
      "... distance to target bunch length: -1.7696e-08\n",
      "... distance to target bunch length: 3.0957e-07\n",
      "--> Bunch length: 0.06299998230379811\n",
      "--> Emittance: 0.12255478343691063\n",
      "0.00019962171406413774\n",
      "Laser pulse duration sigma_t = 2.74 ps\n",
      "Laser wavelength = 1031.80 nm\n",
      "Compiling ContextCpu kernels...\n",
      "Done compiling ContextCpu kernels.\n"
     ]
    },
    {
     "name": "stderr",
     "output_type": "stream",
     "text": [
      "32it [26:34, 53.13s/it]"
     ]
    },
    {
     "name": "stdout",
     "output_type": "stream",
     "text": [
      "33/50\n",
      "*** Maximum RMS bunch length 0.23410655471212105m.\n",
      "... distance to target bunch length: -6.3000e-02\n",
      "... distance to target bunch length: 1.6464e-01\n",
      "... distance to target bunch length: 7.8245e-02\n",
      "... distance to target bunch length: -3.7042e-03\n",
      "... distance to target bunch length: -7.4446e-05\n",
      "... distance to target bunch length: -1.7696e-08\n",
      "... distance to target bunch length: 3.0957e-07\n",
      "--> Bunch length: 0.06299998230379811\n",
      "--> Emittance: 0.12255478343691063\n",
      "0.00019812855737796857\n",
      "Laser pulse duration sigma_t = 2.74 ps\n",
      "Laser wavelength = 1031.80 nm\n",
      "Compiling ContextCpu kernels...\n",
      "Done compiling ContextCpu kernels.\n"
     ]
    },
    {
     "name": "stderr",
     "output_type": "stream",
     "text": [
      "33it [27:29, 53.54s/it]"
     ]
    },
    {
     "name": "stdout",
     "output_type": "stream",
     "text": [
      "34/50\n",
      "*** Maximum RMS bunch length 0.23410655471212105m.\n",
      "... distance to target bunch length: -6.3000e-02\n",
      "... distance to target bunch length: 1.6464e-01\n",
      "... distance to target bunch length: 7.8245e-02\n",
      "... distance to target bunch length: -3.7042e-03\n",
      "... distance to target bunch length: -7.4446e-05\n",
      "... distance to target bunch length: -1.7696e-08\n",
      "... distance to target bunch length: 3.0957e-07\n",
      "--> Bunch length: 0.06299998230379811\n",
      "--> Emittance: 0.12255478343691063\n",
      "0.00019929735822715443\n",
      "Laser pulse duration sigma_t = 2.74 ps\n",
      "Laser wavelength = 1031.80 nm\n",
      "Compiling ContextCpu kernels...\n",
      "Done compiling ContextCpu kernels.\n"
     ]
    },
    {
     "name": "stderr",
     "output_type": "stream",
     "text": [
      "34it [28:22, 53.32s/it]"
     ]
    },
    {
     "name": "stdout",
     "output_type": "stream",
     "text": [
      "35/50\n",
      "*** Maximum RMS bunch length 0.23410655471212105m.\n",
      "... distance to target bunch length: -6.3000e-02\n",
      "... distance to target bunch length: 1.6464e-01\n",
      "... distance to target bunch length: 7.8245e-02\n",
      "... distance to target bunch length: -3.7042e-03\n",
      "... distance to target bunch length: -7.4446e-05\n",
      "... distance to target bunch length: -1.7696e-08\n",
      "... distance to target bunch length: 3.0957e-07\n",
      "--> Bunch length: 0.06299998230379811\n",
      "--> Emittance: 0.12255478343691063\n",
      "0.00020077260408910683\n",
      "Laser pulse duration sigma_t = 2.74 ps\n",
      "Laser wavelength = 1031.80 nm\n",
      "Compiling ContextCpu kernels...\n",
      "Done compiling ContextCpu kernels.\n"
     ]
    },
    {
     "name": "stderr",
     "output_type": "stream",
     "text": [
      "35it [29:13, 52.90s/it]"
     ]
    },
    {
     "name": "stdout",
     "output_type": "stream",
     "text": [
      "36/50\n",
      "*** Maximum RMS bunch length 0.23410655471212105m.\n",
      "... distance to target bunch length: -6.3000e-02\n",
      "... distance to target bunch length: 1.6464e-01\n",
      "... distance to target bunch length: 7.8245e-02\n",
      "... distance to target bunch length: -3.7042e-03\n",
      "... distance to target bunch length: -7.4446e-05\n",
      "... distance to target bunch length: -1.7696e-08\n",
      "... distance to target bunch length: 3.0957e-07\n",
      "--> Bunch length: 0.06299998230379811\n",
      "--> Emittance: 0.12255478343691063\n",
      "0.00019491907147517368\n",
      "Laser pulse duration sigma_t = 2.74 ps\n",
      "Laser wavelength = 1031.80 nm\n",
      "Compiling ContextCpu kernels...\n",
      "Done compiling ContextCpu kernels.\n"
     ]
    },
    {
     "name": "stderr",
     "output_type": "stream",
     "text": [
      "36it [30:09, 53.66s/it]"
     ]
    },
    {
     "name": "stdout",
     "output_type": "stream",
     "text": [
      "37/50\n",
      "*** Maximum RMS bunch length 0.23410655471212105m.\n",
      "... distance to target bunch length: -6.3000e-02\n",
      "... distance to target bunch length: 1.6464e-01\n",
      "... distance to target bunch length: 7.8245e-02\n",
      "... distance to target bunch length: -3.7042e-03\n",
      "... distance to target bunch length: -7.4446e-05\n",
      "... distance to target bunch length: -1.7696e-08\n",
      "... distance to target bunch length: 3.0957e-07\n",
      "--> Bunch length: 0.06299998230379811\n",
      "--> Emittance: 0.12255478343691063\n",
      "0.00019542957309395416\n",
      "Laser pulse duration sigma_t = 2.74 ps\n",
      "Laser wavelength = 1031.80 nm\n",
      "Compiling ContextCpu kernels...\n",
      "Done compiling ContextCpu kernels.\n"
     ]
    },
    {
     "name": "stderr",
     "output_type": "stream",
     "text": [
      "37it [31:03, 53.90s/it]"
     ]
    },
    {
     "name": "stdout",
     "output_type": "stream",
     "text": [
      "38/50\n",
      "*** Maximum RMS bunch length 0.23410655471212105m.\n",
      "... distance to target bunch length: -6.3000e-02\n",
      "... distance to target bunch length: 1.6464e-01\n",
      "... distance to target bunch length: 7.8245e-02\n",
      "... distance to target bunch length: -3.7042e-03\n",
      "... distance to target bunch length: -7.4446e-05\n",
      "... distance to target bunch length: -1.7696e-08\n",
      "... distance to target bunch length: 3.0957e-07\n",
      "--> Bunch length: 0.06299998230379811\n",
      "--> Emittance: 0.12255478343691063\n",
      "0.00019697420765324943\n",
      "Laser pulse duration sigma_t = 2.74 ps\n",
      "Laser wavelength = 1031.80 nm\n",
      "Compiling ContextCpu kernels...\n",
      "Done compiling ContextCpu kernels.\n"
     ]
    },
    {
     "name": "stderr",
     "output_type": "stream",
     "text": [
      "38it [31:59, 54.50s/it]"
     ]
    },
    {
     "name": "stdout",
     "output_type": "stream",
     "text": [
      "39/50\n",
      "*** Maximum RMS bunch length 0.23410655471212105m.\n",
      "... distance to target bunch length: -6.3000e-02\n",
      "... distance to target bunch length: 1.6464e-01\n",
      "... distance to target bunch length: 7.8245e-02\n",
      "... distance to target bunch length: -3.7042e-03\n",
      "... distance to target bunch length: -7.4446e-05\n",
      "... distance to target bunch length: -1.7696e-08\n",
      "... distance to target bunch length: 3.0957e-07\n",
      "--> Bunch length: 0.06299998230379811\n",
      "--> Emittance: 0.12255478343691063\n",
      "0.00019951383735611073\n",
      "Laser pulse duration sigma_t = 2.74 ps\n",
      "Laser wavelength = 1031.80 nm\n",
      "Compiling ContextCpu kernels...\n",
      "Done compiling ContextCpu kernels.\n"
     ]
    },
    {
     "name": "stderr",
     "output_type": "stream",
     "text": [
      "39it [32:55, 54.82s/it]"
     ]
    },
    {
     "name": "stdout",
     "output_type": "stream",
     "text": [
      "40/50\n",
      "*** Maximum RMS bunch length 0.23410655471212105m.\n",
      "... distance to target bunch length: -6.3000e-02\n",
      "... distance to target bunch length: 1.6464e-01\n",
      "... distance to target bunch length: 7.8245e-02\n",
      "... distance to target bunch length: -3.7042e-03\n",
      "... distance to target bunch length: -7.4446e-05\n",
      "... distance to target bunch length: -1.7696e-08\n",
      "... distance to target bunch length: 3.0957e-07\n",
      "--> Bunch length: 0.06299998230379811\n",
      "--> Emittance: 0.12255478343691063\n",
      "0.00019703404631557237\n",
      "Laser pulse duration sigma_t = 2.74 ps\n",
      "Laser wavelength = 1031.80 nm\n",
      "Compiling ContextCpu kernels...\n",
      "Done compiling ContextCpu kernels.\n"
     ]
    },
    {
     "name": "stderr",
     "output_type": "stream",
     "text": [
      "40it [33:53, 55.76s/it]"
     ]
    },
    {
     "name": "stdout",
     "output_type": "stream",
     "text": [
      "41/50\n",
      "*** Maximum RMS bunch length 0.23410655471212105m.\n",
      "... distance to target bunch length: -6.3000e-02\n",
      "... distance to target bunch length: 1.6464e-01\n",
      "... distance to target bunch length: 7.8245e-02\n",
      "... distance to target bunch length: -3.7042e-03\n",
      "... distance to target bunch length: -7.4446e-05\n",
      "... distance to target bunch length: -1.7696e-08\n",
      "... distance to target bunch length: 3.0957e-07\n",
      "--> Bunch length: 0.06299998230379811\n",
      "--> Emittance: 0.12255478343691063\n",
      "0.0001935840572220707\n",
      "Laser pulse duration sigma_t = 2.74 ps\n",
      "Laser wavelength = 1031.80 nm\n",
      "Compiling ContextCpu kernels...\n",
      "Done compiling ContextCpu kernels.\n"
     ]
    },
    {
     "name": "stderr",
     "output_type": "stream",
     "text": [
      "41it [34:51, 56.57s/it]"
     ]
    },
    {
     "name": "stdout",
     "output_type": "stream",
     "text": [
      "42/50\n",
      "*** Maximum RMS bunch length 0.23410655471212105m.\n",
      "... distance to target bunch length: -6.3000e-02\n",
      "... distance to target bunch length: 1.6464e-01\n",
      "... distance to target bunch length: 7.8245e-02\n",
      "... distance to target bunch length: -3.7042e-03\n",
      "... distance to target bunch length: -7.4446e-05\n",
      "... distance to target bunch length: -1.7696e-08\n",
      "... distance to target bunch length: 3.0957e-07\n",
      "--> Bunch length: 0.06299998230379811\n",
      "--> Emittance: 0.12255478343691063\n",
      "0.00019461748334073295\n",
      "Laser pulse duration sigma_t = 2.74 ps\n",
      "Laser wavelength = 1031.80 nm\n",
      "Compiling ContextCpu kernels...\n",
      "Done compiling ContextCpu kernels.\n"
     ]
    },
    {
     "name": "stderr",
     "output_type": "stream",
     "text": [
      "42it [35:50, 57.20s/it]"
     ]
    },
    {
     "name": "stdout",
     "output_type": "stream",
     "text": [
      "43/50\n",
      "*** Maximum RMS bunch length 0.23410655471212105m.\n",
      "... distance to target bunch length: -6.3000e-02\n",
      "... distance to target bunch length: 1.6464e-01\n",
      "... distance to target bunch length: 7.8245e-02\n",
      "... distance to target bunch length: -3.7042e-03\n",
      "... distance to target bunch length: -7.4446e-05\n",
      "... distance to target bunch length: -1.7696e-08\n",
      "... distance to target bunch length: 3.0957e-07\n",
      "--> Bunch length: 0.06299998230379811\n",
      "--> Emittance: 0.12255478343691063\n",
      "0.00019960125860590163\n",
      "Laser pulse duration sigma_t = 2.74 ps\n",
      "Laser wavelength = 1031.80 nm\n",
      "Compiling ContextCpu kernels...\n",
      "Done compiling ContextCpu kernels.\n"
     ]
    },
    {
     "name": "stderr",
     "output_type": "stream",
     "text": [
      "43it [36:46, 56.81s/it]"
     ]
    },
    {
     "name": "stdout",
     "output_type": "stream",
     "text": [
      "44/50\n",
      "*** Maximum RMS bunch length 0.23410655471212105m.\n",
      "... distance to target bunch length: -6.3000e-02\n",
      "... distance to target bunch length: 1.6464e-01\n",
      "... distance to target bunch length: 7.8245e-02\n",
      "... distance to target bunch length: -3.7042e-03\n",
      "... distance to target bunch length: -7.4446e-05\n",
      "... distance to target bunch length: -1.7696e-08\n",
      "... distance to target bunch length: 3.0957e-07\n",
      "--> Bunch length: 0.06299998230379811\n",
      "--> Emittance: 0.12255478343691063\n",
      "0.0001973799425782137\n",
      "Laser pulse duration sigma_t = 2.74 ps\n",
      "Laser wavelength = 1031.80 nm\n",
      "Compiling ContextCpu kernels...\n",
      "Done compiling ContextCpu kernels.\n"
     ]
    },
    {
     "name": "stderr",
     "output_type": "stream",
     "text": [
      "44it [37:39, 55.87s/it]"
     ]
    },
    {
     "name": "stdout",
     "output_type": "stream",
     "text": [
      "45/50\n",
      "*** Maximum RMS bunch length 0.23410655471212105m.\n",
      "... distance to target bunch length: -6.3000e-02\n",
      "... distance to target bunch length: 1.6464e-01\n",
      "... distance to target bunch length: 7.8245e-02\n",
      "... distance to target bunch length: -3.7042e-03\n",
      "... distance to target bunch length: -7.4446e-05\n",
      "... distance to target bunch length: -1.7696e-08\n",
      "... distance to target bunch length: 3.0957e-07\n",
      "--> Bunch length: 0.06299998230379811\n",
      "--> Emittance: 0.12255478343691063\n",
      "0.00019808088521311925\n",
      "Laser pulse duration sigma_t = 2.74 ps\n",
      "Laser wavelength = 1031.80 nm\n",
      "Compiling ContextCpu kernels...\n",
      "Done compiling ContextCpu kernels.\n"
     ]
    },
    {
     "name": "stderr",
     "output_type": "stream",
     "text": [
      "45it [38:34, 55.38s/it]"
     ]
    },
    {
     "name": "stdout",
     "output_type": "stream",
     "text": [
      "46/50\n",
      "*** Maximum RMS bunch length 0.23410655471212105m.\n",
      "... distance to target bunch length: -6.3000e-02\n",
      "... distance to target bunch length: 1.6464e-01\n",
      "... distance to target bunch length: 7.8245e-02\n",
      "... distance to target bunch length: -3.7042e-03\n",
      "... distance to target bunch length: -7.4446e-05\n",
      "... distance to target bunch length: -1.7696e-08\n",
      "... distance to target bunch length: 3.0957e-07\n",
      "--> Bunch length: 0.06299998230379811\n",
      "--> Emittance: 0.12255478343691063\n",
      "0.00019730819714519014\n",
      "Laser pulse duration sigma_t = 2.74 ps\n",
      "Laser wavelength = 1031.80 nm\n",
      "Compiling ContextCpu kernels...\n",
      "Done compiling ContextCpu kernels.\n"
     ]
    },
    {
     "name": "stderr",
     "output_type": "stream",
     "text": [
      "46it [39:27, 54.76s/it]"
     ]
    },
    {
     "name": "stdout",
     "output_type": "stream",
     "text": [
      "47/50\n",
      "*** Maximum RMS bunch length 0.23410655471212105m.\n",
      "... distance to target bunch length: -6.3000e-02\n",
      "... distance to target bunch length: 1.6464e-01\n",
      "... distance to target bunch length: 7.8245e-02\n",
      "... distance to target bunch length: -3.7042e-03\n",
      "... distance to target bunch length: -7.4446e-05\n",
      "... distance to target bunch length: -1.7696e-08\n",
      "... distance to target bunch length: 3.0957e-07\n",
      "--> Bunch length: 0.06299998230379811\n",
      "--> Emittance: 0.12255478343691063\n",
      "0.0001951658231159571\n",
      "Laser pulse duration sigma_t = 2.74 ps\n",
      "Laser wavelength = 1031.80 nm\n",
      "Compiling ContextCpu kernels...\n",
      "Done compiling ContextCpu kernels.\n"
     ]
    },
    {
     "name": "stderr",
     "output_type": "stream",
     "text": [
      "47it [40:21, 54.53s/it]"
     ]
    },
    {
     "name": "stdout",
     "output_type": "stream",
     "text": [
      "48/50\n",
      "*** Maximum RMS bunch length 0.23410655471212105m.\n",
      "... distance to target bunch length: -6.3000e-02\n",
      "... distance to target bunch length: 1.6464e-01\n",
      "... distance to target bunch length: 7.8245e-02\n",
      "... distance to target bunch length: -3.7042e-03\n",
      "... distance to target bunch length: -7.4446e-05\n",
      "... distance to target bunch length: -1.7696e-08\n",
      "... distance to target bunch length: 3.0957e-07\n",
      "--> Bunch length: 0.06299998230379811\n",
      "--> Emittance: 0.12255478343691063\n",
      "0.00019705024463745956\n",
      "Laser pulse duration sigma_t = 2.74 ps\n",
      "Laser wavelength = 1031.80 nm\n",
      "Compiling ContextCpu kernels...\n",
      "Done compiling ContextCpu kernels.\n"
     ]
    },
    {
     "name": "stderr",
     "output_type": "stream",
     "text": [
      "48it [41:18, 55.41s/it]"
     ]
    },
    {
     "name": "stdout",
     "output_type": "stream",
     "text": [
      "49/50\n",
      "*** Maximum RMS bunch length 0.23410655471212105m.\n",
      "... distance to target bunch length: -6.3000e-02\n",
      "... distance to target bunch length: 1.6464e-01\n",
      "... distance to target bunch length: 7.8245e-02\n",
      "... distance to target bunch length: -3.7042e-03\n",
      "... distance to target bunch length: -7.4446e-05\n",
      "... distance to target bunch length: -1.7696e-08\n",
      "... distance to target bunch length: 3.0957e-07\n",
      "--> Bunch length: 0.06299998230379811\n",
      "--> Emittance: 0.12255478343691063\n",
      "0.00019675065556289855\n",
      "Laser pulse duration sigma_t = 2.74 ps\n",
      "Laser wavelength = 1031.80 nm\n",
      "Compiling ContextCpu kernels...\n",
      "Done compiling ContextCpu kernels.\n"
     ]
    },
    {
     "name": "stderr",
     "output_type": "stream",
     "text": [
      "49it [42:22, 57.93s/it]"
     ]
    },
    {
     "name": "stdout",
     "output_type": "stream",
     "text": [
      "50/50\n",
      "*** Maximum RMS bunch length 0.23410655471212105m.\n",
      "... distance to target bunch length: -6.3000e-02\n",
      "... distance to target bunch length: 1.6464e-01\n",
      "... distance to target bunch length: 7.8245e-02\n",
      "... distance to target bunch length: -3.7042e-03\n",
      "... distance to target bunch length: -7.4446e-05\n",
      "... distance to target bunch length: -1.7696e-08\n",
      "... distance to target bunch length: 3.0957e-07\n",
      "--> Bunch length: 0.06299998230379811\n",
      "--> Emittance: 0.12255478343691063\n",
      "0.0001991597188122318\n",
      "Laser pulse duration sigma_t = 2.74 ps\n",
      "Laser wavelength = 1031.80 nm\n",
      "Compiling ContextCpu kernels...\n",
      "Done compiling ContextCpu kernels.\n"
     ]
    },
    {
     "name": "stderr",
     "output_type": "stream",
     "text": [
      "50it [43:23, 52.06s/it]\n"
     ]
    }
   ],
   "source": [
    "sig_delta_list = np.linspace(2e-5, 2.2e-4, 2)\n",
    "sig_delta_list = np.linspace(1.8e-4, 2.2e-4, 1)\n",
    "n_emitt_list=np.linspace(1e-7,1.7e-6,50)\n",
    "\n",
    "# sig_delta_list = np.linspace(0.4e-4, 1e-4, 10)\n",
    "# n_emitt_list=np.linspace(0.5e-6,1.5e-6,10)\n",
    "\n",
    "\n",
    "transverse_cooling_rate_array = np.zeros((len(sig_delta_list), len(n_emitt_list)))\n",
    "longitudinal_growth_rate_array = np.zeros((len(sig_delta_list), len(n_emitt_list)))\n",
    "\n",
    "for ion_loop in [lead]:\n",
    "        # Ion properties:\n",
    "        q0 = ion_loop.q0\n",
    "        mass0 = ion_loop.mass0\n",
    "\n",
    "        gamma = ion_loop.gamma_cooling\n",
    "        beta=  np.sqrt(1-1/(gamma*gamma))\n",
    "        p0c = mass0*gamma*beta #eV/c\n",
    "\n",
    "        bunch_intensity = ion_loop.bunch_intensity\n",
    "\n",
    "        particle_ref = xp.Particles(p0c=p0c, mass0=mass0, q0=q0,gamma0=gamma)\n",
    "\n",
    "        line.particle_ref=particle_ref\n",
    "\n",
    "\n",
    "        #nemitt = 1.5e-6 # m*rad (normalized emittance)\n",
    "        sigma_z = ion_loop.bunch_length #m\n",
    "\n",
    "\n",
    "\n",
    "        num_particles=int(5e3)\n",
    "\n",
    "        line_arc=xt.Line(\n",
    "                elements=[arc])\n",
    "        line_arc.build_tracker()\n",
    "\n",
    "\n",
    "        for j, n_emitt_loop in tqdm(enumerate(n_emitt_list)):\n",
    "            print(f'{j+1}/{len(n_emitt_list)}')    \n",
    "            for k, sig_delta_loop in enumerate(sig_delta_list):\n",
    "            \n",
    "                particles = xp.generate_matched_gaussian_bunch(\n",
    "                        num_particles=num_particles,\n",
    "                        total_intensity_particles=bunch_intensity,\n",
    "                        nemitt_x=n_emitt_loop, nemitt_y=n_emitt_loop, sigma_z=sigma_z,\n",
    "                        particle_ref=particle_ref,\n",
    "                        line=line_arc,        \n",
    "                        )\n",
    "\n",
    "                particles0=particles.copy()\n",
    "                # sigma_dp=2e-4  \n",
    "                sigma_dp=np.std(particles.delta)\n",
    "                print(sigma_dp)\n",
    "                sigma_dp=2e-4  \n",
    "                \n",
    "                ##################\n",
    "                # Laser Cooler #\n",
    "                ##################\n",
    "\n",
    "                #laser-ion beam collision angle\n",
    "                theta_l = 2.6*np.pi/180 # rad\n",
    "                nx = 0; ny = -np.sin(theta_l); nz = -np.cos(theta_l)\n",
    "\n",
    "                # Ion excitation energy:\n",
    "                ion_excited_lifetime=ion_loop.excited_lifetime\n",
    "                hw0 = ion_loop.hw0 # eV\n",
    "                hc=constants.hbar*clight/constants.e # eV*m (ħc)\n",
    "                lambda_0 = 2*np.pi*hc/hw0 # m -- ion excitation wavelength\n",
    "\n",
    "                lambda_l = ion_loop.lambda_l\n",
    "\n",
    "                # # Shift laser wavelength for fast longitudinal cooling:5\n",
    "                # lambda_l = lambda_l*(1+1*sigma_dp) # m\n",
    "\n",
    "                laser_frequency = clight/lambda_l # Hz\n",
    "                sigma_w = 2*np.pi*laser_frequency*sigma_dp\n",
    "                #sigma_w = 2*np.pi*laser_frequency*sigma_dp/2 # for fast longitudinal cooling\n",
    "\n",
    "                sigma_t = 1/sigma_w # sec -- Fourier-limited laser pulse\n",
    "                print('Laser pulse duration sigma_t = %.2f ps' % (sigma_t/1e-12))\n",
    "                print('Laser wavelength = %.2f nm' % (lambda_l/1e-9))\n",
    "\n",
    "                laser_waist_radius = 1.3e-3 #m\n",
    "                laser_energy = 5e-3\n",
    "                laser_x = ion_loop.laser_x\n",
    "               \n",
    "                GF_IP = xt.PulsedLaser(\n",
    "                                laser_x=laser_x,\n",
    "                                laser_y=0,\n",
    "                                laser_z=0,\n",
    "                                \n",
    "                                laser_direction_nx = 0,\n",
    "                                laser_direction_ny = ny,\n",
    "                                laser_direction_nz = nz,\n",
    "                                laser_energy         = laser_energy, # J\n",
    "                                laser_duration_sigma = sigma_t, # sec\n",
    "                                laser_wavelength = lambda_l, # m\n",
    "                                laser_waist_radius = laser_waist_radius, # m\n",
    "                                laser_waist_shift = 0, # m\n",
    "                                ion_excitation_energy = hw0, # eV\n",
    "                                ion_excited_lifetime  = ion_excited_lifetime, # sec                   \n",
    "                                )\n",
    "\n",
    "                # simulation parameters: simulate 10 s of cooling, and take data once every 100 ms\n",
    "                max_time_s = 1\n",
    "                int_time_s = 0.01\n",
    "                T_per_turn = circumference/(clight*beta)\n",
    "                num_turns = int(max_time_s/T_per_turn)\n",
    "                save_interval = int(int_time_s/T_per_turn)\n",
    "\n",
    "                # num_turns = int(1e3)\n",
    "                # save_interval = num_turns/100\n",
    "                # # save_interval=1\n",
    "\n",
    "                # create a monitor object, to reduce holded data\n",
    "                monitor = xt.ParticlesMonitor(start_at_turn=0, stop_at_turn=1,\n",
    "                                        n_repetitions=int(num_turns/save_interval),\n",
    "                                        repetition_period=save_interval,\n",
    "                                        num_particles=num_particles)\n",
    "\n",
    "\n",
    "                # line.discard_tracker()\n",
    "                # IP_index=16675   \n",
    "                # line.insert_element('monitor', element=monitor, index=IP_index)\n",
    "                # line.insert_element('GF_IP', element=GF_IP, index=IP_index) #this way monitor comes after the laser\n",
    "                # SPS_line.append_element(monitor,'monitor')\n",
    "                # SPS_line.append_element(GF_IP,'GF_IP')\n",
    "                            \n",
    "                particles=particles0.copy()\n",
    "\n",
    "                line = xt.Line(\n",
    "                        elements=[monitor,GF_IP,arc])\n",
    "\n",
    "                context = xo.ContextCpu(omp_num_threads=1)\n",
    "                line.build_tracker(_context=context)\n",
    "                # line.optimize_for_tracking()\n",
    "\n",
    "                line.track(particles, num_turns=num_turns,\n",
    "                        turn_by_turn_monitor=False,with_progress=False)\n",
    "\n",
    "                # extract relevant values\n",
    "                x = monitor.x[:,:,0]\n",
    "                px = monitor.px[:,:,0]\n",
    "                y = monitor.y[:,:,0]\n",
    "                py = monitor.py[:,:,0]\n",
    "                delta = monitor.delta[:,:,0]\n",
    "                zeta = monitor.zeta[:,:,0]\n",
    "                state = monitor.state[:,:,0]\n",
    "                time = monitor.at_turn[:, 0, 0] * T_per_turn\n",
    "\n",
    "                gamma_x=(1+alpha_x**2)/beta_x\n",
    "                gamma_y=(1+alpha_y**2)/beta_y\n",
    "\n",
    "                action_x = (gamma_x*(x-Dx*delta)**2 + 2*alpha_x*(x-Dx*delta)*(px-Dpx*delta)+ beta_x*(px-Dpx*delta)**2)\n",
    "                action_y = (gamma_y*(y-Dy*delta)**2 + 2*alpha_y*(y-Dy*delta)*(py-Dpy*delta)+ beta_y*(py-Dpy*delta)**2)\n",
    "\n",
    "                emittance_x=np.mean(action_x,axis=1)*gamma/2\n",
    "\n",
    "                # Define the exponential function\n",
    "                def exponential_func(x, a, b):\n",
    "                        return a * np.exp(x * b)\n",
    "                \n",
    "                # Fit the data to the exponential function\n",
    "                params_transverse, covariance = curve_fit(exponential_func, time, emittance_x)\n",
    "\n",
    "                # Extract the parameters\n",
    "                a, b = params_transverse\n",
    "\n",
    "                transverse_cooling_rate=b\n",
    "\n",
    "                \n",
    "\n",
    "                # plt.plot(time,emittance_x*1e6, linewidth=5.0)\n",
    "                # plt.plot(time, exponential_func(time,\n",
    "                # *params_transverse) * 1e6, linestyle='--')\n",
    "                \n",
    "                # Fit the data to the exponential function\n",
    "                rms_dp_p = np.std(delta, axis=1)\n",
    "                window_size = 10  # or any other suitable value\n",
    "                rms_dp_p_smoothed = np.convolve(rms_dp_p, np.ones(window_size)/window_size, mode='valid')\n",
    "\n",
    "\n",
    "                params_longitudinal, covariance = curve_fit(exponential_func, time[:len(rms_dp_p_smoothed)], rms_dp_p_smoothed)\n",
    "\n",
    "                # Extract the parameters\n",
    "                a, b = params_longitudinal\n",
    "\n",
    "                longitudinal_growth_rate=b\n",
    "\n",
    "                \n",
    "    \n",
    "    \n",
    "                transverse_cooling_rate_array[k, j] = transverse_cooling_rate\n",
    "                longitudinal_growth_rate_array[k, j] = longitudinal_growth_rate\n",
    "\n",
    "np.savez(f'results/cooling_rate_scan/{ion_loop.name}.npz',\n",
    "            transverse_cooling_rate_array=transverse_cooling_rate_array,\n",
    "            longitudinal_growth_rate_array=longitudinal_growth_rate_array,\n",
    "            sig_delta_list=sig_delta_list,\n",
    "            n_emitt_list=n_emitt_list\n",
    "            )"
   ]
  }
 ],
 "metadata": {
  "kernelspec": {
   "display_name": "xsuite_2023",
   "language": "python",
   "name": "python3"
  },
  "language_info": {
   "codemirror_mode": {
    "name": "ipython",
    "version": 3
   },
   "file_extension": ".py",
   "mimetype": "text/x-python",
   "name": "python",
   "nbconvert_exporter": "python",
   "pygments_lexer": "ipython3",
   "version": "3.12.3"
  },
  "orig_nbformat": 4
 },
 "nbformat": 4,
 "nbformat_minor": 2
}
