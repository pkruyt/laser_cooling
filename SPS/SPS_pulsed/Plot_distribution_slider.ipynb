{
 "cells": [
  {
   "cell_type": "code",
   "execution_count": 19,
   "id": "56e455f6",
   "metadata": {},
   "outputs": [],
   "source": [
    "import numpy as np\n",
    "import matplotlib.pyplot as plt\n",
    "\n",
    "\n",
    "\n",
    "loaded_data = np.load('results/Pulsed_data.npz')\n",
    "\n",
    "\n",
    "\n",
    "zeta = loaded_data['zeta']\n",
    "delta = loaded_data['delta']\n",
    "state = loaded_data['state']\n",
    "x = loaded_data['x']*1e3\n",
    "time=loaded_data['time']\n",
    "#slip_factor=loaded_data['slip_factor']\n",
    "s_per_turn=loaded_data['s_per_turn']\n",
    "\n",
    "\n",
    "excited=state==2\n",
    "delta_std = np.std(delta, axis=1)\n",
    "\n",
    "\n",
    "exc0=excited[1,:]\n",
    "\n",
    "fraction_excited=sum(exc0)/len(exc0)*100\n",
    "\n",
    "fraction_excited=[]\n",
    "for i in range(len(excited)):\n",
    "    fraction_excited.append(100*sum(excited[i])/len(excited[i]))\n"
   ]
  },
  {
   "cell_type": "code",
   "execution_count": 20,
   "id": "35531d39",
   "metadata": {},
   "outputs": [
    {
     "data": {
      "text/plain": [
       "array([ 0.        ,  0.4611108 ,  0.92222159,  1.38333239,  1.84444318,\n",
       "        2.30555398,  2.76666477,  3.22777557,  3.68888636,  4.14999716,\n",
       "        4.61110795,  5.07221875,  5.53332954,  5.99444034,  6.45555113,\n",
       "        6.91666193,  7.37777272,  7.83888352,  8.29999431,  8.76110511,\n",
       "        9.2222159 ,  9.6833267 , 10.14443749, 10.60554829, 11.06665908,\n",
       "       11.52776988, 11.98888067, 12.44999147, 12.91110226, 13.37221306,\n",
       "       13.83332385, 14.29443465, 14.75554544, 15.21665624, 15.67776703,\n",
       "       16.13887783, 16.59998862, 17.06109942, 17.52221021, 17.98332101,\n",
       "       18.4444318 , 18.9055426 , 19.36665339, 19.82776419, 20.28887498,\n",
       "       20.74998578, 21.21109657, 21.67220737, 22.13331816, 22.59442896,\n",
       "       23.05553975, 23.51665055, 23.97776134, 24.43887214, 24.89998293,\n",
       "       25.36109373, 25.82220452, 26.28331532, 26.74442611, 27.20553691,\n",
       "       27.6666477 , 28.1277585 , 28.58886929, 29.04998009, 29.51109088,\n",
       "       29.97220168, 30.43331247, 30.89442327, 31.35553406, 31.81664486,\n",
       "       32.27775565, 32.73886645, 33.19997724, 33.66108804, 34.12219883,\n",
       "       34.58330963, 35.04442042, 35.50553122, 35.96664201, 36.42775281,\n",
       "       36.8888636 , 37.3499744 , 37.81108519, 38.27219599, 38.73330678,\n",
       "       39.19441758, 39.65552837, 40.11663917, 40.57774996, 41.03886076,\n",
       "       41.49997155, 41.96108235, 42.42219314, 42.88330394, 43.34441473,\n",
       "       43.80552553, 44.26663632, 44.72774712, 45.18885791, 45.64996871])"
      ]
     },
     "execution_count": 20,
     "metadata": {},
     "output_type": "execute_result"
    }
   ],
   "source": [
    "time"
   ]
  },
  {
   "cell_type": "code",
   "execution_count": 23,
   "id": "b73583e4",
   "metadata": {},
   "outputs": [
    {
     "data": {
      "application/vnd.jupyter.widget-view+json": {
       "model_id": "012754f9dcf245f3897d2c60305867b8",
       "version_major": 2,
       "version_minor": 0
      },
      "text/plain": [
       "interactive(children=(IntSlider(value=0, description='turn', max=99), Output()), _dom_classes=('widget-interac…"
      ]
     },
     "metadata": {},
     "output_type": "display_data"
    },
    {
     "data": {
      "text/plain": [
       "<function __main__.update_plot(turn)>"
      ]
     },
     "execution_count": 23,
     "metadata": {},
     "output_type": "execute_result"
    }
   ],
   "source": [
    "from ipywidgets import interact, IntSlider\n",
    "\n",
    "bins = 50\n",
    "\n",
    "# Get the range of the initial delta distribution for setting consistent axis limits\n",
    "initial_delta_range = np.histogram(delta[0, :], bins=bins)[1]\n",
    "\n",
    "# Determine the maximum count for the y-axis limit\n",
    "max_count_all_turns = np.max([np.max(np.histogram(p, bins=bins)[0]) for p in delta])\n",
    "\n",
    "# Function to update the plot based on the slider value\n",
    "def update_plot(turn):\n",
    "    plt.figure(figsize=(20, 10))\n",
    "    plt.rcParams.update({'font.size': 25})\n",
    "    plt.hist(delta[turn, :], bins=bins, edgecolor='black', label='Delta Distribution')\n",
    "    \n",
    "    # Uncomment the following lines if you want to plot a Gaussian PDF for comparison\n",
    "    # plt.plot(particles_init, scale * norm.pdf(particles_init, loc=mean, scale=std_dev), \n",
    "    #          label='Gaussian PDF', color='orange', linestyle='--')\n",
    "    \n",
    "    plt.title(f'Delta Distribution After {time[turn]:.2f} sec')\n",
    "    plt.xlabel('Delta Value')\n",
    "    plt.ylabel('Number of Particles')\n",
    "    plt.legend()\n",
    "    \n",
    "    # Set consistent x-axis limits based on the range of the initial delta distribution\n",
    "    plt.xlim(initial_delta_range[0], initial_delta_range[-1])\n",
    "    \n",
    "    # Set y-axis limit based on the maximum count across all turns\n",
    "    plt.ylim([0, max_count_all_turns])\n",
    "    \n",
    "    # Format axis labels using scientific notation\n",
    "    plt.ticklabel_format(style='sci', axis='x', scilimits=(0, 0))\n",
    "    plt.ticklabel_format(style='sci', axis='y', scilimits=(0, 0))\n",
    "    \n",
    "    plt.show()\n",
    "\n",
    "# Create an interactive slider using ipywidgets\n",
    "interact(update_plot, turn=IntSlider(min=0, max=delta.shape[0]-1, step=1, value=0))\n"
   ]
  },
  {
   "cell_type": "code",
   "execution_count": 22,
   "id": "924ddbbd",
   "metadata": {},
   "outputs": [
    {
     "data": {
      "application/vnd.jupyter.widget-view+json": {
       "model_id": "b37d4ecbe6f64fe68e707e4f52cb504e",
       "version_major": 2,
       "version_minor": 0
      },
      "text/plain": [
       "interactive(children=(IntSlider(value=0, description='turn', max=99), Output()), _dom_classes=('widget-interac…"
      ]
     },
     "metadata": {},
     "output_type": "display_data"
    },
    {
     "data": {
      "text/plain": [
       "<function __main__.update_plot(turn)>"
      ]
     },
     "execution_count": 22,
     "metadata": {},
     "output_type": "execute_result"
    }
   ],
   "source": [
    "from ipywidgets import interact, IntSlider\n",
    "\n",
    "bins = 50\n",
    "\n",
    "# Get the range of the initial zeta distribution for setting consistent axis limits\n",
    "initial_zeta_range = np.histogram(zeta[0, :], bins=bins)[1]\n",
    "\n",
    "# Determine the maximum count for the y-axis limit\n",
    "max_count_all_turns = np.max([np.max(np.histogram(p, bins=bins)[0]) for p in zeta])\n",
    "\n",
    "# Function to update the plot based on the slider value\n",
    "def update_plot(turn):\n",
    "    plt.figure(figsize=(20, 10))\n",
    "    plt.rcParams.update({'font.size': 25})\n",
    "    plt.hist(zeta[turn, :], bins=bins, edgecolor='black', label='Zeta Distribution')\n",
    "    \n",
    "    # Uncomment the following lines if you want to plot a Gaussian PDF for comparison\n",
    "    # plt.plot(particles_init, scale * norm.pdf(particles_init, loc=mean, scale=std_dev), \n",
    "    #          label='Gaussian PDF', color='orange', linestyle='--')\n",
    "    \n",
    "    plt.title(f'Zeta Distribution After {time[turn]:.2f} sec')\n",
    "    plt.xlabel('Zeta Value')\n",
    "    plt.ylabel('Number of Particles')\n",
    "    plt.legend()\n",
    "    \n",
    "    # Set consistent x-axis limits based on the range of the initial zeta distribution\n",
    "    plt.xlim(initial_zeta_range[0], initial_zeta_range[-1])\n",
    "    \n",
    "    # Set y-axis limit based on the maximum count across all turns\n",
    "    plt.ylim([0, max_count_all_turns])\n",
    "    \n",
    "    # Format axis labels using scientific notation\n",
    "    plt.ticklabel_format(style='sci', axis='x', scilimits=(0, 0))\n",
    "    plt.ticklabel_format(style='sci', axis='y', scilimits=(0, 0))\n",
    "    \n",
    "    plt.show()\n",
    "\n",
    "# Create an interactive slider using ipywidgets\n",
    "interact(update_plot, turn=IntSlider(min=0, max=zeta.shape[0]-1, step=1, value=0))\n"
   ]
  }
 ],
 "metadata": {
  "kernelspec": {
   "display_name": "base",
   "language": "python",
   "name": "python3"
  },
  "language_info": {
   "codemirror_mode": {
    "name": "ipython",
    "version": 3
   },
   "file_extension": ".py",
   "mimetype": "text/x-python",
   "name": "python",
   "nbconvert_exporter": "python",
   "pygments_lexer": "ipython3",
   "version": "3.11.3"
  },
  "vscode": {
   "interpreter": {
    "hash": "b3c9a0a5475e728b39e61ac58d244ad936924f9cf82746515a9faeb1f1a0b703"
   }
  }
 },
 "nbformat": 4,
 "nbformat_minor": 5
}
