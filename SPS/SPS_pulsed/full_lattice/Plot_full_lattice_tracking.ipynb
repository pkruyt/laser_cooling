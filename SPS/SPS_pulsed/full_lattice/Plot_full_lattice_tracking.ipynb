{
 "cells": [
  {
   "cell_type": "code",
   "execution_count": 3,
   "id": "e4055d8b",
   "metadata": {},
   "outputs": [],
   "source": [
    "import numpy as np\n",
    "import matplotlib.pyplot as plt\n",
    "from scipy import constants \n",
    "from scipy.optimize import curve_fit\n"
   ]
  },
  {
   "cell_type": "code",
   "execution_count": 4,
   "id": "c6b01141",
   "metadata": {},
   "outputs": [],
   "source": [
    "from ion_properties import lead,xenon,calcium\n",
    "\n",
    "ions=lead"
   ]
  },
  {
   "cell_type": "code",
   "execution_count": 1,
   "id": "a7443dd4",
   "metadata": {},
   "outputs": [
    {
     "ename": "NameError",
     "evalue": "name 'np' is not defined",
     "output_type": "error",
     "traceback": [
      "\u001b[0;31m---------------------------------------------------------------------------\u001b[0m",
      "\u001b[0;31mNameError\u001b[0m                                 Traceback (most recent call last)",
      "Cell \u001b[0;32mIn[1], line 1\u001b[0m\n\u001b[0;32m----> 1\u001b[0m loaded_data \u001b[38;5;241m=\u001b[39m np\u001b[38;5;241m.\u001b[39mload(\u001b[38;5;124mf\u001b[39m\u001b[38;5;124m'\u001b[39m\u001b[38;5;124mresults/\u001b[39m\u001b[38;5;132;01m{\u001b[39;00mions\u001b[38;5;241m.\u001b[39mname\u001b[38;5;132;01m}\u001b[39;00m\u001b[38;5;124m.npz\u001b[39m\u001b[38;5;124m'\u001b[39m)\n\u001b[1;32m      3\u001b[0m delta \u001b[38;5;241m=\u001b[39m loaded_data[\u001b[38;5;124m'\u001b[39m\u001b[38;5;124mdelta\u001b[39m\u001b[38;5;124m'\u001b[39m]\n\u001b[1;32m      4\u001b[0m zeta \u001b[38;5;241m=\u001b[39m loaded_data[\u001b[38;5;124m'\u001b[39m\u001b[38;5;124mzeta\u001b[39m\u001b[38;5;124m'\u001b[39m]\n",
      "\u001b[0;31mNameError\u001b[0m: name 'np' is not defined"
     ]
    }
   ],
   "source": [
    "loaded_data = np.load(f'results/{ions.name}.npz')\n",
    "\n",
    "delta = loaded_data['delta']\n",
    "zeta = loaded_data['zeta']\n",
    "state = loaded_data['state']\n",
    "x = loaded_data['x']\n",
    "time=loaded_data['time']\n",
    "s_per_turn=loaded_data['s_per_turn']\n",
    "px=loaded_data['px']\n",
    "action_x=loaded_data['action_x']\n",
    "action_y=loaded_data['action_y']\n",
    "emittance_x=loaded_data['emittance_x']\n",
    "\n",
    "\n",
    "plt.figure(figsize=(12, 8))\n",
    "plt.rcParams.update({'font.size': 25})\n",
    "plt.plot(time,emittance_x)\n",
    "plt.xlabel('time [s]')\n",
    "plt.ylabel('emittance x ')\n",
    "ax = plt.gca()\n",
    "# Removing the offset from the y-axis tick labels\n",
    "ax.yaxis.get_major_formatter().set_useOffset(False)\n",
    "# plt.ticklabel_format(style='sci', axis='x', scilimits=(0,0))\n",
    "plt.ticklabel_format(style='sci', axis='y', scilimits=(0,0))\n",
    "plt.show()"
   ]
  },
  {
   "cell_type": "markdown",
   "id": "d2ffa516",
   "metadata": {},
   "source": [
    "Transverse cooling for all ions"
   ]
  },
  {
   "cell_type": "code",
   "execution_count": null,
   "id": "4eb0754f",
   "metadata": {},
   "outputs": [],
   "source": [
    "# growth_rate_list=[]\n",
    "# ion_names=[ion.name for ion in ions]\n",
    "# ion_energy=[ion.hw0 for ion in ions]\n",
    "\n",
    "\n",
    "\n",
    "\n",
    "# plt.figure(figsize=(12, 8))\n",
    "# plt.rcParams.update({'font.size': 25})\n",
    "\n",
    "# for ion in ions:\n",
    "#     loaded_data = np.load(f'results/{ion.name}.npz')\n",
    "\n",
    "#     delta = loaded_data['delta']\n",
    "#     zeta = loaded_data['zeta']\n",
    "#     state = loaded_data['state']\n",
    "#     x = loaded_data['x']*1e3\n",
    "#     time=loaded_data['time']\n",
    "#     s_per_turn=loaded_data['s_per_turn']\n",
    "#     px=loaded_data['px']\n",
    "#     action_x=loaded_data['action_x']\n",
    "#     action_y=loaded_data['action_y']\n",
    "#     emittance_x=loaded_data['emittance_x']\n",
    "\n",
    "#      # Define the exponential function\n",
    "#     def exponential_func(x, a, b):\n",
    "#         return emittance_x[0] * np.exp(x * b)\n",
    "\n",
    "#     # Fit the data to the exponential function\n",
    "#     params, covariance = curve_fit(exponential_func, time, emittance_x)\n",
    "\n",
    "#     # Extract the parameters\n",
    "#     a, b = params\n",
    "#     growth_rate_list.append(b)\n",
    "\n",
    "#     plt.plot(time,emittance_x*1e6, label=f'{ion.name}', linewidth=5.0)\n",
    "# plt.xlabel(r'Time [s]')\n",
    "# plt.ylabel(r'Normalised emittance $\\epsilon_x$ [mm mrad]')\n",
    "# plt.legend()\n",
    "# plt.tight_layout()\n",
    "# plt.savefig('Transverse_laser_cooling_rates.png', dpi=300)\n",
    "# plt.show()"
   ]
  }
 ],
 "metadata": {
  "kernelspec": {
   "display_name": "base",
   "language": "python",
   "name": "python3"
  },
  "language_info": {
   "codemirror_mode": {
    "name": "ipython",
    "version": 3
   },
   "file_extension": ".py",
   "mimetype": "text/x-python",
   "name": "python",
   "nbconvert_exporter": "python",
   "pygments_lexer": "ipython3",
   "version": "3.12.3"
  },
  "vscode": {
   "interpreter": {
    "hash": "b3c9a0a5475e728b39e61ac58d244ad936924f9cf82746515a9faeb1f1a0b703"
   }
  }
 },
 "nbformat": 4,
 "nbformat_minor": 5
}
