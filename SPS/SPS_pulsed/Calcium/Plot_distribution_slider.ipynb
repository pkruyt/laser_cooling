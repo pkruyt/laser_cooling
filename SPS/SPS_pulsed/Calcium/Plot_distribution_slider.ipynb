{
 "cells": [
  {
   "cell_type": "code",
   "execution_count": 6,
   "id": "56e455f6",
   "metadata": {},
   "outputs": [],
   "source": [
    "import numpy as np\n",
    "import matplotlib.pyplot as plt\n",
    "\n",
    "\n",
    "\n",
    "loaded_data = np.load('results/Pulsed_data.npz')\n",
    "\n",
    "\n",
    "\n",
    "zeta = loaded_data['zeta']\n",
    "delta = loaded_data['delta']\n",
    "state = loaded_data['state']\n",
    "x = loaded_data['x']*1e3\n",
    "time=loaded_data['time']\n",
    "s_per_turn=loaded_data['s_per_turn']\n",
    "\n",
    "\n",
    "excited=state==2\n",
    "delta_std = np.std(delta, axis=1)\n",
    "\n",
    "\n",
    "exc0=excited[1,:]\n",
    "\n",
    "fraction_excited=sum(exc0)/len(exc0)*100\n",
    "\n",
    "fraction_excited=[]\n",
    "for i in range(len(excited)):\n",
    "    fraction_excited.append(100*sum(excited[i])/len(excited[i]))\n"
   ]
  },
  {
   "cell_type": "code",
   "execution_count": 7,
   "id": "b73583e4",
   "metadata": {},
   "outputs": [
    {
     "data": {
      "application/vnd.jupyter.widget-view+json": {
       "model_id": "83a31541df3c40e2858febb139a67983",
       "version_major": 2,
       "version_minor": 0
      },
      "text/plain": [
       "interactive(children=(IntSlider(value=0, description='turn', max=999), Output()), _dom_classes=('widget-intera…"
      ]
     },
     "metadata": {},
     "output_type": "display_data"
    },
    {
     "data": {
      "text/plain": [
       "<function __main__.update_plot(turn)>"
      ]
     },
     "execution_count": 7,
     "metadata": {},
     "output_type": "execute_result"
    }
   ],
   "source": [
    "from ipywidgets import interact, IntSlider\n",
    "from scipy.stats import norm\n",
    "\n",
    "bins = 50\n",
    "\n",
    "# Get the range of the initial delta distribution for setting consistent axis limits\n",
    "initial_delta_range = np.histogram(delta[0, :], bins=bins)[1]\n",
    "\n",
    "# Determine the maximum count for the y-axis limit\n",
    "max_count_all_turns = np.max([np.max(np.histogram(p, bins=bins)[0]) for p in delta])\n",
    "\n",
    "delta_first_turn=delta[0, :]\n",
    "\n",
    "# Function to update the plot based on the slider value\n",
    "def update_plot(turn):\n",
    "    plt.figure(figsize=(20, 10))\n",
    "    plt.rcParams.update({'font.size': 25})\n",
    "\n",
    "    #plt.hist(delta[turn, :], bins=bins, edgecolor='black', label='Delta Distribution')\n",
    "    plt.hist(delta_first_turn, bins=bins, color='blue', alpha=0.7, label='First Turn',  linewidth=5)\n",
    "    plt.hist(delta[turn, :], bins=bins, color='red', alpha=1, label='Delta Distribution', histtype='step', linewidth=5)\n",
    "\n",
    "    # plt.plot(particles_init, norm.pdf(particles_init, loc=mean, scale=std_dev), label='Gaussian PDF')\n",
    "        \n",
    "    plt.title(f'Delta Distribution After {time[turn]:.2f} sec')\n",
    "    plt.xlabel('Delta Value')\n",
    "    plt.ylabel('Number of Particles')\n",
    "    plt.legend()\n",
    "    \n",
    "    # Set consistent x-axis limits based on the range of the initial delta distribution\n",
    "    plt.xlim(initial_delta_range[0], initial_delta_range[-1])\n",
    "    \n",
    "    # Set y-axis limit based on the maximum count across all turns\n",
    "    plt.ylim([0, max_count_all_turns])\n",
    "    \n",
    "    # Format axis labels using scientific notation\n",
    "    plt.ticklabel_format(style='sci', axis='x', scilimits=(0, 0))\n",
    "    plt.ticklabel_format(style='sci', axis='y', scilimits=(0, 0))\n",
    "    \n",
    "    plt.show()\n",
    "\n",
    "# Create an interactive slider using ipywidgets\n",
    "interact(update_plot, turn=IntSlider(min=0, max=delta.shape[0]-1, step=1, value=0))\n"
   ]
  },
  {
   "cell_type": "code",
   "execution_count": 8,
   "id": "924ddbbd",
   "metadata": {},
   "outputs": [
    {
     "data": {
      "application/vnd.jupyter.widget-view+json": {
       "model_id": "aff10a6b90db4492b9bf5b6660b38347",
       "version_major": 2,
       "version_minor": 0
      },
      "text/plain": [
       "interactive(children=(IntSlider(value=0, description='turn', max=999), Output()), _dom_classes=('widget-intera…"
      ]
     },
     "metadata": {},
     "output_type": "display_data"
    },
    {
     "data": {
      "text/plain": [
       "<function __main__.update_plot(turn)>"
      ]
     },
     "execution_count": 8,
     "metadata": {},
     "output_type": "execute_result"
    }
   ],
   "source": [
    "from ipywidgets import interact, IntSlider\n",
    "\n",
    "bins = 50\n",
    "\n",
    "# Get the range of the initial zeta distribution for setting consistent axis limits\n",
    "initial_zeta_range = np.histogram(zeta[0, :], bins=bins)[1]\n",
    "\n",
    "# Determine the maximum count for the y-axis limit\n",
    "max_count_all_turns = np.max([np.max(np.histogram(p, bins=bins)[0]) for p in zeta])\n",
    "zeta_first_turn=zeta[0,:]\n",
    "# Function to update the plot based on the slider value\n",
    "def update_plot(turn):\n",
    "    plt.figure(figsize=(20, 10))\n",
    "    plt.rcParams.update({'font.size': 25})\n",
    "       \n",
    "    plt.hist(zeta_first_turn, bins=bins, color='blue', alpha=0.7, label='First Turn',  linewidth=5)\n",
    "    plt.hist(zeta[turn, :], bins=bins, color='red', alpha=1, label='Zeta Distribution', histtype='step', linewidth=5)\n",
    "\n",
    "    \n",
    "    plt.title(f'Zeta Distribution After {time[turn]:.2f} sec')\n",
    "    plt.xlabel('Zeta Value')\n",
    "    plt.ylabel('Number of Particles')\n",
    "    plt.legend()\n",
    "    \n",
    "    # Set consistent x-axis limits based on the range of the initial zeta distribution\n",
    "    plt.xlim(initial_zeta_range[0], initial_zeta_range[-1])\n",
    "    \n",
    "    # Set y-axis limit based on the maximum count across all turns\n",
    "    plt.ylim([0, max_count_all_turns])\n",
    "    \n",
    "    # Format axis labels using scientific notation\n",
    "    plt.ticklabel_format(style='sci', axis='x', scilimits=(0, 0))\n",
    "    plt.ticklabel_format(style='sci', axis='y', scilimits=(0, 0))\n",
    "    \n",
    "    plt.show()\n",
    "\n",
    "# Create an interactive slider using ipywidgets\n",
    "interact(update_plot, turn=IntSlider(min=0, max=zeta.shape[0]-1, step=1, value=0))\n"
   ]
  },
  {
   "cell_type": "code",
   "execution_count": 9,
   "id": "49ee1c36",
   "metadata": {},
   "outputs": [
    {
     "data": {
      "application/vnd.jupyter.widget-view+json": {
       "model_id": "d353cba82a70438fb171ac73b85bcd6d",
       "version_major": 2,
       "version_minor": 0
      },
      "text/plain": [
       "interactive(children=(IntSlider(value=0, description='turn', max=999), Output()), _dom_classes=('widget-intera…"
      ]
     },
     "metadata": {},
     "output_type": "display_data"
    },
    {
     "data": {
      "text/plain": [
       "<function __main__.update_scatter_plot(turn)>"
      ]
     },
     "execution_count": 9,
     "metadata": {},
     "output_type": "execute_result"
    }
   ],
   "source": [
    "from ipywidgets import interact, IntSlider\n",
    "import numpy as np\n",
    "import matplotlib.pyplot as plt\n",
    "\n",
    "initial_zeta_range = np.linspace(np.min(zeta), np.max(zeta), 1000)\n",
    "initial_delta_range = np.linspace(np.min(delta), np.max(delta), 1000)\n",
    "\n",
    "# Function to update the scatter plot based on the slider value\n",
    "def update_scatter_plot(turn):\n",
    "    plt.figure(figsize=(12, 8))\n",
    "    plt.rcParams.update({'font.size': 25})\n",
    "    \n",
    "    plt.scatter(zeta[turn, :], delta[turn, :])\n",
    "       \n",
    "    plt.xlabel('zeta')\n",
    "    plt.ylabel('dp/p')\n",
    "    plt.title(f'Scatter Plot at Turn {turn}')\n",
    "    plt.tight_layout()\n",
    "\n",
    "    # Set consistent x-axis limits based on the initial zeta range\n",
    "    plt.xlim(initial_zeta_range[0], initial_zeta_range[-1])\n",
    "    \n",
    "    # Set consistent y-axis limits based on the initial delta range\n",
    "    plt.ylim(initial_delta_range[0], initial_delta_range[-1])\n",
    "    \n",
    "    # Format axis labels using scientific notation\n",
    "    plt.ticklabel_format(style='sci', axis='y', scilimits=(0, 0))\n",
    "    plt.ticklabel_format(style='sci', axis='x', scilimits=(0, 0))\n",
    "    \n",
    "    plt.show()\n",
    "\n",
    "# Create an interactive slider using ipywidgets\n",
    "interact(update_scatter_plot, turn=IntSlider(min=0, max=zeta.shape[0]-1, step=1, value=0))\n"
   ]
  }
 ],
 "metadata": {
  "kernelspec": {
   "display_name": "base",
   "language": "python",
   "name": "python3"
  },
  "language_info": {
   "codemirror_mode": {
    "name": "ipython",
    "version": 3
   },
   "file_extension": ".py",
   "mimetype": "text/x-python",
   "name": "python",
   "nbconvert_exporter": "python",
   "pygments_lexer": "ipython3",
   "version": "3.11.3"
  },
  "vscode": {
   "interpreter": {
    "hash": "b3c9a0a5475e728b39e61ac58d244ad936924f9cf82746515a9faeb1f1a0b703"
   }
  }
 },
 "nbformat": 4,
 "nbformat_minor": 5
}
