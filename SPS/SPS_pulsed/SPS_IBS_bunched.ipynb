{
 "cells": [
  {
   "cell_type": "code",
   "execution_count": 1,
   "metadata": {},
   "outputs": [],
   "source": [
    "import numpy as np\n",
    "import xtrack as xt\n",
    "import xobjects as xo\n",
    "import xpart as xp\n",
    "import numpy as np\n",
    "import matplotlib.pyplot as plt\n",
    "from tqdm import tqdm\n",
    "from scipy import constants \n",
    "\n"
   ]
  },
  {
   "cell_type": "code",
   "execution_count": 2,
   "metadata": {},
   "outputs": [],
   "source": [
    "# import sys\n",
    "# sys.path.append('/home/pkruyt/cernbox/CERN-coolers/LEIR/ions')\n",
    "\n",
    "# from ion_properties import ions, IonProperties"
   ]
  },
  {
   "cell_type": "code",
   "execution_count": 3,
   "metadata": {},
   "outputs": [
    {
     "data": {
      "application/vnd.jupyter.widget-view+json": {
       "model_id": "c8d8fcd8055a4849b7df39254649483d",
       "version_major": 2,
       "version_minor": 0
      },
      "text/plain": [
       "Loading line from dict:   0%|          | 0/38786 [00:00<?, ?it/s]"
      ]
     },
     "metadata": {},
     "output_type": "display_data"
    },
    {
     "name": "stdout",
     "output_type": "stream",
     "text": [
      "Done loading line from dict.           \n",
      "Compiling ContextCpu kernels...\n"
     ]
    },
    {
     "ename": "KeyboardInterrupt",
     "evalue": "",
     "output_type": "error",
     "traceback": [
      "\u001b[0;31m---------------------------------------------------------------------------\u001b[0m",
      "\u001b[0;31mKeyboardInterrupt\u001b[0m                         Traceback (most recent call last)",
      "Cell \u001b[0;32mIn[3], line 6\u001b[0m\n\u001b[1;32m      4\u001b[0m line \u001b[38;5;241m=\u001b[39m xt\u001b[38;5;241m.\u001b[39mLine\u001b[38;5;241m.\u001b[39mfrom_json(\u001b[38;5;124m'\u001b[39m\u001b[38;5;124msps.json\u001b[39m\u001b[38;5;124m'\u001b[39m)\n\u001b[1;32m      5\u001b[0m particle_ref0\u001b[38;5;241m=\u001b[39mline\u001b[38;5;241m.\u001b[39mparticle_ref\n\u001b[0;32m----> 6\u001b[0m line\u001b[38;5;241m.\u001b[39mbuild_tracker()\n\u001b[1;32m      8\u001b[0m clight\u001b[38;5;241m=\u001b[39mconstants\u001b[38;5;241m.\u001b[39mspeed_of_light\n\u001b[1;32m      9\u001b[0m circumference \u001b[38;5;241m=\u001b[39m line\u001b[38;5;241m.\u001b[39mget_length()\n",
      "File \u001b[0;32m~/cernbox/xsuite-laser2024/xtrack/xtrack/line.py:835\u001b[0m, in \u001b[0;36mLine.build_tracker\u001b[0;34m(self, _context, _buffer, compile, io_buffer, use_prebuilt_kernels, enable_pipeline_hold, **kwargs)\u001b[0m\n\u001b[1;32m    832\u001b[0m     _print(\u001b[38;5;124m'\u001b[39m\u001b[38;5;124mThe line already has an associated tracker\u001b[39m\u001b[38;5;124m'\u001b[39m)\n\u001b[1;32m    833\u001b[0m     \u001b[38;5;28;01mreturn\u001b[39;00m \u001b[38;5;28mself\u001b[39m\u001b[38;5;241m.\u001b[39mtracker\n\u001b[0;32m--> 835\u001b[0m \u001b[38;5;28mself\u001b[39m\u001b[38;5;241m.\u001b[39mtracker \u001b[38;5;241m=\u001b[39m xt\u001b[38;5;241m.\u001b[39mTracker(\n\u001b[1;32m    836\u001b[0m                         line\u001b[38;5;241m=\u001b[39m\u001b[38;5;28mself\u001b[39m,\n\u001b[1;32m    837\u001b[0m                         _context\u001b[38;5;241m=\u001b[39m_context,\n\u001b[1;32m    838\u001b[0m                         _buffer\u001b[38;5;241m=\u001b[39m_buffer,\n\u001b[1;32m    839\u001b[0m                         \u001b[38;5;28mcompile\u001b[39m\u001b[38;5;241m=\u001b[39m\u001b[38;5;28mcompile\u001b[39m,\n\u001b[1;32m    840\u001b[0m                         io_buffer\u001b[38;5;241m=\u001b[39mio_buffer,\n\u001b[1;32m    841\u001b[0m                         use_prebuilt_kernels\u001b[38;5;241m=\u001b[39muse_prebuilt_kernels,\n\u001b[1;32m    842\u001b[0m                         enable_pipeline_hold\u001b[38;5;241m=\u001b[39menable_pipeline_hold,\n\u001b[1;32m    843\u001b[0m                         \u001b[38;5;241m*\u001b[39m\u001b[38;5;241m*\u001b[39mkwargs)\n\u001b[1;32m    845\u001b[0m \u001b[38;5;28;01mreturn\u001b[39;00m \u001b[38;5;28mself\u001b[39m\u001b[38;5;241m.\u001b[39mtracker\n",
      "File \u001b[0;32m~/cernbox/xsuite-laser2024/xtrack/xtrack/tracker.py:150\u001b[0m, in \u001b[0;36mTracker.__init__\u001b[0;34m(self, _context, _buffer, line, compile, io_buffer, use_prebuilt_kernels, enable_pipeline_hold, track_kernel, particles_monitor_class, extra_headers, local_particle_src, _prebuilding_kernels)\u001b[0m\n\u001b[1;32m    147\u001b[0m \u001b[38;5;28mself\u001b[39m\u001b[38;5;241m.\u001b[39mline\u001b[38;5;241m.\u001b[39mtracker \u001b[38;5;241m=\u001b[39m \u001b[38;5;28mself\u001b[39m\n\u001b[1;32m    149\u001b[0m \u001b[38;5;28;01mif\u001b[39;00m \u001b[38;5;28mcompile\u001b[39m:\n\u001b[0;32m--> 150\u001b[0m     _ \u001b[38;5;241m=\u001b[39m \u001b[38;5;28mself\u001b[39m\u001b[38;5;241m.\u001b[39mget_track_kernel_and_data_for_present_config()\n",
      "File \u001b[0;32m~/cernbox/xsuite-laser2024/xtrack/xtrack/tracker.py:1421\u001b[0m, in \u001b[0;36mTracker.get_track_kernel_and_data_for_present_config\u001b[0;34m(self)\u001b[0m\n\u001b[1;32m   1418\u001b[0m hash_config \u001b[38;5;241m=\u001b[39m \u001b[38;5;28mself\u001b[39m\u001b[38;5;241m.\u001b[39m_hashable_config()\n\u001b[1;32m   1420\u001b[0m \u001b[38;5;28;01mif\u001b[39;00m hash_config \u001b[38;5;129;01mnot\u001b[39;00m \u001b[38;5;129;01min\u001b[39;00m \u001b[38;5;28mself\u001b[39m\u001b[38;5;241m.\u001b[39mtrack_kernel:\n\u001b[0;32m-> 1421\u001b[0m     new_kernel \u001b[38;5;241m=\u001b[39m \u001b[38;5;28mself\u001b[39m\u001b[38;5;241m.\u001b[39m_build_kernel(\u001b[38;5;28mcompile\u001b[39m\u001b[38;5;241m=\u001b[39m\u001b[38;5;28;01mTrue\u001b[39;00m)\n\u001b[1;32m   1422\u001b[0m     \u001b[38;5;28mself\u001b[39m\u001b[38;5;241m.\u001b[39mtrack_kernel[hash_config] \u001b[38;5;241m=\u001b[39m new_kernel\n\u001b[1;32m   1424\u001b[0m out_kernel \u001b[38;5;241m=\u001b[39m \u001b[38;5;28mself\u001b[39m\u001b[38;5;241m.\u001b[39mtrack_kernel[hash_config]\n",
      "File \u001b[0;32m~/cernbox/xsuite-laser2024/xtrack/xtrack/tracker.py:676\u001b[0m, in \u001b[0;36mTracker._build_kernel\u001b[0;34m(self, compile, module_name, containing_dir, extra_classes, extra_kernels)\u001b[0m\n\u001b[1;32m    672\u001b[0m \u001b[38;5;28;01melse\u001b[39;00m:\n\u001b[1;32m    673\u001b[0m     \u001b[38;5;66;03m# Saving kernels is unsupported on GPU\u001b[39;00m\n\u001b[1;32m    674\u001b[0m     kwargs \u001b[38;5;241m=\u001b[39m {}\n\u001b[0;32m--> 676\u001b[0m out_kernels \u001b[38;5;241m=\u001b[39m context\u001b[38;5;241m.\u001b[39mbuild_kernels(\n\u001b[1;32m    677\u001b[0m     sources\u001b[38;5;241m=\u001b[39m[source_track],\n\u001b[1;32m    678\u001b[0m     kernel_descriptions\u001b[38;5;241m=\u001b[39mkernels,\n\u001b[1;32m    679\u001b[0m     extra_headers\u001b[38;5;241m=\u001b[39m\u001b[38;5;28mself\u001b[39m\u001b[38;5;241m.\u001b[39m_config_to_headers() \u001b[38;5;241m+\u001b[39m headers,\n\u001b[1;32m    680\u001b[0m     extra_classes\u001b[38;5;241m=\u001b[39mkernel_element_classes \u001b[38;5;241m+\u001b[39m extra_classes,\n\u001b[1;32m    681\u001b[0m     apply_to_source\u001b[38;5;241m=\u001b[39m[\n\u001b[1;32m    682\u001b[0m         partial(_handle_per_particle_blocks,\n\u001b[1;32m    683\u001b[0m                 local_particle_src\u001b[38;5;241m=\u001b[39m\u001b[38;5;28mself\u001b[39m\u001b[38;5;241m.\u001b[39mlocal_particle_src)],\n\u001b[1;32m    684\u001b[0m     specialize\u001b[38;5;241m=\u001b[39m\u001b[38;5;28;01mTrue\u001b[39;00m,\n\u001b[1;32m    685\u001b[0m     \u001b[38;5;28mcompile\u001b[39m\u001b[38;5;241m=\u001b[39m\u001b[38;5;28mcompile\u001b[39m,\n\u001b[1;32m    686\u001b[0m     save_source_as\u001b[38;5;241m=\u001b[39m\u001b[38;5;124mf\u001b[39m\u001b[38;5;124m'\u001b[39m\u001b[38;5;132;01m{\u001b[39;00mmodule_name\u001b[38;5;132;01m}\u001b[39;00m\u001b[38;5;124m.c\u001b[39m\u001b[38;5;124m'\u001b[39m \u001b[38;5;28;01mif\u001b[39;00m module_name \u001b[38;5;28;01melse\u001b[39;00m \u001b[38;5;28;01mNone\u001b[39;00m,\n\u001b[1;32m    687\u001b[0m     \u001b[38;5;241m*\u001b[39m\u001b[38;5;241m*\u001b[39mkwargs,\n\u001b[1;32m    688\u001b[0m )\n\u001b[1;32m    689\u001b[0m \u001b[38;5;28;01mreturn\u001b[39;00m out_kernels[\u001b[38;5;124m'\u001b[39m\u001b[38;5;124mtrack_line\u001b[39m\u001b[38;5;124m'\u001b[39m]\n",
      "File \u001b[0;32m~/cernbox/xsuite-laser2024/xobjects/xobjects/context_cpu.py:312\u001b[0m, in \u001b[0;36mContextCpu.build_kernels\u001b[0;34m(self, kernel_descriptions, module_name, containing_dir, sources, specialize, apply_to_source, save_source_as, extra_compile_args, extra_link_args, extra_cdef, extra_classes, extra_headers, compile)\u001b[0m\n\u001b[1;32m    309\u001b[0m \u001b[38;5;28;01mif\u001b[39;00m _forbid_compile:\n\u001b[1;32m    310\u001b[0m     \u001b[38;5;28;01mraise\u001b[39;00m \u001b[38;5;167;01mRuntimeError\u001b[39;00m(\u001b[38;5;124m\"\u001b[39m\u001b[38;5;124mCompilation is forbidden\u001b[39m\u001b[38;5;124m\"\u001b[39m)\n\u001b[0;32m--> 312\u001b[0m so_file \u001b[38;5;241m=\u001b[39m \u001b[38;5;28mself\u001b[39m\u001b[38;5;241m.\u001b[39mcompile_kernel(\n\u001b[1;32m    313\u001b[0m     module_name,\n\u001b[1;32m    314\u001b[0m     kernel_descriptions,\n\u001b[1;32m    315\u001b[0m     cdefs,\n\u001b[1;32m    316\u001b[0m     specialized_source,\n\u001b[1;32m    317\u001b[0m     extra_compile_args,\n\u001b[1;32m    318\u001b[0m     extra_link_args,\n\u001b[1;32m    319\u001b[0m     containing_dir\u001b[38;5;241m=\u001b[39mcontaining_dir,\n\u001b[1;32m    320\u001b[0m )\n\u001b[1;32m    322\u001b[0m \u001b[38;5;28;01mtry\u001b[39;00m:\n\u001b[1;32m    323\u001b[0m     \u001b[38;5;66;03m# Import the compiled module\u001b[39;00m\n\u001b[1;32m    324\u001b[0m     out_kernels \u001b[38;5;241m=\u001b[39m \u001b[38;5;28mself\u001b[39m\u001b[38;5;241m.\u001b[39mkernels_from_file(\n\u001b[1;32m    325\u001b[0m         module_name,\n\u001b[1;32m    326\u001b[0m         kernel_descriptions,\n\u001b[1;32m    327\u001b[0m         containing_dir\u001b[38;5;241m=\u001b[39mcontaining_dir,\n\u001b[1;32m    328\u001b[0m     )\n",
      "File \u001b[0;32m~/cernbox/xsuite-laser2024/xobjects/xobjects/context_cpu.py:442\u001b[0m, in \u001b[0;36mContextCpu.compile_kernel\u001b[0;34m(self, module_name, kernel_descriptions, cdefs, specialized_source, extra_compile_args, extra_link_args, containing_dir)\u001b[0m\n\u001b[1;32m    438\u001b[0m \u001b[38;5;28;01mtry\u001b[39;00m:\n\u001b[1;32m    439\u001b[0m     so_file \u001b[38;5;241m=\u001b[39m \u001b[38;5;28mstr\u001b[39m(\n\u001b[1;32m    440\u001b[0m         _so_for_module_name(module_name, containing_dir)\u001b[38;5;241m.\u001b[39mabsolute()\n\u001b[1;32m    441\u001b[0m     )\n\u001b[0;32m--> 442\u001b[0m     output_file \u001b[38;5;241m=\u001b[39m ffi_interface\u001b[38;5;241m.\u001b[39mcompile(\n\u001b[1;32m    443\u001b[0m         target\u001b[38;5;241m=\u001b[39mso_file, verbose\u001b[38;5;241m=\u001b[39m\u001b[38;5;28mself\u001b[39m\u001b[38;5;241m.\u001b[39m_cffi_verbose\n\u001b[1;32m    444\u001b[0m     )\n\u001b[1;32m    445\u001b[0m     \u001b[38;5;28;01mif\u001b[39;00m \u001b[38;5;28mself\u001b[39m\u001b[38;5;241m.\u001b[39m_compile_kernels_info:\n\u001b[1;32m    446\u001b[0m         _print(\u001b[38;5;124m\"\u001b[39m\u001b[38;5;124mDone compiling ContextCpu kernels.\u001b[39m\u001b[38;5;124m\"\u001b[39m)\n",
      "File \u001b[0;32m~/miniforge3/envs/xsuite-laser2024/lib/python3.12/site-packages/cffi/api.py:725\u001b[0m, in \u001b[0;36mFFI.compile\u001b[0;34m(self, tmpdir, verbose, target, debug)\u001b[0m\n\u001b[1;32m    723\u001b[0m     \u001b[38;5;28;01mraise\u001b[39;00m \u001b[38;5;167;01mValueError\u001b[39;00m(\u001b[38;5;124m\"\u001b[39m\u001b[38;5;124mset_source() must be called before compile()\u001b[39m\u001b[38;5;124m\"\u001b[39m)\n\u001b[1;32m    724\u001b[0m module_name, source, source_extension, kwds \u001b[38;5;241m=\u001b[39m \u001b[38;5;28mself\u001b[39m\u001b[38;5;241m.\u001b[39m_assigned_source\n\u001b[0;32m--> 725\u001b[0m \u001b[38;5;28;01mreturn\u001b[39;00m recompile(\u001b[38;5;28mself\u001b[39m, module_name, source, tmpdir\u001b[38;5;241m=\u001b[39mtmpdir,\n\u001b[1;32m    726\u001b[0m                  target\u001b[38;5;241m=\u001b[39mtarget, source_extension\u001b[38;5;241m=\u001b[39msource_extension,\n\u001b[1;32m    727\u001b[0m                  compiler_verbose\u001b[38;5;241m=\u001b[39mverbose, debug\u001b[38;5;241m=\u001b[39mdebug, \u001b[38;5;241m*\u001b[39m\u001b[38;5;241m*\u001b[39mkwds)\n",
      "File \u001b[0;32m~/miniforge3/envs/xsuite-laser2024/lib/python3.12/site-packages/cffi/recompiler.py:1564\u001b[0m, in \u001b[0;36mrecompile\u001b[0;34m(ffi, module_name, preamble, tmpdir, call_c_compiler, c_file, source_extension, extradir, compiler_verbose, target, debug, **kwds)\u001b[0m\n\u001b[1;32m   1562\u001b[0m         \u001b[38;5;28mprint\u001b[39m(\u001b[38;5;124m'\u001b[39m\u001b[38;5;132;01m%s\u001b[39;00m\u001b[38;5;124m \u001b[39m\u001b[38;5;132;01m%r\u001b[39;00m\u001b[38;5;124m'\u001b[39m \u001b[38;5;241m%\u001b[39m (msg, os\u001b[38;5;241m.\u001b[39mpath\u001b[38;5;241m.\u001b[39mabspath(tmpdir)))\n\u001b[1;32m   1563\u001b[0m     os\u001b[38;5;241m.\u001b[39mchdir(tmpdir)\n\u001b[0;32m-> 1564\u001b[0m     outputfilename \u001b[38;5;241m=\u001b[39m ffiplatform\u001b[38;5;241m.\u001b[39mcompile(\u001b[38;5;124m'\u001b[39m\u001b[38;5;124m.\u001b[39m\u001b[38;5;124m'\u001b[39m, ext,\n\u001b[1;32m   1565\u001b[0m                                          compiler_verbose, debug)\n\u001b[1;32m   1566\u001b[0m \u001b[38;5;28;01mfinally\u001b[39;00m:\n\u001b[1;32m   1567\u001b[0m     os\u001b[38;5;241m.\u001b[39mchdir(cwd)\n",
      "File \u001b[0;32m~/miniforge3/envs/xsuite-laser2024/lib/python3.12/site-packages/cffi/ffiplatform.py:20\u001b[0m, in \u001b[0;36mcompile\u001b[0;34m(tmpdir, ext, compiler_verbose, debug)\u001b[0m\n\u001b[1;32m     18\u001b[0m saved_environ \u001b[38;5;241m=\u001b[39m os\u001b[38;5;241m.\u001b[39menviron\u001b[38;5;241m.\u001b[39mcopy()\n\u001b[1;32m     19\u001b[0m \u001b[38;5;28;01mtry\u001b[39;00m:\n\u001b[0;32m---> 20\u001b[0m     outputfilename \u001b[38;5;241m=\u001b[39m _build(tmpdir, ext, compiler_verbose, debug)\n\u001b[1;32m     21\u001b[0m     outputfilename \u001b[38;5;241m=\u001b[39m os\u001b[38;5;241m.\u001b[39mpath\u001b[38;5;241m.\u001b[39mabspath(outputfilename)\n\u001b[1;32m     22\u001b[0m \u001b[38;5;28;01mfinally\u001b[39;00m:\n\u001b[1;32m     23\u001b[0m     \u001b[38;5;66;03m# workaround for a distutils bugs where some env vars can\u001b[39;00m\n\u001b[1;32m     24\u001b[0m     \u001b[38;5;66;03m# become longer and longer every time it is used\u001b[39;00m\n",
      "File \u001b[0;32m~/miniforge3/envs/xsuite-laser2024/lib/python3.12/site-packages/cffi/ffiplatform.py:48\u001b[0m, in \u001b[0;36m_build\u001b[0;34m(tmpdir, ext, compiler_verbose, debug)\u001b[0m\n\u001b[1;32m     46\u001b[0m \u001b[38;5;28;01mtry\u001b[39;00m:\n\u001b[1;32m     47\u001b[0m     set_verbosity(compiler_verbose)\n\u001b[0;32m---> 48\u001b[0m     dist\u001b[38;5;241m.\u001b[39mrun_command(\u001b[38;5;124m'\u001b[39m\u001b[38;5;124mbuild_ext\u001b[39m\u001b[38;5;124m'\u001b[39m)\n\u001b[1;32m     49\u001b[0m     cmd_obj \u001b[38;5;241m=\u001b[39m dist\u001b[38;5;241m.\u001b[39mget_command_obj(\u001b[38;5;124m'\u001b[39m\u001b[38;5;124mbuild_ext\u001b[39m\u001b[38;5;124m'\u001b[39m)\n\u001b[1;32m     50\u001b[0m     [soname] \u001b[38;5;241m=\u001b[39m cmd_obj\u001b[38;5;241m.\u001b[39mget_outputs()\n",
      "File \u001b[0;32m~/miniforge3/envs/xsuite-laser2024/lib/python3.12/site-packages/setuptools/dist.py:967\u001b[0m, in \u001b[0;36mDistribution.run_command\u001b[0;34m(self, command)\u001b[0m\n\u001b[1;32m    963\u001b[0m \u001b[38;5;28mself\u001b[39m\u001b[38;5;241m.\u001b[39mset_defaults()\n\u001b[1;32m    964\u001b[0m \u001b[38;5;66;03m# Postpone defaults until all explicit configuration is considered\u001b[39;00m\n\u001b[1;32m    965\u001b[0m \u001b[38;5;66;03m# (setup() args, config files, command line and plugins)\u001b[39;00m\n\u001b[0;32m--> 967\u001b[0m \u001b[38;5;28msuper\u001b[39m()\u001b[38;5;241m.\u001b[39mrun_command(command)\n",
      "File \u001b[0;32m~/miniforge3/envs/xsuite-laser2024/lib/python3.12/site-packages/setuptools/_distutils/dist.py:988\u001b[0m, in \u001b[0;36mDistribution.run_command\u001b[0;34m(self, command)\u001b[0m\n\u001b[1;32m    986\u001b[0m cmd_obj \u001b[38;5;241m=\u001b[39m \u001b[38;5;28mself\u001b[39m\u001b[38;5;241m.\u001b[39mget_command_obj(command)\n\u001b[1;32m    987\u001b[0m cmd_obj\u001b[38;5;241m.\u001b[39mensure_finalized()\n\u001b[0;32m--> 988\u001b[0m cmd_obj\u001b[38;5;241m.\u001b[39mrun()\n\u001b[1;32m    989\u001b[0m \u001b[38;5;28mself\u001b[39m\u001b[38;5;241m.\u001b[39mhave_run[command] \u001b[38;5;241m=\u001b[39m \u001b[38;5;241m1\u001b[39m\n",
      "File \u001b[0;32m~/miniforge3/envs/xsuite-laser2024/lib/python3.12/site-packages/setuptools/command/build_ext.py:91\u001b[0m, in \u001b[0;36mbuild_ext.run\u001b[0;34m(self)\u001b[0m\n\u001b[1;32m     89\u001b[0m \u001b[38;5;250m\u001b[39m\u001b[38;5;124;03m\"\"\"Build extensions in build directory, then copy if --inplace\"\"\"\u001b[39;00m\n\u001b[1;32m     90\u001b[0m old_inplace, \u001b[38;5;28mself\u001b[39m\u001b[38;5;241m.\u001b[39minplace \u001b[38;5;241m=\u001b[39m \u001b[38;5;28mself\u001b[39m\u001b[38;5;241m.\u001b[39minplace, \u001b[38;5;241m0\u001b[39m\n\u001b[0;32m---> 91\u001b[0m _build_ext\u001b[38;5;241m.\u001b[39mrun(\u001b[38;5;28mself\u001b[39m)\n\u001b[1;32m     92\u001b[0m \u001b[38;5;28mself\u001b[39m\u001b[38;5;241m.\u001b[39minplace \u001b[38;5;241m=\u001b[39m old_inplace\n\u001b[1;32m     93\u001b[0m \u001b[38;5;28;01mif\u001b[39;00m old_inplace:\n",
      "File \u001b[0;32m~/miniforge3/envs/xsuite-laser2024/lib/python3.12/site-packages/setuptools/_distutils/command/build_ext.py:359\u001b[0m, in \u001b[0;36mbuild_ext.run\u001b[0;34m(self)\u001b[0m\n\u001b[1;32m    356\u001b[0m     \u001b[38;5;28mself\u001b[39m\u001b[38;5;241m.\u001b[39mcompiler\u001b[38;5;241m.\u001b[39mset_link_objects(\u001b[38;5;28mself\u001b[39m\u001b[38;5;241m.\u001b[39mlink_objects)\n\u001b[1;32m    358\u001b[0m \u001b[38;5;66;03m# Now actually compile and link everything.\u001b[39;00m\n\u001b[0;32m--> 359\u001b[0m \u001b[38;5;28mself\u001b[39m\u001b[38;5;241m.\u001b[39mbuild_extensions()\n",
      "File \u001b[0;32m~/miniforge3/envs/xsuite-laser2024/lib/python3.12/site-packages/setuptools/_distutils/command/build_ext.py:479\u001b[0m, in \u001b[0;36mbuild_ext.build_extensions\u001b[0;34m(self)\u001b[0m\n\u001b[1;32m    477\u001b[0m     \u001b[38;5;28mself\u001b[39m\u001b[38;5;241m.\u001b[39m_build_extensions_parallel()\n\u001b[1;32m    478\u001b[0m \u001b[38;5;28;01melse\u001b[39;00m:\n\u001b[0;32m--> 479\u001b[0m     \u001b[38;5;28mself\u001b[39m\u001b[38;5;241m.\u001b[39m_build_extensions_serial()\n",
      "File \u001b[0;32m~/miniforge3/envs/xsuite-laser2024/lib/python3.12/site-packages/setuptools/_distutils/command/build_ext.py:505\u001b[0m, in \u001b[0;36mbuild_ext._build_extensions_serial\u001b[0;34m(self)\u001b[0m\n\u001b[1;32m    503\u001b[0m \u001b[38;5;28;01mfor\u001b[39;00m ext \u001b[38;5;129;01min\u001b[39;00m \u001b[38;5;28mself\u001b[39m\u001b[38;5;241m.\u001b[39mextensions:\n\u001b[1;32m    504\u001b[0m     \u001b[38;5;28;01mwith\u001b[39;00m \u001b[38;5;28mself\u001b[39m\u001b[38;5;241m.\u001b[39m_filter_build_errors(ext):\n\u001b[0;32m--> 505\u001b[0m         \u001b[38;5;28mself\u001b[39m\u001b[38;5;241m.\u001b[39mbuild_extension(ext)\n",
      "File \u001b[0;32m~/miniforge3/envs/xsuite-laser2024/lib/python3.12/site-packages/setuptools/command/build_ext.py:252\u001b[0m, in \u001b[0;36mbuild_ext.build_extension\u001b[0;34m(self, ext)\u001b[0m\n\u001b[1;32m    250\u001b[0m \u001b[38;5;28;01mif\u001b[39;00m \u001b[38;5;28misinstance\u001b[39m(ext, Library):\n\u001b[1;32m    251\u001b[0m     \u001b[38;5;28mself\u001b[39m\u001b[38;5;241m.\u001b[39mcompiler \u001b[38;5;241m=\u001b[39m \u001b[38;5;28mself\u001b[39m\u001b[38;5;241m.\u001b[39mshlib_compiler\n\u001b[0;32m--> 252\u001b[0m _build_ext\u001b[38;5;241m.\u001b[39mbuild_extension(\u001b[38;5;28mself\u001b[39m, ext)\n\u001b[1;32m    253\u001b[0m \u001b[38;5;28;01mif\u001b[39;00m ext\u001b[38;5;241m.\u001b[39m_needs_stub:\n\u001b[1;32m    254\u001b[0m     build_lib \u001b[38;5;241m=\u001b[39m \u001b[38;5;28mself\u001b[39m\u001b[38;5;241m.\u001b[39mget_finalized_command(\u001b[38;5;124m'\u001b[39m\u001b[38;5;124mbuild_py\u001b[39m\u001b[38;5;124m'\u001b[39m)\u001b[38;5;241m.\u001b[39mbuild_lib\n",
      "File \u001b[0;32m~/miniforge3/envs/xsuite-laser2024/lib/python3.12/site-packages/Cython/Distutils/build_ext.py:135\u001b[0m, in \u001b[0;36mbuild_ext.build_extension\u001b[0;34m(self, ext)\u001b[0m\n\u001b[1;32m    130\u001b[0m new_ext \u001b[38;5;241m=\u001b[39m cythonize(\n\u001b[1;32m    131\u001b[0m     ext,force\u001b[38;5;241m=\u001b[39m\u001b[38;5;28mself\u001b[39m\u001b[38;5;241m.\u001b[39mforce, quiet\u001b[38;5;241m=\u001b[39m\u001b[38;5;28mself\u001b[39m\u001b[38;5;241m.\u001b[39mverbose \u001b[38;5;241m==\u001b[39m \u001b[38;5;241m0\u001b[39m, \u001b[38;5;241m*\u001b[39m\u001b[38;5;241m*\u001b[39moptions\n\u001b[1;32m    132\u001b[0m )[\u001b[38;5;241m0\u001b[39m]\n\u001b[1;32m    134\u001b[0m ext\u001b[38;5;241m.\u001b[39msources \u001b[38;5;241m=\u001b[39m new_ext\u001b[38;5;241m.\u001b[39msources\n\u001b[0;32m--> 135\u001b[0m \u001b[38;5;28msuper\u001b[39m(build_ext, \u001b[38;5;28mself\u001b[39m)\u001b[38;5;241m.\u001b[39mbuild_extension(ext)\n",
      "File \u001b[0;32m~/miniforge3/envs/xsuite-laser2024/lib/python3.12/site-packages/setuptools/_distutils/command/build_ext.py:560\u001b[0m, in \u001b[0;36mbuild_ext.build_extension\u001b[0;34m(self, ext)\u001b[0m\n\u001b[1;32m    557\u001b[0m \u001b[38;5;28;01mfor\u001b[39;00m undef \u001b[38;5;129;01min\u001b[39;00m ext\u001b[38;5;241m.\u001b[39mundef_macros:\n\u001b[1;32m    558\u001b[0m     macros\u001b[38;5;241m.\u001b[39mappend((undef,))\n\u001b[0;32m--> 560\u001b[0m objects \u001b[38;5;241m=\u001b[39m \u001b[38;5;28mself\u001b[39m\u001b[38;5;241m.\u001b[39mcompiler\u001b[38;5;241m.\u001b[39mcompile(\n\u001b[1;32m    561\u001b[0m     sources,\n\u001b[1;32m    562\u001b[0m     output_dir\u001b[38;5;241m=\u001b[39m\u001b[38;5;28mself\u001b[39m\u001b[38;5;241m.\u001b[39mbuild_temp,\n\u001b[1;32m    563\u001b[0m     macros\u001b[38;5;241m=\u001b[39mmacros,\n\u001b[1;32m    564\u001b[0m     include_dirs\u001b[38;5;241m=\u001b[39mext\u001b[38;5;241m.\u001b[39minclude_dirs,\n\u001b[1;32m    565\u001b[0m     debug\u001b[38;5;241m=\u001b[39m\u001b[38;5;28mself\u001b[39m\u001b[38;5;241m.\u001b[39mdebug,\n\u001b[1;32m    566\u001b[0m     extra_postargs\u001b[38;5;241m=\u001b[39mextra_args,\n\u001b[1;32m    567\u001b[0m     depends\u001b[38;5;241m=\u001b[39mext\u001b[38;5;241m.\u001b[39mdepends,\n\u001b[1;32m    568\u001b[0m )\n\u001b[1;32m    570\u001b[0m \u001b[38;5;66;03m# XXX outdated variable, kept here in case third-part code\u001b[39;00m\n\u001b[1;32m    571\u001b[0m \u001b[38;5;66;03m# needs it.\u001b[39;00m\n\u001b[1;32m    572\u001b[0m \u001b[38;5;28mself\u001b[39m\u001b[38;5;241m.\u001b[39m_built_objects \u001b[38;5;241m=\u001b[39m objects[:]\n",
      "File \u001b[0;32m~/miniforge3/envs/xsuite-laser2024/lib/python3.12/site-packages/setuptools/_distutils/ccompiler.py:600\u001b[0m, in \u001b[0;36mCCompiler.compile\u001b[0;34m(self, sources, output_dir, macros, include_dirs, debug, extra_preargs, extra_postargs, depends)\u001b[0m\n\u001b[1;32m    598\u001b[0m     \u001b[38;5;28;01mexcept\u001b[39;00m \u001b[38;5;167;01mKeyError\u001b[39;00m:\n\u001b[1;32m    599\u001b[0m         \u001b[38;5;28;01mcontinue\u001b[39;00m\n\u001b[0;32m--> 600\u001b[0m     \u001b[38;5;28mself\u001b[39m\u001b[38;5;241m.\u001b[39m_compile(obj, src, ext, cc_args, extra_postargs, pp_opts)\n\u001b[1;32m    602\u001b[0m \u001b[38;5;66;03m# Return *all* object filenames, not just the ones we just built.\u001b[39;00m\n\u001b[1;32m    603\u001b[0m \u001b[38;5;28;01mreturn\u001b[39;00m objects\n",
      "File \u001b[0;32m~/miniforge3/envs/xsuite-laser2024/lib/python3.12/site-packages/setuptools/_distutils/unixccompiler.py:188\u001b[0m, in \u001b[0;36mUnixCCompiler._compile\u001b[0;34m(self, obj, src, ext, cc_args, extra_postargs, pp_opts)\u001b[0m\n\u001b[1;32m    186\u001b[0m compiler_so \u001b[38;5;241m=\u001b[39m compiler_fixup(\u001b[38;5;28mself\u001b[39m\u001b[38;5;241m.\u001b[39mcompiler_so, cc_args \u001b[38;5;241m+\u001b[39m extra_postargs)\n\u001b[1;32m    187\u001b[0m \u001b[38;5;28;01mtry\u001b[39;00m:\n\u001b[0;32m--> 188\u001b[0m     \u001b[38;5;28mself\u001b[39m\u001b[38;5;241m.\u001b[39mspawn(compiler_so \u001b[38;5;241m+\u001b[39m cc_args \u001b[38;5;241m+\u001b[39m [src, \u001b[38;5;124m'\u001b[39m\u001b[38;5;124m-o\u001b[39m\u001b[38;5;124m'\u001b[39m, obj] \u001b[38;5;241m+\u001b[39m extra_postargs)\n\u001b[1;32m    189\u001b[0m \u001b[38;5;28;01mexcept\u001b[39;00m DistutilsExecError \u001b[38;5;28;01mas\u001b[39;00m msg:\n\u001b[1;32m    190\u001b[0m     \u001b[38;5;28;01mraise\u001b[39;00m CompileError(msg)\n",
      "File \u001b[0;32m~/miniforge3/envs/xsuite-laser2024/lib/python3.12/site-packages/setuptools/_distutils/ccompiler.py:1041\u001b[0m, in \u001b[0;36mCCompiler.spawn\u001b[0;34m(self, cmd, **kwargs)\u001b[0m\n\u001b[1;32m   1040\u001b[0m \u001b[38;5;28;01mdef\u001b[39;00m \u001b[38;5;21mspawn\u001b[39m(\u001b[38;5;28mself\u001b[39m, cmd, \u001b[38;5;241m*\u001b[39m\u001b[38;5;241m*\u001b[39mkwargs):\n\u001b[0;32m-> 1041\u001b[0m     spawn(cmd, dry_run\u001b[38;5;241m=\u001b[39m\u001b[38;5;28mself\u001b[39m\u001b[38;5;241m.\u001b[39mdry_run, \u001b[38;5;241m*\u001b[39m\u001b[38;5;241m*\u001b[39mkwargs)\n",
      "File \u001b[0;32m~/miniforge3/envs/xsuite-laser2024/lib/python3.12/site-packages/setuptools/_distutils/spawn.py:58\u001b[0m, in \u001b[0;36mspawn\u001b[0;34m(cmd, search_path, verbose, dry_run, env)\u001b[0m\n\u001b[1;32m     56\u001b[0m \u001b[38;5;28;01mtry\u001b[39;00m:\n\u001b[1;32m     57\u001b[0m     proc \u001b[38;5;241m=\u001b[39m subprocess\u001b[38;5;241m.\u001b[39mPopen(cmd, env\u001b[38;5;241m=\u001b[39menv)\n\u001b[0;32m---> 58\u001b[0m     proc\u001b[38;5;241m.\u001b[39mwait()\n\u001b[1;32m     59\u001b[0m     exitcode \u001b[38;5;241m=\u001b[39m proc\u001b[38;5;241m.\u001b[39mreturncode\n\u001b[1;32m     60\u001b[0m \u001b[38;5;28;01mexcept\u001b[39;00m \u001b[38;5;167;01mOSError\u001b[39;00m \u001b[38;5;28;01mas\u001b[39;00m exc:\n",
      "File \u001b[0;32m~/miniforge3/envs/xsuite-laser2024/lib/python3.12/subprocess.py:1264\u001b[0m, in \u001b[0;36mPopen.wait\u001b[0;34m(self, timeout)\u001b[0m\n\u001b[1;32m   1262\u001b[0m     endtime \u001b[38;5;241m=\u001b[39m _time() \u001b[38;5;241m+\u001b[39m timeout\n\u001b[1;32m   1263\u001b[0m \u001b[38;5;28;01mtry\u001b[39;00m:\n\u001b[0;32m-> 1264\u001b[0m     \u001b[38;5;28;01mreturn\u001b[39;00m \u001b[38;5;28mself\u001b[39m\u001b[38;5;241m.\u001b[39m_wait(timeout\u001b[38;5;241m=\u001b[39mtimeout)\n\u001b[1;32m   1265\u001b[0m \u001b[38;5;28;01mexcept\u001b[39;00m \u001b[38;5;167;01mKeyboardInterrupt\u001b[39;00m:\n\u001b[1;32m   1266\u001b[0m     \u001b[38;5;66;03m# https://bugs.python.org/issue25942\u001b[39;00m\n\u001b[1;32m   1267\u001b[0m     \u001b[38;5;66;03m# The first keyboard interrupt waits briefly for the child to\u001b[39;00m\n\u001b[1;32m   1268\u001b[0m     \u001b[38;5;66;03m# exit under the common assumption that it also received the ^C\u001b[39;00m\n\u001b[1;32m   1269\u001b[0m     \u001b[38;5;66;03m# generated SIGINT and will exit rapidly.\u001b[39;00m\n\u001b[1;32m   1270\u001b[0m     \u001b[38;5;28;01mif\u001b[39;00m timeout \u001b[38;5;129;01mis\u001b[39;00m \u001b[38;5;129;01mnot\u001b[39;00m \u001b[38;5;28;01mNone\u001b[39;00m:\n",
      "File \u001b[0;32m~/miniforge3/envs/xsuite-laser2024/lib/python3.12/subprocess.py:2053\u001b[0m, in \u001b[0;36mPopen._wait\u001b[0;34m(self, timeout)\u001b[0m\n\u001b[1;32m   2051\u001b[0m \u001b[38;5;28;01mif\u001b[39;00m \u001b[38;5;28mself\u001b[39m\u001b[38;5;241m.\u001b[39mreturncode \u001b[38;5;129;01mis\u001b[39;00m \u001b[38;5;129;01mnot\u001b[39;00m \u001b[38;5;28;01mNone\u001b[39;00m:\n\u001b[1;32m   2052\u001b[0m     \u001b[38;5;28;01mbreak\u001b[39;00m  \u001b[38;5;66;03m# Another thread waited.\u001b[39;00m\n\u001b[0;32m-> 2053\u001b[0m (pid, sts) \u001b[38;5;241m=\u001b[39m \u001b[38;5;28mself\u001b[39m\u001b[38;5;241m.\u001b[39m_try_wait(\u001b[38;5;241m0\u001b[39m)\n\u001b[1;32m   2054\u001b[0m \u001b[38;5;66;03m# Check the pid and loop as waitpid has been known to\u001b[39;00m\n\u001b[1;32m   2055\u001b[0m \u001b[38;5;66;03m# return 0 even without WNOHANG in odd situations.\u001b[39;00m\n\u001b[1;32m   2056\u001b[0m \u001b[38;5;66;03m# http://bugs.python.org/issue14396.\u001b[39;00m\n\u001b[1;32m   2057\u001b[0m \u001b[38;5;28;01mif\u001b[39;00m pid \u001b[38;5;241m==\u001b[39m \u001b[38;5;28mself\u001b[39m\u001b[38;5;241m.\u001b[39mpid:\n",
      "File \u001b[0;32m~/miniforge3/envs/xsuite-laser2024/lib/python3.12/subprocess.py:2011\u001b[0m, in \u001b[0;36mPopen._try_wait\u001b[0;34m(self, wait_flags)\u001b[0m\n\u001b[1;32m   2009\u001b[0m \u001b[38;5;250m\u001b[39m\u001b[38;5;124;03m\"\"\"All callers to this function MUST hold self._waitpid_lock.\"\"\"\u001b[39;00m\n\u001b[1;32m   2010\u001b[0m \u001b[38;5;28;01mtry\u001b[39;00m:\n\u001b[0;32m-> 2011\u001b[0m     (pid, sts) \u001b[38;5;241m=\u001b[39m os\u001b[38;5;241m.\u001b[39mwaitpid(\u001b[38;5;28mself\u001b[39m\u001b[38;5;241m.\u001b[39mpid, wait_flags)\n\u001b[1;32m   2012\u001b[0m \u001b[38;5;28;01mexcept\u001b[39;00m \u001b[38;5;167;01mChildProcessError\u001b[39;00m:\n\u001b[1;32m   2013\u001b[0m     \u001b[38;5;66;03m# This happens if SIGCLD is set to be ignored or waiting\u001b[39;00m\n\u001b[1;32m   2014\u001b[0m     \u001b[38;5;66;03m# for child processes has otherwise been disabled for our\u001b[39;00m\n\u001b[1;32m   2015\u001b[0m     \u001b[38;5;66;03m# process.  This child is dead, we can't get the status.\u001b[39;00m\n\u001b[1;32m   2016\u001b[0m     pid \u001b[38;5;241m=\u001b[39m \u001b[38;5;28mself\u001b[39m\u001b[38;5;241m.\u001b[39mpid\n",
      "\u001b[0;31mKeyboardInterrupt\u001b[0m: "
     ]
    }
   ],
   "source": [
    "# context = xo.ContextCpu(omp_num_threads=4)\n",
    "context = xo.ContextCpu()\n",
    "\n",
    "line = xt.Line.from_json('sps.json')\n",
    "particle_ref0=line.particle_ref\n",
    "line.build_tracker()\n",
    "\n",
    "clight=constants.speed_of_light\n",
    "circumference = line.get_length()"
   ]
  },
  {
   "cell_type": "code",
   "execution_count": null,
   "metadata": {},
   "outputs": [],
   "source": [
    "from ion_properties import lead,calcium,xenon,xenon2nd\n"
   ]
  },
  {
   "cell_type": "markdown",
   "metadata": {},
   "source": [
    "lead "
   ]
  },
  {
   "cell_type": "code",
   "execution_count": null,
   "metadata": {},
   "outputs": [
    {
     "name": "stderr",
     "output_type": "stream",
     "text": [
      "  0%|          | 0/1 [00:00<?, ?it/s]"
     ]
    },
    {
     "name": "stdout",
     "output_type": "stream",
     "text": [
      "Compiling ContextCpu kernels...\n",
      "Done compiling ContextCpu kernels.\n"
     ]
    },
    {
     "name": "stderr",
     "output_type": "stream",
     "text": [
      "100%|██████████| 1/1 [00:14<00:00, 14.22s/it]"
     ]
    },
    {
     "name": "stdout",
     "output_type": "stream",
     "text": [
      "IBSGrowthRates(Tx=0.000512, Ty=-4.17e-06, Tz=0.00118)\n",
      "bunch intensity: 200000000.0\n"
     ]
    },
    {
     "name": "stderr",
     "output_type": "stream",
     "text": [
      "\n"
     ]
    }
   ],
   "source": [
    "for ion_loop in tqdm([xenon]):\n",
    "    line.discard_tracker()\n",
    "    q0 = ion_loop.q0\n",
    "    mass0 = ion_loop.mass0\n",
    "    gamma0 = ion_loop.gamma_rel\n",
    "    beta0 = ion_loop.beta_rel\n",
    "    # gamma = particle_ref.gamma0\n",
    "    # beta= particle_ref.beta0\n",
    "    p0c = mass0*gamma0*beta0 #eV/c\n",
    "    bunch_intensity = ion_loop.bunch_intensity\n",
    "    particle_ref = xp.Particles(p0c = p0c, mass0 = mass0, q0 = q0, gamma0 = gamma0)\n",
    "\n",
    "    line.particle_ref=particle_ref\n",
    "    line.build_tracker()\n",
    "    twiss = line.twiss()\n",
    "    injection_nemitt = 1.5*1e-6 # m*rad (normalized emittance)\n",
    "    injection_dp_p = 2e-4\n",
    "    sigma_z = ion_loop.bunch_length\n",
    "    #for lead: 0.063 #https://cds.cern.ch/record/2690736/files/SPSC-I-253.pdf\n",
    "    geom_epsx = injection_nemitt/(beta0*gamma0)\n",
    "    \n",
    "    bm_growth_rates = twiss.get_ibs_growth_rates(\n",
    "    formalism=\"bjorken-mtingwa\", \n",
    "    total_beam_intensity=bunch_intensity,\n",
    "    nemitt_x=injection_nemitt,\n",
    "    nemitt_y=injection_nemitt,\n",
    "    sigma_delta=injection_dp_p,\n",
    "    bunch_length=sigma_z,\n",
    "    bunched=True,\n",
    "    )\n",
    "\n",
    "\n",
    "    print(bm_growth_rates)\n",
    "    print('bunch intensity:',bunch_intensity)\n",
    "    "
   ]
  },
  {
   "cell_type": "code",
   "execution_count": null,
   "metadata": {},
   "outputs": [],
   "source": [
    "injection_nemitt = 1.5*1e-6 # m*rad (normalized emittance)\n",
    "injection_dp_p = 2e-4\n",
    "sigma_z = 0.063 #https://cds.cern.ch/record/2690736/files/SPSC-I-253.pdf"
   ]
  },
  {
   "cell_type": "markdown",
   "metadata": {},
   "source": [
    "elias case for SPS to benchmark"
   ]
  },
  {
   "cell_type": "code",
   "execution_count": null,
   "metadata": {},
   "outputs": [
    {
     "name": "stderr",
     "output_type": "stream",
     "text": [
      "  0%|          | 0/1 [00:00<?, ?it/s]"
     ]
    },
    {
     "name": "stdout",
     "output_type": "stream",
     "text": [
      "Compiling ContextCpu kernels...\n",
      "Done compiling ContextCpu kernels.\n"
     ]
    },
    {
     "name": "stderr",
     "output_type": "stream",
     "text": [
      "100%|██████████| 1/1 [00:14<00:00, 14.18s/it]"
     ]
    },
    {
     "name": "stdout",
     "output_type": "stream",
     "text": [
      "gamma: 96.08823512129919\n",
      "IBSGrowthRates(Tx=0.000804, Ty=-1.63e-05, Tz=0.00291)\n",
      "bunch intensity: 90000000.0\n"
     ]
    },
    {
     "name": "stderr",
     "output_type": "stream",
     "text": [
      "\n"
     ]
    }
   ],
   "source": [
    "for ion_loop in tqdm([lead]):\n",
    "    line.discard_tracker()\n",
    "    q0 = ion_loop.q0\n",
    "    mass0 = ion_loop.mass0\n",
    "    gamma0 = ion_loop.gamma_rel\n",
    "    beta0 = ion_loop.beta_rel\n",
    "    # gamma = particle_ref.gamma0\n",
    "    # beta= particle_ref.beta0\n",
    "    p0c = mass0*gamma0*beta0 #eV/c\n",
    "    bunch_intensity = ion_loop.bunch_intensity\n",
    "    particle_ref = xp.Particles(p0c=p0c, mass0=mass0, q0=q0,gamma0 = gamma0)\n",
    "\n",
    "    line.particle_ref=particle_ref\n",
    "    line.build_tracker()\n",
    "    twiss = line.twiss()\n",
    "    twiss.gamma0=gamma0\n",
    "    twiss.beta0=beta0\n",
    "    injection_nemitt_x = 0.5*1e-6 # m*rad (normalized emittance)\n",
    "    injection_nemitt_y = 0.5*1e-6 # m*rad (normalized emittance)\n",
    "\n",
    "    injection_dp_p = 2e-4\n",
    "    sigma_z = ion_loop.bunch_length\n",
    "        \n",
    "    bm_growth_rates = twiss.get_ibs_growth_rates(\n",
    "    formalism=\"bjorken-mtingwa\", \n",
    "    total_beam_intensity=bunch_intensity,\n",
    "    nemitt_x=injection_nemitt,\n",
    "    nemitt_y=injection_nemitt,\n",
    "    sigma_delta=injection_dp_p,\n",
    "    bunch_length=sigma_z,\n",
    "    bunched=True,\n",
    "    )\n",
    "\n",
    "    print('gamma:',gamma0)\n",
    "\n",
    "    print(bm_growth_rates)\n",
    "    print('bunch intensity:',bunch_intensity)\n",
    "    "
   ]
  },
  {
   "cell_type": "markdown",
   "metadata": {},
   "source": [
    "Loop over both sig_delta and emittance"
   ]
  },
  {
   "cell_type": "code",
   "execution_count": null,
   "metadata": {},
   "outputs": [
    {
     "name": "stdout",
     "output_type": "stream",
     "text": [
      "Compiling ContextCpu kernels...\n",
      "Done compiling ContextCpu kernels.\n"
     ]
    },
    {
     "name": "stderr",
     "output_type": "stream",
     "text": [
      "0it [00:00, ?it/s]"
     ]
    },
    {
     "name": "stdout",
     "output_type": "stream",
     "text": [
      "0/51\n"
     ]
    },
    {
     "name": "stderr",
     "output_type": "stream",
     "text": [
      "1it [03:02, 182.09s/it]"
     ]
    },
    {
     "name": "stdout",
     "output_type": "stream",
     "text": [
      "1/51\n"
     ]
    },
    {
     "name": "stderr",
     "output_type": "stream",
     "text": [
      "2it [05:55, 177.09s/it]"
     ]
    },
    {
     "name": "stdout",
     "output_type": "stream",
     "text": [
      "2/51\n"
     ]
    },
    {
     "name": "stderr",
     "output_type": "stream",
     "text": [
      "3it [08:42, 172.62s/it]"
     ]
    },
    {
     "name": "stdout",
     "output_type": "stream",
     "text": [
      "3/51\n"
     ]
    },
    {
     "name": "stderr",
     "output_type": "stream",
     "text": [
      "4it [11:31, 171.09s/it]"
     ]
    },
    {
     "name": "stdout",
     "output_type": "stream",
     "text": [
      "4/51\n"
     ]
    },
    {
     "name": "stderr",
     "output_type": "stream",
     "text": [
      "5it [14:27, 172.60s/it]"
     ]
    },
    {
     "name": "stdout",
     "output_type": "stream",
     "text": [
      "5/51\n"
     ]
    },
    {
     "name": "stderr",
     "output_type": "stream",
     "text": [
      "6it [17:08, 168.96s/it]"
     ]
    },
    {
     "name": "stdout",
     "output_type": "stream",
     "text": [
      "6/51\n"
     ]
    },
    {
     "name": "stderr",
     "output_type": "stream",
     "text": [
      "7it [20:02, 170.50s/it]"
     ]
    },
    {
     "name": "stdout",
     "output_type": "stream",
     "text": [
      "7/51\n"
     ]
    },
    {
     "name": "stderr",
     "output_type": "stream",
     "text": [
      "8it [22:53, 170.54s/it]"
     ]
    },
    {
     "name": "stdout",
     "output_type": "stream",
     "text": [
      "8/51\n"
     ]
    },
    {
     "name": "stderr",
     "output_type": "stream",
     "text": [
      "9it [25:43, 170.33s/it]"
     ]
    },
    {
     "name": "stdout",
     "output_type": "stream",
     "text": [
      "9/51\n"
     ]
    },
    {
     "name": "stderr",
     "output_type": "stream",
     "text": [
      "10it [28:30, 169.54s/it]"
     ]
    },
    {
     "name": "stdout",
     "output_type": "stream",
     "text": [
      "10/51\n"
     ]
    },
    {
     "name": "stderr",
     "output_type": "stream",
     "text": [
      "11it [31:31, 173.03s/it]"
     ]
    },
    {
     "name": "stdout",
     "output_type": "stream",
     "text": [
      "11/51\n"
     ]
    },
    {
     "name": "stderr",
     "output_type": "stream",
     "text": [
      "12it [34:18, 171.19s/it]"
     ]
    },
    {
     "name": "stdout",
     "output_type": "stream",
     "text": [
      "12/51\n"
     ]
    },
    {
     "name": "stderr",
     "output_type": "stream",
     "text": [
      "13it [37:14, 172.44s/it]"
     ]
    },
    {
     "name": "stdout",
     "output_type": "stream",
     "text": [
      "13/51\n"
     ]
    },
    {
     "name": "stderr",
     "output_type": "stream",
     "text": [
      "14it [39:57, 169.64s/it]"
     ]
    },
    {
     "name": "stdout",
     "output_type": "stream",
     "text": [
      "14/51\n"
     ]
    },
    {
     "name": "stderr",
     "output_type": "stream",
     "text": [
      "15it [42:47, 169.93s/it]"
     ]
    },
    {
     "name": "stdout",
     "output_type": "stream",
     "text": [
      "15/51\n"
     ]
    },
    {
     "name": "stderr",
     "output_type": "stream",
     "text": [
      "16it [45:32, 168.32s/it]"
     ]
    },
    {
     "name": "stdout",
     "output_type": "stream",
     "text": [
      "16/51\n"
     ]
    },
    {
     "name": "stderr",
     "output_type": "stream",
     "text": [
      "17it [48:22, 168.74s/it]"
     ]
    },
    {
     "name": "stdout",
     "output_type": "stream",
     "text": [
      "17/51\n"
     ]
    },
    {
     "name": "stderr",
     "output_type": "stream",
     "text": [
      "18it [51:16, 170.54s/it]"
     ]
    },
    {
     "name": "stdout",
     "output_type": "stream",
     "text": [
      "18/51\n"
     ]
    },
    {
     "name": "stderr",
     "output_type": "stream",
     "text": [
      "19it [54:11, 171.90s/it]"
     ]
    },
    {
     "name": "stdout",
     "output_type": "stream",
     "text": [
      "19/51\n"
     ]
    },
    {
     "name": "stderr",
     "output_type": "stream",
     "text": [
      "20it [57:32, 180.39s/it]"
     ]
    },
    {
     "name": "stdout",
     "output_type": "stream",
     "text": [
      "20/51\n"
     ]
    },
    {
     "name": "stderr",
     "output_type": "stream",
     "text": [
      "21it [1:00:46, 184.50s/it]"
     ]
    },
    {
     "name": "stdout",
     "output_type": "stream",
     "text": [
      "21/51\n"
     ]
    },
    {
     "name": "stderr",
     "output_type": "stream",
     "text": [
      "22it [1:03:42, 182.13s/it]"
     ]
    },
    {
     "name": "stdout",
     "output_type": "stream",
     "text": [
      "22/51\n"
     ]
    },
    {
     "name": "stderr",
     "output_type": "stream",
     "text": [
      "23it [1:06:36, 179.48s/it]"
     ]
    },
    {
     "name": "stdout",
     "output_type": "stream",
     "text": [
      "23/51\n"
     ]
    },
    {
     "name": "stderr",
     "output_type": "stream",
     "text": [
      "24it [1:09:26, 176.81s/it]"
     ]
    },
    {
     "name": "stdout",
     "output_type": "stream",
     "text": [
      "24/51\n"
     ]
    },
    {
     "name": "stderr",
     "output_type": "stream",
     "text": [
      "25it [1:12:23, 176.80s/it]"
     ]
    },
    {
     "name": "stdout",
     "output_type": "stream",
     "text": [
      "25/51\n"
     ]
    },
    {
     "name": "stderr",
     "output_type": "stream",
     "text": [
      "26it [1:15:24, 178.21s/it]"
     ]
    },
    {
     "name": "stdout",
     "output_type": "stream",
     "text": [
      "26/51\n"
     ]
    },
    {
     "name": "stderr",
     "output_type": "stream",
     "text": [
      "27it [1:18:07, 173.46s/it]"
     ]
    },
    {
     "name": "stdout",
     "output_type": "stream",
     "text": [
      "27/51\n"
     ]
    },
    {
     "name": "stderr",
     "output_type": "stream",
     "text": [
      "28it [1:20:52, 171.00s/it]"
     ]
    },
    {
     "name": "stdout",
     "output_type": "stream",
     "text": [
      "28/51\n"
     ]
    },
    {
     "name": "stderr",
     "output_type": "stream",
     "text": [
      "29it [1:23:23, 165.08s/it]"
     ]
    },
    {
     "name": "stdout",
     "output_type": "stream",
     "text": [
      "29/51\n"
     ]
    },
    {
     "name": "stderr",
     "output_type": "stream",
     "text": [
      "30it [1:26:00, 162.68s/it]"
     ]
    },
    {
     "name": "stdout",
     "output_type": "stream",
     "text": [
      "30/51\n"
     ]
    },
    {
     "name": "stderr",
     "output_type": "stream",
     "text": [
      "31it [1:28:54, 165.88s/it]"
     ]
    },
    {
     "name": "stdout",
     "output_type": "stream",
     "text": [
      "31/51\n"
     ]
    },
    {
     "name": "stderr",
     "output_type": "stream",
     "text": [
      "32it [1:31:46, 167.67s/it]"
     ]
    },
    {
     "name": "stdout",
     "output_type": "stream",
     "text": [
      "32/51\n"
     ]
    },
    {
     "name": "stderr",
     "output_type": "stream",
     "text": [
      "33it [1:34:40, 169.83s/it]"
     ]
    },
    {
     "name": "stdout",
     "output_type": "stream",
     "text": [
      "33/51\n"
     ]
    },
    {
     "name": "stderr",
     "output_type": "stream",
     "text": [
      "34it [1:37:55, 177.37s/it]"
     ]
    },
    {
     "name": "stdout",
     "output_type": "stream",
     "text": [
      "34/51\n"
     ]
    },
    {
     "name": "stderr",
     "output_type": "stream",
     "text": [
      "35it [1:40:57, 178.63s/it]"
     ]
    },
    {
     "name": "stdout",
     "output_type": "stream",
     "text": [
      "35/51\n"
     ]
    },
    {
     "name": "stderr",
     "output_type": "stream",
     "text": [
      "36it [1:44:03, 180.78s/it]"
     ]
    },
    {
     "name": "stdout",
     "output_type": "stream",
     "text": [
      "36/51\n"
     ]
    },
    {
     "name": "stderr",
     "output_type": "stream",
     "text": [
      "37it [1:47:11, 182.91s/it]"
     ]
    },
    {
     "name": "stdout",
     "output_type": "stream",
     "text": [
      "37/51\n"
     ]
    },
    {
     "name": "stderr",
     "output_type": "stream",
     "text": [
      "38it [1:50:09, 181.43s/it]"
     ]
    },
    {
     "name": "stdout",
     "output_type": "stream",
     "text": [
      "38/51\n"
     ]
    },
    {
     "name": "stderr",
     "output_type": "stream",
     "text": [
      "39it [1:53:17, 183.48s/it]"
     ]
    },
    {
     "name": "stdout",
     "output_type": "stream",
     "text": [
      "39/51\n"
     ]
    },
    {
     "name": "stderr",
     "output_type": "stream",
     "text": [
      "40it [1:56:14, 181.55s/it]"
     ]
    },
    {
     "name": "stdout",
     "output_type": "stream",
     "text": [
      "40/51\n"
     ]
    },
    {
     "name": "stderr",
     "output_type": "stream",
     "text": [
      "41it [1:59:14, 180.98s/it]"
     ]
    },
    {
     "name": "stdout",
     "output_type": "stream",
     "text": [
      "41/51\n"
     ]
    },
    {
     "name": "stderr",
     "output_type": "stream",
     "text": [
      "42it [2:02:09, 179.35s/it]"
     ]
    },
    {
     "name": "stdout",
     "output_type": "stream",
     "text": [
      "42/51\n"
     ]
    },
    {
     "name": "stderr",
     "output_type": "stream",
     "text": [
      "43it [2:05:11, 180.21s/it]"
     ]
    },
    {
     "name": "stdout",
     "output_type": "stream",
     "text": [
      "43/51\n"
     ]
    },
    {
     "name": "stderr",
     "output_type": "stream",
     "text": [
      "44it [2:08:32, 186.26s/it]"
     ]
    },
    {
     "name": "stdout",
     "output_type": "stream",
     "text": [
      "44/51\n"
     ]
    },
    {
     "name": "stderr",
     "output_type": "stream",
     "text": [
      "45it [2:11:42, 187.34s/it]"
     ]
    },
    {
     "name": "stdout",
     "output_type": "stream",
     "text": [
      "45/51\n"
     ]
    },
    {
     "name": "stderr",
     "output_type": "stream",
     "text": [
      "46it [2:14:54, 188.89s/it]"
     ]
    },
    {
     "name": "stdout",
     "output_type": "stream",
     "text": [
      "46/51\n"
     ]
    },
    {
     "name": "stderr",
     "output_type": "stream",
     "text": [
      "47it [2:18:37, 199.18s/it]"
     ]
    },
    {
     "name": "stdout",
     "output_type": "stream",
     "text": [
      "47/51\n"
     ]
    },
    {
     "name": "stderr",
     "output_type": "stream",
     "text": [
      "48it [2:21:48, 196.69s/it]"
     ]
    },
    {
     "name": "stdout",
     "output_type": "stream",
     "text": [
      "48/51\n"
     ]
    },
    {
     "name": "stderr",
     "output_type": "stream",
     "text": [
      "49it [2:25:02, 195.76s/it]"
     ]
    },
    {
     "name": "stdout",
     "output_type": "stream",
     "text": [
      "49/51\n"
     ]
    },
    {
     "name": "stderr",
     "output_type": "stream",
     "text": [
      "50it [2:28:16, 195.19s/it]"
     ]
    },
    {
     "name": "stdout",
     "output_type": "stream",
     "text": [
      "50/51\n"
     ]
    },
    {
     "name": "stderr",
     "output_type": "stream",
     "text": [
      "51it [2:31:29, 178.23s/it]\n"
     ]
    }
   ],
   "source": [
    "sig_delta_list = np.linspace(2e-5, 2.2e-4, 50)\n",
    "n_emitt_list=np.linspace(1e-7,1.7e-6,51)\n",
    "\n",
    "# sig_delta_list = np.linspace(0.4e-4, 1e-4, 10)\n",
    "# n_emitt_list=np.linspace(0.5e-6,1.5e-6,10)\n",
    "\n",
    "\n",
    "growth_rates_2d_x = np.zeros((len(sig_delta_list), len(n_emitt_list)))\n",
    "growth_rates_2d_y = np.zeros((len(sig_delta_list), len(n_emitt_list)))\n",
    "growth_rates_2d_z = np.zeros((len(sig_delta_list), len(n_emitt_list)))\n",
    "\n",
    "for ion_loop in [lead]:\n",
    "    line.discard_tracker()\n",
    "    q0 = ion_loop.q0\n",
    "    mass0 = ion_loop.mass0\n",
    "    gamma0 = ion_loop.gamma_rel\n",
    "    beta0 = ion_loop.beta_rel\n",
    "    sigma_z = ion_loop.bunch_length\n",
    "    # gamma = particle_ref.gamma0\n",
    "    # beta= particle_ref.beta0\n",
    "    p0c = mass0*gamma0*beta0 #eV/c\n",
    "    bunch_intensity = ion_loop.bunch_intensity\n",
    "    particle_ref = xp.Particles(p0c=p0c, mass0=mass0, q0=q0,gamma0 = gamma0)\n",
    "\n",
    "    line.particle_ref=particle_ref\n",
    "    line.build_tracker()\n",
    "    twiss = line.twiss()\n",
    "    \n",
    "    for j, n_emitt_loop in tqdm(enumerate(n_emitt_list)):\n",
    "\n",
    "        print(f'{j}/{len(n_emitt_list)}')\n",
    "\n",
    "        geom_epsx = n_emitt_loop/(beta0*gamma0)\n",
    "        geom_epsy = n_emitt_loop/(beta0*gamma0)\n",
    "        \n",
    "        for i, sig_delta_loop in enumerate(sig_delta_list):\n",
    "           \n",
    "           bm_growth_rates = twiss.get_ibs_growth_rates(\n",
    "            formalism=\"bjorken-mtingwa\", \n",
    "            total_beam_intensity=bunch_intensity,\n",
    "            nemitt_x=n_emitt_loop,\n",
    "            nemitt_y=n_emitt_loop,\n",
    "            sigma_delta=sig_delta_loop,\n",
    "            bunch_length=sigma_z,\n",
    "            bunched=True,\n",
    "            )\n",
    "\n",
    "           growth_rates_2d_x[i, j] = bm_growth_rates.Tx\n",
    "           growth_rates_2d_y[i, j] = bm_growth_rates.Ty\n",
    "           growth_rates_2d_z[i, j] = bm_growth_rates.Tz\n",
    "\n",
    "    np.savez(f'results/IBS_bunched/{ion_loop.name}.npz',\n",
    "            growth_rates_2d_x=growth_rates_2d_x,\n",
    "            growth_rates_2d_y=growth_rates_2d_y,\n",
    "            growth_rates_2d_z=growth_rates_2d_z,\n",
    "            sig_delta_list=sig_delta_list,\n",
    "            n_emitt_list=n_emitt_list,\n",
    "            total_intensity=bunch_intensity)"
   ]
  },
  {
   "cell_type": "markdown",
   "metadata": {},
   "source": [
    "Example of Growth rates as a function of RMS dp/p"
   ]
  },
  {
   "cell_type": "code",
   "execution_count": null,
   "metadata": {},
   "outputs": [
    {
     "name": "stdout",
     "output_type": "stream",
     "text": [
      "Compiling ContextCpu kernels...\n",
      "Done compiling ContextCpu kernels.\n",
      "0/50\n",
      "1/50\n",
      "2/50\n",
      "3/50\n",
      "4/50\n",
      "5/50\n",
      "6/50\n",
      "7/50\n",
      "8/50\n",
      "9/50\n",
      "10/50\n",
      "11/50\n",
      "12/50\n",
      "13/50\n",
      "14/50\n",
      "15/50\n",
      "16/50\n",
      "17/50\n",
      "18/50\n",
      "19/50\n",
      "20/50\n",
      "21/50\n",
      "22/50\n",
      "23/50\n",
      "24/50\n",
      "25/50\n",
      "26/50\n",
      "27/50\n",
      "28/50\n",
      "29/50\n",
      "30/50\n",
      "31/50\n",
      "32/50\n",
      "33/50\n",
      "34/50\n",
      "35/50\n",
      "36/50\n",
      "37/50\n",
      "38/50\n",
      "39/50\n",
      "40/50\n",
      "41/50\n",
      "42/50\n",
      "43/50\n",
      "44/50\n",
      "45/50\n",
      "46/50\n",
      "47/50\n",
      "48/50\n",
      "49/50\n"
     ]
    }
   ],
   "source": [
    "sig_delta_list = np.linspace(1e-4, 1e-5, 50)\n",
    "\n",
    "growth_rates_2d_x = np.zeros((len(sig_delta_list), 1))\n",
    "growth_rates_2d_y = np.zeros((len(sig_delta_list), 1))\n",
    "growth_rates_2d_z = np.zeros((len(sig_delta_list), 1))\n",
    "\n",
    "ion_example=lead\n",
    "\n",
    "line.discard_tracker()\n",
    "q0 = ion_example.q0\n",
    "mass0 = ion_example.mass0\n",
    "beta0 = ion_example.beta_rel\n",
    "gamma0 = ion_example.gamma_rel\n",
    "# gamma = particle_ref.gamma0\n",
    "# beta= particle_ref.beta0\n",
    "sigma_z=ion_example.bunch_length\n",
    "p0c = mass0*gamma0*beta0 #eV/c\n",
    "bunch_intensity = ion_example.bunch_intensity\n",
    "particle_ref = xp.Particles(p0c=p0c, mass0=mass0, q0=q0)\n",
    "\n",
    "line.particle_ref=particle_ref\n",
    "line.build_tracker()\n",
    "twiss = line.twiss()\n",
    "\n",
    "\n",
    "for k, sig_delta_loop in enumerate(sig_delta_list):\n",
    "\n",
    "    print(f'{k}/{len(sig_delta_list)}')\n",
    "\n",
    "    bm_growth_rates = twiss.get_ibs_growth_rates(\n",
    "            formalism=\"bjorken-mtingwa\", \n",
    "            total_beam_intensity=bunch_intensity,\n",
    "            nemitt_x=injection_nemitt,\n",
    "            nemitt_y=injection_nemitt,\n",
    "            sigma_delta=injection_dp_p,\n",
    "            bunch_length=sigma_z,\n",
    "            bunched=True,\n",
    "            )\n",
    "\n",
    "    growth_rates_2d_x[k, 0] = bm_growth_rates.Tx\n",
    "    growth_rates_2d_y[k, 0] = bm_growth_rates.Ty\n",
    "    growth_rates_2d_z[k, 0] = bm_growth_rates.Tz"
   ]
  },
  {
   "cell_type": "code",
   "execution_count": null,
   "metadata": {},
   "outputs": [
    {
     "data": {
      "text/plain": [
       "array([[0.00291345],\n",
       "       [0.00291345],\n",
       "       [0.00291345],\n",
       "       [0.00291345],\n",
       "       [0.00291345],\n",
       "       [0.00291345],\n",
       "       [0.00291345],\n",
       "       [0.00291345],\n",
       "       [0.00291345],\n",
       "       [0.00291345],\n",
       "       [0.00291345],\n",
       "       [0.00291345],\n",
       "       [0.00291345],\n",
       "       [0.00291345],\n",
       "       [0.00291345],\n",
       "       [0.00291345],\n",
       "       [0.00291345],\n",
       "       [0.00291345],\n",
       "       [0.00291345],\n",
       "       [0.00291345],\n",
       "       [0.00291345],\n",
       "       [0.00291345],\n",
       "       [0.00291345],\n",
       "       [0.00291345],\n",
       "       [0.00291345],\n",
       "       [0.00291345],\n",
       "       [0.00291345],\n",
       "       [0.00291345],\n",
       "       [0.00291345],\n",
       "       [0.00291345],\n",
       "       [0.00291345],\n",
       "       [0.00291345],\n",
       "       [0.00291345],\n",
       "       [0.00291345],\n",
       "       [0.00291345],\n",
       "       [0.00291345],\n",
       "       [0.00291345],\n",
       "       [0.00291345],\n",
       "       [0.00291345],\n",
       "       [0.00291345],\n",
       "       [0.00291345],\n",
       "       [0.00291345],\n",
       "       [0.00291345],\n",
       "       [0.00291345],\n",
       "       [0.00291345],\n",
       "       [0.00291345],\n",
       "       [0.00291345],\n",
       "       [0.00291345],\n",
       "       [0.00291345],\n",
       "       [0.00291345]])"
      ]
     },
     "execution_count": 45,
     "metadata": {},
     "output_type": "execute_result"
    }
   ],
   "source": [
    "growth_rates_2d_z"
   ]
  },
  {
   "cell_type": "code",
   "execution_count": null,
   "metadata": {},
   "outputs": [
    {
     "data": {
      "image/png": "[encoded data removed]",
      "text/plain": [
       "<Figure size 1200x1500 with 3 Axes>"
      ]
     },
     "metadata": {},
     "output_type": "display_data"
    }
   ],
   "source": [
    "growth_rates_list=[-0.014543483928087665, -0.03199828107563238, -0.2150191845385947]\n",
    "\n",
    "# growth_rate_xenon=-0.03199828107563238\n",
    "\n",
    "\n",
    "plt.figure(figsize=(12, 15))\n",
    "plt.rcParams.update({'font.size': 20})\n",
    "\n",
    "\n",
    "plt.subplot(3, 1, 1)\n",
    "plt.plot(sig_delta_list, growth_rates_2d_x[:, 0], label='Tx')\n",
    "plt.title('Tx Growth Rates')\n",
    "plt.xlabel('RMS dp/p')\n",
    "plt.ylabel('Growth Rate')\n",
    "plt.ticklabel_format(style='sci', axis='x', scilimits=(0, 0))\n",
    "plt.axhline(-growth_rate_xenon,color='red',label='Cooler growth rate')\n",
    "plt.legend()\n",
    "\n",
    "plt.subplot(3, 1, 2)\n",
    "plt.plot(sig_delta_list, growth_rates_2d_y[:, 0], label='Ty')\n",
    "plt.title('Ty Growth Rates')\n",
    "plt.xlabel('RMS dp/p')\n",
    "plt.ylabel('Growth Rate')\n",
    "plt.ticklabel_format(style='sci', axis='x', scilimits=(0, 0))\n",
    "plt.axhline(-growth_rate_xenon,color='red',label='Cooler growth rate')\n",
    "plt.legend()\n",
    "\n",
    "plt.subplot(3, 1, 3)\n",
    "plt.plot(sig_delta_list, growth_rates_2d_z[:, 0], label='Tz')\n",
    "plt.title('Tz Growth Rates')\n",
    "plt.xlabel('RMS dp/p')\n",
    "plt.ylabel('Growth Rate')\n",
    "plt.ticklabel_format(style='sci', axis='x', scilimits=(0, 0))\n",
    "plt.axhline(-growth_rate_xenon,color='red',label='Laser cooler growth rate')\n",
    "plt.legend()\n",
    "\n",
    "plt.tight_layout()\n",
    "plt.show()"
   ]
  }
 ],
 "metadata": {
  "kernelspec": {
   "display_name": "xsuite_2023",
   "language": "python",
   "name": "python3"
  },
  "language_info": {
   "codemirror_mode": {
    "name": "ipython",
    "version": 3
   },
   "file_extension": ".py",
   "mimetype": "text/x-python",
   "name": "python",
   "nbconvert_exporter": "python",
   "pygments_lexer": "ipython3",
   "version": "3.12.3"
  },
  "orig_nbformat": 4
 },
 "nbformat": 4,
 "nbformat_minor": 2
}
