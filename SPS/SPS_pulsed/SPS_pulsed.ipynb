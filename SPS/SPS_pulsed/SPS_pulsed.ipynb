{
 "cells": [
  {
   "cell_type": "code",
   "execution_count": 1,
   "id": "56e455f6",
   "metadata": {},
   "outputs": [
    {
     "name": "stderr",
     "output_type": "stream",
     "text": [
      "/home/pkruyt/cernbox/xsuite-laser/xtrack/xtrack/progress_indicator.py:90: TqdmExperimentalWarning: Using `tqdm.autonotebook.tqdm` in notebook mode. Use `tqdm.tqdm` instead to force console mode (e.g. in jupyter console)\n",
      "  from tqdm.autonotebook import tqdm\n"
     ]
    }
   ],
   "source": [
    "import json\n",
    "import numpy as np\n",
    "import xobjects as xo\n",
    "import xtrack as xt\n",
    "import xpart as xp\n",
    "from tqdm import tqdm\n",
    "import matplotlib.pyplot as plt\n",
    "from scipy import constants \n",
    "####################\n",
    "# Choose a context #\n",
    "####################\n",
    "context = xo.ContextCpu()\n",
    "# context = xo.ContextCpu(omp_num_threads='auto')\n",
    "buf = context.new_buffer()\n",
    "\n",
    "# Ion properties:\n",
    "m_u = 931.49410242e6 # eV/c^2 -- atomic mass unit\n",
    "A = 207.98 # Lead-208\n",
    "Z = 82  # Number of protons in the ion (Lead)\n",
    "Ne = 3 # Number of remaining electrons (Lithium-like)\n",
    "q0=Z-Ne\n",
    "m_e = 0.511e6 # eV/c^2 -- electron mass\n",
    "m_p = 938.272088e6 # eV/c^2 -- proton mass\n",
    "clight = 299792458.0 # m/s\n",
    "\n",
    "m_ion = A*m_u + Ne*m_e # eV/c^2\n",
    "equiv_proton_momentum = 236e9 # eV/c = gamma_p*m_p*v\n",
    "gamma_p = np.sqrt( 1 + (equiv_proton_momentum/m_p)**2 ) # equvalent gamma for protons in the ring\n",
    "\n",
    "p0c = equiv_proton_momentum*(q0) # eV/c\n",
    "gamma = np.sqrt( 1 + (p0c/m_ion)**2 ) # ion relativistic factor\n",
    "beta = np.sqrt(1-1/(gamma*gamma)) # ion beta\n"
   ]
  },
  {
   "cell_type": "code",
   "execution_count": 2,
   "id": "38119600",
   "metadata": {},
   "outputs": [
    {
     "data": {
      "application/vnd.jupyter.widget-view+json": {
       "model_id": "50752f6588fa44fea5cd73342feb5d50",
       "version_major": 2,
       "version_minor": 0
      },
      "text/plain": [
       "Loading line from dict:   0%|          | 0/11600 [00:00<?, ?it/s]"
      ]
     },
     "metadata": {},
     "output_type": "display_data"
    },
    {
     "name": "stdout",
     "output_type": "stream",
     "text": [
      "Done loading line from dict.           \n",
      "Compiling ContextCpu kernels...\n",
      "Done compiling ContextCpu kernels.\n",
      "The argument tracker is deprecated. Please use line instead. <class 'DeprecationWarning'>\n",
      "*** Maximum RMS bunch length 0.23592919520901076m.\n",
      "... distance to target bunch length: -2.2500e-01\n",
      "... distance to target bunch length: 4.4112e-03\n",
      "... distance to target bunch length: 4.1449e-03\n",
      "... distance to target bunch length: -3.3479e-03\n",
      "... distance to target bunch length: 1.0467e-03\n",
      "... distance to target bunch length: 2.0728e-04\n",
      "... distance to target bunch length: -3.3833e-06\n",
      "... distance to target bunch length: 4.9353e-08\n",
      "... distance to target bunch length: -6.5924e-08\n",
      "--> Bunch length: 0.22500004935312237\n",
      "--> Emittance: 0.6606168645424672\n"
     ]
    }
   ],
   "source": [
    "#%%\n",
    "##################\n",
    "# Build TrackJob #\n",
    "##################\n",
    "\n",
    "fname_sequence ='/home/pkruyt/cernbox/xsuite-env/xtrack/test_data/sps_w_spacecharge/line_no_spacecharge_and_particle.json'\n",
    "\n",
    "with open(fname_sequence, 'r') as fid:\n",
    "     input_data = json.load(fid)\n",
    "sequence = xt.Line.from_dict(input_data['line'])\n",
    "\n",
    "n_part = int(1e4)\n",
    "\n",
    "SPS_tracker = xt.Tracker(_context=context, _buffer=buf, line=sequence)\n",
    "\n",
    "# Build a reference particle\n",
    "particle_sample = xp.Particles(mass0=m_ion, q0=q0, p0c=p0c)\n",
    "\n",
    "sigma_z = 22.5e-2\n",
    "nemitt_x = 2e-6\n",
    "nemitt_y = 2.5e-6\n",
    "\n",
    "particles = xp.generate_matched_gaussian_bunch(\n",
    "         num_particles=n_part,\n",
    "         #total_intensity_particles=bunch_intensity,\n",
    "         nemitt_x=nemitt_x, nemitt_y=nemitt_y, sigma_z=sigma_z,\n",
    "         #R_matrix=r_matrix,\n",
    "         particle_ref=particle_sample,\n",
    "         tracker=SPS_tracker\n",
    "         #,steps_r_matrix=steps_r_matrix\n",
    "         )\n",
    "\n",
    "\n",
    "sequence.particle_ref = particle_sample\n",
    "twiss = sequence.twiss(symplectify=True)\n",
    "\n",
    "twiss_dict=dict(twiss)\n",
    "\n",
    "#%%\n",
    "###################\n",
    "# Linear Transfer #\n",
    "###################\n",
    "\n",
    "qx=twiss['qx']\n",
    "qy=twiss['qy']\n",
    "dqx=twiss['dqx']\n",
    "dqy=twiss['dqy']\n",
    "circumference=twiss['s'][-1]\n",
    "# beta_x=twiss['betx'][-1]\n",
    "# beta_y=twiss['bety'][-1]\n",
    "\n",
    "\n",
    "qs=twiss['qs']\n",
    "bets=twiss['betz0']\n",
    "\n",
    "\n",
    "#at interaction points:\n",
    "beta_x  =  54.614389 # m\n",
    "beta_y  =  44.332517 # m\n",
    "alpha_x = -1.535235\n",
    "alpha_y =  1.314101\n",
    "\n",
    "\n",
    "arc = xt.LineSegmentMap(\n",
    "        qx=qx, qy=qy,\n",
    "        dqx=0, dqy=0,\n",
    "        length=circumference,\n",
    "        alfx=alpha_x,\n",
    "        alfy=alpha_y,\n",
    "        betx=beta_x,\n",
    "        bety=beta_y,\n",
    "        qs=qs,\n",
    "        bets=bets\n",
    "        )\n",
    "\n",
    "\n",
    "T_per_turn = circumference/(clight*beta)"
   ]
  },
  {
   "cell_type": "code",
   "execution_count": 3,
   "metadata": {},
   "outputs": [],
   "source": [
    "# particles.x=0\n",
    "# particles.px=0\n",
    "# particles.y=0\n",
    "# particles.py=0\n",
    "# particles.zeta=0"
   ]
  },
  {
   "cell_type": "code",
   "execution_count": 4,
   "id": "87f4adde",
   "metadata": {},
   "outputs": [
    {
     "name": "stdout",
     "output_type": "stream",
     "text": [
      "Laser pulse duration sigma_t = 2.74 ps\n",
      "Laser wavelength = 1034.07 nm\n",
      "Compiling ContextCpu kernels...\n",
      "Done compiling ContextCpu kernels.\n"
     ]
    },
    {
     "data": {
      "text/plain": [
       "<xtrack.tracker.Tracker at 0x7ff57e726d10>"
      ]
     },
     "execution_count": 4,
     "metadata": {},
     "output_type": "execute_result"
    }
   ],
   "source": [
    "##################\n",
    "# Laser Cooler #\n",
    "##################\n",
    "\n",
    "sigma_dp = 2e-4 # relative ion momentum spread\n",
    "\n",
    "#laser-ion beam collision angle\n",
    "theta_l = 2.6*np.pi/180 # rad\n",
    "theta_l = 0\n",
    "nx = 0; ny = -np.sin(theta_l); nz = -np.cos(theta_l)\n",
    "\n",
    "# Ion excitation energy:\n",
    "hw0 = 230.823 # eV\n",
    "hc=constants.hbar*clight/constants.e # eV*m (ħc)\n",
    "lambda_0 = 2*np.pi*hc/hw0 # m -- ion excitation wavelength\n",
    "\n",
    "lambda_l = lambda_0*gamma*(1 + beta*np.cos(theta_l)) # m -- laser wavelength\n",
    "\n",
    "# Shift laser wavelength for fast longitudinal cooling:5\n",
    "lambda_l = lambda_l*(1+1*sigma_dp) # m\n",
    "\n",
    "laser_frequency = clight/lambda_l # Hz\n",
    "sigma_w = 2*np.pi*laser_frequency*sigma_dp\n",
    "#sigma_w = 2*np.pi*laser_frequency*sigma_dp/2 # for fast longitudinal cooling\n",
    "\n",
    "\n",
    "sigma_t = 1/sigma_w # sec -- Fourier-limited laser pulse\n",
    "print('Laser pulse duration sigma_t = %.2f ps' % (sigma_t/1e-12))\n",
    "\n",
    "print('Laser wavelength = %.2f nm' % (lambda_l/1e-9))\n",
    "\n",
    "laser_waist_radius = 1.3e-3\n",
    "#laser_waist_radius = 1.3e-7\n",
    "\n",
    "laser_x=0.0020000\n",
    "laser_x=0.000000\n",
    "\n",
    "laser_energy=1.5e-3\n",
    "laser_energy=5e-3\n",
    "\n",
    "GF_IP = xt.PulsedLaser(_buffer=buf,\n",
    "                      laser_x=laser_x,\n",
    "                      laser_y=0,\n",
    "                      laser_z=0,\n",
    "                      \n",
    "                      laser_direction_nx = 0,\n",
    "                      laser_direction_ny = 0,\n",
    "                      laser_direction_nz = -1,\n",
    "                      laser_energy         = laser_energy, # J\n",
    "                      laser_duration_sigma = sigma_t, # sec\n",
    "                      laser_wavelength = lambda_l, # m\n",
    "                      laser_waist_radius = laser_waist_radius, # m\n",
    "                      laser_waist_shift = 0, # m\n",
    "                      ion_excitation_energy = hw0, # eV\n",
    "                      ion_excited_lifetime  = 76.6e-12, # sec                        \n",
    "   )\n",
    "\n",
    "# simulation parameters: simulate 10 s of cooling, and take data once every 100 ms\n",
    "max_time_s = 20\n",
    "int_time_s = 0.1\n",
    "T_per_turn = circumference/(clight*beta)\n",
    "num_turns = int(max_time_s/T_per_turn)\n",
    "save_interval = int(int_time_s/T_per_turn)\n",
    "\n",
    "num_turns = int(2e5)\n",
    "save_interval = num_turns/int(100)\n",
    "\n",
    "# create a monitor object, to reduce holded data\n",
    "monitor = xt.ParticlesMonitor(start_at_turn=0, stop_at_turn=1,\n",
    "                              n_repetitions=int(num_turns/save_interval),\n",
    "                              repetition_period=save_interval,\n",
    "                              num_particles=n_part)\n",
    "\n",
    "   \n",
    "line = xt.Line(\n",
    "        elements=[monitor,GF_IP])\n",
    "\n",
    "line.particle_ref = xp.Particles(mass0=m_ion, q0=q0, p0c=p0c)\n",
    "line.build_tracker(_context=context)\n"
   ]
  },
  {
   "cell_type": "code",
   "execution_count": 5,
   "metadata": {},
   "outputs": [
    {
     "data": {
      "application/vnd.jupyter.widget-view+json": {
       "model_id": "f6106d8cf5f3483491dbfac4c4ad36a1",
       "version_major": 2,
       "version_minor": 0
      },
      "text/plain": [
       "Tracking:   0%|          | 0/200000 [00:00<?, ?it/s]"
      ]
     },
     "metadata": {},
     "output_type": "display_data"
    }
   ],
   "source": [
    "line.track(particles, num_turns=num_turns,\n",
    "              turn_by_turn_monitor=False,with_progress=True)\n",
    "\n",
    "# extract relevant values\n",
    "x = monitor.x[:,:,0]\n",
    "px = monitor.px[:,:,0]\n",
    "y = monitor.y[:,:,0]\n",
    "py = monitor.py[:,:,0]\n",
    "delta = monitor.delta[:,:,0]\n",
    "zeta = monitor.zeta[:,:,0]\n",
    "state = monitor.state[:,:,0]\n",
    "time = monitor.at_turn[:, 0, 0] * T_per_turn\n",
    "\n",
    "np.savez('results/Pulsed_data.npz', x=x, px=px, y=y, py=py, delta=delta,zeta=zeta ,state=state, time=time,s_per_turn=T_per_turn)\n",
    "\n"
   ]
  },
  {
   "cell_type": "code",
   "execution_count": null,
   "id": "aa5f0f2a",
   "metadata": {},
   "outputs": [],
   "source": [
    "excited=particles.state==2\n",
    "\n",
    "fraction_excitation = sum(excited)/len(excited)\n",
    "\n",
    "plt.figure(figsize=(12, 8))\n",
    "plt.rcParams.update({'font.size': 25})\n",
    "plt.title(f'Fraction of excited particles: {fraction_excitation*100:.2}%')\n",
    "plt.scatter(particles.x,particles.px)\n",
    "plt.scatter(particles.x[excited],particles.px[excited])\n",
    "plt.xlabel('x [m]')\n",
    "plt.ylabel('px ')\n",
    "plt.ticklabel_format(style='sci', axis='x', scilimits=(0,0))\n",
    "plt.ticklabel_format(style='sci', axis='y', scilimits=(0,0))\n",
    "plt.show()"
   ]
  },
  {
   "cell_type": "code",
   "execution_count": null,
   "id": "1dedd788",
   "metadata": {},
   "outputs": [],
   "source": [
    "plt.figure(figsize=(12, 8))\n",
    "plt.rcParams.update({'font.size': 25})\n",
    "plt.title(f'Fraction of excited particles: {fraction_excitation*100:.2}%')\n",
    "\n",
    "#plt.axvline(laser_x,color='red')\n",
    "# plt.axvline(laser_x+laser_waist_radius,color='red')\n",
    "# plt.axvline(laser_x-laser_waist_radius,color='red')\n",
    "\n",
    "plt.scatter(particles.x,particles.delta)\n",
    "plt.scatter(particles.x[excited],particles.delta[excited])\n",
    "plt.xlabel('x [m]')\n",
    "plt.ylabel('dp/p ')\n",
    "plt.ticklabel_format(style='sci', axis='x', scilimits=(0,0))\n",
    "plt.ticklabel_format(style='sci', axis='y', scilimits=(0,0))\n",
    "plt.show()"
   ]
  },
  {
   "cell_type": "code",
   "execution_count": null,
   "id": "6a506603",
   "metadata": {},
   "outputs": [],
   "source": []
  },
  {
   "cell_type": "code",
   "execution_count": null,
   "id": "11967332",
   "metadata": {},
   "outputs": [],
   "source": [
    "print(particles.state==2)"
   ]
  }
 ],
 "metadata": {
  "kernelspec": {
   "display_name": "base",
   "language": "python",
   "name": "python3"
  },
  "language_info": {
   "codemirror_mode": {
    "name": "ipython",
    "version": 3
   },
   "file_extension": ".py",
   "mimetype": "text/x-python",
   "name": "python",
   "nbconvert_exporter": "python",
   "pygments_lexer": "ipython3",
   "version": "3.11.3"
  },
  "vscode": {
   "interpreter": {
    "hash": "b3c9a0a5475e728b39e61ac58d244ad936924f9cf82746515a9faeb1f1a0b703"
   }
  }
 },
 "nbformat": 4,
 "nbformat_minor": 5
}
