{
 "cells": [
  {
   "cell_type": "code",
   "execution_count": 2,
   "id": "56e455f6",
   "metadata": {},
   "outputs": [
    {
     "name": "stderr",
     "output_type": "stream",
     "text": [
      "/home/pkruyt/cernbox/xsuite-laser/xtrack/xtrack/progress_indicator.py:90: TqdmExperimentalWarning: Using `tqdm.autonotebook.tqdm` in notebook mode. Use `tqdm.tqdm` instead to force console mode (e.g. in jupyter console)\n",
      "  from tqdm.autonotebook import tqdm\n"
     ]
    }
   ],
   "source": [
    "import json\n",
    "import numpy as np\n",
    "import xobjects as xo\n",
    "import xtrack as xt\n",
    "import xpart as xp\n",
    "from tqdm import tqdm\n",
    "import matplotlib.pyplot as plt\n",
    "from scipy import constants \n",
    "####################\n",
    "# Choose a context #\n",
    "####################\n",
    "# context = xo.ContextCpu()\n",
    "# context = xo.ContextCpu(omp_num_threads='auto')\n",
    "# buf = context.new_buffer()\n",
    "\n",
    "# Ion properties:\n",
    "m_u = 931.49410242e6 # eV/c^2 -- atomic mass unit\n",
    "A = 207.98 # Lead-208\n",
    "Z = 82  # Number of protons in the ion (Lead)\n",
    "Ne = 3 # Number of remaining electrons (Lithium-like)\n",
    "q0=Z-Ne\n",
    "m_e = 0.511e6 # eV/c^2 -- electron mass\n",
    "m_p = 938.272088e6 # eV/c^2 -- proton mass\n",
    "clight = 299792458.0 # m/s\n",
    "\n",
    "m_ion = A*m_u + Ne*m_e # eV/c^2\n",
    "equiv_proton_momentum = 236e9 # eV/c = gamma_p*m_p*v\n",
    "gamma_p = np.sqrt( 1 + (equiv_proton_momentum/m_p)**2 ) # equvalent gamma for protons in the ring\n",
    "\n",
    "p0c = equiv_proton_momentum*(q0) # eV/c\n",
    "gamma = np.sqrt( 1 + (p0c/m_ion)**2 ) # ion relativistic factor\n",
    "beta = np.sqrt(1-1/(gamma*gamma)) # ion beta\n"
   ]
  },
  {
   "cell_type": "code",
   "execution_count": 2,
   "id": "ec8bdc26",
   "metadata": {},
   "outputs": [
    {
     "data": {
      "text/plain": [
       "96.24040012392172"
      ]
     },
     "execution_count": 2,
     "metadata": {},
     "output_type": "execute_result"
    }
   ],
   "source": [
    "gamma"
   ]
  },
  {
   "cell_type": "code",
   "execution_count": 3,
   "id": "38119600",
   "metadata": {},
   "outputs": [
    {
     "data": {
      "application/vnd.jupyter.widget-view+json": {
       "model_id": "8e795f36f37448dd94c0d8efe5dcef84",
       "version_major": 2,
       "version_minor": 0
      },
      "text/plain": [
       "Loading line from dict:   0%|          | 0/38786 [00:00<?, ?it/s]"
      ]
     },
     "metadata": {},
     "output_type": "display_data"
    },
    {
     "name": "stdout",
     "output_type": "stream",
     "text": [
      "Done loading line from dict.           \n",
      "Compiling ContextCpu kernels...\n",
      "Done compiling ContextCpu kernels.\n",
      "Compiling ContextCpu kernels...\n",
      "Done compiling ContextCpu kernels.\n"
     ]
    }
   ],
   "source": [
    "#%%\n",
    "##################\n",
    "# Build TrackJob #\n",
    "##################\n",
    "\n",
    "with open(\"SPS_sequence/SPS_2021_Pb_nominal.json\") as fid:\n",
    "    dd=json.load(fid)\n",
    "SPS_line = xt.Line.from_dict(dd)\n",
    "particle_sample=SPS_line.particle_ref\n",
    "\n",
    "\n",
    "num_particles = int(1e4)\n",
    "\n",
    "# Build a reference particle\n",
    "# particle_sample = xp.Particles(mass0=m_ion, q0=q0, p0c=p0c)\n",
    "# SPS_line.particle_ref = particle_sample\n",
    "twiss = SPS_line.twiss(symplectify=True,method='4d')\n",
    "twiss_dict=dict(twiss)\n",
    "circumference=twiss['s'][-1]\n",
    "\n"
   ]
  },
  {
   "cell_type": "code",
   "execution_count": 4,
   "id": "7dc40c88",
   "metadata": {},
   "outputs": [
    {
     "data": {
      "text/plain": [
       "6911.5038"
      ]
     },
     "execution_count": 4,
     "metadata": {},
     "output_type": "execute_result"
    }
   ],
   "source": [
    "circumference"
   ]
  },
  {
   "cell_type": "code",
   "execution_count": 4,
   "id": "fab8b904",
   "metadata": {},
   "outputs": [
    {
     "ename": "ValueError",
     "evalue": "No longitudinal focusing found in the line. Cannot generate matched longitudinal coordinates.",
     "output_type": "error",
     "traceback": [
      "\u001b[0;31m---------------------------------------------------------------------------\u001b[0m",
      "\u001b[0;31mValueError\u001b[0m                                Traceback (most recent call last)",
      "Cell \u001b[0;32mIn[4], line 6\u001b[0m\n\u001b[1;32m      2\u001b[0m sigma_z \u001b[38;5;241m=\u001b[39m \u001b[38;5;241m0.063\u001b[39m \u001b[38;5;66;03m# m\u001b[39;00m\n\u001b[1;32m      4\u001b[0m emittance\u001b[38;5;241m=\u001b[39mnemitt\u001b[38;5;241m*\u001b[39mbeta\u001b[38;5;241m*\u001b[39mgamma\n\u001b[0;32m----> 6\u001b[0m particles0 \u001b[38;5;241m=\u001b[39m \u001b[43mxp\u001b[49m\u001b[38;5;241;43m.\u001b[39;49m\u001b[43mgenerate_matched_gaussian_bunch\u001b[49m\u001b[43m(\u001b[49m\n\u001b[1;32m      7\u001b[0m \u001b[43m        \u001b[49m\u001b[43mnum_particles\u001b[49m\u001b[38;5;241;43m=\u001b[39;49m\u001b[43mnum_particles\u001b[49m\u001b[43m,\u001b[49m\n\u001b[1;32m      8\u001b[0m \u001b[43m        \u001b[49m\u001b[38;5;66;43;03m#total_intensity_particles=bunch_intensity,\u001b[39;49;00m\n\u001b[1;32m      9\u001b[0m \u001b[43m        \u001b[49m\u001b[43mnemitt_x\u001b[49m\u001b[38;5;241;43m=\u001b[39;49m\u001b[43mnemitt\u001b[49m\u001b[43m,\u001b[49m\u001b[43m \u001b[49m\u001b[43mnemitt_y\u001b[49m\u001b[38;5;241;43m=\u001b[39;49m\u001b[43mnemitt\u001b[49m\u001b[43m,\u001b[49m\u001b[43m \u001b[49m\u001b[43msigma_z\u001b[49m\u001b[38;5;241;43m=\u001b[39;49m\u001b[43msigma_z\u001b[49m\u001b[43m,\u001b[49m\n\u001b[1;32m     10\u001b[0m \u001b[43m        \u001b[49m\u001b[38;5;66;43;03m#R_matrix=r_matrix,\u001b[39;49;00m\n\u001b[1;32m     11\u001b[0m \u001b[43m        \u001b[49m\u001b[43mparticle_ref\u001b[49m\u001b[38;5;241;43m=\u001b[39;49m\u001b[43mparticle_sample\u001b[49m\u001b[43m,\u001b[49m\n\u001b[1;32m     12\u001b[0m \u001b[43m        \u001b[49m\u001b[43mline\u001b[49m\u001b[38;5;241;43m=\u001b[39;49m\u001b[43mSPS_line\u001b[49m\n\u001b[1;32m     13\u001b[0m \u001b[43m        \u001b[49m\u001b[38;5;66;43;03m#,steps_r_matrix=steps_r_matrix\u001b[39;49;00m\n\u001b[1;32m     14\u001b[0m \u001b[43m        \u001b[49m\u001b[43m)\u001b[49m\n\u001b[1;32m     16\u001b[0m sigma_dp\u001b[38;5;241m=\u001b[39mnp\u001b[38;5;241m.\u001b[39mstd(particles0\u001b[38;5;241m.\u001b[39mdelta)\n",
      "File \u001b[0;32m~/cernbox/xsuite-laser/xpart/xpart/matched_gaussian.py:87\u001b[0m, in \u001b[0;36mgenerate_matched_gaussian_bunch\u001b[0;34m(num_particles, nemitt_x, nemitt_y, sigma_z, total_intensity_particles, particle_on_co, R_matrix, circumference, momentum_compaction_factor, rf_harmonic, rf_voltage, rf_phase, p_increment, tracker, line, particle_ref, particles_class, engine, _context, _buffer, _offset, **kwargs)\u001b[0m\n\u001b[1;32m     83\u001b[0m     \u001b[38;5;28;01melse\u001b[39;00m:\n\u001b[1;32m     84\u001b[0m         \u001b[38;5;28;01mraise\u001b[39;00m \u001b[38;5;167;01mValueError\u001b[39;00m(\n\u001b[1;32m     85\u001b[0m             \u001b[38;5;124m\"\u001b[39m\u001b[38;5;124m`line`, `particle_ref` or `particle_on_co` must be provided!\u001b[39m\u001b[38;5;124m\"\u001b[39m)\n\u001b[0;32m---> 87\u001b[0m zeta, delta \u001b[38;5;241m=\u001b[39m \u001b[43mgenerate_longitudinal_coordinates\u001b[49m\u001b[43m(\u001b[49m\n\u001b[1;32m     88\u001b[0m \u001b[43m        \u001b[49m\u001b[43mdistribution\u001b[49m\u001b[38;5;241;43m=\u001b[39;49m\u001b[38;5;124;43m'\u001b[39;49m\u001b[38;5;124;43mgaussian\u001b[39;49m\u001b[38;5;124;43m'\u001b[39;49m\u001b[43m,\u001b[49m\n\u001b[1;32m     89\u001b[0m \u001b[43m        \u001b[49m\u001b[43mnum_particles\u001b[49m\u001b[38;5;241;43m=\u001b[39;49m\u001b[43mnum_particles\u001b[49m\u001b[43m,\u001b[49m\n\u001b[1;32m     90\u001b[0m \u001b[43m        \u001b[49m\u001b[43mparticle_ref\u001b[49m\u001b[38;5;241;43m=\u001b[39;49m\u001b[43m(\u001b[49m\u001b[43mparticle_ref\u001b[49m\u001b[43m \u001b[49m\u001b[38;5;28;43;01mif\u001b[39;49;00m\u001b[43m \u001b[49m\u001b[43mparticle_ref\u001b[49m\u001b[43m \u001b[49m\u001b[38;5;129;43;01mis\u001b[39;49;00m\u001b[43m \u001b[49m\u001b[38;5;129;43;01mnot\u001b[39;49;00m\u001b[43m \u001b[49m\u001b[38;5;28;43;01mNone\u001b[39;49;00m\n\u001b[1;32m     91\u001b[0m \u001b[43m                      \u001b[49m\u001b[38;5;28;43;01melse\u001b[39;49;00m\u001b[43m \u001b[49m\u001b[43mparticle_on_co\u001b[49m\u001b[43m)\u001b[49m\u001b[43m,\u001b[49m\n\u001b[1;32m     92\u001b[0m \u001b[43m        \u001b[49m\u001b[43mline\u001b[49m\u001b[38;5;241;43m=\u001b[39;49m\u001b[43mline\u001b[49m\u001b[43m,\u001b[49m\n\u001b[1;32m     93\u001b[0m \u001b[43m        \u001b[49m\u001b[43mcircumference\u001b[49m\u001b[38;5;241;43m=\u001b[39;49m\u001b[43mcircumference\u001b[49m\u001b[43m,\u001b[49m\n\u001b[1;32m     94\u001b[0m \u001b[43m        \u001b[49m\u001b[43mmomentum_compaction_factor\u001b[49m\u001b[38;5;241;43m=\u001b[39;49m\u001b[43mmomentum_compaction_factor\u001b[49m\u001b[43m,\u001b[49m\n\u001b[1;32m     95\u001b[0m \u001b[43m        \u001b[49m\u001b[43mrf_harmonic\u001b[49m\u001b[38;5;241;43m=\u001b[39;49m\u001b[43mrf_harmonic\u001b[49m\u001b[43m,\u001b[49m\n\u001b[1;32m     96\u001b[0m \u001b[43m        \u001b[49m\u001b[43mrf_voltage\u001b[49m\u001b[38;5;241;43m=\u001b[39;49m\u001b[43mrf_voltage\u001b[49m\u001b[43m,\u001b[49m\n\u001b[1;32m     97\u001b[0m \u001b[43m        \u001b[49m\u001b[43mrf_phase\u001b[49m\u001b[38;5;241;43m=\u001b[39;49m\u001b[43mrf_phase\u001b[49m\u001b[43m,\u001b[49m\n\u001b[1;32m     98\u001b[0m \u001b[43m        \u001b[49m\u001b[43mp_increment\u001b[49m\u001b[38;5;241;43m=\u001b[39;49m\u001b[43mp_increment\u001b[49m\u001b[43m,\u001b[49m\n\u001b[1;32m     99\u001b[0m \u001b[43m        \u001b[49m\u001b[43msigma_z\u001b[49m\u001b[38;5;241;43m=\u001b[39;49m\u001b[43msigma_z\u001b[49m\u001b[43m,\u001b[49m\n\u001b[1;32m    100\u001b[0m \u001b[43m        \u001b[49m\u001b[43mengine\u001b[49m\u001b[38;5;241;43m=\u001b[39;49m\u001b[43mengine\u001b[49m\u001b[43m,\u001b[49m\n\u001b[1;32m    101\u001b[0m \u001b[43m        \u001b[49m\u001b[38;5;241;43m*\u001b[39;49m\u001b[38;5;241;43m*\u001b[39;49m\u001b[43mkwargs\u001b[49m\u001b[43m)\u001b[49m\n\u001b[1;32m    103\u001b[0m \u001b[38;5;28;01massert\u001b[39;00m \u001b[38;5;28mlen\u001b[39m(zeta) \u001b[38;5;241m==\u001b[39m \u001b[38;5;28mlen\u001b[39m(delta) \u001b[38;5;241m==\u001b[39m num_particles\n\u001b[1;32m    105\u001b[0m x_norm \u001b[38;5;241m=\u001b[39m np\u001b[38;5;241m.\u001b[39mrandom\u001b[38;5;241m.\u001b[39mnormal(size\u001b[38;5;241m=\u001b[39mnum_particles)\n",
      "File \u001b[0;32m~/cernbox/xsuite-laser/xpart/xpart/longitudinal/generate_longitudinal.py:147\u001b[0m, in \u001b[0;36mgenerate_longitudinal_coordinates\u001b[0;34m(line, num_particles, distribution, sigma_z, engine, return_matcher, particle_ref, mass0, q0, gamma0, circumference, momentum_compaction_factor, rf_harmonic, rf_voltage, rf_phase, p_increment, tracker, **kwargs)\u001b[0m\n\u001b[1;32m    145\u001b[0m         particle_ref \u001b[38;5;241m=\u001b[39m line\u001b[38;5;241m.\u001b[39mparticle_ref\n\u001b[1;32m    146\u001b[0m     \u001b[38;5;28;01massert\u001b[39;00m particle_ref \u001b[38;5;129;01mis\u001b[39;00m \u001b[38;5;129;01mnot\u001b[39;00m \u001b[38;5;28;01mNone\u001b[39;00m\n\u001b[0;32m--> 147\u001b[0m     dct \u001b[38;5;241m=\u001b[39m \u001b[43m_characterize_line\u001b[49m\u001b[43m(\u001b[49m\u001b[43mline\u001b[49m\u001b[43m,\u001b[49m\u001b[43m \u001b[49m\u001b[43mparticle_ref\u001b[49m\u001b[43m,\u001b[49m\u001b[43m \u001b[49m\u001b[38;5;241;43m*\u001b[39;49m\u001b[38;5;241;43m*\u001b[39;49m\u001b[43mkwargs\u001b[49m\u001b[43m)\u001b[49m\n\u001b[1;32m    149\u001b[0m \u001b[38;5;28;01massert\u001b[39;00m particle_ref \u001b[38;5;129;01mis\u001b[39;00m \u001b[38;5;129;01mnot\u001b[39;00m \u001b[38;5;28;01mNone\u001b[39;00m\n\u001b[1;32m    151\u001b[0m \u001b[38;5;28;01mif\u001b[39;00m mass0 \u001b[38;5;129;01mis\u001b[39;00m \u001b[38;5;28;01mNone\u001b[39;00m:\n",
      "File \u001b[0;32m~/cernbox/xsuite-laser/xpart/xpart/longitudinal/generate_longitudinal.py:62\u001b[0m, in \u001b[0;36m_characterize_line\u001b[0;34m(line, particle_ref, **kwargs)\u001b[0m\n\u001b[1;32m     58\u001b[0m     \u001b[38;5;28;01massert\u001b[39;00m \u001b[38;5;28mlen\u001b[39m(freq_list) \u001b[38;5;241m==\u001b[39m \u001b[38;5;241m0\u001b[39m, (\n\u001b[1;32m     59\u001b[0m         \u001b[38;5;124m\"\u001b[39m\u001b[38;5;124mCannot mix linear and nonlinear longitudinal kicks\u001b[39m\u001b[38;5;124m\"\u001b[39m)\n\u001b[1;32m     61\u001b[0m \u001b[38;5;28;01mif\u001b[39;00m \u001b[38;5;129;01mnot\u001b[39;00m found_linear_longitudinal \u001b[38;5;129;01mand\u001b[39;00m \u001b[38;5;28mlen\u001b[39m(freq_list) \u001b[38;5;241m==\u001b[39m \u001b[38;5;241m0\u001b[39m:\n\u001b[0;32m---> 62\u001b[0m     \u001b[38;5;28;01mraise\u001b[39;00m \u001b[38;5;167;01mValueError\u001b[39;00m(\u001b[38;5;124m'\u001b[39m\u001b[38;5;124mNo longitudinal focusing found in the line. \u001b[39m\u001b[38;5;124m'\u001b[39m\n\u001b[1;32m     63\u001b[0m                      \u001b[38;5;124m'\u001b[39m\u001b[38;5;124mCannot generate matched longitudinal coordinates.\u001b[39m\u001b[38;5;124m'\u001b[39m)\n\u001b[1;32m     65\u001b[0m tw \u001b[38;5;241m=\u001b[39m line\u001b[38;5;241m.\u001b[39mtwiss(\n\u001b[1;32m     66\u001b[0m     particle_ref\u001b[38;5;241m=\u001b[39mparticle_ref, \u001b[38;5;241m*\u001b[39m\u001b[38;5;241m*\u001b[39mkwargs)\n\u001b[1;32m     68\u001b[0m dct\u001b[38;5;241m=\u001b[39m{}\n",
      "\u001b[0;31mValueError\u001b[0m: No longitudinal focusing found in the line. Cannot generate matched longitudinal coordinates."
     ]
    }
   ],
   "source": [
    "nemitt = 1.5e-6 # m*rad (normalized emittance)\n",
    "sigma_z = 0.063 # m\n",
    "\n",
    "emittance=nemitt*beta*gamma\n",
    "\n",
    "particles0 = xp.generate_matched_gaussian_bunch(\n",
    "        num_particles=num_particles,\n",
    "        #total_intensity_particles=bunch_intensity,\n",
    "        nemitt_x=nemitt, nemitt_y=nemitt, sigma_z=sigma_z,\n",
    "        #R_matrix=r_matrix,\n",
    "        particle_ref=particle_sample,\n",
    "        line=SPS_line\n",
    "        #,steps_r_matrix=steps_r_matrix\n",
    "        )\n",
    "\n",
    "sigma_dp=np.std(particles0.delta)\n"
   ]
  },
  {
   "cell_type": "code",
   "execution_count": null,
   "id": "87f4adde",
   "metadata": {},
   "outputs": [],
   "source": [
    "##################\n",
    "# Laser Cooler #\n",
    "##################\n",
    "\n",
    "#laser-ion beam collision angle\n",
    "theta_l = 2.6*np.pi/180 # rad\n",
    "# theta_l = 0\n",
    "nx = 0; ny = -np.sin(theta_l); nz = -np.cos(theta_l)\n",
    "\n",
    "# Ion excitation energy:\n",
    "hw0 = 230.823 # eV\n",
    "hc=constants.hbar*clight/constants.e # eV*m (ħc)\n",
    "lambda_0 = 2*np.pi*hc/hw0 # m -- ion excitation wavelength\n",
    "\n",
    "lambda_l = lambda_0*gamma*(1 + beta*np.cos(theta_l)) # m -- laser wavelength\n",
    "\n",
    "# Shift laser wavelength for fast longitudinal cooling:5\n",
    "lambda_l = lambda_l*(1+0*sigma_dp) # m\n",
    "\n",
    "laser_frequency = clight/lambda_l # Hz\n",
    "sigma_w = 2*np.pi*laser_frequency*sigma_dp\n",
    "#sigma_w = 2*np.pi*laser_frequency*sigma_dp/2 # for fast longitudinal cooling\n",
    "\n",
    "sigma_t = 1/sigma_w # sec -- Fourier-limited laser pulse\n",
    "print('Laser pulse duration sigma_t = %.2f ps' % (sigma_t/1e-12))\n",
    "print('Laser wavelength = %.2f nm' % (lambda_l/1e-9))\n",
    "\n",
    "laser_waist_radius = 1.3e-3 #m\n",
    "laser_energy=5e-3\n",
    "\n",
    "GF_IP = xt.PulsedLaser(\n",
    "                laser_x=0,\n",
    "                laser_y=0,\n",
    "                laser_z=0,\n",
    "                \n",
    "                laser_direction_nx = 0,\n",
    "                laser_direction_ny = ny,\n",
    "                laser_direction_nz = nz,\n",
    "                laser_energy         = laser_energy, # J\n",
    "                laser_duration_sigma = sigma_t, # sec\n",
    "                laser_wavelength = lambda_l, # m\n",
    "                laser_waist_radius = laser_waist_radius, # m\n",
    "                laser_waist_shift = 0, # m\n",
    "                ion_excitation_energy = hw0, # eV\n",
    "                ion_excited_lifetime  = 76.6e-12, # sec                   \n",
    "                )\n",
    "\n",
    "# simulation parameters: simulate 10 s of cooling, and take data once every 100 ms\n",
    "max_time_s = 20\n",
    "int_time_s = 0.1\n",
    "T_per_turn = circumference/(clight*beta)\n",
    "num_turns = int(max_time_s/T_per_turn)\n",
    "save_interval = int(int_time_s/T_per_turn)\n",
    "\n",
    "num_turns = int(2e0)\n",
    "save_interval = num_turns/100\n",
    "save_interval=1\n",
    "\n",
    "# create a monitor object, to reduce holded data\n",
    "monitor = xt.ParticlesMonitor(start_at_turn=0, stop_at_turn=1,\n",
    "                              n_repetitions=int(num_turns/save_interval),\n",
    "                              repetition_period=save_interval,\n",
    "                              num_particles=num_particles)\n",
    "\n",
    "\n",
    "SPS_line.discard_tracker()\n",
    "IP_index=16675   \n",
    "# SPS_line.insert_element('monitor', element=monitor, index=IP_index)\n",
    "# SPS_line.insert_element('GF_IP', element=GF_IP, index=IP_index)\n",
    "SPS_line.append_element(monitor,'monitor')\n",
    "SPS_line.append_element(GF_IP,'GF_IP')\n",
    "\n",
    "\n",
    "SPS_line.build_tracker()\n"
   ]
  },
  {
   "cell_type": "code",
   "execution_count": null,
   "id": "9a55bc94",
   "metadata": {},
   "outputs": [],
   "source": [
    "particles=particles0.copy()\n",
    "\n",
    "SPS_line.track(particles, num_turns=num_turns,\n",
    "              turn_by_turn_monitor=False,with_progress=True)\n",
    "\n",
    "# extract relevant values\n",
    "x = monitor.x[:,:,0]\n",
    "px = monitor.px[:,:,0]\n",
    "y = monitor.y[:,:,0]\n",
    "py = monitor.py[:,:,0]\n",
    "delta = monitor.delta[:,:,0]\n",
    "zeta = monitor.zeta[:,:,0]\n",
    "state = monitor.state[:,:,0]\n",
    "time = monitor.at_turn[:, 0, 0] * T_per_turn\n",
    "\n",
    "np.savez('results/Pulsed_data.npz', x=x, px=px, y=y, py=py, zeta=zeta, delta=delta, state=state, time=time,s_per_turn=T_per_turn)"
   ]
  },
  {
   "cell_type": "code",
   "execution_count": null,
   "id": "214d6887",
   "metadata": {},
   "outputs": [],
   "source": [
    "excited=particles.state==2\n",
    "\n",
    "fraction_excitation = sum(excited)/len(excited)\n",
    "\n",
    "plt.figure(figsize=(12, 8))\n",
    "plt.rcParams.update({'font.size': 25})\n",
    "plt.title(f'Fraction of excited particles: {fraction_excitation*100:.3}%')\n",
    "plt.scatter(particles.x,particles.delta)\n",
    "plt.scatter(particles.x[excited],particles.delta[excited])\n",
    "plt.xlabel('x [m]')\n",
    "plt.ylabel('dp/p ')\n",
    "plt.ticklabel_format(style='sci', axis='x', scilimits=(0,0))\n",
    "plt.ticklabel_format(style='sci', axis='y', scilimits=(0,0))\n",
    "plt.show()"
   ]
  },
  {
   "cell_type": "code",
   "execution_count": null,
   "id": "e8599001",
   "metadata": {},
   "outputs": [],
   "source": [
    "excited=particles.state==2\n",
    "\n",
    "fraction_excitation = sum(excited)/len(excited)\n",
    "\n",
    "plt.figure(figsize=(12, 8))\n",
    "plt.rcParams.update({'font.size': 25})\n",
    "plt.title(f'Fraction of excited particles: {fraction_excitation*100:.3}%')\n",
    "plt.scatter(particles.x,particles.px)\n",
    "plt.scatter(particles.x[excited],particles.px[excited])\n",
    "plt.xlabel('x [m]')\n",
    "plt.ylabel('px ')\n",
    "plt.ticklabel_format(style='sci', axis='x', scilimits=(0,0))\n",
    "plt.ticklabel_format(style='sci', axis='y', scilimits=(0,0))\n",
    "plt.show()"
   ]
  }
 ],
 "metadata": {
  "kernelspec": {
   "display_name": "base",
   "language": "python",
   "name": "python3"
  },
  "language_info": {
   "codemirror_mode": {
    "name": "ipython",
    "version": 3
   },
   "file_extension": ".py",
   "mimetype": "text/x-python",
   "name": "python",
   "nbconvert_exporter": "python",
   "pygments_lexer": "ipython3",
   "version": "3.11.3"
  },
  "vscode": {
   "interpreter": {
    "hash": "b3c9a0a5475e728b39e61ac58d244ad936924f9cf82746515a9faeb1f1a0b703"
   }
  }
 },
 "nbformat": 4,
 "nbformat_minor": 5
}
