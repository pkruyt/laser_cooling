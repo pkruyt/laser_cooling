{
 "cells": [
  {
   "cell_type": "code",
   "execution_count": 1,
   "id": "56e455f6",
   "metadata": {},
   "outputs": [
    {
     "name": "stderr",
     "output_type": "stream",
     "text": [
      "/home/pkruyt/cernbox/xsuite-env/xtrack/xtrack/progress_indicator.py:95: TqdmExperimentalWarning: Using `tqdm.autonotebook.tqdm` in notebook mode. Use `tqdm.tqdm` instead to force console mode (e.g. in jupyter console)\n",
      "  from tqdm.autonotebook import tqdm\n"
     ]
    }
   ],
   "source": [
    "import json\n",
    "import numpy as np\n",
    "import xobjects as xo\n",
    "import xtrack as xt\n",
    "import xpart as xp\n",
    "from tqdm import tqdm\n",
    "import matplotlib.pyplot as plt\n",
    "from scipy import constants \n",
    "####################\n",
    "# Choose a context #\n",
    "####################\n",
    "# context = xo.ContextCpu()\n",
    "# context = xo.ContextCpu(omp_num_threads='auto')\n",
    "# buf = context.new_buffer()\n",
    "\n",
    "# Ion properties:\n",
    "m_u = 931.49410242e6 # eV/c^2 -- atomic mass unit\n",
    "A = 207.98 # Lead-208\n",
    "Z = 82  # Number of protons in the ion (Lead)\n",
    "Ne = 3 # Number of remaining electrons (Lithium-like)\n",
    "q0=Z-Ne\n",
    "m_e = 0.511e6 # eV/c^2 -- electron mass\n",
    "m_p = 938.272088e6 # eV/c^2 -- proton mass\n",
    "clight = 299792458.0 # m/s\n",
    "\n",
    "m_ion = A*m_u + Ne*m_e # eV/c^2\n",
    "equiv_proton_momentum = 236e9 # eV/c = gamma_p*m_p*v\n",
    "gamma_p = np.sqrt( 1 + (equiv_proton_momentum/m_p)**2 ) # equvalent gamma for protons in the ring\n",
    "\n",
    "p0c = equiv_proton_momentum*(q0) # eV/c\n",
    "gamma = np.sqrt( 1 + (p0c/m_ion)**2 ) # ion relativistic factor\n",
    "beta = np.sqrt(1-1/(gamma*gamma)) # ion beta\n"
   ]
  },
  {
   "cell_type": "code",
   "execution_count": 2,
   "id": "ec8bdc26",
   "metadata": {},
   "outputs": [
    {
     "data": {
      "text/plain": [
       "96.24040012392172"
      ]
     },
     "execution_count": 2,
     "metadata": {},
     "output_type": "execute_result"
    }
   ],
   "source": [
    "gamma"
   ]
  },
  {
   "cell_type": "code",
   "execution_count": 7,
   "id": "38119600",
   "metadata": {},
   "outputs": [
    {
     "data": {
      "application/vnd.jupyter.widget-view+json": {
       "model_id": "90cf87fff84a4e759100ad51439cbaa5",
       "version_major": 2,
       "version_minor": 0
      },
      "text/plain": [
       "Loading line from dict:   0%|          | 0/38786 [00:00<?, ?it/s]"
      ]
     },
     "metadata": {},
     "output_type": "display_data"
    },
    {
     "name": "stdout",
     "output_type": "stream",
     "text": [
      "Done loading line from dict.           \n",
      "Compiling ContextCpu kernels...\n",
      "Done compiling ContextCpu kernels.\n",
      "Compiling ContextCpu kernels...\n",
      "Done compiling ContextCpu kernels.\n"
     ]
    }
   ],
   "source": [
    "#%%\n",
    "##################\n",
    "# Build TrackJob #\n",
    "##################\n",
    "\n",
    "with open(\"SPS_sequence/SPS_2021_Pb_nominal.json\") as fid:\n",
    "    dd=json.load(fid)\n",
    "SPS_line = xt.Line.from_dict(dd)\n",
    "particle_sample=SPS_line.particle_ref\n",
    "\n",
    "\n",
    "num_particles = int(1e4)\n",
    "\n",
    "# Build a reference particle\n",
    "# particle_sample = xp.Particles(mass0=m_ion, q0=q0, p0c=p0c)\n",
    "# SPS_line.particle_ref = particle_sample\n",
    "twiss = SPS_line.twiss(symplectify=True,method='4d')\n",
    "twiss_dict=dict(twiss)\n",
    "circumference=twiss['s'][-1]\n",
    "\n"
   ]
  },
  {
   "cell_type": "code",
   "execution_count": 4,
   "id": "7dc40c88",
   "metadata": {},
   "outputs": [
    {
     "data": {
      "text/plain": [
       "6911.5038"
      ]
     },
     "execution_count": 4,
     "metadata": {},
     "output_type": "execute_result"
    }
   ],
   "source": [
    "circumference"
   ]
  },
  {
   "cell_type": "code",
   "execution_count": 5,
   "id": "fab8b904",
   "metadata": {},
   "outputs": [
    {
     "name": "stdout",
     "output_type": "stream",
     "text": [
      "*** Maximum RMS bunch length 0.2341160338197291m.\n",
      "... distance to target bunch length: -6.1447e-02\n",
      "... distance to target bunch length: 1.6465e-01\n",
      "... distance to target bunch length: 7.5601e-02\n",
      "... distance to target bunch length: -4.4822e-03\n",
      "... distance to target bunch length: -2.2862e-05\n",
      "... distance to target bunch length: -1.0664e-08\n",
      "... distance to target bunch length: 3.1660e-07\n",
      "--> Bunch length: 0.06299998933560952\n",
      "--> Emittance: 0.0070512249698623745\n"
     ]
    }
   ],
   "source": [
    "nemitt = 1.5e-6 # m*rad (normalized emittance)\n",
    "sigma_z = 0.063 # m\n",
    "\n",
    "emittance=nemitt*beta*gamma\n",
    "\n",
    "particles0 = xp.generate_matched_gaussian_bunch(\n",
    "        num_particles=num_particles,\n",
    "        #total_intensity_particles=bunch_intensity,\n",
    "        nemitt_x=nemitt, nemitt_y=nemitt, sigma_z=sigma_z,\n",
    "        #R_matrix=r_matrix,\n",
    "        particle_ref=particle_sample,\n",
    "        line=SPS_line\n",
    "        #,steps_r_matrix=steps_r_matrix\n",
    "        )\n",
    "\n",
    "sigma_dp=np.std(particles0.delta)\n"
   ]
  },
  {
   "cell_type": "code",
   "execution_count": 6,
   "id": "87f4adde",
   "metadata": {},
   "outputs": [
    {
     "name": "stdout",
     "output_type": "stream",
     "text": [
      "Laser pulse duration sigma_t = 3.56 ps\n",
      "Laser wavelength = 1033.33 nm\n"
     ]
    },
    {
     "ename": "AttributeError",
     "evalue": "module 'xtrack' has no attribute 'PulsedLaser'",
     "output_type": "error",
     "traceback": [
      "\u001b[0;31m---------------------------------------------------------------------------\u001b[0m",
      "\u001b[0;31mAttributeError\u001b[0m                            Traceback (most recent call last)",
      "Cell \u001b[0;32mIn[6], line 31\u001b[0m\n\u001b[1;32m     28\u001b[0m laser_waist_radius \u001b[38;5;241m=\u001b[39m \u001b[38;5;241m1.3e-3\u001b[39m \u001b[38;5;66;03m#m\u001b[39;00m\n\u001b[1;32m     29\u001b[0m laser_energy\u001b[38;5;241m=\u001b[39m\u001b[38;5;241m5e-3\u001b[39m\n\u001b[0;32m---> 31\u001b[0m GF_IP \u001b[38;5;241m=\u001b[39m xt\u001b[38;5;241m.\u001b[39mPulsedLaser(\n\u001b[1;32m     32\u001b[0m                 laser_x\u001b[38;5;241m=\u001b[39m\u001b[38;5;241m0\u001b[39m,\n\u001b[1;32m     33\u001b[0m                 laser_y\u001b[38;5;241m=\u001b[39m\u001b[38;5;241m0\u001b[39m,\n\u001b[1;32m     34\u001b[0m                 laser_z\u001b[38;5;241m=\u001b[39m\u001b[38;5;241m0\u001b[39m,\n\u001b[1;32m     35\u001b[0m                 \n\u001b[1;32m     36\u001b[0m                 laser_direction_nx \u001b[38;5;241m=\u001b[39m \u001b[38;5;241m0\u001b[39m,\n\u001b[1;32m     37\u001b[0m                 laser_direction_ny \u001b[38;5;241m=\u001b[39m ny,\n\u001b[1;32m     38\u001b[0m                 laser_direction_nz \u001b[38;5;241m=\u001b[39m nz,\n\u001b[1;32m     39\u001b[0m                 laser_energy         \u001b[38;5;241m=\u001b[39m laser_energy, \u001b[38;5;66;03m# J\u001b[39;00m\n\u001b[1;32m     40\u001b[0m                 laser_duration_sigma \u001b[38;5;241m=\u001b[39m sigma_t, \u001b[38;5;66;03m# sec\u001b[39;00m\n\u001b[1;32m     41\u001b[0m                 laser_wavelength \u001b[38;5;241m=\u001b[39m lambda_l, \u001b[38;5;66;03m# m\u001b[39;00m\n\u001b[1;32m     42\u001b[0m                 laser_waist_radius \u001b[38;5;241m=\u001b[39m laser_waist_radius, \u001b[38;5;66;03m# m\u001b[39;00m\n\u001b[1;32m     43\u001b[0m                 laser_waist_shift \u001b[38;5;241m=\u001b[39m \u001b[38;5;241m0\u001b[39m, \u001b[38;5;66;03m# m\u001b[39;00m\n\u001b[1;32m     44\u001b[0m                 ion_excitation_energy \u001b[38;5;241m=\u001b[39m hw0, \u001b[38;5;66;03m# eV\u001b[39;00m\n\u001b[1;32m     45\u001b[0m                 ion_excited_lifetime  \u001b[38;5;241m=\u001b[39m \u001b[38;5;241m76.6e-12\u001b[39m, \u001b[38;5;66;03m# sec                   \u001b[39;00m\n\u001b[1;32m     46\u001b[0m                 )\n\u001b[1;32m     48\u001b[0m \u001b[38;5;66;03m# simulation parameters: simulate 10 s of cooling, and take data once every 100 ms\u001b[39;00m\n\u001b[1;32m     49\u001b[0m max_time_s \u001b[38;5;241m=\u001b[39m \u001b[38;5;241m20\u001b[39m\n",
      "\u001b[0;31mAttributeError\u001b[0m: module 'xtrack' has no attribute 'PulsedLaser'"
     ]
    }
   ],
   "source": [
    "##################\n",
    "# Laser Cooler #\n",
    "##################\n",
    "\n",
    "#laser-ion beam collision angle\n",
    "theta_l = 2.6*np.pi/180 # rad\n",
    "# theta_l = 0\n",
    "nx = 0; ny = -np.sin(theta_l); nz = -np.cos(theta_l)\n",
    "\n",
    "# Ion excitation energy:\n",
    "hw0 = 230.823 # eV\n",
    "hc=constants.hbar*clight/constants.e # eV*m (ħc)\n",
    "lambda_0 = 2*np.pi*hc/hw0 # m -- ion excitation wavelength\n",
    "\n",
    "lambda_l = lambda_0*gamma*(1 + beta*np.cos(theta_l)) # m -- laser wavelength\n",
    "\n",
    "# Shift laser wavelength for fast longitudinal cooling:5\n",
    "lambda_l = lambda_l*(1+0*sigma_dp) # m\n",
    "\n",
    "laser_frequency = clight/lambda_l # Hz\n",
    "sigma_w = 2*np.pi*laser_frequency*sigma_dp\n",
    "#sigma_w = 2*np.pi*laser_frequency*sigma_dp/2 # for fast longitudinal cooling\n",
    "\n",
    "sigma_t = 1/sigma_w # sec -- Fourier-limited laser pulse\n",
    "print('Laser pulse duration sigma_t = %.2f ps' % (sigma_t/1e-12))\n",
    "print('Laser wavelength = %.2f nm' % (lambda_l/1e-9))\n",
    "\n",
    "laser_waist_radius = 1.3e-3 #m\n",
    "laser_energy=5e-3\n",
    "\n",
    "GF_IP = xt.PulsedLaser(\n",
    "                laser_x=0,\n",
    "                laser_y=0,\n",
    "                laser_z=0,\n",
    "                \n",
    "                laser_direction_nx = 0,\n",
    "                laser_direction_ny = ny,\n",
    "                laser_direction_nz = nz,\n",
    "                laser_energy         = laser_energy, # J\n",
    "                laser_duration_sigma = sigma_t, # sec\n",
    "                laser_wavelength = lambda_l, # m\n",
    "                laser_waist_radius = laser_waist_radius, # m\n",
    "                laser_waist_shift = 0, # m\n",
    "                ion_excitation_energy = hw0, # eV\n",
    "                ion_excited_lifetime  = 76.6e-12, # sec                   \n",
    "                )\n",
    "\n",
    "# simulation parameters: simulate 10 s of cooling, and take data once every 100 ms\n",
    "max_time_s = 20\n",
    "int_time_s = 0.1\n",
    "T_per_turn = circumference/(clight*beta)\n",
    "num_turns = int(max_time_s/T_per_turn)\n",
    "save_interval = int(int_time_s/T_per_turn)\n",
    "\n",
    "num_turns = int(2e0)\n",
    "save_interval = num_turns/100\n",
    "save_interval=1\n",
    "\n",
    "# create a monitor object, to reduce holded data\n",
    "monitor = xt.ParticlesMonitor(start_at_turn=0, stop_at_turn=1,\n",
    "                              n_repetitions=int(num_turns/save_interval),\n",
    "                              repetition_period=save_interval,\n",
    "                              num_particles=num_particles)\n",
    "\n",
    "\n",
    "SPS_line.discard_tracker()\n",
    "IP_index=16675   \n",
    "# SPS_line.insert_element('monitor', element=monitor, index=IP_index)\n",
    "# SPS_line.insert_element('GF_IP', element=GF_IP, index=IP_index)\n",
    "SPS_line.append_element(monitor,'monitor')\n",
    "SPS_line.append_element(GF_IP,'GF_IP')\n",
    "\n",
    "\n",
    "SPS_line.build_tracker()\n"
   ]
  },
  {
   "cell_type": "code",
   "execution_count": null,
   "id": "9a55bc94",
   "metadata": {},
   "outputs": [],
   "source": [
    "particles=particles0.copy()\n",
    "\n",
    "SPS_line.track(particles, num_turns=num_turns,\n",
    "              turn_by_turn_monitor=False,with_progress=True)\n",
    "\n",
    "# extract relevant values\n",
    "x = monitor.x[:,:,0]\n",
    "px = monitor.px[:,:,0]\n",
    "y = monitor.y[:,:,0]\n",
    "py = monitor.py[:,:,0]\n",
    "delta = monitor.delta[:,:,0]\n",
    "zeta = monitor.zeta[:,:,0]\n",
    "state = monitor.state[:,:,0]\n",
    "time = monitor.at_turn[:, 0, 0] * T_per_turn\n",
    "\n",
    "np.savez('results/Pulsed_data.npz', x=x, px=px, y=y, py=py, zeta=zeta, delta=delta, state=state, time=time,s_per_turn=T_per_turn)"
   ]
  },
  {
   "cell_type": "code",
   "execution_count": null,
   "id": "214d6887",
   "metadata": {},
   "outputs": [],
   "source": [
    "excited=particles.state==2\n",
    "\n",
    "fraction_excitation = sum(excited)/len(excited)\n",
    "\n",
    "plt.figure(figsize=(12, 8))\n",
    "plt.rcParams.update({'font.size': 25})\n",
    "plt.title(f'Fraction of excited particles: {fraction_excitation*100:.3}%')\n",
    "plt.scatter(particles.x,particles.delta)\n",
    "plt.scatter(particles.x[excited],particles.delta[excited])\n",
    "plt.xlabel('x [m]')\n",
    "plt.ylabel('dp/p ')\n",
    "plt.ticklabel_format(style='sci', axis='x', scilimits=(0,0))\n",
    "plt.ticklabel_format(style='sci', axis='y', scilimits=(0,0))\n",
    "plt.show()"
   ]
  },
  {
   "cell_type": "code",
   "execution_count": null,
   "id": "e8599001",
   "metadata": {},
   "outputs": [],
   "source": [
    "excited=particles.state==2\n",
    "\n",
    "fraction_excitation = sum(excited)/len(excited)\n",
    "\n",
    "plt.figure(figsize=(12, 8))\n",
    "plt.rcParams.update({'font.size': 25})\n",
    "plt.title(f'Fraction of excited particles: {fraction_excitation*100:.3}%')\n",
    "plt.scatter(particles.x,particles.px)\n",
    "plt.scatter(particles.x[excited],particles.px[excited])\n",
    "plt.xlabel('x [m]')\n",
    "plt.ylabel('px ')\n",
    "plt.ticklabel_format(style='sci', axis='x', scilimits=(0,0))\n",
    "plt.ticklabel_format(style='sci', axis='y', scilimits=(0,0))\n",
    "plt.show()"
   ]
  }
 ],
 "metadata": {
  "kernelspec": {
   "display_name": "base",
   "language": "python",
   "name": "python3"
  },
  "language_info": {
   "codemirror_mode": {
    "name": "ipython",
    "version": 3
   },
   "file_extension": ".py",
   "mimetype": "text/x-python",
   "name": "python",
   "nbconvert_exporter": "python",
   "pygments_lexer": "ipython3",
   "version": "3.11.3"
  },
  "vscode": {
   "interpreter": {
    "hash": "b3c9a0a5475e728b39e61ac58d244ad936924f9cf82746515a9faeb1f1a0b703"
   }
  }
 },
 "nbformat": 4,
 "nbformat_minor": 5
}
