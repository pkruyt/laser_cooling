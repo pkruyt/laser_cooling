{
 "cells": [
  {
   "cell_type": "code",
   "execution_count": 13,
   "id": "565de642",
   "metadata": {},
   "outputs": [
    {
     "data": {
      "application/vnd.jupyter.widget-view+json": {
       "model_id": "3bf95f55c3764b5d815accb099a09aa3",
       "version_major": 2,
       "version_minor": 0
      },
      "text/plain": [
       "Loading line from dict:   0%|          | 0/38786 [00:00<?, ?it/s]"
      ]
     },
     "metadata": {},
     "output_type": "display_data"
    },
    {
     "name": "stdout",
     "output_type": "stream",
     "text": [
      "Done loading line from dict.           \n",
      "Compiling ContextCpu kernels...\n",
      "Done compiling ContextCpu kernels.\n"
     ]
    }
   ],
   "source": [
    "import numpy as np\n",
    "import xtrack as xt\n",
    "import xobjects as xo\n",
    "import xpart as xp\n",
    "import matplotlib.pyplot as plt\n",
    "from tqdm import tqdm\n",
    "from scipy import constants \n",
    "\n",
    "\n",
    "line = xt.Line.from_json('sps.json')\n",
    "particle_ref=line.particle_ref\n",
    "\n",
    "line.build_tracker()\n",
    "#line.freeze_longitudinal()\n",
    "# line.optimize_for_tracking()\n",
    "\n",
    "twiss=line.twiss()\n",
    "\n",
    "clight=constants.speed_of_light\n",
    "circumference = line.get_length()\n",
    "\n",
    "#%%\n",
    "###################\n",
    "# Linear Transfer #\n",
    "###################\n",
    "\n",
    "qx=twiss['qx']\n",
    "qy=twiss['qy']\n",
    "dqx=twiss['dqx']\n",
    "dqy=twiss['dqy']\n",
    "circumference=twiss['s'][-1]\n",
    "# beta_x=twiss['betx'][-1]\n",
    "# beta_y=twiss['bety'][-1]\n",
    "\n",
    "qs=twiss['qs']\n",
    "bets=twiss['betz0']\n",
    "\n",
    "\n",
    "#at interaction points: #from https://anaconda.org/petrenko/li_like_ca_in_sps/notebook\n",
    "beta_x  =  54.614389 # m\n",
    "beta_y  =  44.332517 # m\n",
    "alpha_x = -1.535235\n",
    "alpha_y =  1.314101\n",
    "\n",
    "\n",
    "\n",
    "Dx  =  2.444732 # m\n",
    "Dpx =  0.097522\n",
    "\n",
    "\n",
    "Dy  =  0.0 # m\n",
    "Dpy =  0.0\n",
    "\n",
    "#index of gamma factory along SPS line: 16675\n",
    "\n",
    "arc = xt.LineSegmentMap(\n",
    "        qx=qx, qy=qy,\n",
    "        dqx=0, dqy=0,\n",
    "        length=circumference,\n",
    "        alfx=alpha_x,\n",
    "        alfy=alpha_y,\n",
    "        betx=beta_x,\n",
    "        bety=beta_y,\n",
    "        \n",
    "        dx=Dx,\n",
    "        dpx=Dpx,\n",
    "        dy=Dy,\n",
    "        dpy=Dpy,\n",
    "        qs=qs,\n",
    "        bets=bets,\n",
    "        )\n"
   ]
  },
  {
   "cell_type": "code",
   "execution_count": 14,
   "id": "56e455f6",
   "metadata": {},
   "outputs": [],
   "source": [
    "from ion_properties import ions,lead,calcium,xenon\n",
    "\n",
    "ion=calcium"
   ]
  },
  {
   "cell_type": "code",
   "execution_count": 15,
   "id": "87f4adde",
   "metadata": {},
   "outputs": [
    {
     "name": "stdout",
     "output_type": "stream",
     "text": [
      "Compiling ContextCpu kernels...\n",
      "Done compiling ContextCpu kernels.\n",
      "0.0003046823124832728\n",
      "Laser pulse duration sigma_t = 1.83 ps\n",
      "Laser wavelength = 1031.80 nm\n"
     ]
    },
    {
     "name": "stderr",
     "output_type": "stream",
     "text": [
      "  0%|          | 0/25 [00:00<?, ?it/s]"
     ]
    },
    {
     "name": "stdout",
     "output_type": "stream",
     "text": [
      "Compiling ContextCpu kernels...\n",
      "Done compiling ContextCpu kernels.\n"
     ]
    },
    {
     "data": {
      "application/vnd.jupyter.widget-view+json": {
       "model_id": "e2517196dc574528bec5a71c3996cc94",
       "version_major": 2,
       "version_minor": 0
      },
      "text/plain": [
       "Tracking:   0%|          | 0/26100 [00:00<?, ?it/s]"
      ]
     },
     "metadata": {},
     "output_type": "display_data"
    },
    {
     "name": "stderr",
     "output_type": "stream",
     "text": [
      "  4%|▍         | 1/25 [00:24<09:51, 24.63s/it]"
     ]
    },
    {
     "name": "stdout",
     "output_type": "stream",
     "text": [
      "Compiling ContextCpu kernels...\n",
      "Done compiling ContextCpu kernels.\n"
     ]
    },
    {
     "data": {
      "application/vnd.jupyter.widget-view+json": {
       "model_id": "c082f81b79104bfc8f010d9055f0c576",
       "version_major": 2,
       "version_minor": 0
      },
      "text/plain": [
       "Tracking:   0%|          | 0/26100 [00:00<?, ?it/s]"
      ]
     },
     "metadata": {},
     "output_type": "display_data"
    },
    {
     "name": "stderr",
     "output_type": "stream",
     "text": [
      "  8%|▊         | 2/25 [00:48<09:20, 24.39s/it]"
     ]
    },
    {
     "name": "stdout",
     "output_type": "stream",
     "text": [
      "Compiling ContextCpu kernels...\n",
      "Done compiling ContextCpu kernels.\n"
     ]
    },
    {
     "data": {
      "application/vnd.jupyter.widget-view+json": {
       "model_id": "15eb87f1d2e840adab55927980a43c7c",
       "version_major": 2,
       "version_minor": 0
      },
      "text/plain": [
       "Tracking:   0%|          | 0/26100 [00:00<?, ?it/s]"
      ]
     },
     "metadata": {},
     "output_type": "display_data"
    },
    {
     "name": "stderr",
     "output_type": "stream",
     "text": [
      " 12%|█▏        | 3/25 [01:14<09:09, 25.00s/it]"
     ]
    },
    {
     "name": "stdout",
     "output_type": "stream",
     "text": [
      "Compiling ContextCpu kernels...\n",
      "Done compiling ContextCpu kernels.\n"
     ]
    },
    {
     "data": {
      "application/vnd.jupyter.widget-view+json": {
       "model_id": "c460398678fd4abbba4c9c3fe6073b89",
       "version_major": 2,
       "version_minor": 0
      },
      "text/plain": [
       "Tracking:   0%|          | 0/26100 [00:00<?, ?it/s]"
      ]
     },
     "metadata": {},
     "output_type": "display_data"
    },
    {
     "name": "stderr",
     "output_type": "stream",
     "text": [
      " 16%|█▌        | 4/25 [01:40<08:54, 25.47s/it]"
     ]
    },
    {
     "name": "stdout",
     "output_type": "stream",
     "text": [
      "Compiling ContextCpu kernels...\n",
      "Done compiling ContextCpu kernels.\n"
     ]
    },
    {
     "data": {
      "application/vnd.jupyter.widget-view+json": {
       "model_id": "7d7d3495c85f471bbcd7e6c3d7d43685",
       "version_major": 2,
       "version_minor": 0
      },
      "text/plain": [
       "Tracking:   0%|          | 0/26100 [00:00<?, ?it/s]"
      ]
     },
     "metadata": {},
     "output_type": "display_data"
    },
    {
     "name": "stderr",
     "output_type": "stream",
     "text": [
      " 20%|██        | 5/25 [02:07<08:41, 26.07s/it]"
     ]
    },
    {
     "name": "stdout",
     "output_type": "stream",
     "text": [
      "Compiling ContextCpu kernels...\n",
      "Done compiling ContextCpu kernels.\n"
     ]
    },
    {
     "data": {
      "application/vnd.jupyter.widget-view+json": {
       "model_id": "837d473669e74da7b20e524e405eec4b",
       "version_major": 2,
       "version_minor": 0
      },
      "text/plain": [
       "Tracking:   0%|          | 0/26100 [00:00<?, ?it/s]"
      ]
     },
     "metadata": {},
     "output_type": "display_data"
    },
    {
     "name": "stderr",
     "output_type": "stream",
     "text": [
      " 24%|██▍       | 6/25 [02:36<08:28, 26.76s/it]"
     ]
    },
    {
     "name": "stdout",
     "output_type": "stream",
     "text": [
      "Compiling ContextCpu kernels...\n",
      "Done compiling ContextCpu kernels.\n"
     ]
    },
    {
     "data": {
      "application/vnd.jupyter.widget-view+json": {
       "model_id": "7cc1f66ca6114987b6d4543d4c46cce9",
       "version_major": 2,
       "version_minor": 0
      },
      "text/plain": [
       "Tracking:   0%|          | 0/26100 [00:00<?, ?it/s]"
      ]
     },
     "metadata": {},
     "output_type": "display_data"
    },
    {
     "name": "stderr",
     "output_type": "stream",
     "text": [
      " 28%|██▊       | 7/25 [03:04<08:13, 27.43s/it]"
     ]
    },
    {
     "name": "stdout",
     "output_type": "stream",
     "text": [
      "Compiling ContextCpu kernels...\n",
      "Done compiling ContextCpu kernels.\n"
     ]
    },
    {
     "data": {
      "application/vnd.jupyter.widget-view+json": {
       "model_id": "b604a1c9460741ebbd8564bd2c33cd99",
       "version_major": 2,
       "version_minor": 0
      },
      "text/plain": [
       "Tracking:   0%|          | 0/26100 [00:00<?, ?it/s]"
      ]
     },
     "metadata": {},
     "output_type": "display_data"
    },
    {
     "name": "stderr",
     "output_type": "stream",
     "text": [
      " 32%|███▏      | 8/25 [03:34<07:57, 28.07s/it]"
     ]
    },
    {
     "name": "stdout",
     "output_type": "stream",
     "text": [
      "Compiling ContextCpu kernels...\n",
      "Done compiling ContextCpu kernels.\n"
     ]
    },
    {
     "data": {
      "application/vnd.jupyter.widget-view+json": {
       "model_id": "2847169f18e24e6db7dc8412214565e7",
       "version_major": 2,
       "version_minor": 0
      },
      "text/plain": [
       "Tracking:   0%|          | 0/26100 [00:00<?, ?it/s]"
      ]
     },
     "metadata": {},
     "output_type": "display_data"
    },
    {
     "name": "stderr",
     "output_type": "stream",
     "text": [
      " 36%|███▌      | 9/25 [04:04<07:39, 28.70s/it]"
     ]
    },
    {
     "name": "stdout",
     "output_type": "stream",
     "text": [
      "Compiling ContextCpu kernels...\n",
      "Done compiling ContextCpu kernels.\n"
     ]
    },
    {
     "data": {
      "application/vnd.jupyter.widget-view+json": {
       "model_id": "bf641533b95c45e7acaf407e367ab835",
       "version_major": 2,
       "version_minor": 0
      },
      "text/plain": [
       "Tracking:   0%|          | 0/26100 [00:00<?, ?it/s]"
      ]
     },
     "metadata": {},
     "output_type": "display_data"
    },
    {
     "name": "stderr",
     "output_type": "stream",
     "text": [
      " 40%|████      | 10/25 [04:34<07:19, 29.27s/it]"
     ]
    },
    {
     "name": "stdout",
     "output_type": "stream",
     "text": [
      "Compiling ContextCpu kernels...\n",
      "Done compiling ContextCpu kernels.\n"
     ]
    },
    {
     "data": {
      "application/vnd.jupyter.widget-view+json": {
       "model_id": "374c9d4bc8bf495493da67e04587acae",
       "version_major": 2,
       "version_minor": 0
      },
      "text/plain": [
       "Tracking:   0%|          | 0/26100 [00:00<?, ?it/s]"
      ]
     },
     "metadata": {},
     "output_type": "display_data"
    },
    {
     "name": "stderr",
     "output_type": "stream",
     "text": [
      " 44%|████▍     | 11/25 [05:05<06:55, 29.68s/it]"
     ]
    },
    {
     "name": "stdout",
     "output_type": "stream",
     "text": [
      "Compiling ContextCpu kernels...\n",
      "Done compiling ContextCpu kernels.\n"
     ]
    },
    {
     "data": {
      "application/vnd.jupyter.widget-view+json": {
       "model_id": "e9d604df786a4ab2873a6d5b1f9aec84",
       "version_major": 2,
       "version_minor": 0
      },
      "text/plain": [
       "Tracking:   0%|          | 0/26100 [00:00<?, ?it/s]"
      ]
     },
     "metadata": {},
     "output_type": "display_data"
    },
    {
     "name": "stderr",
     "output_type": "stream",
     "text": [
      " 48%|████▊     | 12/25 [05:35<06:27, 29.82s/it]"
     ]
    },
    {
     "name": "stdout",
     "output_type": "stream",
     "text": [
      "Compiling ContextCpu kernels...\n",
      "Done compiling ContextCpu kernels.\n"
     ]
    },
    {
     "data": {
      "application/vnd.jupyter.widget-view+json": {
       "model_id": "13f9c69ec95b4ae0af75ac5a9f15395d",
       "version_major": 2,
       "version_minor": 0
      },
      "text/plain": [
       "Tracking:   0%|          | 0/26100 [00:00<?, ?it/s]"
      ]
     },
     "metadata": {},
     "output_type": "display_data"
    },
    {
     "name": "stderr",
     "output_type": "stream",
     "text": [
      " 52%|█████▏    | 13/25 [06:06<06:00, 30.03s/it]"
     ]
    },
    {
     "name": "stdout",
     "output_type": "stream",
     "text": [
      "Compiling ContextCpu kernels...\n",
      "Done compiling ContextCpu kernels.\n"
     ]
    },
    {
     "data": {
      "application/vnd.jupyter.widget-view+json": {
       "model_id": "070e64086a904efba86b72be209352c0",
       "version_major": 2,
       "version_minor": 0
      },
      "text/plain": [
       "Tracking:   0%|          | 0/26100 [00:00<?, ?it/s]"
      ]
     },
     "metadata": {},
     "output_type": "display_data"
    },
    {
     "name": "stderr",
     "output_type": "stream",
     "text": [
      " 56%|█████▌    | 14/25 [06:36<05:30, 30.09s/it]"
     ]
    },
    {
     "name": "stdout",
     "output_type": "stream",
     "text": [
      "Compiling ContextCpu kernels...\n",
      "Done compiling ContextCpu kernels.\n"
     ]
    },
    {
     "data": {
      "application/vnd.jupyter.widget-view+json": {
       "model_id": "0e1aa44b169b43bc813cd997ef0169ff",
       "version_major": 2,
       "version_minor": 0
      },
      "text/plain": [
       "Tracking:   0%|          | 0/26100 [00:00<?, ?it/s]"
      ]
     },
     "metadata": {},
     "output_type": "display_data"
    },
    {
     "name": "stderr",
     "output_type": "stream",
     "text": [
      " 60%|██████    | 15/25 [07:07<05:02, 30.25s/it]"
     ]
    },
    {
     "name": "stdout",
     "output_type": "stream",
     "text": [
      "Compiling ContextCpu kernels...\n",
      "Done compiling ContextCpu kernels.\n"
     ]
    },
    {
     "data": {
      "application/vnd.jupyter.widget-view+json": {
       "model_id": "be4dbf38d07649e69a3ede90d5ec01b0",
       "version_major": 2,
       "version_minor": 0
      },
      "text/plain": [
       "Tracking:   0%|          | 0/26100 [00:00<?, ?it/s]"
      ]
     },
     "metadata": {},
     "output_type": "display_data"
    },
    {
     "name": "stderr",
     "output_type": "stream",
     "text": [
      " 64%|██████▍   | 16/25 [07:37<04:33, 30.40s/it]"
     ]
    },
    {
     "name": "stdout",
     "output_type": "stream",
     "text": [
      "Compiling ContextCpu kernels...\n",
      "Done compiling ContextCpu kernels.\n"
     ]
    },
    {
     "data": {
      "application/vnd.jupyter.widget-view+json": {
       "model_id": "1f7d1619890142c3a7eeba10438473aa",
       "version_major": 2,
       "version_minor": 0
      },
      "text/plain": [
       "Tracking:   0%|          | 0/26100 [00:00<?, ?it/s]"
      ]
     },
     "metadata": {},
     "output_type": "display_data"
    },
    {
     "name": "stderr",
     "output_type": "stream",
     "text": [
      " 68%|██████▊   | 17/25 [08:08<04:03, 30.41s/it]"
     ]
    },
    {
     "name": "stdout",
     "output_type": "stream",
     "text": [
      "Compiling ContextCpu kernels...\n",
      "Done compiling ContextCpu kernels.\n"
     ]
    },
    {
     "data": {
      "application/vnd.jupyter.widget-view+json": {
       "model_id": "2e1d998154dc4c5cadc478e6a83e09b9",
       "version_major": 2,
       "version_minor": 0
      },
      "text/plain": [
       "Tracking:   0%|          | 0/26100 [00:00<?, ?it/s]"
      ]
     },
     "metadata": {},
     "output_type": "display_data"
    },
    {
     "name": "stderr",
     "output_type": "stream",
     "text": [
      " 72%|███████▏  | 18/25 [08:38<03:33, 30.48s/it]"
     ]
    },
    {
     "name": "stdout",
     "output_type": "stream",
     "text": [
      "Compiling ContextCpu kernels...\n",
      "Done compiling ContextCpu kernels.\n"
     ]
    },
    {
     "data": {
      "application/vnd.jupyter.widget-view+json": {
       "model_id": "8e4af9761a9145fdab9b534af4feecf5",
       "version_major": 2,
       "version_minor": 0
      },
      "text/plain": [
       "Tracking:   0%|          | 0/26100 [00:00<?, ?it/s]"
      ]
     },
     "metadata": {},
     "output_type": "display_data"
    },
    {
     "name": "stderr",
     "output_type": "stream",
     "text": [
      " 76%|███████▌  | 19/25 [09:08<03:01, 30.33s/it]"
     ]
    },
    {
     "name": "stdout",
     "output_type": "stream",
     "text": [
      "Compiling ContextCpu kernels...\n",
      "Done compiling ContextCpu kernels.\n"
     ]
    },
    {
     "data": {
      "application/vnd.jupyter.widget-view+json": {
       "model_id": "d17023a1596840d1897f4e6ef20d654a",
       "version_major": 2,
       "version_minor": 0
      },
      "text/plain": [
       "Tracking:   0%|          | 0/26100 [00:00<?, ?it/s]"
      ]
     },
     "metadata": {},
     "output_type": "display_data"
    },
    {
     "name": "stderr",
     "output_type": "stream",
     "text": [
      " 80%|████████  | 20/25 [09:37<02:29, 29.83s/it]"
     ]
    },
    {
     "name": "stdout",
     "output_type": "stream",
     "text": [
      "Compiling ContextCpu kernels...\n",
      "Done compiling ContextCpu kernels.\n"
     ]
    },
    {
     "data": {
      "application/vnd.jupyter.widget-view+json": {
       "model_id": "e342221963534b54ba5902faa5c319c7",
       "version_major": 2,
       "version_minor": 0
      },
      "text/plain": [
       "Tracking:   0%|          | 0/26100 [00:00<?, ?it/s]"
      ]
     },
     "metadata": {},
     "output_type": "display_data"
    },
    {
     "name": "stderr",
     "output_type": "stream",
     "text": [
      " 84%|████████▍ | 21/25 [10:04<01:56, 29.01s/it]"
     ]
    },
    {
     "name": "stdout",
     "output_type": "stream",
     "text": [
      "Compiling ContextCpu kernels...\n",
      "Done compiling ContextCpu kernels.\n"
     ]
    },
    {
     "data": {
      "application/vnd.jupyter.widget-view+json": {
       "model_id": "49746d79cb8f45a9a17e22ad19c4d4d9",
       "version_major": 2,
       "version_minor": 0
      },
      "text/plain": [
       "Tracking:   0%|          | 0/26100 [00:00<?, ?it/s]"
      ]
     },
     "metadata": {},
     "output_type": "display_data"
    },
    {
     "name": "stderr",
     "output_type": "stream",
     "text": [
      " 88%|████████▊ | 22/25 [10:30<01:24, 28.15s/it]"
     ]
    },
    {
     "name": "stdout",
     "output_type": "stream",
     "text": [
      "Compiling ContextCpu kernels...\n",
      "Done compiling ContextCpu kernels.\n"
     ]
    },
    {
     "data": {
      "application/vnd.jupyter.widget-view+json": {
       "model_id": "c75c844115534e9dab5ee551f8954854",
       "version_major": 2,
       "version_minor": 0
      },
      "text/plain": [
       "Tracking:   0%|          | 0/26100 [00:00<?, ?it/s]"
      ]
     },
     "metadata": {},
     "output_type": "display_data"
    },
    {
     "name": "stderr",
     "output_type": "stream",
     "text": [
      " 92%|█████████▏| 23/25 [10:56<00:54, 27.45s/it]"
     ]
    },
    {
     "name": "stdout",
     "output_type": "stream",
     "text": [
      "Compiling ContextCpu kernels...\n",
      "Done compiling ContextCpu kernels.\n"
     ]
    },
    {
     "data": {
      "application/vnd.jupyter.widget-view+json": {
       "model_id": "4d9d29f3261f4acf9a2349f5684e1186",
       "version_major": 2,
       "version_minor": 0
      },
      "text/plain": [
       "Tracking:   0%|          | 0/26100 [00:00<?, ?it/s]"
      ]
     },
     "metadata": {},
     "output_type": "display_data"
    },
    {
     "name": "stderr",
     "output_type": "stream",
     "text": [
      " 96%|█████████▌| 24/25 [11:22<00:27, 27.05s/it]"
     ]
    },
    {
     "name": "stdout",
     "output_type": "stream",
     "text": [
      "Compiling ContextCpu kernels...\n",
      "Done compiling ContextCpu kernels.\n"
     ]
    },
    {
     "data": {
      "application/vnd.jupyter.widget-view+json": {
       "model_id": "94e9e23c206549d4b74d7b42ed538d8b",
       "version_major": 2,
       "version_minor": 0
      },
      "text/plain": [
       "Tracking:   0%|          | 0/26100 [00:00<?, ?it/s]"
      ]
     },
     "metadata": {},
     "output_type": "display_data"
    },
    {
     "name": "stderr",
     "output_type": "stream",
     "text": [
      "100%|██████████| 25/25 [11:48<00:00, 28.32s/it]\n"
     ]
    },
    {
     "data": {
      "text/plain": [
       "<Figure size 1200x800 with 0 Axes>"
      ]
     },
     "metadata": {},
     "output_type": "display_data"
    }
   ],
   "source": [
    "for ion in [lead] :# Ion properties:\n",
    "\n",
    "\n",
    "        # Ion properties:\n",
    "        q0 = ion.q0\n",
    "        mass0 = ion.mass0\n",
    "\n",
    "        gamma = ion.gamma_rel\n",
    "        beta=  np.sqrt(1-1/(gamma*gamma))\n",
    "        p0c = mass0*gamma*beta #eV/c\n",
    "\n",
    "        bunch_intensity = ion.Intensity\n",
    "\n",
    "        particle_ref = xp.Particles(p0c=p0c, mass0=mass0, q0=q0,gamma0=gamma)\n",
    "\n",
    "        line.particle_ref=particle_ref\n",
    "\n",
    "\n",
    "        nemitt = 1.5e-6 # m*rad (normalized emittance)\n",
    "        sigma_z = 0.063 # m\n",
    "\n",
    "        emittance=nemitt/(beta*gamma)\n",
    "\n",
    "        num_particles=int(5e3)\n",
    "\n",
    "        line_arc=xt.Line(\n",
    "                elements=[arc])\n",
    "        line_arc.build_tracker()\n",
    "\n",
    "        particles = xp.generate_matched_gaussian_bunch(\n",
    "                num_particles=num_particles,\n",
    "                total_intensity_particles=bunch_intensity,\n",
    "                nemitt_x=nemitt, nemitt_y=nemitt, sigma_z=sigma_z,\n",
    "                particle_ref=particle_ref,\n",
    "                line=line_arc,        \n",
    "                )\n",
    "        delta = np.random.normal(scale=3e-4, size=num_particles)# + 3.0*sigma_dp,\n",
    "        particles.delta=delta\n",
    "\n",
    "        particles0=particles.copy()\n",
    "        # sigma_dp=2e-4  \n",
    "        sigma_dp=np.std(particles.delta)\n",
    "        print(sigma_dp)\n",
    "        sigma_dp=3e-4  \n",
    "        ##################\n",
    "        # Laser Cooler #\n",
    "        ##################\n",
    "\n",
    "        #laser-ion beam collision angle\n",
    "        theta_l = 2.6*np.pi/180 # rad\n",
    "        nx = 0; ny = -np.sin(theta_l); nz = -np.cos(theta_l)\n",
    "\n",
    "        # Ion excitation energy:\n",
    "        ion_excited_lifetime=ion.excited_lifetime\n",
    "        hw0 = ion.hw0 # eV\n",
    "        hc=constants.hbar*clight/constants.e # eV*m (ħc)\n",
    "        lambda_0 = 2*np.pi*hc/hw0 # m -- ion excitation wavelength\n",
    "\n",
    "        lambda_l = ion.lambda_l\n",
    "\n",
    "        # # Shift laser wavelength for fast longitudinal cooling:5\n",
    "        # lambda_l = lambda_l*(1+1*sigma_dp) # m\n",
    "\n",
    "        laser_frequency = clight/lambda_l # Hz\n",
    "        sigma_w = 2*np.pi*laser_frequency*sigma_dp\n",
    "        #sigma_w = 2*np.pi*laser_frequency*sigma_dp/2 # for fast longitudinal cooling\n",
    "\n",
    "        sigma_t = 1/sigma_w # sec -- Fourier-limited laser pulse\n",
    "        print('Laser pulse duration sigma_t = %.2f ps' % (sigma_t/1e-12))\n",
    "        print('Laser wavelength = %.2f nm' % (lambda_l/1e-9))\n",
    "\n",
    "        laser_waist_radius = 1.3e-3 #m\n",
    "        laser_energy = 5e-3\n",
    "\n",
    "        \n",
    "\n",
    "        #sigma_t=sigma_t*0.70 # to get 1.9 ps\n",
    "        # sigma_t=1.9e-12\n",
    "\n",
    "        GF_IP = xt.PulsedLaser(\n",
    "                        laser_x=0,\n",
    "                        laser_y=0,\n",
    "                        laser_z=0,\n",
    "                        \n",
    "                        laser_direction_nx = 0,\n",
    "                        laser_direction_ny = ny,\n",
    "                        laser_direction_nz = nz,\n",
    "                        laser_energy         = laser_energy, # J\n",
    "                        laser_duration_sigma = sigma_t, # sec\n",
    "                        laser_wavelength = lambda_l, # m\n",
    "                        laser_waist_radius = laser_waist_radius, # m\n",
    "                        laser_waist_shift = 0, # m\n",
    "                        ion_excitation_energy = hw0, # eV\n",
    "                        ion_excited_lifetime  = ion_excited_lifetime, # sec                   \n",
    "                        )\n",
    "\n",
    "        # simulation parameters: simulate 10 s of cooling, and take data once every 100 ms\n",
    "        max_time_s = 0.6\n",
    "        int_time_s = 0.01\n",
    "        T_per_turn = circumference/(clight*beta)\n",
    "        num_turns = int(max_time_s/T_per_turn)\n",
    "        save_interval = int(int_time_s/T_per_turn)\n",
    "\n",
    "        # num_turns = int(1e3)\n",
    "        # save_interval = num_turns/100\n",
    "        # # save_interval=1\n",
    "\n",
    "        # create a monitor object, to reduce holded data\n",
    "        monitor = xt.ParticlesMonitor(start_at_turn=0, stop_at_turn=1,\n",
    "                                n_repetitions=int(num_turns/save_interval),\n",
    "                                repetition_period=save_interval,\n",
    "                                num_particles=num_particles)\n",
    "\n",
    "\n",
    "        # line.discard_tracker()\n",
    "        # IP_index=16675   \n",
    "        # line.insert_element('monitor', element=monitor, index=IP_index)\n",
    "        # line.insert_element('GF_IP', element=GF_IP, index=IP_index) #this way monitor comes after the laser\n",
    "        # SPS_line.append_element(monitor,'monitor')\n",
    "        # SPS_line.append_element(GF_IP,'GF_IP')\n",
    "        laser_x_list=np.linspace(-5*1e-3,5*1e-3,25)\n",
    "        final_emittance_list = []\n",
    "        final_dp_p=[]\n",
    "        # cooler_growth_rates_list=[]\n",
    "        # cooler_heating_growth_rates_list=[]\n",
    "        transverse_growth_rate_list=[]\n",
    "        longitudinal_growth_rate_list=[]\n",
    "\n",
    "        from scipy.optimize import curve_fit\n",
    "\n",
    "        plt.figure(figsize=(12, 8))\n",
    "        plt.rcParams.update({'font.size': 25})\n",
    "\n",
    "        for laser_x_loop in tqdm(laser_x_list):\n",
    "        \n",
    "                GF_IP.laser_x=laser_x_loop\n",
    "                particles=particles0.copy()\n",
    "\n",
    "                line = xt.Line(\n",
    "                        elements=[monitor,GF_IP,arc])\n",
    "\n",
    "                context = xo.ContextCpu(omp_num_threads=1)\n",
    "                line.build_tracker(_context=context)\n",
    "                # line.optimize_for_tracking()\n",
    "\n",
    "                line.track(particles, num_turns=num_turns,\n",
    "                        turn_by_turn_monitor=False,with_progress=True)\n",
    "\n",
    "                # extract relevant values\n",
    "                x = monitor.x[:,:,0]\n",
    "                px = monitor.px[:,:,0]\n",
    "                y = monitor.y[:,:,0]\n",
    "                py = monitor.py[:,:,0]\n",
    "                delta = monitor.delta[:,:,0]\n",
    "                zeta = monitor.zeta[:,:,0]\n",
    "                state = monitor.state[:,:,0]\n",
    "                time = monitor.at_turn[:, 0, 0] * T_per_turn\n",
    "\n",
    "                gamma_x=(1+alpha_x**2)/beta_x\n",
    "                gamma_y=(1+alpha_y**2)/beta_y\n",
    "\n",
    "                action_x = (gamma_x*(x-Dx*delta)**2 + 2*alpha_x*(x-Dx*delta)*(px-Dpx*delta)+ beta_x*(px-Dpx*delta)**2)\n",
    "                action_y = (gamma_y*(y-Dy*delta)**2 + 2*alpha_y*(y-Dy*delta)*(py-Dpy*delta)+ beta_y*(py-Dpy*delta)**2)\n",
    "\n",
    "                emittance_x=np.mean(action_x,axis=1)*gamma/2\n",
    "\n",
    "                # Define the exponential function\n",
    "                def exponential_func(x, a, b):\n",
    "                        return a * np.exp(x * b)\n",
    "                \n",
    "                # Fit the data to the exponential function\n",
    "                params_transverse, covariance = curve_fit(exponential_func, time, emittance_x)\n",
    "\n",
    "                # Extract the parameters\n",
    "                a, b = params_transverse\n",
    "\n",
    "                transverse_growth_rate_list.append(b)\n",
    "\n",
    "                final_emittance_list.append(emittance_x[-1])\n",
    "\n",
    "                # plt.plot(time,emittance_x*1e6, linewidth=5.0)\n",
    "                # plt.plot(time, exponential_func(time,\n",
    "                # *params_transverse) * 1e6, linestyle='--')\n",
    "                \n",
    "                # Fit the data to the exponential function\n",
    "                rms_dp_p = np.std(delta, axis=1)\n",
    "                window_size = 10  # or any other suitable value\n",
    "                rms_dp_p_smoothed = np.convolve(rms_dp_p, np.ones(window_size)/window_size, mode='valid')\n",
    "\n",
    "\n",
    "                params_longitudinal, covariance = curve_fit(exponential_func, time[:len(rms_dp_p_smoothed)], rms_dp_p_smoothed)\n",
    "\n",
    "                # Extract the parameters\n",
    "                a, b = params_longitudinal\n",
    "\n",
    "                longitudinal_growth_rate_list.append(b)\n",
    "\n",
    "                final_dp_p.append(rms_dp_p[-1])\n",
    "\n",
    "\n",
    "        np.savez(f'results/optimal_laser_x(custom_energy_spread)/{ion.name}.npz', transverse_growth_rate_list=transverse_growth_rate_list,\n",
    "                longitudinal_growth_rate_list=longitudinal_growth_rate_list,final_dp_p=final_dp_p,\n",
    "                final_emittance_list=final_emittance_list,laser_x_list=laser_x_list,nemitt=nemitt,time=time)\n"
   ]
  },
  {
   "cell_type": "markdown",
   "id": "ead829f6",
   "metadata": {},
   "source": [
    "Transverse emittance"
   ]
  },
  {
   "cell_type": "code",
   "execution_count": 17,
   "id": "96e24c22",
   "metadata": {},
   "outputs": [
    {
     "data": {
      "image/png": "[encoded data removed]",
      "text/plain": [
       "<Figure size 1200x800 with 1 Axes>"
      ]
     },
     "metadata": {},
     "output_type": "display_data"
    }
   ],
   "source": [
    "# plt.figure(figsize=(12, 8))\n",
    "# plt.rcParams.update({'font.size': 25})\n",
    "# plt.scatter(laser_x_list,final_emittance_list)\n",
    "# plt.xlabel('Horizontal laser offset [m]')\n",
    "# plt.ylabel('Final emittance ')\n",
    "# ax = plt.gca()\n",
    "# # Removing the offset from the y-axis tick labels\n",
    "# ax.yaxis.get_major_formatter().set_useOffset(False)\n",
    "# # plt.ticklabel_format(style='sci', axis='x', scilimits=(0,0))\n",
    "# plt.ticklabel_format(style='sci', axis='y', scilimits=(0,0))\n",
    "# plt.show()\n",
    "\n",
    "plt.figure(figsize=(12, 8))\n",
    "plt.rcParams.update({'font.size': 25})\n",
    "plt.scatter(laser_x_list*1e3,transverse_growth_rate_list,label='transverse')\n",
    "plt.scatter(laser_x_list*1e3,longitudinal_growth_rate_list,label='longitudinal')\n",
    "plt.legend()\n",
    "plt.xlabel('Horizontal laser offset [mm]')\n",
    "plt.ylabel('Cooler growth rate  [1/s]')\n",
    "ax = plt.gca()\n",
    "# Removing the offset from the y-axis tick labels\n",
    "ax.yaxis.get_major_formatter().set_useOffset(False)\n",
    "# plt.ticklabel_format(style='sci', axis='x', scilimits=(0,0))\n",
    "plt.ticklabel_format(style='sci', axis='y', scilimits=(0,0))\n",
    "# plt.savefig('Optimal_laser_offset.png',dpi=300)\n",
    "plt.show()"
   ]
  }
 ],
 "metadata": {
  "kernelspec": {
   "display_name": "base",
   "language": "python",
   "name": "python3"
  },
  "language_info": {
   "codemirror_mode": {
    "name": "ipython",
    "version": 3
   },
   "file_extension": ".py",
   "mimetype": "text/x-python",
   "name": "python",
   "nbconvert_exporter": "python",
   "pygments_lexer": "ipython3",
   "version": "3.11.3"
  },
  "vscode": {
   "interpreter": {
    "hash": "b3c9a0a5475e728b39e61ac58d244ad936924f9cf82746515a9faeb1f1a0b703"
   }
  }
 },
 "nbformat": 4,
 "nbformat_minor": 5
}
