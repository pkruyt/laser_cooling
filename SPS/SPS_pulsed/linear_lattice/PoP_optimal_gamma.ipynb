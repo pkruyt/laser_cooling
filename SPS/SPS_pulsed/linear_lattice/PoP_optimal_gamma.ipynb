{
 "cells": [
  {
   "cell_type": "code",
   "execution_count": 1,
   "id": "565de642",
   "metadata": {},
   "outputs": [
    {
     "name": "stderr",
     "output_type": "stream",
     "text": [
      "/home/pkruyt/cernbox/xsuite-laser/xtrack/xtrack/progress_indicator.py:90: TqdmExperimentalWarning: Using `tqdm.autonotebook.tqdm` in notebook mode. Use `tqdm.tqdm` instead to force console mode (e.g. in jupyter console)\n",
      "  from tqdm.autonotebook import tqdm\n"
     ]
    },
    {
     "data": {
      "application/vnd.jupyter.widget-view+json": {
       "model_id": "0c4ed0b927a34162b24e1773b46b474f",
       "version_major": 2,
       "version_minor": 0
      },
      "text/plain": [
       "Loading line from dict:   0%|          | 0/38786 [00:00<?, ?it/s]"
      ]
     },
     "metadata": {},
     "output_type": "display_data"
    },
    {
     "name": "stdout",
     "output_type": "stream",
     "text": [
      "Done loading line from dict.           \n",
      "Compiling ContextCpu kernels...\n",
      "Done compiling ContextCpu kernels.\n"
     ]
    }
   ],
   "source": [
    "import numpy as np\n",
    "import xtrack as xt\n",
    "import xobjects as xo\n",
    "import xpart as xp\n",
    "import matplotlib.pyplot as plt\n",
    "from tqdm import tqdm\n",
    "from scipy import constants \n",
    "\n",
    "\n",
    "line = xt.Line.from_json('sps.json')\n",
    "particle_ref=line.particle_ref\n",
    "\n",
    "line.build_tracker()\n",
    "#line.freeze_longitudinal()\n",
    "# line.optimize_for_tracking()\n",
    "\n",
    "twiss=line.twiss()\n",
    "\n",
    "clight=constants.speed_of_light\n",
    "circumference = line.get_length()\n",
    "\n",
    "#%%\n",
    "###################\n",
    "# Linear Transfer #\n",
    "###################\n",
    "\n",
    "qx=twiss['qx']\n",
    "qy=twiss['qy']\n",
    "dqx=twiss['dqx']\n",
    "dqy=twiss['dqy']\n",
    "circumference=twiss['s'][-1]\n",
    "# beta_x=twiss['betx'][-1]\n",
    "# beta_y=twiss['bety'][-1]\n",
    "\n",
    "qs=twiss['qs']\n",
    "bets=twiss['betz0']\n",
    "\n",
    "\n",
    "#at interaction points: #from https://anaconda.org/petrenko/li_like_ca_in_sps/notebook\n",
    "beta_x  =  54.614389 # m\n",
    "beta_y  =  44.332517 # m\n",
    "alpha_x = -1.535235\n",
    "alpha_y =  1.314101\n",
    "\n",
    "\n",
    "\n",
    "Dx  =  2.444732 # m\n",
    "Dpx =  0.097522\n",
    "\n",
    "\n",
    "Dy  =  0.0 # m\n",
    "Dpy =  0.0\n",
    "\n",
    "#index of gamma factory along SPS line: 16675\n",
    "\n",
    "arc = xt.LineSegmentMap(\n",
    "        qx=qx, qy=qy,\n",
    "        dqx=0, dqy=0,\n",
    "        length=circumference,\n",
    "        alfx=alpha_x,\n",
    "        alfy=alpha_y,\n",
    "        betx=beta_x,\n",
    "        bety=beta_y,\n",
    "        \n",
    "        dx=Dx,\n",
    "        dpx=Dpx,\n",
    "        dy=Dy,\n",
    "        dpy=Dpy,\n",
    "        qs=qs,\n",
    "        bets=bets,\n",
    "        )\n"
   ]
  },
  {
   "cell_type": "code",
   "execution_count": 2,
   "id": "56e455f6",
   "metadata": {},
   "outputs": [],
   "source": [
    "from ion_properties import ions,lead,calcium,xenon\n",
    "\n",
    "ion=calcium"
   ]
  },
  {
   "cell_type": "code",
   "execution_count": 3,
   "id": "87f4adde",
   "metadata": {},
   "outputs": [
    {
     "name": "stderr",
     "output_type": "stream",
     "text": [
      "  0%|          | 0/25 [00:00<?, ?it/s]"
     ]
    },
    {
     "name": "stdout",
     "output_type": "stream",
     "text": [
      "Compiling ContextCpu kernels...\n",
      "Done compiling ContextCpu kernels.\n",
      "0.00019943453844261167\n",
      "Laser pulse duration sigma_t = 2.74 ps\n",
      "Laser wavelength = 1031.80 nm\n",
      "Compiling ContextCpu kernels...\n",
      "Done compiling ContextCpu kernels.\n"
     ]
    },
    {
     "data": {
      "application/vnd.jupyter.widget-view+json": {
       "model_id": "75fd61c910444deb9e3228f222e4e76a",
       "version_major": 2,
       "version_minor": 0
      },
      "text/plain": [
       "Tracking:   0%|          | 0/26100 [00:00<?, ?it/s]"
      ]
     },
     "metadata": {},
     "output_type": "display_data"
    },
    {
     "name": "stderr",
     "output_type": "stream",
     "text": [
      "  4%|▍         | 1/25 [00:37<15:00, 37.51s/it]"
     ]
    },
    {
     "name": "stdout",
     "output_type": "stream",
     "text": [
      "Compiling ContextCpu kernels...\n",
      "Done compiling ContextCpu kernels.\n",
      "0.00019928497525673253\n",
      "Laser pulse duration sigma_t = 2.74 ps\n",
      "Laser wavelength = 1031.80 nm\n",
      "Compiling ContextCpu kernels...\n",
      "Done compiling ContextCpu kernels.\n"
     ]
    },
    {
     "data": {
      "application/vnd.jupyter.widget-view+json": {
       "model_id": "c6e2e2eef3f24b8488c9a19949bb634c",
       "version_major": 2,
       "version_minor": 0
      },
      "text/plain": [
       "Tracking:   0%|          | 0/26100 [00:00<?, ?it/s]"
      ]
     },
     "metadata": {},
     "output_type": "display_data"
    },
    {
     "name": "stderr",
     "output_type": "stream",
     "text": [
      "  8%|▊         | 2/25 [01:15<14:32, 37.94s/it]"
     ]
    },
    {
     "name": "stdout",
     "output_type": "stream",
     "text": [
      "Compiling ContextCpu kernels...\n",
      "Done compiling ContextCpu kernels.\n",
      "0.00020060806694337065\n",
      "Laser pulse duration sigma_t = 2.74 ps\n",
      "Laser wavelength = 1031.80 nm\n",
      "Compiling ContextCpu kernels...\n",
      "Done compiling ContextCpu kernels.\n"
     ]
    },
    {
     "data": {
      "application/vnd.jupyter.widget-view+json": {
       "model_id": "89510482a0d44721930093badbde8f60",
       "version_major": 2,
       "version_minor": 0
      },
      "text/plain": [
       "Tracking:   0%|          | 0/26100 [00:00<?, ?it/s]"
      ]
     },
     "metadata": {},
     "output_type": "display_data"
    },
    {
     "name": "stderr",
     "output_type": "stream",
     "text": [
      " 12%|█▏        | 3/25 [01:53<13:53, 37.89s/it]"
     ]
    },
    {
     "name": "stdout",
     "output_type": "stream",
     "text": [
      "Compiling ContextCpu kernels...\n",
      "Done compiling ContextCpu kernels.\n",
      "0.00020005132651724976\n",
      "Laser pulse duration sigma_t = 2.74 ps\n",
      "Laser wavelength = 1031.80 nm\n",
      "Compiling ContextCpu kernels...\n",
      "Done compiling ContextCpu kernels.\n"
     ]
    },
    {
     "data": {
      "application/vnd.jupyter.widget-view+json": {
       "model_id": "bb5f03b1bf324b6dace927f91bfe3933",
       "version_major": 2,
       "version_minor": 0
      },
      "text/plain": [
       "Tracking:   0%|          | 0/26100 [00:00<?, ?it/s]"
      ]
     },
     "metadata": {},
     "output_type": "display_data"
    },
    {
     "name": "stderr",
     "output_type": "stream",
     "text": [
      " 16%|█▌        | 4/25 [02:31<13:12, 37.73s/it]"
     ]
    },
    {
     "name": "stdout",
     "output_type": "stream",
     "text": [
      "Compiling ContextCpu kernels...\n",
      "Done compiling ContextCpu kernels.\n",
      "0.0002014266844443132\n",
      "Laser pulse duration sigma_t = 2.74 ps\n",
      "Laser wavelength = 1031.80 nm\n",
      "Compiling ContextCpu kernels...\n",
      "Done compiling ContextCpu kernels.\n"
     ]
    },
    {
     "data": {
      "application/vnd.jupyter.widget-view+json": {
       "model_id": "4a723bb72eed4c65acbdc97165097e7b",
       "version_major": 2,
       "version_minor": 0
      },
      "text/plain": [
       "Tracking:   0%|          | 0/26100 [00:00<?, ?it/s]"
      ]
     },
     "metadata": {},
     "output_type": "display_data"
    },
    {
     "name": "stderr",
     "output_type": "stream",
     "text": [
      " 20%|██        | 5/25 [03:09<12:37, 37.89s/it]"
     ]
    },
    {
     "name": "stdout",
     "output_type": "stream",
     "text": [
      "Compiling ContextCpu kernels...\n",
      "Done compiling ContextCpu kernels.\n",
      "0.0002030041454543673\n",
      "Laser pulse duration sigma_t = 2.74 ps\n",
      "Laser wavelength = 1031.80 nm\n",
      "Compiling ContextCpu kernels...\n",
      "Done compiling ContextCpu kernels.\n"
     ]
    },
    {
     "data": {
      "application/vnd.jupyter.widget-view+json": {
       "model_id": "d65f753dc4a940a98941f5783c6be678",
       "version_major": 2,
       "version_minor": 0
      },
      "text/plain": [
       "Tracking:   0%|          | 0/26100 [00:00<?, ?it/s]"
      ]
     },
     "metadata": {},
     "output_type": "display_data"
    },
    {
     "name": "stderr",
     "output_type": "stream",
     "text": [
      " 24%|██▍       | 6/25 [03:47<12:00, 37.94s/it]"
     ]
    },
    {
     "name": "stdout",
     "output_type": "stream",
     "text": [
      "Compiling ContextCpu kernels...\n",
      "Done compiling ContextCpu kernels.\n",
      "0.00019761513620510129\n",
      "Laser pulse duration sigma_t = 2.74 ps\n",
      "Laser wavelength = 1031.80 nm\n",
      "Compiling ContextCpu kernels...\n",
      "Done compiling ContextCpu kernels.\n"
     ]
    },
    {
     "data": {
      "application/vnd.jupyter.widget-view+json": {
       "model_id": "032de2cba5f748a5b45123707b5ec27e",
       "version_major": 2,
       "version_minor": 0
      },
      "text/plain": [
       "Tracking:   0%|          | 0/26100 [00:00<?, ?it/s]"
      ]
     },
     "metadata": {},
     "output_type": "display_data"
    },
    {
     "name": "stderr",
     "output_type": "stream",
     "text": [
      " 28%|██▊       | 7/25 [04:23<11:15, 37.51s/it]"
     ]
    },
    {
     "name": "stdout",
     "output_type": "stream",
     "text": [
      "Compiling ContextCpu kernels...\n",
      "Done compiling ContextCpu kernels.\n",
      "0.0002033019213535734\n",
      "Laser pulse duration sigma_t = 2.74 ps\n",
      "Laser wavelength = 1031.80 nm\n",
      "Compiling ContextCpu kernels...\n",
      "Done compiling ContextCpu kernels.\n"
     ]
    },
    {
     "data": {
      "application/vnd.jupyter.widget-view+json": {
       "model_id": "be6b9f2706a3472b8c4c20d97e91ef72",
       "version_major": 2,
       "version_minor": 0
      },
      "text/plain": [
       "Tracking:   0%|          | 0/26100 [00:00<?, ?it/s]"
      ]
     },
     "metadata": {},
     "output_type": "display_data"
    },
    {
     "name": "stderr",
     "output_type": "stream",
     "text": [
      " 32%|███▏      | 8/25 [04:59<10:27, 36.94s/it]"
     ]
    },
    {
     "name": "stdout",
     "output_type": "stream",
     "text": [
      "Compiling ContextCpu kernels...\n",
      "Done compiling ContextCpu kernels.\n",
      "0.00020079444403332803\n",
      "Laser pulse duration sigma_t = 2.74 ps\n",
      "Laser wavelength = 1031.80 nm\n",
      "Compiling ContextCpu kernels...\n",
      "Done compiling ContextCpu kernels.\n"
     ]
    },
    {
     "data": {
      "application/vnd.jupyter.widget-view+json": {
       "model_id": "abcffb91dd4d4bd98928434d42482e7a",
       "version_major": 2,
       "version_minor": 0
      },
      "text/plain": [
       "Tracking:   0%|          | 0/26100 [00:00<?, ?it/s]"
      ]
     },
     "metadata": {},
     "output_type": "display_data"
    },
    {
     "name": "stderr",
     "output_type": "stream",
     "text": [
      " 36%|███▌      | 9/25 [05:35<09:44, 36.54s/it]"
     ]
    },
    {
     "name": "stdout",
     "output_type": "stream",
     "text": [
      "Compiling ContextCpu kernels...\n",
      "Done compiling ContextCpu kernels.\n",
      "0.00020365941814536598\n",
      "Laser pulse duration sigma_t = 2.74 ps\n",
      "Laser wavelength = 1031.80 nm\n",
      "Compiling ContextCpu kernels...\n",
      "Done compiling ContextCpu kernels.\n"
     ]
    },
    {
     "data": {
      "application/vnd.jupyter.widget-view+json": {
       "model_id": "0c3507ca2dde4442a9391aab3264c780",
       "version_major": 2,
       "version_minor": 0
      },
      "text/plain": [
       "Tracking:   0%|          | 0/26100 [00:00<?, ?it/s]"
      ]
     },
     "metadata": {},
     "output_type": "display_data"
    },
    {
     "name": "stderr",
     "output_type": "stream",
     "text": [
      " 40%|████      | 10/25 [06:08<08:50, 35.38s/it]"
     ]
    },
    {
     "name": "stdout",
     "output_type": "stream",
     "text": [
      "Compiling ContextCpu kernels...\n",
      "Done compiling ContextCpu kernels.\n",
      "0.00019753332381169787\n",
      "Laser pulse duration sigma_t = 2.74 ps\n",
      "Laser wavelength = 1031.80 nm\n",
      "Compiling ContextCpu kernels...\n",
      "Done compiling ContextCpu kernels.\n"
     ]
    },
    {
     "data": {
      "application/vnd.jupyter.widget-view+json": {
       "model_id": "6efb072855d84b7db4efcd7bfd4f1373",
       "version_major": 2,
       "version_minor": 0
      },
      "text/plain": [
       "Tracking:   0%|          | 0/26100 [00:00<?, ?it/s]"
      ]
     },
     "metadata": {},
     "output_type": "display_data"
    },
    {
     "name": "stderr",
     "output_type": "stream",
     "text": [
      " 44%|████▍     | 11/25 [06:35<07:40, 32.90s/it]"
     ]
    },
    {
     "name": "stdout",
     "output_type": "stream",
     "text": [
      "Compiling ContextCpu kernels...\n",
      "Done compiling ContextCpu kernels.\n",
      "0.00020073145773939332\n",
      "Laser pulse duration sigma_t = 2.74 ps\n",
      "Laser wavelength = 1031.80 nm\n",
      "Compiling ContextCpu kernels...\n",
      "Done compiling ContextCpu kernels.\n"
     ]
    },
    {
     "data": {
      "application/vnd.jupyter.widget-view+json": {
       "model_id": "f3220f098c5e4eb993ea9ad89549cc30",
       "version_major": 2,
       "version_minor": 0
      },
      "text/plain": [
       "Tracking:   0%|          | 0/26100 [00:00<?, ?it/s]"
      ]
     },
     "metadata": {},
     "output_type": "display_data"
    },
    {
     "name": "stderr",
     "output_type": "stream",
     "text": [
      " 48%|████▊     | 12/25 [07:11<07:21, 33.93s/it]"
     ]
    },
    {
     "name": "stdout",
     "output_type": "stream",
     "text": [
      "Compiling ContextCpu kernels...\n",
      "Done compiling ContextCpu kernels.\n",
      "0.00020185807457534903\n",
      "Laser pulse duration sigma_t = 2.74 ps\n",
      "Laser wavelength = 1031.80 nm\n",
      "Compiling ContextCpu kernels...\n",
      "Done compiling ContextCpu kernels.\n"
     ]
    },
    {
     "data": {
      "application/vnd.jupyter.widget-view+json": {
       "model_id": "f18132a7ba3e417996927a118207fa1f",
       "version_major": 2,
       "version_minor": 0
      },
      "text/plain": [
       "Tracking:   0%|          | 0/26100 [00:00<?, ?it/s]"
      ]
     },
     "metadata": {},
     "output_type": "display_data"
    },
    {
     "name": "stderr",
     "output_type": "stream",
     "text": [
      " 52%|█████▏    | 13/25 [07:47<06:55, 34.62s/it]"
     ]
    },
    {
     "name": "stdout",
     "output_type": "stream",
     "text": [
      "Compiling ContextCpu kernels...\n",
      "Done compiling ContextCpu kernels.\n",
      "0.00020045476186181623\n",
      "Laser pulse duration sigma_t = 2.74 ps\n",
      "Laser wavelength = 1031.80 nm\n",
      "Compiling ContextCpu kernels...\n",
      "Done compiling ContextCpu kernels.\n"
     ]
    },
    {
     "data": {
      "application/vnd.jupyter.widget-view+json": {
       "model_id": "d88683d22c114ab993491b8b318a35f5",
       "version_major": 2,
       "version_minor": 0
      },
      "text/plain": [
       "Tracking:   0%|          | 0/26100 [00:00<?, ?it/s]"
      ]
     },
     "metadata": {},
     "output_type": "display_data"
    },
    {
     "name": "stderr",
     "output_type": "stream",
     "text": [
      " 56%|█████▌    | 14/25 [08:24<06:26, 35.16s/it]"
     ]
    },
    {
     "name": "stdout",
     "output_type": "stream",
     "text": [
      "Compiling ContextCpu kernels...\n",
      "Done compiling ContextCpu kernels.\n",
      "0.00020171176465738158\n",
      "Laser pulse duration sigma_t = 2.74 ps\n",
      "Laser wavelength = 1031.80 nm\n",
      "Compiling ContextCpu kernels...\n",
      "Done compiling ContextCpu kernels.\n"
     ]
    },
    {
     "data": {
      "application/vnd.jupyter.widget-view+json": {
       "model_id": "66987cdfc4144d4d9345039ce27a4c41",
       "version_major": 2,
       "version_minor": 0
      },
      "text/plain": [
       "Tracking:   0%|          | 0/26100 [00:00<?, ?it/s]"
      ]
     },
     "metadata": {},
     "output_type": "display_data"
    },
    {
     "name": "stderr",
     "output_type": "stream",
     "text": [
      " 60%|██████    | 15/25 [08:59<05:52, 35.22s/it]"
     ]
    },
    {
     "name": "stdout",
     "output_type": "stream",
     "text": [
      "Compiling ContextCpu kernels...\n",
      "Done compiling ContextCpu kernels.\n",
      "0.0001993153732511226\n",
      "Laser pulse duration sigma_t = 2.74 ps\n",
      "Laser wavelength = 1031.80 nm\n",
      "Compiling ContextCpu kernels...\n",
      "Done compiling ContextCpu kernels.\n"
     ]
    },
    {
     "data": {
      "application/vnd.jupyter.widget-view+json": {
       "model_id": "95d99ebdcc4a48d088d7c6884660045f",
       "version_major": 2,
       "version_minor": 0
      },
      "text/plain": [
       "Tracking:   0%|          | 0/26100 [00:00<?, ?it/s]"
      ]
     },
     "metadata": {},
     "output_type": "display_data"
    },
    {
     "name": "stderr",
     "output_type": "stream",
     "text": [
      " 64%|██████▍   | 16/25 [09:38<05:26, 36.25s/it]"
     ]
    },
    {
     "name": "stdout",
     "output_type": "stream",
     "text": [
      "Compiling ContextCpu kernels...\n",
      "Done compiling ContextCpu kernels.\n",
      "0.00019895062079563672\n",
      "Laser pulse duration sigma_t = 2.74 ps\n",
      "Laser wavelength = 1031.80 nm\n",
      "Compiling ContextCpu kernels...\n",
      "Done compiling ContextCpu kernels.\n"
     ]
    },
    {
     "data": {
      "application/vnd.jupyter.widget-view+json": {
       "model_id": "aa9c9b267a664e57ad90f4630821c07c",
       "version_major": 2,
       "version_minor": 0
      },
      "text/plain": [
       "Tracking:   0%|          | 0/26100 [00:00<?, ?it/s]"
      ]
     },
     "metadata": {},
     "output_type": "display_data"
    },
    {
     "name": "stderr",
     "output_type": "stream",
     "text": [
      " 68%|██████▊   | 17/25 [10:13<04:47, 35.97s/it]"
     ]
    },
    {
     "name": "stdout",
     "output_type": "stream",
     "text": [
      "Compiling ContextCpu kernels...\n",
      "Done compiling ContextCpu kernels.\n",
      "0.00019614069475927778\n",
      "Laser pulse duration sigma_t = 2.74 ps\n",
      "Laser wavelength = 1031.80 nm\n",
      "Compiling ContextCpu kernels...\n",
      "Done compiling ContextCpu kernels.\n"
     ]
    },
    {
     "data": {
      "application/vnd.jupyter.widget-view+json": {
       "model_id": "327f19e54f434fc9acd8e99b98f0da9b",
       "version_major": 2,
       "version_minor": 0
      },
      "text/plain": [
       "Tracking:   0%|          | 0/26100 [00:00<?, ?it/s]"
      ]
     },
     "metadata": {},
     "output_type": "display_data"
    },
    {
     "name": "stderr",
     "output_type": "stream",
     "text": [
      " 72%|███████▏  | 18/25 [10:49<04:10, 35.85s/it]"
     ]
    },
    {
     "name": "stdout",
     "output_type": "stream",
     "text": [
      "Compiling ContextCpu kernels...\n",
      "Done compiling ContextCpu kernels.\n",
      "0.00020109129745982048\n",
      "Laser pulse duration sigma_t = 2.74 ps\n",
      "Laser wavelength = 1031.80 nm\n",
      "Compiling ContextCpu kernels...\n",
      "Done compiling ContextCpu kernels.\n"
     ]
    },
    {
     "data": {
      "application/vnd.jupyter.widget-view+json": {
       "model_id": "d2b3827ac7c1470e9f983d52f8e22b42",
       "version_major": 2,
       "version_minor": 0
      },
      "text/plain": [
       "Tracking:   0%|          | 0/26100 [00:00<?, ?it/s]"
      ]
     },
     "metadata": {},
     "output_type": "display_data"
    },
    {
     "name": "stderr",
     "output_type": "stream",
     "text": [
      " 76%|███████▌  | 19/25 [11:24<03:34, 35.67s/it]"
     ]
    },
    {
     "name": "stdout",
     "output_type": "stream",
     "text": [
      "Compiling ContextCpu kernels...\n",
      "Done compiling ContextCpu kernels.\n",
      "0.00020035194644814572\n",
      "Laser pulse duration sigma_t = 2.74 ps\n",
      "Laser wavelength = 1031.80 nm\n",
      "Compiling ContextCpu kernels...\n",
      "Done compiling ContextCpu kernels.\n"
     ]
    },
    {
     "data": {
      "application/vnd.jupyter.widget-view+json": {
       "model_id": "042fc24ab0384cb1a132f4e1bdc30b56",
       "version_major": 2,
       "version_minor": 0
      },
      "text/plain": [
       "Tracking:   0%|          | 0/26100 [00:00<?, ?it/s]"
      ]
     },
     "metadata": {},
     "output_type": "display_data"
    },
    {
     "name": "stderr",
     "output_type": "stream",
     "text": [
      " 80%|████████  | 20/25 [11:59<02:57, 35.55s/it]"
     ]
    },
    {
     "name": "stdout",
     "output_type": "stream",
     "text": [
      "Compiling ContextCpu kernels...\n",
      "Done compiling ContextCpu kernels.\n",
      "0.00020146245431258307\n",
      "Laser pulse duration sigma_t = 2.74 ps\n",
      "Laser wavelength = 1031.80 nm\n",
      "Compiling ContextCpu kernels...\n",
      "Done compiling ContextCpu kernels.\n"
     ]
    },
    {
     "data": {
      "application/vnd.jupyter.widget-view+json": {
       "model_id": "e740344e4ac34452a8c8a4cb6c23c220",
       "version_major": 2,
       "version_minor": 0
      },
      "text/plain": [
       "Tracking:   0%|          | 0/26100 [00:00<?, ?it/s]"
      ]
     },
     "metadata": {},
     "output_type": "display_data"
    },
    {
     "name": "stderr",
     "output_type": "stream",
     "text": [
      " 84%|████████▍ | 21/25 [12:34<02:21, 35.36s/it]"
     ]
    },
    {
     "name": "stdout",
     "output_type": "stream",
     "text": [
      "Compiling ContextCpu kernels...\n",
      "Done compiling ContextCpu kernels.\n",
      "0.0002003293435280047\n",
      "Laser pulse duration sigma_t = 2.74 ps\n",
      "Laser wavelength = 1031.80 nm\n",
      "Compiling ContextCpu kernels...\n",
      "Done compiling ContextCpu kernels.\n"
     ]
    },
    {
     "data": {
      "application/vnd.jupyter.widget-view+json": {
       "model_id": "3f692ae747784b62998d20cb0f29f66a",
       "version_major": 2,
       "version_minor": 0
      },
      "text/plain": [
       "Tracking:   0%|          | 0/26100 [00:00<?, ?it/s]"
      ]
     },
     "metadata": {},
     "output_type": "display_data"
    },
    {
     "name": "stderr",
     "output_type": "stream",
     "text": [
      " 88%|████████▊ | 22/25 [13:10<01:46, 35.42s/it]"
     ]
    },
    {
     "name": "stdout",
     "output_type": "stream",
     "text": [
      "Compiling ContextCpu kernels...\n",
      "Done compiling ContextCpu kernels.\n",
      "0.00019909202637267355\n",
      "Laser pulse duration sigma_t = 2.74 ps\n",
      "Laser wavelength = 1031.80 nm\n",
      "Compiling ContextCpu kernels...\n",
      "Done compiling ContextCpu kernels.\n"
     ]
    },
    {
     "data": {
      "application/vnd.jupyter.widget-view+json": {
       "model_id": "a9ae4777a982405da2393f54e193e9f5",
       "version_major": 2,
       "version_minor": 0
      },
      "text/plain": [
       "Tracking:   0%|          | 0/26100 [00:00<?, ?it/s]"
      ]
     },
     "metadata": {},
     "output_type": "display_data"
    },
    {
     "name": "stderr",
     "output_type": "stream",
     "text": [
      " 92%|█████████▏| 23/25 [13:45<01:10, 35.38s/it]"
     ]
    },
    {
     "name": "stdout",
     "output_type": "stream",
     "text": [
      "Compiling ContextCpu kernels...\n",
      "Done compiling ContextCpu kernels.\n",
      "0.0002015447272082129\n",
      "Laser pulse duration sigma_t = 2.74 ps\n",
      "Laser wavelength = 1031.80 nm\n",
      "Compiling ContextCpu kernels...\n",
      "Done compiling ContextCpu kernels.\n"
     ]
    },
    {
     "data": {
      "application/vnd.jupyter.widget-view+json": {
       "model_id": "0ac073ab777d489384e026f38ffcc7ab",
       "version_major": 2,
       "version_minor": 0
      },
      "text/plain": [
       "Tracking:   0%|          | 0/26100 [00:00<?, ?it/s]"
      ]
     },
     "metadata": {},
     "output_type": "display_data"
    },
    {
     "name": "stderr",
     "output_type": "stream",
     "text": [
      " 96%|█████████▌| 24/25 [14:17<00:34, 34.32s/it]"
     ]
    },
    {
     "name": "stdout",
     "output_type": "stream",
     "text": [
      "Compiling ContextCpu kernels...\n",
      "Done compiling ContextCpu kernels.\n",
      "0.00020124528830504706\n",
      "Laser pulse duration sigma_t = 2.74 ps\n",
      "Laser wavelength = 1031.80 nm\n",
      "Compiling ContextCpu kernels...\n",
      "Done compiling ContextCpu kernels.\n"
     ]
    },
    {
     "data": {
      "application/vnd.jupyter.widget-view+json": {
       "model_id": "a13aa3f3f380425a9d69c53ff3150f24",
       "version_major": 2,
       "version_minor": 0
      },
      "text/plain": [
       "Tracking:   0%|          | 0/26100 [00:00<?, ?it/s]"
      ]
     },
     "metadata": {},
     "output_type": "display_data"
    },
    {
     "name": "stderr",
     "output_type": "stream",
     "text": [
      "100%|██████████| 25/25 [14:53<00:00, 35.73s/it]\n"
     ]
    },
    {
     "data": {
      "text/plain": [
       "<Figure size 1200x800 with 0 Axes>"
      ]
     },
     "metadata": {},
     "output_type": "display_data"
    }
   ],
   "source": [
    "for ion in [lead]:# Ion properties:\n",
    "\n",
    "        gamma_list=np.linspace(ion.gamma_rel*(1-2e-4),ion.gamma_rel*(1+2e-4),25)\n",
    "        gamma_list=np.linspace(96.07383329737414,96.08343403359551,25)\n",
    "        final_emittance_list = []\n",
    "        final_dp_p=[]\n",
    "        # cooler_growth_rates_list=[]\n",
    "        # cooler_heating_growth_rates_list=[]\n",
    "        transverse_growth_rate_list=[]\n",
    "        longitudinal_growth_rate_list=[]\n",
    "\n",
    "        from scipy.optimize import curve_fit\n",
    "\n",
    "        plt.figure(figsize=(12, 8))\n",
    "        plt.rcParams.update({'font.size': 25})\n",
    "\n",
    "        # Ion properties:\n",
    "        q0 = ion.q0\n",
    "        mass0 = ion.mass0\n",
    "\n",
    "        for gamma_loop in tqdm(gamma_list):\n",
    "\n",
    "                #gamma = ion.gamma_rel\n",
    "                gamma = gamma_loop\n",
    "                beta=  np.sqrt(1-1/(gamma*gamma))\n",
    "                p0c = mass0*gamma*beta #eV/c\n",
    "\n",
    "                bunch_intensity = ion.Intensity\n",
    "\n",
    "                particle_ref = xp.Particles(p0c=p0c, mass0=mass0, q0=q0,gamma0=gamma)\n",
    "\n",
    "                line.particle_ref=particle_ref\n",
    "\n",
    "\n",
    "                nemitt = 1.5e-6 # m*rad (normalized emittance)\n",
    "                sigma_z = 0.063 # m\n",
    "\n",
    "                emittance=nemitt/(beta*gamma)\n",
    "\n",
    "                num_particles=int(5e3)\n",
    "\n",
    "                line_arc=xt.Line(\n",
    "                        elements=[arc])\n",
    "                line_arc.build_tracker()\n",
    "\n",
    "                particles = xp.generate_matched_gaussian_bunch(\n",
    "                        num_particles=num_particles,\n",
    "                        total_intensity_particles=bunch_intensity,\n",
    "                        nemitt_x=nemitt, nemitt_y=nemitt, sigma_z=sigma_z,\n",
    "                        particle_ref=particle_ref,\n",
    "                        line=line_arc,        \n",
    "                        )\n",
    "\n",
    "                particles0=particles.copy()\n",
    "                # sigma_dp=2e-4  \n",
    "                sigma_dp=np.std(particles.delta)\n",
    "                print(sigma_dp)\n",
    "                sigma_dp=2e-4  \n",
    "                ##################\n",
    "                # Laser Cooler #\n",
    "                ##################\n",
    "\n",
    "                #laser-ion beam collision angle\n",
    "                theta_l = 2.6*np.pi/180 # rad\n",
    "                nx = 0; ny = -np.sin(theta_l); nz = -np.cos(theta_l)\n",
    "\n",
    "                # Ion excitation energy:\n",
    "                ion_excited_lifetime=ion.excited_lifetime\n",
    "                hw0 = ion.hw0 # eV\n",
    "                hc=constants.hbar*clight/constants.e # eV*m (ħc)\n",
    "                lambda_0 = 2*np.pi*hc/hw0 # m -- ion excitation wavelength\n",
    "\n",
    "                lambda_l = ion.lambda_l\n",
    "\n",
    "                # # Shift laser wavelength for fast longitudinal cooling:5\n",
    "                # lambda_l = lambda_l*(1+1*sigma_dp) # m\n",
    "\n",
    "                laser_frequency = clight/lambda_l # Hz\n",
    "                sigma_w = 2*np.pi*laser_frequency*sigma_dp\n",
    "                #sigma_w = 2*np.pi*laser_frequency*sigma_dp/2 # for fast longitudinal cooling\n",
    "\n",
    "                sigma_t = 1/sigma_w # sec -- Fourier-limited laser pulse\n",
    "                print('Laser pulse duration sigma_t = %.2f ps' % (sigma_t/1e-12))\n",
    "                print('Laser wavelength = %.2f nm' % (lambda_l/1e-9))\n",
    "\n",
    "                laser_waist_radius = 1.3e-3 #m\n",
    "                laser_energy = 5e-3\n",
    "\n",
    "                laser_x=-1*1e-3\n",
    "\n",
    "                #sigma_t=sigma_t*0.70 # to get 1.9 ps\n",
    "                # sigma_t=1.9e-12\n",
    "\n",
    "                GF_IP = xt.PulsedLaser(\n",
    "                                laser_x=-1.7346938775510203*1e-3,\n",
    "                                laser_y=0,\n",
    "                                laser_z=0,\n",
    "                                \n",
    "                                laser_direction_nx = 0,\n",
    "                                laser_direction_ny = ny,\n",
    "                                laser_direction_nz = nz,\n",
    "                                laser_energy         = laser_energy, # J\n",
    "                                laser_duration_sigma = sigma_t, # sec\n",
    "                                laser_wavelength = lambda_l, # m\n",
    "                                laser_waist_radius = laser_waist_radius, # m\n",
    "                                laser_waist_shift = 0, # m\n",
    "                                ion_excitation_energy = hw0, # eV\n",
    "                                ion_excited_lifetime  = ion_excited_lifetime, # sec                   \n",
    "                                )\n",
    "\n",
    "                # simulation parameters: simulate 10 s of cooling, and take data once every 100 ms\n",
    "                max_time_s = 0.6\n",
    "                int_time_s = 0.01\n",
    "                T_per_turn = circumference/(clight*beta)\n",
    "                num_turns = int(max_time_s/T_per_turn)\n",
    "                save_interval = int(int_time_s/T_per_turn)\n",
    "\n",
    "                # num_turns = int(1e3)\n",
    "                # save_interval = num_turns/100\n",
    "                # # save_interval=1\n",
    "\n",
    "                # create a monitor object, to reduce holded data\n",
    "                monitor = xt.ParticlesMonitor(start_at_turn=0, stop_at_turn=1,\n",
    "                                        n_repetitions=int(num_turns/save_interval),\n",
    "                                        repetition_period=save_interval,\n",
    "                                        num_particles=num_particles)\n",
    "\n",
    "\n",
    "                # line.discard_tracker()\n",
    "                # IP_index=16675   \n",
    "                # line.insert_element('monitor', element=monitor, index=IP_index)\n",
    "                # line.insert_element('GF_IP', element=GF_IP, index=IP_index) #this way monitor comes after the laser\n",
    "                # SPS_line.append_element(monitor,'monitor')\n",
    "                # SPS_line.append_element(GF_IP,'GF_IP')\n",
    "                \n",
    "                \n",
    "                particles=particles0.copy()\n",
    "\n",
    "                line = xt.Line(\n",
    "                        elements=[monitor,GF_IP,arc])\n",
    "\n",
    "                context = xo.ContextCpu(omp_num_threads=1)\n",
    "                line.build_tracker(_context=context)\n",
    "                # line.optimize_for_tracking()\n",
    "\n",
    "                line.track(particles, num_turns=num_turns,\n",
    "                        turn_by_turn_monitor=False,with_progress=True)\n",
    "\n",
    "                # extract relevant values\n",
    "                x = monitor.x[:,:,0]\n",
    "                px = monitor.px[:,:,0]\n",
    "                y = monitor.y[:,:,0]\n",
    "                py = monitor.py[:,:,0]\n",
    "                delta = monitor.delta[:,:,0]\n",
    "                zeta = monitor.zeta[:,:,0]\n",
    "                state = monitor.state[:,:,0]\n",
    "                time = monitor.at_turn[:, 0, 0] * T_per_turn\n",
    "\n",
    "                gamma_x=(1+alpha_x**2)/beta_x\n",
    "                gamma_y=(1+alpha_y**2)/beta_y\n",
    "\n",
    "                action_x = (gamma_x*(x-Dx*delta)**2 + 2*alpha_x*(x-Dx*delta)*(px-Dpx*delta)+ beta_x*(px-Dpx*delta)**2)\n",
    "                action_y = (gamma_y*(y-Dy*delta)**2 + 2*alpha_y*(y-Dy*delta)*(py-Dpy*delta)+ beta_y*(py-Dpy*delta)**2)\n",
    "\n",
    "                emittance_x=np.mean(action_x,axis=1)*gamma/2\n",
    "\n",
    "                # Define the exponential function\n",
    "                def exponential_func(x, a, b):\n",
    "                        return a * np.exp(x * b)\n",
    "                \n",
    "                # Fit the data to the exponential function\n",
    "                params_transverse, covariance = curve_fit(exponential_func, time, emittance_x)\n",
    "\n",
    "                # Extract the parameters\n",
    "                a, b = params_transverse\n",
    "\n",
    "                transverse_growth_rate_list.append(b)\n",
    "\n",
    "                final_emittance_list.append(emittance_x[-1])\n",
    "\n",
    "                # plt.plot(time,emittance_x*1e6, linewidth=5.0)\n",
    "                # plt.plot(time, exponential_func(time,\n",
    "                # *params_transverse) * 1e6, linestyle='--')\n",
    "                \n",
    "                # Fit the data to the exponential function\n",
    "                rms_dp_p = np.std(delta, axis=1)\n",
    "                window_size = 10  # or any other suitable value\n",
    "                rms_dp_p_smoothed = np.convolve(rms_dp_p, np.ones(window_size)/window_size, mode='valid')\n",
    "\n",
    "\n",
    "                params_longitudinal, covariance = curve_fit(exponential_func, time[:len(rms_dp_p_smoothed)], rms_dp_p_smoothed)\n",
    "\n",
    "                # Extract the parameters\n",
    "                a, b = params_longitudinal\n",
    "\n",
    "                longitudinal_growth_rate_list.append(b)\n",
    "\n",
    "                final_dp_p.append(rms_dp_p[-1])\n",
    "\n",
    "\n",
    "        np.savez(f'results/optimal_gamma/{ion.name}.npz', transverse_growth_rate_list=transverse_growth_rate_list,\n",
    "                longitudinal_growth_rate_list=longitudinal_growth_rate_list,final_dp_p=final_dp_p,\n",
    "                final_emittance_list=final_emittance_list,gamma_list=gamma_list,nemitt=nemitt,time=time)\n"
   ]
  },
  {
   "cell_type": "markdown",
   "id": "ead829f6",
   "metadata": {},
   "source": [
    "Transverse emittance"
   ]
  },
  {
   "cell_type": "code",
   "execution_count": 4,
   "id": "96e24c22",
   "metadata": {},
   "outputs": [
    {
     "data": {
      "image/png": "[encoded data removed]",
      "text/plain": [
       "<Figure size 1200x800 with 1 Axes>"
      ]
     },
     "metadata": {},
     "output_type": "display_data"
    },
    {
     "data": {
      "image/png": "[encoded data removed]",
      "text/plain": [
       "<Figure size 1200x800 with 1 Axes>"
      ]
     },
     "metadata": {},
     "output_type": "display_data"
    }
   ],
   "source": [
    "#\n",
    "# plt.figure(figsize=(12, 8))\n",
    "# plt.rcParams.update({'font.size': 25})\n",
    "# plt.scatter(gamma_list,final_emittance_list)\n",
    "# plt.xlabel('Horizontal laser offset [m]')\n",
    "# plt.ylabel('Final emittance ')\n",
    "# ax = plt.gca()\n",
    "# # Removing the offset from the y-axis tick labels\n",
    "# ax.yaxis.get_major_formatter().set_useOffset(False)\n",
    "# # plt.ticklabel_format(style='sci', axis='x', scilimits=(0,0))\n",
    "# plt.ticklabel_format(style='sci', axis='y', scilimits=(0,0))\n",
    "# plt.show()\n",
    "\n",
    "plt.figure(figsize=(12, 8))\n",
    "plt.rcParams.update({'font.size': 25})\n",
    "plt.scatter(gamma_list,transverse_growth_rate_list)\n",
    "plt.xlabel('gamma_list')\n",
    "plt.ylabel('transverse_growth_rate_list')\n",
    "ax = plt.gca()\n",
    "# Removing the offset from the y-axis tick labels\n",
    "ax.yaxis.get_major_formatter().set_useOffset(False)\n",
    "# plt.ticklabel_format(style='sci', axis='x', scilimits=(0,0))\n",
    "plt.ticklabel_format(style='sci', axis='y', scilimits=(0,0))\n",
    "# plt.savefig('Optimal_laser_offset.png',dpi=300)\n",
    "plt.show()\n",
    "\n",
    "plt.figure(figsize=(12, 8))\n",
    "plt.rcParams.update({'font.size': 25})\n",
    "plt.scatter(gamma_list,longitudinal_growth_rate_list)\n",
    "plt.xlabel('gamma_list')\n",
    "plt.ylabel('longitudinal_growth_rate_list')\n",
    "ax = plt.gca()\n",
    "# Removing the offset from the y-axis tick labels\n",
    "ax.yaxis.get_major_formatter().set_useOffset(False)\n",
    "# plt.ticklabel_format(style='sci', axis='x', scilimits=(0,0))\n",
    "plt.ticklabel_format(style='sci', axis='y', scilimits=(0,0))\n",
    "# plt.savefig('Optimal_laser_offset.png',dpi=300)\n",
    "plt.show()"
   ]
  },
  {
   "cell_type": "code",
   "execution_count": 5,
   "id": "f97d150e",
   "metadata": {},
   "outputs": [
    {
     "name": "stdout",
     "output_type": "stream",
     "text": [
      "Minimum value: -0.006441680027124298\n",
      "Corresponding Horizontal laser offset: 96.07783360413305 mm\n"
     ]
    }
   ],
   "source": [
    "min_index = np.argmin(longitudinal_growth_rate_list)\n",
    "min_value = longitudinal_growth_rate_list[min_index]\n",
    "min_gamma = gamma_list[min_index]\n",
    "\n",
    "print(\"Minimum value:\", min_value)\n",
    "print(\"Corresponding Horizontal laser offset:\", min_gamma, \"mm\")"
   ]
  }
 ],
 "metadata": {
  "kernelspec": {
   "display_name": "base",
   "language": "python",
   "name": "python3"
  },
  "language_info": {
   "codemirror_mode": {
    "name": "ipython",
    "version": 3
   },
   "file_extension": ".py",
   "mimetype": "text/x-python",
   "name": "python",
   "nbconvert_exporter": "python",
   "pygments_lexer": "ipython3",
   "version": "3.11.3"
  },
  "vscode": {
   "interpreter": {
    "hash": "b3c9a0a5475e728b39e61ac58d244ad936924f9cf82746515a9faeb1f1a0b703"
   }
  }
 },
 "nbformat": 4,
 "nbformat_minor": 5
}
