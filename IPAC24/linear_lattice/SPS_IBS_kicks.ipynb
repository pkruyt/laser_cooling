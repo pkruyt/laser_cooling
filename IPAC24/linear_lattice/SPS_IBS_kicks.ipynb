{
 "cells": [
  {
   "cell_type": "code",
   "execution_count": 56,
   "id": "565de642",
   "metadata": {},
   "outputs": [],
   "source": [
    "import numpy as np\n",
    "import xtrack as xt\n",
    "import xobjects as xo\n",
    "import xpart as xp\n",
    "import matplotlib.pyplot as plt\n",
    "from tqdm import tqdm\n",
    "from scipy import constants \n"
   ]
  },
  {
   "cell_type": "code",
   "execution_count": 57,
   "id": "d1e18ba9",
   "metadata": {},
   "outputs": [
    {
     "data": {
      "application/vnd.jupyter.widget-view+json": {
       "model_id": "f015df020ae643468ef1862562655745",
       "version_major": 2,
       "version_minor": 0
      },
      "text/plain": [
       "Loading line from dict:   0%|          | 0/38786 [00:00<?, ?it/s]"
      ]
     },
     "metadata": {},
     "output_type": "display_data"
    },
    {
     "name": "stdout",
     "output_type": "stream",
     "text": [
      "Done loading line from dict.           \n",
      "Compiling ContextCpu kernels...\n",
      "Done compiling ContextCpu kernels.\n"
     ]
    }
   ],
   "source": [
    "line = xt.Line.from_json('sps.json')\n",
    "particle_ref=line.particle_ref\n",
    "\n",
    "line.build_tracker()\n",
    "twiss=line.twiss()\n",
    "\n",
    "clight=constants.speed_of_light\n",
    "circumference = line.get_length()"
   ]
  },
  {
   "cell_type": "code",
   "execution_count": 58,
   "id": "56e455f6",
   "metadata": {},
   "outputs": [],
   "source": [
    "from ion_properties import ions,lead,calcium,xenon\n",
    "\n",
    "ion=lead"
   ]
  },
  {
   "cell_type": "code",
   "execution_count": 59,
   "id": "bf61ab78",
   "metadata": {},
   "outputs": [],
   "source": [
    "# Ion properties:\n",
    "q0 = ion.q0\n",
    "mass0 = ion.mass0\n",
    "\n",
    "gamma = ion.gamma_rel4\n",
    "beta= np.sqrt(1-1/(gamma*gamma))\n",
    "p0c = mass0*gamma*beta #eV/c\n",
    "\n",
    "bunch_intensity = ion.Intensity\n",
    "\n",
    "particle_ref = xp.Particles(p0c=p0c, mass0=mass0, q0=q0)\n",
    "\n",
    "line.particle_ref=particle_ref"
   ]
  },
  {
   "cell_type": "code",
   "execution_count": 60,
   "id": "fb534eec",
   "metadata": {},
   "outputs": [],
   "source": [
    "nemitt = 1.5e-6 # m*rad (normalized emittance)\n",
    "sigma_z = 0.063 # m\n",
    "\n",
    "nemitt = 0.7*1e-6\n",
    "sigma_z = 0.063/2\n",
    "\n",
    "emittance=nemitt/(beta*gamma)\n",
    "\n",
    "num_particles=50000\n",
    "\n",
    "particles = xp.generate_matched_gaussian_bunch(\n",
    "        num_particles=num_particles,\n",
    "        total_intensity_particles=bunch_intensity,\n",
    "        nemitt_x=nemitt, nemitt_y=nemitt, sigma_z=sigma_z,\n",
    "        particle_ref=particle_ref,\n",
    "        line=line,        \n",
    "        )\n",
    "\n",
    "particles0=particles.copy()\n",
    "# sigma_dp=2e-4  \n",
    "sigma_dp=np.std(particles.delta)\n"
   ]
  },
  {
   "cell_type": "code",
   "execution_count": 61,
   "id": "63eb2ac6",
   "metadata": {},
   "outputs": [
    {
     "data": {
      "text/plain": [
       "LinkedArrayCpu(0.00010083)"
      ]
     },
     "execution_count": 61,
     "metadata": {},
     "output_type": "execute_result"
    }
   ],
   "source": [
    "sigma_dp"
   ]
  },
  {
   "cell_type": "code",
   "execution_count": 62,
   "id": "87f4adde",
   "metadata": {},
   "outputs": [
    {
     "name": "stdout",
     "output_type": "stream",
     "text": [
      "Laser pulse duration sigma_t = 5.43 ps\n",
      "Laser wavelength = 1031.80 nm\n"
     ]
    }
   ],
   "source": [
    "##################\n",
    "# Laser Cooler #\n",
    "##################\n",
    "\n",
    "#laser-ion beam collision angle\n",
    "theta_l = 2.6*np.pi/180 # rad\n",
    "nx = 0; ny = -np.sin(theta_l); nz = -np.cos(theta_l)\n",
    "\n",
    "# Ion excitation energy:\n",
    "ion_excited_lifetime=ion.excited_lifetime\n",
    "hw0 = ion.hw0 # eV\n",
    "hc=constants.hbar*clight/constants.e # eV*m (ħc)\n",
    "lambda_0 = 2*np.pi*hc/hw0 # m -- ion excitation wavelength\n",
    "\n",
    "# Shift laser wavelength for fast longitudinal cooling:5\n",
    "lambda_l = ion.lambda_l\n",
    "\n",
    "laser_frequency = clight/lambda_l # Hz\n",
    "sigma_w = 2*np.pi*laser_frequency*sigma_dp\n",
    "#sigma_w = 2*np.pi*laser_frequency*sigma_dp/2 # for fast longitudinal cooling\n",
    "\n",
    "sigma_t = 1/sigma_w # sec -- Fourier-limited laser pulse\n",
    "print('Laser pulse duration sigma_t = %.2f ps' % (sigma_t/1e-12))\n",
    "print('Laser wavelength = %.2f nm' % (lambda_l/1e-9))\n",
    "\n",
    "laser_waist_radius = 1.3e-3 #m\n",
    "laser_energy = 5e-3\n",
    "\n",
    "laser_x = ion.laser_x\n",
    "\n",
    "GF_IP = xt.PulsedLaser(\n",
    "                laser_x=laser_x,\n",
    "                laser_y=0,\n",
    "                laser_z=0,\n",
    "                \n",
    "                laser_direction_nx = 0,\n",
    "                laser_direction_ny = ny,\n",
    "                laser_direction_nz = nz,\n",
    "                laser_energy         = laser_energy, # J\n",
    "                laser_duration_sigma = sigma_t, # sec\n",
    "                laser_wavelength = lambda_l, # m\n",
    "                laser_waist_radius = laser_waist_radius, # m\n",
    "                laser_waist_shift = 0, # m\n",
    "                ion_excitation_energy = hw0, # eV\n",
    "                ion_excited_lifetime  = ion_excited_lifetime, # sec                   \n",
    "                )\n",
    "\n",
    "# simulation parameters: simulate 10 s of cooling, and take data once every 100 ms\n",
    "max_time_s = 1\n",
    "int_time_s = 0.01\n",
    "T_per_turn = circumference/(clight*beta)\n",
    "num_turns = int(max_time_s/T_per_turn)\n",
    "save_interval = int(int_time_s/T_per_turn)\n",
    "\n",
    "# num_turns = int(1e3)\n",
    "# save_interval = num_turns/100\n",
    "# # save_interval=1\n",
    "\n",
    "# create a monitor object, to reduce holded data\n",
    "monitor = xt.ParticlesMonitor(start_at_turn=0, stop_at_turn=1,\n",
    "                              n_repetitions=int(num_turns/save_interval),\n",
    "                              repetition_period=save_interval,\n",
    "                              num_particles=num_particles)\n",
    "\n",
    "\n",
    "line.discard_tracker()\n",
    "IP_index=16675   \n",
    "# line.insert_element('monitor', element=monitor, index=IP_index)\n",
    "# line.insert_element('GF_IP', element=GF_IP, index=IP_index) #this way monitor comes after the laser\n",
    "\n",
    "\n",
    "#at interaction points: #from https://anaconda.org/petrenko/li_like_ca_in_sps/notebook\n",
    "beta_x  =  twiss.betx[IP_index]\n",
    "beta_y  =  twiss.bety[IP_index]\n",
    "alpha_x =  twiss.alfx[IP_index]\n",
    "alpha_y =  twiss.alfy[IP_index]\n",
    "\n",
    "gamma_x=twiss.gamx[IP_index]\n",
    "gamma_y=twiss.gamy[IP_index]\n",
    "\n",
    "Dx  =  twiss.dx[IP_index]\n",
    "Dpx =  twiss.dpx[IP_index]\n",
    "\n",
    "Dy  =  twiss.dy[IP_index]\n",
    "Dpy =  twiss.dpy[IP_index]"
   ]
  },
  {
   "cell_type": "code",
   "execution_count": 63,
   "id": "63393e64",
   "metadata": {},
   "outputs": [
    {
     "data": {
      "text/plain": [
       "433"
      ]
     },
     "execution_count": 63,
     "metadata": {},
     "output_type": "execute_result"
    }
   ],
   "source": [
    "save_interval"
   ]
  },
  {
   "cell_type": "code",
   "execution_count": 64,
   "id": "86ec1583",
   "metadata": {},
   "outputs": [
    {
     "data": {
      "text/plain": [
       "7.125937883188393e-07"
      ]
     },
     "execution_count": 64,
     "metadata": {},
     "output_type": "execute_result"
    }
   ],
   "source": [
    "emittance_x[-1]"
   ]
  },
  {
   "cell_type": "code",
   "execution_count": 65,
   "id": "cf773172",
   "metadata": {},
   "outputs": [
    {
     "name": "stdout",
     "output_type": "stream",
     "text": [
      "beta_x: 54.46611023891817\n",
      "beta_y: 44.39557646380093\n",
      "alpha_x: -1.5456070795347416\n",
      "alpha_y: 1.3225757163115908\n",
      "gamma_x: 0.062220432324179675\n",
      "gamma_y: 0.06192523544814771\n",
      "Dx: 2.3261652157336967\n",
      "Dpx: 0.09359130580265473\n",
      "Dy: -0.0\n",
      "Dpy: -0.0\n"
     ]
    }
   ],
   "source": [
    "print(\"beta_x:\", beta_x)\n",
    "print(\"beta_y:\", beta_y)\n",
    "print(\"alpha_x:\", alpha_x)\n",
    "print(\"alpha_y:\", alpha_y)\n",
    "print(\"gamma_x:\", gamma_x)\n",
    "print(\"gamma_y:\", gamma_y)\n",
    "print(\"Dx:\", Dx)\n",
    "print(\"Dpx:\", Dpx)\n",
    "print(\"Dy:\", Dy)\n",
    "print(\"Dpy:\", Dpy)\n"
   ]
  },
  {
   "cell_type": "code",
   "execution_count": 66,
   "id": "9a55bc94",
   "metadata": {},
   "outputs": [
    {
     "name": "stdout",
     "output_type": "stream",
     "text": [
      "Compiling ContextCpu kernels...\n",
      "Done compiling ContextCpu kernels.\n",
      "Disable xdeps expressions\n",
      "Remove markers\n",
      "Remove inactive multipoles\n",
      "Merge consecutive multipoles\n",
      "Remove redundant apertures\n",
      "Remove zero length drifts\n",
      "Merge consecutive drifts\n",
      "Use simple bends\n",
      "Use simple quadrupoles\n",
      "Rebuild tracker data\n",
      "Compiling ContextCpu kernels...\n",
      "Done compiling ContextCpu kernels.\n"
     ]
    }
   ],
   "source": [
    "particles=particles0.copy()\n",
    "\n",
    "context = xo.ContextCpu(omp_num_threads=4)\n",
    "line.build_tracker(_context=context)\n",
    "line.optimize_for_tracking()\n",
    "\n",
    "# line.track(particles, num_turns=num_turns,\n",
    "#               turn_by_turn_monitor=False,with_progress=True)\n"
   ]
  },
  {
   "cell_type": "code",
   "execution_count": 67,
   "id": "59077814",
   "metadata": {},
   "outputs": [],
   "source": [
    "from xibs.analytical import NagaitsevIBS\n",
    "from xibs.inputs import BeamParameters, OpticsParameters\n",
    "from xibs.kicks import IBSKickCoefficients, SimpleKickIBS\n",
    "\n",
    "beamparams = BeamParameters.from_line(line, n_part=bunch_intensity)\n",
    "opticsparams = OpticsParameters(twiss)\n",
    "\n",
    "IBS = SimpleKickIBS(beamparams, opticsparams)\n",
    "NIBS = NagaitsevIBS(beamparams, opticsparams)\n",
    "\n",
    "\n",
    "\n",
    "# Define some parameters for the tracking\n",
    "nturns = 1000  # number of turns to loop for\n",
    "# nturns=2168766\n",
    "# ibs_step = 21687  # frequency at which to re-compute the growth rates & kick coefficients in [turns]\n",
    "ibs_step = 50"
   ]
  },
  {
   "cell_type": "code",
   "execution_count": 68,
   "id": "21afaeb0",
   "metadata": {},
   "outputs": [
    {
     "data": {
      "text/plain": [
       "433"
      ]
     },
     "execution_count": 68,
     "metadata": {},
     "output_type": "execute_result"
    }
   ],
   "source": [
    "save_interval"
   ]
  },
  {
   "cell_type": "code",
   "execution_count": 69,
   "id": "6d22a8d4",
   "metadata": {},
   "outputs": [],
   "source": [
    "def _bunch_length(parts: xp.Particles) -> float:\n",
    "    return np.std(parts.zeta[parts.state > 0])\n",
    "\n",
    "\n",
    "def _sigma_delta(parts: xp.Particles) -> float:\n",
    "    return np.std(parts.delta[parts.state > 0])\n",
    "\n",
    "\n",
    "def _geom_epsx(parts: xp.Particles, twiss: xt.TwissTable) -> float:\n",
    "    \"\"\"\n",
    "    We index dx and betx at 0 which corresponds to the beginning / end of\n",
    "    the line, since this is where / when we will be applying the kicks.\n",
    "    \"\"\"\n",
    "    sigma_x = np.std(parts.x[parts.state > 0])\n",
    "    sig_delta = _sigma_delta(parts)\n",
    "    return (sigma_x**2 - (twiss[\"dx\"][0] * sig_delta) ** 2)*(beta*gamma) / twiss[\"betx\"][0]\n",
    "\n",
    "\n",
    "def _geom_epsy(parts: xp.Particles, twiss: xt.TwissTable) -> float:\n",
    "    \"\"\"\n",
    "    We index dy and bety at 0 which corresponds to the beginning / end of\n",
    "    the line, since this is where / when we will be applying the kicks.\n",
    "    \"\"\"\n",
    "    sigma_y = np.std(parts.y[parts.state > 0])\n",
    "    sig_delta = _sigma_delta(parts)\n",
    "    return (sigma_y**2 - (twiss[\"dy\"][0] * sig_delta) ** 2)*(beta*gamma) / twiss[\"bety\"][0]"
   ]
  },
  {
   "cell_type": "code",
   "execution_count": 70,
   "id": "7a522c5e",
   "metadata": {},
   "outputs": [],
   "source": [
    "import logging\n",
    "import sys\n",
    "import warnings\n",
    "\n",
    "from dataclasses import dataclass\n",
    "from typing import Self\n",
    "\n",
    "import matplotlib.pyplot as plt\n",
    "import numpy as np\n",
    "import xobjects as xo\n",
    "import xpart as xp\n",
    "import xtrack as xt\n",
    "\n",
    "from xibs.analytical import NagaitsevIBS\n",
    "from xibs.inputs import BeamParameters, OpticsParameters\n",
    "from xibs.kicks import IBSKickCoefficients, SimpleKickIBS\n",
    "\n",
    "\n",
    "@dataclass\n",
    "class Records:\n",
    "    epsilon_x: np.ndarray\n",
    "    epsilon_y: np.ndarray\n",
    "    sigma_delta: np.ndarray\n",
    "    bunch_length: np.ndarray\n",
    "\n",
    "    def update_at_turn(self, turn: int, parts: xp.Particles, twiss: xt.TwissTable):\n",
    "        \"\"\"Automatically update the records at given turn from the xpart.Particles.\"\"\"\n",
    "        self.epsilon_x[turn] = _geom_epsx(parts, twiss)\n",
    "        self.epsilon_y[turn] = _geom_epsy(parts, twiss)\n",
    "        self.sigma_delta[turn] = _sigma_delta(parts)\n",
    "        self.bunch_length[turn] = _bunch_length(parts)\n",
    "\n",
    "    @classmethod\n",
    "    def init_zeroes(cls, n_turns: int) -> Self:  # noqa: F821\n",
    "        \"\"\"Initialize the dataclass with arrays of zeroes.\"\"\"\n",
    "        return cls(\n",
    "            epsilon_x=np.zeros(n_turns, dtype=float),\n",
    "            epsilon_y=np.zeros(n_turns, dtype=float),\n",
    "            sigma_delta=np.zeros(n_turns, dtype=float),\n",
    "            bunch_length=np.zeros(n_turns, dtype=float),\n",
    "        )\n",
    "\n",
    "\n",
    "# Initialize the dataclasses\n",
    "kicked_tbt = Records.init_zeroes(nturns)\n",
    "analytical_tbt = Records.init_zeroes(nturns)\n",
    "\n",
    "# Store the initial values\n",
    "kicked_tbt.update_at_turn(0, particles, twiss)\n",
    "analytical_tbt.update_at_turn(0, particles, twiss)\n",
    "\n",
    "# Let's hide anything below WARNING level for readability\n",
    "logging.basicConfig(\n",
    "    level=logging.WARNING,\n",
    "    stream=sys.stdout,\n",
    "    format=\"[%(asctime)s] [%(levelname)s] - %(module)s.%(funcName)s:%(lineno)d - %(message)s\",\n",
    "    datefmt=\"%H:%M:%S\",\n",
    "    force=True,\n",
    ")"
   ]
  },
  {
   "cell_type": "code",
   "execution_count": 71,
   "id": "182ea499",
   "metadata": {},
   "outputs": [],
   "source": [
    "# # We loop here now\n",
    "# for turn in tqdm(range(1, nturns)):\n",
    "#     # ----- Potentially re-compute the IBS growth rates and kick coefficients ----- #\n",
    "#     if (turn % ibs_step == 0) or (turn == 1):\n",
    "#         #print(f\"Turn {turn:d}: re-computing growth rates and kick coefficients\")\n",
    "#         # Compute kick coefficients from the particle distribution at this moment\n",
    "#         IBS.compute_kick_coefficients(particles)\n",
    "#         # Compute analytical values from those at the previous turn\n",
    "#         NIBS.growth_rates(\n",
    "#             analytical_tbt.epsilon_x[turn - 1],\n",
    "#             analytical_tbt.epsilon_y[turn - 1],\n",
    "#             analytical_tbt.sigma_delta[turn - 1],\n",
    "#             analytical_tbt.bunch_length[turn - 1],\n",
    "#         )\n",
    "#         #monitor.track(particles)\n",
    "#     #else:\n",
    "#         #print(f\"Turn {turn:d}\")\n",
    "\n",
    "#     # ----- Manually Apply IBS Kick and Track Turn ----- #\n",
    "#     IBS.apply_ibs_kick(particles)\n",
    "#     line.track(particles, num_turns=1)\n",
    "\n",
    "#     # ----- Update records for tracked particles ----- #\n",
    "#     kicked_tbt.update_at_turn(turn, particles, twiss)\n",
    "\n",
    "#     # ----- Compute analytical Emittances from previous turn values & update records----- #\n",
    "#     ana_emit_x, ana_emit_y, ana_sig_delta, ana_bunch_length = NIBS.emittance_evolution(\n",
    "#         analytical_tbt.epsilon_x[turn - 1],\n",
    "#         analytical_tbt.epsilon_y[turn - 1],\n",
    "#         analytical_tbt.sigma_delta[turn - 1],\n",
    "#         analytical_tbt.bunch_length[turn - 1],\n",
    "#     )\n",
    "#     analytical_tbt.epsilon_x[turn] = ana_emit_x\n",
    "#     analytical_tbt.epsilon_y[turn] = ana_emit_y\n",
    "#     analytical_tbt.sigma_delta[turn] = ana_sig_delta\n",
    "#     analytical_tbt.bunch_length[turn] = ana_bunch_length"
   ]
  },
  {
   "cell_type": "code",
   "execution_count": null,
   "id": "026ea64f",
   "metadata": {},
   "outputs": [],
   "source": []
  },
  {
   "cell_type": "code",
   "execution_count": 72,
   "id": "fcc37793",
   "metadata": {},
   "outputs": [
    {
     "data": {
      "text/plain": [
       "433"
      ]
     },
     "execution_count": 72,
     "metadata": {},
     "output_type": "execute_result"
    }
   ],
   "source": [
    "save_interval"
   ]
  },
  {
   "cell_type": "code",
   "execution_count": 73,
   "id": "e343afd1",
   "metadata": {},
   "outputs": [
    {
     "name": "stderr",
     "output_type": "stream",
     "text": [
      "100%|██████████| 86746/86746 [24:06:13<00:00,  1.00s/it]   \n"
     ]
    }
   ],
   "source": [
    "# Initialize empty lists to store values\n",
    "x_values = []\n",
    "px_values = []\n",
    "y_values = []\n",
    "py_values = []\n",
    "delta_values = []\n",
    "zeta_values = []\n",
    "state_values = []\n",
    "action_x_values = []\n",
    "action_y_values = []\n",
    "\n",
    "emittance_x_values = []\n",
    "emittance_y_values = []\n",
    "\n",
    "rms_dp_p_values=[]\n",
    "\n",
    "gamma_x=(1+alpha_x**2)/beta_x\n",
    "gamma_y=(1+alpha_y**2)/beta_y\n",
    "\n",
    "\n",
    "# simulation parameters: simulate 10 s of cooling, and take data once every 100 ms\n",
    "max_time_s = 2\n",
    "int_time_s = 0.01\n",
    "T_per_turn = circumference/(clight*beta)\n",
    "num_turns = int(max_time_s/T_per_turn)\n",
    "save_interval = int(int_time_s/T_per_turn)\n",
    "\n",
    "# Iterate over turns\n",
    "for turn in tqdm(range(1, num_turns)):\n",
    "    # ----- Potentially re-compute the IBS growth rates and kick coefficients ----- #\n",
    "    line.track(particles, num_turns=1, turn_by_turn_monitor=False)\n",
    "    \n",
    "    if (turn % ibs_step == 0) or (turn == 1):\n",
    "        # Compute kick coefficients from the particle distribution at this moment\n",
    "        IBS.compute_kick_coefficients(particles)       \n",
    "        IBS.apply_ibs_kick(particles)\n",
    "        \n",
    "        if turn % save_interval == 0:  # Check if it's time to save\n",
    "            # Append copies of all attributes to their respective lists\n",
    "            x_values.append(particles.x.copy())\n",
    "            px_values.append(particles.px.copy())\n",
    "            y_values.append(particles.y.copy())\n",
    "            py_values.append(particles.py.copy())\n",
    "            delta_values.append(particles.delta.copy())\n",
    "            zeta_values.append(particles.zeta.copy())\n",
    "            state_values.append(particles.state.copy())\n",
    "            \n",
    "            # Calculate actions and append to their respective lists\n",
    "            action_x = (gamma_x * (particles.x - Dx * particles.delta)**2 +\n",
    "                        2 * alpha_x * (particles.x - Dx * particles.delta) * (particles.px - Dpx * particles.delta) +\n",
    "                        beta_x * (particles.px - Dpx * particles.delta)**2)\n",
    "            action_y = (gamma_y * (particles.y - Dy * particles.delta)**2 +\n",
    "                        2 * alpha_y * (particles.y - Dy * particles.delta) * (particles.py - Dpy * particles.delta) +\n",
    "                        beta_y * (particles.py - Dpy * particles.delta)**2)\n",
    "            action_x_values.append(action_x.copy())\n",
    "            action_y_values.append(action_y.copy())\n",
    "            emittance_x_values.append(np.mean(action_x.copy()))\n",
    "            emittance_y_values.append(np.mean(action_y.copy()))\n",
    "\n",
    "            rms_dp_p_values.append(np.std(particles.delta.copy()))\n",
    "\n",
    "# Save all the collected data into the .npz file\n",
    "np.savez('results_IBS_kicks/lead.npz', \n",
    "         x=x_values, \n",
    "         px=px_values, \n",
    "         y=y_values, \n",
    "         py=py_values, \n",
    "         delta=delta_values, \n",
    "         zeta=zeta_values, \n",
    "         state=state_values, \n",
    "         action_x=action_x_values, \n",
    "         action_y=action_y_values, \n",
    "         emittance_x=emittance_x_values, \n",
    "         emittance_y=emittance_y_values, \n",
    "         rms_dp_p=rms_dp_p_values)  \n",
    "\n",
    "          "
   ]
  },
  {
   "cell_type": "code",
   "execution_count": null,
   "id": "de847a02",
   "metadata": {},
   "outputs": [],
   "source": []
  },
  {
   "cell_type": "code",
   "execution_count": 74,
   "id": "fec29b04",
   "metadata": {},
   "outputs": [
    {
     "data": {
      "text/plain": [
       "array([1.50621295e-06, 1.48807524e-06, 1.46997331e-06, 1.45183240e-06,\n",
       "       1.43378153e-06, 1.41637311e-06, 1.39984051e-06, 1.38349355e-06,\n",
       "       1.36694474e-06, 1.35075535e-06, 1.33529092e-06, 1.32031032e-06,\n",
       "       1.30554041e-06, 1.29079015e-06, 1.27627190e-06, 1.26257673e-06,\n",
       "       1.24966342e-06, 1.23681170e-06, 1.22385775e-06, 1.21129692e-06,\n",
       "       1.19935342e-06, 1.18786495e-06, 1.17649524e-06, 1.16505407e-06,\n",
       "       1.15390420e-06, 1.14355807e-06, 1.13374172e-06, 1.12381494e-06,\n",
       "       1.11377908e-06, 1.10407793e-06, 1.09491191e-06, 1.08606985e-06,\n",
       "       1.07716713e-06, 1.06812778e-06, 1.05945398e-06, 1.05148182e-06,\n",
       "       1.04378932e-06, 1.03584404e-06, 1.02777883e-06, 1.02004247e-06,\n",
       "       1.01277304e-06, 1.00566997e-06, 9.98355056e-07, 9.90931039e-07,\n",
       "       9.83938620e-07, 9.77534290e-07, 9.71192096e-07, 9.64503979e-07,\n",
       "       9.57733758e-07, 9.51328953e-07, 9.45307858e-07, 9.39294364e-07,\n",
       "       9.32999954e-07, 9.26679532e-07, 9.20838626e-07, 9.15462048e-07,\n",
       "       9.09969225e-07, 9.04093171e-07, 8.98212552e-07, 8.92732765e-07,\n",
       "       8.87540038e-07, 8.82225559e-07, 8.76621945e-07, 8.71098852e-07,\n",
       "       8.66087280e-07, 8.61402490e-07, 8.56451141e-07, 8.51131811e-07,\n",
       "       8.45926103e-07, 8.41141123e-07, 8.36527659e-07, 8.31692351e-07,\n",
       "       8.26614162e-07, 8.21724119e-07, 8.17340017e-07, 8.13123371e-07,\n",
       "       8.08524760e-07, 8.03630755e-07, 7.98970601e-07, 7.94707368e-07,\n",
       "       7.90494653e-07, 7.86003415e-07, 7.81349884e-07, 7.76980614e-07,\n",
       "       7.73065738e-07, 7.69158697e-07, 7.64809588e-07, 7.60278045e-07,\n",
       "       7.56084765e-07, 7.52226032e-07, 7.48296617e-07, 7.44083324e-07,\n",
       "       7.39807309e-07, 7.35880175e-07, 7.32325156e-07, 7.28619090e-07,\n",
       "       7.24460942e-07, 7.20273978e-07, 7.16494697e-07, 7.12945169e-07])"
      ]
     },
     "execution_count": 74,
     "metadata": {},
     "output_type": "execute_result"
    }
   ],
   "source": [
    "emittance_x_twiss\n"
   ]
  },
  {
   "cell_type": "code",
   "execution_count": 75,
   "id": "eed93b4d",
   "metadata": {},
   "outputs": [
    {
     "data": {
      "image/png": "[encoded data removed]",
      "text/plain": [
       "<Figure size 1500x700 with 4 Axes>"
      ]
     },
     "metadata": {},
     "output_type": "display_data"
    }
   ],
   "source": [
    "turns = np.arange(nturns, dtype=int)  # array of turns\n",
    "fig, axs = plt.subplot_mosaic([[\"epsx\", \"epsy\"], [\"sigd\", \"bl\"]], sharex=True, figsize=(15, 7))\n",
    "\n",
    "# Plot from tracked & kicked particles\n",
    "axs[\"epsx\"].plot(turns, kicked_tbt.epsilon_x , lw=2, label=\"Simple Kicks\")\n",
    "axs[\"epsy\"].plot(turns, kicked_tbt.epsilon_y , lw=2, label=\"Simple Kicks\")\n",
    "axs[\"sigd\"].plot(turns, kicked_tbt.sigma_delta *1e4 , lw=2, label=\"Simple Kicks\")\n",
    "axs[\"bl\"].plot(turns, kicked_tbt.bunch_length , lw=2, label=\"Simple Kicks\")\n",
    "\n",
    "# Plot from analytical values\n",
    "axs[\"epsx\"].plot(turns, analytical_tbt.epsilon_x , lw=2.5, label=\"Analytical\")\n",
    "axs[\"epsy\"].plot(turns, analytical_tbt.epsilon_y , lw=2.5, label=\"Analytical\")\n",
    "axs[\"sigd\"].plot(turns, analytical_tbt.sigma_delta *1e4 , lw=2.5, label=\"Analytical\")\n",
    "axs[\"bl\"].plot(turns, analytical_tbt.bunch_length , lw=2.5, label=\"Analytical\")\n",
    "\n",
    "# Axes parameters\n",
    "axs[\"epsx\"].set_ylabel(r\"norm. $\\varepsilon_x$ [m]\")\n",
    "axs[\"epsy\"].set_ylabel(r\"norm. $\\varepsilon_y$ [m]\")\n",
    "axs[\"sigd\"].set_ylabel(r\"$\\sigma_{\\delta}$ [$10^{-3}$]\")\n",
    "axs[\"bl\"].set_ylabel(r\"Bunch length [mm]\")\n",
    "\n",
    "for axis in (axs[\"epsy\"], axs[\"bl\"]):\n",
    "    axis.yaxis.set_label_position(\"right\")\n",
    "    axis.yaxis.tick_right()\n",
    "\n",
    "for axis in (axs[\"sigd\"], axs[\"bl\"]):\n",
    "    axis.set_xlabel(\"Turn Number\")\n",
    "\n",
    "for axis in axs.values():\n",
    "    axis.yaxis.set_major_locator(plt.MaxNLocator(3))\n",
    "    axis.legend(loc=9, ncols=4)\n",
    "\n",
    "fig.align_ylabels((axs[\"epsx\"], axs[\"sigd\"]))\n",
    "fig.align_ylabels((axs[\"epsy\"], axs[\"bl\"]))\n",
    "\n",
    "plt.tight_layout()\n",
    "plt.show()"
   ]
  },
  {
   "cell_type": "code",
   "execution_count": 76,
   "id": "b9837a2a",
   "metadata": {},
   "outputs": [
    {
     "data": {
      "text/plain": [
       "6.987615096293727e-07"
      ]
     },
     "execution_count": 76,
     "metadata": {},
     "output_type": "execute_result"
    }
   ],
   "source": [
    "analytical_tbt.epsilon_x[0]"
   ]
  },
  {
   "cell_type": "code",
   "execution_count": 77,
   "id": "3a48bb4d",
   "metadata": {},
   "outputs": [],
   "source": [
    "# # extract relevant values\n",
    "# x = monitor.x[:,:,0]\n",
    "# px = monitor.px[:,:,0]\n",
    "# y = monitor.y[:,:,0]\n",
    "# py = monitor.py[:,:,0]\n",
    "# delta = monitor.delta[:,:,0]\n",
    "# zeta = monitor.zeta[:,:,0]\n",
    "# state = monitor.state[:,:,0]\n",
    "# time = monitor.at_turn[:, 0, 0] * T_per_turn\n",
    "\n",
    "\n",
    "# action_x = (gamma_x*(x-Dx*delta)**2 + 2*alpha_x*(x-Dx*delta)*(px-Dpx*delta)+ beta_x*(px-Dpx*delta)**2)\n",
    "# action_y = (gamma_y*(y-Dy*delta)**2 + 2*alpha_y*(y-Dy*delta)*(py-Dpy*delta)+ beta_y*(py-Dpy*delta)**2)\n",
    "\n",
    "# emittance_x_twiss=np.mean(action_x,axis=1)*gamma/2\n",
    "\n",
    "# np.savez(f'results_IBS_kicks/{ion.name}.npz', x=x, px=px, y=y, py=py, zeta=zeta, delta=delta,\n",
    "# action_x=action_x,action_y=action_y,emittance_x=emittance_x_twiss,\n",
    "# state=state, time=time,s_per_turn=T_per_turn)"
   ]
  },
  {
   "cell_type": "code",
   "execution_count": 78,
   "id": "5b109f5e",
   "metadata": {},
   "outputs": [
    {
     "name": "stdout",
     "output_type": "stream",
     "text": [
      "100\n"
     ]
    }
   ],
   "source": [
    "print(len(x))"
   ]
  },
  {
   "cell_type": "markdown",
   "id": "ead829f6",
   "metadata": {},
   "source": [
    "Transverse emittance"
   ]
  },
  {
   "cell_type": "code",
   "execution_count": 79,
   "id": "96e24c22",
   "metadata": {},
   "outputs": [],
   "source": [
    "# plt.figure(figsize=(12, 8))\n",
    "# plt.rcParams.update({'font.size': 25})\n",
    "# plt.plot(emittance_x_twiss)\n",
    "# plt.xlabel('time [s]')\n",
    "# plt.ylabel('emittance x ')\n",
    "# plt.title('action averaging emittance')\n",
    "# ax = plt.gca()\n",
    "# # Removing the offset from the y-axis tick labels\n",
    "# ax.yaxis.get_major_formatter().set_useOffset(False)\n",
    "# # plt.ticklabel_format(style='sci', axis='x', scilimits=(0,0))\n",
    "# plt.ticklabel_format(style='sci', axis='y', scilimits=(0,0))\n",
    "# plt.show()"
   ]
  }
 ],
 "metadata": {
  "kernelspec": {
   "display_name": "base",
   "language": "python",
   "name": "python3"
  },
  "language_info": {
   "codemirror_mode": {
    "name": "ipython",
    "version": 3
   },
   "file_extension": ".py",
   "mimetype": "text/x-python",
   "name": "python",
   "nbconvert_exporter": "python",
   "pygments_lexer": "ipython3",
   "version": "3.11.3"
  },
  "vscode": {
   "interpreter": {
    "hash": "b3c9a0a5475e728b39e61ac58d244ad936924f9cf82746515a9faeb1f1a0b703"
   }
  }
 },
 "nbformat": 4,
 "nbformat_minor": 5
}
