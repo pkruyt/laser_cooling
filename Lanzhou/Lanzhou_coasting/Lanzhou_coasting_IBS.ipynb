{
 "cells": [
  {
   "cell_type": "code",
   "execution_count": 25,
   "id": "56e455f6",
   "metadata": {},
   "outputs": [
    {
     "name": "stdout",
     "output_type": "stream",
     "text": [
      "1.3008551033839242\n",
      "0.639579302749178\n"
     ]
    }
   ],
   "source": [
    "import json\n",
    "import numpy as np\n",
    "import xobjects as xo\n",
    "import xtrack as xt\n",
    "import xpart as xp\n",
    "from tqdm import tqdm\n",
    "import matplotlib.pyplot as plt\n",
    "from scipy import constants \n",
    "####################\n",
    "# Choose a context #\n",
    "####################\n",
    "context = xo.ContextCpu()\n",
    "# context = xo.ContextCpu(omp_num_threads='auto')\n",
    "buf = context.new_buffer()\n",
    "\n",
    "#references: https://www.sciencedirect.com/science/article/pii/S0168900222011445?ref=pdf_download&fr=RR-2&rr=80ca25af8a5ace93\n",
    "\n",
    "# Ion properties:\n",
    "m_u = 931.49410242e6 # eV/c^2 -- atomic mass unit\n",
    "A = 16 # Weight of O\n",
    "#Z = 6  # Number of protons in the ion (O)\n",
    "#m_e = 0.511e6 # eV/c^2 -- electron mass\n",
    "m_p = 938.272088e6 # eV/c^2 -- proton mass\n",
    "clight = 299792458.0 # m/s\n",
    "\n",
    "q0=5\n",
    "\n",
    "mass0 = A*m_u #+ Ne*m_e # eV/c^2\n",
    "\n",
    "beta_rel = 0.64\n",
    "gamma_rel = 1.30\n",
    "\n",
    "p0c = mass0*beta_rel*gamma_rel #eV/c\n",
    "\n",
    "# equiv_proton_momentum = 236e9 # eV/c = gamma_p*m_p*v\n",
    "# gamma_p = np.sqrt( 1 + (equiv_proton_momentum/m_p)**2 ) # equvalent gamma for protons in the ring\n",
    "\n",
    "# p0c = equiv_proton_momentum*(Z-Ne) # eV/c\n",
    "gamma2 = np.sqrt( 1 + (p0c/mass0)**2 ) # ion relativistic factor\n",
    "beta2 = np.sqrt(1-1/(gamma2*gamma2)) # ion beta\n",
    "\n",
    "print(gamma2)\n",
    "print(beta2)\n"
   ]
  },
  {
   "cell_type": "code",
   "execution_count": 26,
   "id": "38119600",
   "metadata": {},
   "outputs": [],
   "source": [
    "circumference =  128.80 #m\n",
    "T = circumference/(clight*beta_rel)\n",
    "s_per_turn = T\n",
    "slip_factor=0.45\n",
    "\n",
    "beta_x = 6\n",
    "beta_y = 2\n",
    "\n",
    "disp_x = 0\n",
    "Q_x = 2.2\n",
    "Q_y = 2.4\n",
    "dQx = 0\n",
    "dQy = 0\n",
    "\n",
    "arc = xt.LineSegmentMap(\n",
    "        qx=Q_x, qy=Q_y,\n",
    "        dqx=dQx, dqy=dQy,\n",
    "        length=circumference,\n",
    "        betx=beta_x,\n",
    "        bety=beta_y\n",
    "        )"
   ]
  },
  {
   "cell_type": "code",
   "execution_count": 27,
   "metadata": {},
   "outputs": [
    {
     "data": {
      "text/plain": [
       "6.71297741586281e-07"
      ]
     },
     "execution_count": 27,
     "metadata": {},
     "output_type": "execute_result"
    }
   ],
   "source": [
    "s_per_turn"
   ]
  },
  {
   "cell_type": "code",
   "execution_count": 28,
   "id": "1426192f",
   "metadata": {},
   "outputs": [
    {
     "name": "stdout",
     "output_type": "stream",
     "text": [
      "sigma_px 1.2909944487358056\n"
     ]
    }
   ],
   "source": [
    "emittance_x=10*1e-6 #inital emittance\n",
    "emittance_y=15*1e-6 #inital emittance\n",
    "num_particles = int(1e3)\n",
    "\n",
    "sigma_x = np.sqrt(beta_x*emittance_x)\n",
    "sigma_px = np.sqrt(emittance_x*1/beta_x)\n",
    "sigma_y = np.sqrt(beta_y*emittance_y)\n",
    "sigma_py = np.sqrt(emittance_y*1/beta_y)\n",
    "sigma_p = 2e-5 # relative ion momentum spread\n",
    "sigma_p = 2e-4 # relative ion momentum spread\n",
    "\n",
    "delta = np.random.uniform(low=0.45e-4, high=0.65e-4, size=num_particles)\n",
    "\n",
    "delta = np.random.uniform(low=0e-4, high=1e-4, size=num_particles)\n",
    "\n",
    "delta = np.linspace(0e-4, 1e-4, num_particles)\n",
    "\n",
    "# delta = np.random.normal(loc=0, scale=sigma_p, size=num_particles)\n",
    "x = np.random.normal(loc=0.0, scale=sigma_x, size=num_particles) + disp_x * delta\n",
    "px = np.random.normal(loc=0.0, scale=sigma_px, size=num_particles)\n",
    "y = np.random.normal(loc=0.0, scale=sigma_y, size=num_particles)\n",
    "py = np.random.normal(loc=0.0, scale=sigma_py, size=num_particles)\n",
    "\n",
    "particles = xp.Particles(\n",
    "    mass0=mass0,\n",
    "    p0c=p0c,\n",
    "    q0=q0,\n",
    "    x=x,\n",
    "    px=px,\n",
    "    y=y,\n",
    "    py=py,\n",
    "    delta=delta,\n",
    "    zeta=0\n",
    ")\n",
    "\n",
    "\n",
    "\n",
    "print('sigma_px',sigma_px*1e3)"
   ]
  },
  {
   "cell_type": "code",
   "execution_count": 29,
   "metadata": {},
   "outputs": [
    {
     "name": "stdout",
     "output_type": "stream",
     "text": [
      "Laser wavelength = 221.31 nm\n",
      "Laser wavelength = 221.31163116311628868971 nm\n"
     ]
    }
   ],
   "source": [
    "##################\n",
    "# Laser Cooler #\n",
    "##################\n",
    "\n",
    "#laser-ion beam collision angle\n",
    "theta_l = 2.6*np.pi/180 # rad\n",
    "theta_l = 0\n",
    "nx = 0; ny = -np.sin(theta_l); nz = -np.cos(theta_l)\n",
    "\n",
    "# Ion excitation energy:\n",
    "# hw0 = 230.823 # eV\n",
    "hc=constants.hbar*clight/constants.e # eV*m (ħc)\n",
    "lambda_0 = 103.76*1e-9 # m -- ion excitation wavelength\n",
    "hw0 = 2*np.pi*hc/lambda_0 # eV -- ion excitation energy\n",
    "ion_excited_lifetime=2.44e-9\n",
    "\n",
    "\n",
    "lambda_l = lambda_0*gamma_rel*(1 + beta_rel*np.cos(theta_l)) # m -- laser wavelength\n",
    "# Shift laser wavelength for fast longitudinal cooling:\n",
    "#lambda_l = lambda_l*(1+1*sigma_p)\n",
    "lambda_l = 2.213116311631163e-07\n",
    "#lambda_l = lambda_l*(1+1*sigma_p) # m\n",
    "\n",
    "laser_frequency = clight/lambda_l # Hz\n",
    "\n",
    "\n",
    "print('Laser wavelength = %.2f nm' % (lambda_l/1e-9))\n",
    "print('Laser wavelength = %.20f nm' % (lambda_l/1e-9))\n",
    "\n",
    "# laser_waist_radius = 5*1e-3\n",
    "# laser_waist_radius = 1000*1e-3\n",
    "\n",
    "laser_power=40*1e-3 #W\n",
    "laser_waist_radius = 5*1e-3\n",
    "laser_area=np.pi*(laser_waist_radius*laser_waist_radius)\n",
    "\n",
    "# laser_waist_radius = 1000*1e-3\n",
    "# laser_intensity=200000\n",
    "# laser_intensity=12732.395447351628\n",
    "laser_intensity=laser_power/laser_area\n",
    "\n",
    "cooling_section_length=25\n",
    "GF_IP = xt.CWLaser(_buffer=buf,\n",
    "                      laser_x=0,\n",
    "                      laser_y=0,\n",
    "                      laser_z=0,\n",
    "                      \n",
    "                      laser_direction_nx = 0,\n",
    "                      laser_direction_ny = 0,\n",
    "                      laser_direction_nz = -1,\n",
    "                      laser_wavelength = lambda_l, # m\n",
    "                      laser_waist_radius = laser_waist_radius, # m\n",
    "                      laser_intensity=laser_intensity,\n",
    "                      ion_excitation_energy = hw0, # eV\n",
    "                      ion_excited_lifetime  = ion_excited_lifetime, # sec\n",
    "                      cooling_section_length=cooling_section_length\n",
    "                          \n",
    "   )"
   ]
  },
  {
   "cell_type": "code",
   "execution_count": 30,
   "id": "87f4adde",
   "metadata": {},
   "outputs": [
    {
     "name": "stdout",
     "output_type": "stream",
     "text": [
      "Compiling ContextCpu kernels...\n"
     ]
    },
    {
     "name": "stderr",
     "output_type": "stream",
     "text": [
      "2d89cc9d670248ddaf7746e82bfdb040.c: In function ‘CWLaser_track_local_particle’:\n",
      "2d89cc9d670248ddaf7746e82bfdb040.c:3533:16: warning: unused variable ‘DeltaDetuningTau’ [-Wunused-variable]\n",
      "         double DeltaDetuningTau = DeltaDetuning/(2.0*gamma);\n",
      "                ^~~~~~~~~~~~~~~~\n"
     ]
    },
    {
     "name": "stdout",
     "output_type": "stream",
     "text": [
      "Done compiling ContextCpu kernels.\n",
      "Compiling ContextCpu kernels...\n"
     ]
    },
    {
     "name": "stderr",
     "output_type": "stream",
     "text": [
      "4eb0986082c24c5392a24e6940565001.c: In function ‘CWLaser_track_local_particle’:\n",
      "4eb0986082c24c5392a24e6940565001.c:3537:16: warning: unused variable ‘DeltaDetuningTau’ [-Wunused-variable]\n",
      "         double DeltaDetuningTau = DeltaDetuning/(2.0*gamma);\n",
      "                ^~~~~~~~~~~~~~~~\n"
     ]
    },
    {
     "name": "stdout",
     "output_type": "stream",
     "text": [
      "Done compiling ContextCpu kernels.\n"
     ]
    }
   ],
   "source": [
    "# ##################\n",
    "# # Tracking #\n",
    "# ##################\n",
    "\n",
    "# simulation parameters: simulate 10 s of cooling, and take data once every 100 ms\n",
    "max_time_s = 0.02\n",
    "int_time_s = 0.001\n",
    "T_per_turn = circumference/(clight*beta_rel)\n",
    "num_turns = int(max_time_s/T_per_turn)\n",
    "save_interval = int(int_time_s/T_per_turn)\n",
    "\n",
    "num_turns = int(103.6*1e6) #103.6*1e6\n",
    "save_interval=num_turns/100\n",
    "\n",
    "# create a monitor object, to reduce holded data\n",
    "monitor = xt.ParticlesMonitor(start_at_turn=0, stop_at_turn=1,\n",
    "                              n_repetitions=int(num_turns/save_interval),\n",
    "                              repetition_period=save_interval,\n",
    "                              num_particles=num_particles)\n",
    "\n",
    "line = xt.Line(\n",
    "        elements=[monitor,GF_IP, arc])\n",
    "\n",
    "particle_ref = xp.Particles(mass0=mass0, q0=q0, p0c=p0c)\n",
    "\n",
    "line.particle_ref = particle_ref\n",
    "tracker=xt.Tracker(_context=context, _buffer=buf, line=line)\n",
    "twiss=line.twiss(particle_ref=particle_ref,method='4d')"
   ]
  },
  {
   "cell_type": "code",
   "execution_count": 31,
   "metadata": {},
   "outputs": [],
   "source": [
    "# twiss.keys()\n",
    "# # twiss.slip_factor\n",
    "# twiss.slip_factor=0.45\n",
    "# # twiss.slip_factor\n",
    "# twiss.T_rev0"
   ]
  },
  {
   "cell_type": "code",
   "execution_count": 32,
   "metadata": {},
   "outputs": [
    {
     "data": {
      "application/vnd.jupyter.widget-view+json": {
       "model_id": "7ce1b7d6a38743548e7380761b113d2b",
       "version_major": 2,
       "version_minor": 0
      },
      "text/plain": [
       "Tracking:   0%|          | 0/103600000 [00:00<?, ?it/s]"
      ]
     },
     "metadata": {},
     "output_type": "display_data"
    }
   ],
   "source": [
    "line.track(particles, num_turns=num_turns,\n",
    "              turn_by_turn_monitor=False,with_progress=True)\n",
    "\n",
    "# extract relevant values\n",
    "x = monitor.x[:,:,0]\n",
    "px = monitor.px[:,:,0]\n",
    "y = monitor.y[:,:,0]\n",
    "py = monitor.py[:,:,0]\n",
    "delta = monitor.delta[:,:,0]\n",
    "zeta = monitor.zeta[:,:,0]\n",
    "accumulated_length=monitor.s[:,:,0]\n",
    "state = monitor.state[:,:,0]\n",
    "time = monitor.at_turn[:, 0, 0] * T_per_turn\n",
    "\n",
    "excited=particles.state==2\n",
    "excited = excited.astype(int)\n",
    "fraction_excitation = sum(excited)/len(excited)\n",
    "time = np.arange(0, num_turns, save_interval) * s_per_turn"
   ]
  },
  {
   "cell_type": "code",
   "execution_count": null,
   "id": "be4cb3e9",
   "metadata": {},
   "outputs": [],
   "source": [
    "np.savez('results/langzhou_data.npz', x=x, px=px, y=y, py=py,zeta=zeta, delta=delta, excited=excited,time=time,state=state)"
   ]
  },
  {
   "cell_type": "code",
   "execution_count": null,
   "id": "aa5f0f2a",
   "metadata": {},
   "outputs": [],
   "source": [
    "plt.figure(figsize=(12, 8))\n",
    "plt.rcParams.update({'font.size': 25})\n",
    "\n",
    "# Assuming 'fraction_excitation' is a variable that stores the fraction excited\n",
    "plt.title(f'Fraction excited: {fraction_excitation*100:.5f}%')\n",
    "\n",
    "# Other plotting commands\n",
    "# plt.axvline(laser_x,color='red')\n",
    "# plt.axvline(laser_x+laser_waist_radius,color='red')\n",
    "# plt.axvline(laser_x-laser_waist_radius,color='red')\n",
    "\n",
    "plt.scatter(particles.x*1e3, particles.px)\n",
    "plt.scatter(particles.x[excited]*1e3, particles.px[excited])\n",
    "plt.xlabel('x [mm]')\n",
    "plt.ylabel('px')\n",
    "plt.show()"
   ]
  },
  {
   "cell_type": "code",
   "execution_count": null,
   "metadata": {},
   "outputs": [],
   "source": [
    "# Assuming 'fraction_excitation' is a variable that stores the fraction excited\n",
    "plt.figure(figsize=(15, 10))\n",
    "plt.rcParams.update({'font.size': 15})\n",
    "\n",
    "# Create a 2x2 grid of subplots\n",
    "grid = plt.GridSpec(4, 4, hspace=0.5, wspace=0.5)\n",
    "\n",
    "# Main scatter plot\n",
    "ax_main = plt.subplot(grid[1:, 0:3])\n",
    "ax_main.scatter(particles.x * 1e3, particles.px)\n",
    "ax_main.scatter(particles.x[excited] * 1e3, particles.px[excited])\n",
    "ax_main.set_xlabel('x [mm]')\n",
    "ax_main.set_ylabel('px')\n",
    "ax_main.set_ylim(bottom=min(particles.px), top=max(particles.px))  # Set y-axis limits\n",
    "\n",
    "# Histogram along the x-axis\n",
    "ax_histx = plt.subplot(grid[0, 0:3], sharex=ax_main)\n",
    "ax_histx.hist(particles.x * 1e3, bins=50, color='blue', edgecolor='black')\n",
    "ax_histx.hist(particles.x[excited] * 1e3, bins=50, color='orange', edgecolor='black', alpha=0.7)\n",
    "ax_histx.set_ylabel('Frequency')\n",
    "\n",
    "# Histogram along the y-axis\n",
    "ax_histy = plt.subplot(grid[1:, 3], sharey=ax_main)\n",
    "ax_histy.hist(particles.px, bins=50, orientation='horizontal', color='blue', edgecolor='black')\n",
    "ax_histy.hist(particles.px[excited], bins=50, orientation='horizontal', color='orange', edgecolor='black', alpha=0.7)\n",
    "ax_histy.set_xlabel('Frequency')\n",
    "ax_histy.set_ylim(bottom=min(particles.px), top=max(particles.px))  # Set y-axis limits\n",
    "\n",
    "plt.show()\n"
   ]
  },
  {
   "cell_type": "code",
   "execution_count": null,
   "metadata": {},
   "outputs": [],
   "source": [
    "# Assuming 'fraction_excitation' is a variable that stores the fraction excited\n",
    "plt.figure(figsize=(15, 10))\n",
    "plt.rcParams.update({'font.size': 15})\n",
    "\n",
    "# Create a 2x2 grid of subplots\n",
    "grid = plt.GridSpec(4, 4, hspace=0.5, wspace=0.5)\n",
    "\n",
    "# Main scatter plot\n",
    "ax_main = plt.subplot(grid[1:, 0:3])\n",
    "ax_main.scatter(particles.y * 1e3, particles.px)\n",
    "ax_main.scatter(particles.y[excited] * 1e3, particles.py[excited])\n",
    "ax_main.set_xlabel('y [mm]')\n",
    "ax_main.set_ylabel('py')\n",
    "ax_main.set_ylim(bottom=min(particles.px), top=max(particles.px))  # Set y-axis limits\n",
    "\n",
    "# Histogram along the x-axis\n",
    "ax_histx = plt.subplot(grid[0, 0:3], sharex=ax_main)\n",
    "ax_histx.hist(particles.x * 1e3, bins=50, color='blue', edgecolor='black')\n",
    "ax_histx.hist(particles.x[excited] * 1e3, bins=50, color='orange', edgecolor='black', alpha=0.7)\n",
    "ax_histx.set_ylabel('Frequency')\n",
    "\n",
    "# Histogram along the y-axis\n",
    "ax_histy = plt.subplot(grid[1:, 3], sharey=ax_main)\n",
    "ax_histy.hist(particles.py, bins=50, orientation='horizontal', color='blue', edgecolor='black')\n",
    "ax_histy.hist(particles.py[excited], bins=50, orientation='horizontal', color='orange', edgecolor='black', alpha=0.7)\n",
    "ax_histy.set_xlabel('Frequency')\n",
    "ax_histy.set_ylim(bottom=min(particles.py), top=max(particles.py))  # Set y-axis limits\n",
    "\n",
    "plt.show()"
   ]
  },
  {
   "cell_type": "code",
   "execution_count": null,
   "id": "9c326d89",
   "metadata": {},
   "outputs": [],
   "source": [
    "plt.figure()\n",
    "plt.figure(figsize=(12, 8))\n",
    "plt.rcParams.update({'font.size': 25})\n",
    "plt.title(f'Fraction excited: {round(fraction_excitation*100, 5)}%')\n",
    "\n",
    "#plt.axvline(laser_x,color='red')\n",
    "# plt.axvline(laser_x+laser_waist_radius,color='red')\n",
    "# plt.axvline(laser_x-laser_waist_radius,color='red')\n",
    "\n",
    "plt.scatter(particles.x*1e3,particles.delta)\n",
    "plt.scatter(particles.x[excited]*1e3,particles.delta[excited])\n",
    "plt.xlabel('x [mm]')\n",
    "plt.ylabel('dp/p ')\n",
    "plt.tight_layout()\n",
    "\n",
    "plt.ticklabel_format(style='sci', axis='y', scilimits=(0,0))\n",
    "# plt.savefig('First_turn.eps', format='eps', dpi=300)\n",
    "plt.show()"
   ]
  }
 ],
 "metadata": {
  "kernelspec": {
   "display_name": "base",
   "language": "python",
   "name": "python3"
  },
  "language_info": {
   "codemirror_mode": {
    "name": "ipython",
    "version": 3
   },
   "file_extension": ".py",
   "mimetype": "text/x-python",
   "name": "python",
   "nbconvert_exporter": "python",
   "pygments_lexer": "ipython3",
   "version": "3.11.3"
  },
  "vscode": {
   "interpreter": {
    "hash": "b3c9a0a5475e728b39e61ac58d244ad936924f9cf82746515a9faeb1f1a0b703"
   }
  }
 },
 "nbformat": 4,
 "nbformat_minor": 5
}
